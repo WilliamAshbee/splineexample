{
  "nbformat": 4,
  "nbformat_minor": 0,
  "metadata": {
    "colab": {
      "name": "Transformer-first-attempt.ipynb",
      "provenance": [],
      "collapsed_sections": [],
      "machine_shape": "hm",
      "authorship_tag": "ABX9TyNcbJa/0BLI86gc46FgKexB",
      "include_colab_link": true
    },
    "kernelspec": {
      "name": "python3",
      "display_name": "Python 3"
    },
    "language_info": {
      "name": "python"
    },
    "accelerator": "GPU"
  },
  "cells": [
    {
      "cell_type": "markdown",
      "metadata": {
        "id": "view-in-github",
        "colab_type": "text"
      },
      "source": [
        "<a href=\"https://colab.research.google.com/github/WilliamAshbee/splineexample/blob/main/Transformer_first_attempt.ipynb\" target=\"_parent\"><img src=\"https://colab.research.google.com/assets/colab-badge.svg\" alt=\"Open In Colab\"/></a>"
      ]
    },
    {
      "cell_type": "code",
      "metadata": {
        "colab": {
          "base_uri": "https://localhost:8080/",
          "height": 1000
        },
        "id": "YVgLKks_RIr0",
        "outputId": "2799150c-007e-4b43-9b63-200ecd6444ff"
      },
      "source": [
        "import torch\n",
        "import numpy as np\n",
        "import pylab as plt\n",
        "from skimage import filters\n",
        "import math\n",
        "\n",
        "from torch.utils import data\n",
        "from torch.utils.data import DataLoader, TensorDataset, RandomSampler\n",
        "\n",
        "\n",
        "global numpoints\n",
        "numpoints = 1000\n",
        "side = 32\n",
        "\n",
        "rows = torch.zeros(32,32)\n",
        "columns = torch.zeros(32,32)\n",
        "\n",
        "\n",
        "for i in range(32):\n",
        "    columns[:,i] = i\n",
        "    rows[i,:] = i\n",
        "\n",
        "\n",
        "def donut_matrix(length = 10):\n",
        "    radiusMax = side /3\n",
        "    w = 1\n",
        "    sigmas = [None, 1]\n",
        "    \n",
        "    canvas = torch.zeros((length,side, side))\n",
        "    r0 = torch.tensor(np.random.uniform(side/4, side/3, length))\n",
        "\n",
        "    radii = torch.zeros((length,numpoints))\n",
        "    radii[:, :] = r0.unsqueeze(1)\n",
        "    \n",
        "    ind = [x for x in range(numpoints)]\n",
        "\n",
        "    theta = torch.FloatTensor(ind)\n",
        "    theta *= math.pi*2.0/(float)(numpoints)\n",
        "    \n",
        "    for i in range(1,length):\n",
        "        a = np.random.uniform(1.0,3.0)*torch.sin(np.random.uniform(20.0)*theta+np.random.uniform(1000.0))\n",
        "        radii[i,:] += a\n",
        "        \n",
        "    assert torch.min(radii)>0\n",
        "    rmaxs = radii.max(axis = 1)[0]\n",
        "    pmins = rmaxs+1.0\n",
        "    pmaxs = side-rmaxs-1.0\n",
        "    x0 = np.random.uniform(pmins,pmaxs)\n",
        "    y0 = np.random.uniform(pmins,pmaxs)\n",
        "    x0[:]=side/2\n",
        "    y0[:]=side/2\n",
        "    x0 = torch.tensor(x0)\n",
        "    y0 = torch.tensor(y0)\n",
        "    \n",
        "    x0 = x0.unsqueeze(1)\n",
        "    y0 = y0.unsqueeze(1)\n",
        "    #radii = torch.from_numpy(radii)\n",
        "    xrfactors = torch.cos(theta).unsqueeze(0)\n",
        "    yrfactors = torch.sin(theta).unsqueeze(0)\n",
        "    \n",
        "    print('x0_y0_r_xrf_yrf',x0.shape,y0.shape,radii.shape,xrfactors.shape,yrfactors.shape)\n",
        "\n",
        "    x = (x0+(xrfactors*radii))\n",
        "    y = (y0+(yrfactors*radii))\n",
        "    \n",
        "    assert x.shape == (length,numpoints)\n",
        "    assert y.shape == (length,numpoints)\n",
        "    assert torch.sum(x[x>(side-1)])==0 \n",
        "    assert torch.sum(x[x<0])==0 \n",
        "    assert torch.sum(y[y>(side-1)])==0 \n",
        "    assert torch.sum(y[y<0])==0 \n",
        "    \n",
        "    points = torch.zeros(length,numpoints,2)\n",
        "    for l in range(length):\n",
        "        canvas[l,y[l,:].type(torch.LongTensor),x[l,:].type(torch.LongTensor)]=1.0\n",
        "        points[l,:,0] = x[l,:]#modified for lstm discriminator\n",
        "        points[l,:,1] = y[l,:]#modified for lstm discriminator \n",
        "    \n",
        "    \n",
        "    return {\n",
        "        'canvas': canvas, \n",
        "        'points':points.type(torch.FloatTensor)}\n",
        "\n",
        "def plot_one(img,xs,ys,i=0):\n",
        "  print(img.shape,xs.shape,ys.shape)\n",
        "  plt.subplot(10,10,i+1)\n",
        "  plt.imshow(img, cmap=plt.cm.gray_r)\n",
        "  predres = 1000\n",
        "  s = [.001 for x in range(predres)]\n",
        "  assert len(s) == predres\n",
        "  c = ['red' for x in range(predres)]\n",
        "  assert len(c) == predres\n",
        "  plt.plot(xs.cpu().numpy(),ys.cpu().numpy(),',-', color='red',ms=.3,lw=.3)\n",
        "  #plt.gca().add_artist(ascatter)\n",
        "  plt.axis('off')\n",
        "\n",
        "def plot_all( sample = None, model = None, labels = None, i = 0):\n",
        "    \n",
        "    #make prediction\n",
        "    #plot one prediction\n",
        "    #or plot one ground truth\n",
        "    if model != None:\n",
        "        with torch.no_grad():\n",
        "            global numpoints\n",
        "            \n",
        "            print('preloss')\n",
        "            loss, out = mse_vit(sample.cuda(),labels.cuda(),model=model,ret_out = True)\n",
        "            print('loss',loss)\n",
        "            \n",
        "            for i in range(100):\n",
        "              img = sample[i,0,:,:].squeeze().cpu().numpy()\n",
        "              X = out[i,:1000,0]\n",
        "              Y = out[i,-1000:,1]\n",
        "              plot_one(img,X,Y,i=i)\n",
        "              \n",
        "            \n",
        "    else:\n",
        "      print(sample.shape,labels.shape)\n",
        "      for i in range(100):\n",
        "        img = sample[i,0,:,:].squeeze().cpu().numpy()\n",
        "        X = labels[i,:,0]\n",
        "        Y = labels[i,:,1]\n",
        "        \n",
        "        plot_one(img,X,Y,i=i)\n",
        "          \n",
        "        \n",
        "class DonutDataset(torch.utils.data.Dataset):\n",
        "    \"\"\"Donut dataset.\"\"\"\n",
        "    def __init__(self, length = 10):\n",
        "        \"\"\"\n",
        "        Args:\n",
        "            csv_file (string): Path to the csv file with annotations.\n",
        "            root_dir (string): Directory with all the images.\n",
        "            transform (callable, optional): Optional transform to be applied\n",
        "                on a sample.\n",
        "        \"\"\"\n",
        "        self.length = length\n",
        "        self.values = donut_matrix(length)\n",
        "        assert self.values['canvas'].shape[0] == self.length\n",
        "        assert self.values['points'].shape[0] == self.length\n",
        "        \n",
        "        count = 0\n",
        "        for i in range(self.length):\n",
        "          a = self[i]\n",
        "          c = a[0][0,:,:]\n",
        "          for el in a[1]:\n",
        "            y,x = (int)(el[1]),(int)(el[0])\n",
        "            \n",
        "            if x < side-2 and x > 2 and y < side-2 and y > 2: \n",
        "              if c[y,x] != 1 and \\\n",
        "                c[y+1,x] != 1 and c[y+1,-1+x] != 1 and c[y+1,1+x] != 1 and \\\n",
        "                c[y-1,x] != 1 and c[y,-1+x] != 1 and c[y,1+x] != 1:\n",
        "                count+=1\n",
        "        assert count ==0\n",
        "    def __len__(self):\n",
        "        return self.length\n",
        "\n",
        "\n",
        "    def __getitem__(self, idx):\n",
        "        canvas = self.values[\"canvas\"]\n",
        "        \n",
        "        canvas = canvas[idx,:,:]\n",
        "\n",
        "        #assert canvas.shape == (side,side) or canvas.shape == (len(idx))\n",
        "        \n",
        "        points = self.values[\"points\"]\n",
        "        points = points[idx,:]\n",
        "        if len(canvas.shape) == 2:\n",
        "          canvas = torch.stack([canvas,canvas,canvas],dim=0)\n",
        "        else:\n",
        "          canvas = torch.stack([canvas,canvas,canvas],dim=1)\n",
        "        \n",
        "        return canvas, points\n",
        "    \n",
        "    @staticmethod\n",
        "    def displayCanvas(title,loader, model):\n",
        "        #model.setBatchSize(batch_size = 1)\n",
        "        \n",
        "        for sample, labels in loader:\n",
        "          plot_all(sample = sample,model=model, labels = labels)\n",
        "          break\n",
        "        plt.savefig(title,dpi=600)\n",
        "\n",
        "dataset = DonutDataset(length = 100)\n",
        "\n",
        "mini_batch = 100\n",
        "loader_demo = data.DataLoader(\n",
        "    dataset, \n",
        "    batch_size=mini_batch,\n",
        "    sampler=RandomSampler(data_source=dataset),\n",
        "    num_workers=2)\n",
        "DonutDataset.displayCanvas('donut.png',loader_demo, model = None)\n"
      ],
      "execution_count": 1,
      "outputs": [
        {
          "output_type": "stream",
          "text": [
            "x0_y0_r_xrf_yrf torch.Size([100, 1]) torch.Size([100, 1]) torch.Size([100, 1000]) torch.Size([1, 1000]) torch.Size([1, 1000])\n",
            "torch.Size([100, 3, 32, 32]) torch.Size([100, 1000, 2])\n",
            "(32, 32) torch.Size([1000]) torch.Size([1000])\n",
            "(32, 32) torch.Size([1000]) torch.Size([1000])\n",
            "(32, 32) torch.Size([1000]) torch.Size([1000])\n",
            "(32, 32) torch.Size([1000]) torch.Size([1000])\n",
            "(32, 32) torch.Size([1000]) torch.Size([1000])\n",
            "(32, 32) torch.Size([1000]) torch.Size([1000])\n",
            "(32, 32) torch.Size([1000]) torch.Size([1000])\n",
            "(32, 32) torch.Size([1000]) torch.Size([1000])\n",
            "(32, 32) torch.Size([1000]) torch.Size([1000])\n",
            "(32, 32) torch.Size([1000]) torch.Size([1000])\n",
            "(32, 32) torch.Size([1000]) torch.Size([1000])\n",
            "(32, 32) torch.Size([1000]) torch.Size([1000])\n",
            "(32, 32) torch.Size([1000]) torch.Size([1000])\n",
            "(32, 32) torch.Size([1000]) torch.Size([1000])\n",
            "(32, 32) torch.Size([1000]) torch.Size([1000])\n",
            "(32, 32) torch.Size([1000]) torch.Size([1000])\n",
            "(32, 32) torch.Size([1000]) torch.Size([1000])\n",
            "(32, 32) torch.Size([1000]) torch.Size([1000])\n",
            "(32, 32) torch.Size([1000]) torch.Size([1000])\n",
            "(32, 32) torch.Size([1000]) torch.Size([1000])\n",
            "(32, 32) torch.Size([1000]) torch.Size([1000])\n",
            "(32, 32) torch.Size([1000]) torch.Size([1000])\n",
            "(32, 32) torch.Size([1000]) torch.Size([1000])\n",
            "(32, 32) torch.Size([1000]) torch.Size([1000])\n",
            "(32, 32) torch.Size([1000]) torch.Size([1000])\n",
            "(32, 32) torch.Size([1000]) torch.Size([1000])\n",
            "(32, 32) torch.Size([1000]) torch.Size([1000])\n",
            "(32, 32) torch.Size([1000]) torch.Size([1000])\n",
            "(32, 32) torch.Size([1000]) torch.Size([1000])\n",
            "(32, 32) torch.Size([1000]) torch.Size([1000])\n",
            "(32, 32) torch.Size([1000]) torch.Size([1000])\n",
            "(32, 32) torch.Size([1000]) torch.Size([1000])\n",
            "(32, 32) torch.Size([1000]) torch.Size([1000])\n",
            "(32, 32) torch.Size([1000]) torch.Size([1000])\n",
            "(32, 32) torch.Size([1000]) torch.Size([1000])\n",
            "(32, 32) torch.Size([1000]) torch.Size([1000])\n",
            "(32, 32) torch.Size([1000]) torch.Size([1000])\n",
            "(32, 32) torch.Size([1000]) torch.Size([1000])\n",
            "(32, 32) torch.Size([1000]) torch.Size([1000])\n",
            "(32, 32) torch.Size([1000]) torch.Size([1000])\n",
            "(32, 32) torch.Size([1000]) torch.Size([1000])\n",
            "(32, 32) torch.Size([1000]) torch.Size([1000])\n",
            "(32, 32) torch.Size([1000]) torch.Size([1000])\n",
            "(32, 32) torch.Size([1000]) torch.Size([1000])\n",
            "(32, 32) torch.Size([1000]) torch.Size([1000])\n",
            "(32, 32) torch.Size([1000]) torch.Size([1000])\n",
            "(32, 32) torch.Size([1000]) torch.Size([1000])\n",
            "(32, 32) torch.Size([1000]) torch.Size([1000])\n",
            "(32, 32) torch.Size([1000]) torch.Size([1000])\n",
            "(32, 32) torch.Size([1000]) torch.Size([1000])\n",
            "(32, 32) torch.Size([1000]) torch.Size([1000])\n",
            "(32, 32) torch.Size([1000]) torch.Size([1000])\n",
            "(32, 32) torch.Size([1000]) torch.Size([1000])\n",
            "(32, 32) torch.Size([1000]) torch.Size([1000])\n",
            "(32, 32) torch.Size([1000]) torch.Size([1000])\n",
            "(32, 32) torch.Size([1000]) torch.Size([1000])\n",
            "(32, 32) torch.Size([1000]) torch.Size([1000])\n",
            "(32, 32) torch.Size([1000]) torch.Size([1000])\n",
            "(32, 32) torch.Size([1000]) torch.Size([1000])\n",
            "(32, 32) torch.Size([1000]) torch.Size([1000])\n",
            "(32, 32) torch.Size([1000]) torch.Size([1000])\n",
            "(32, 32) torch.Size([1000]) torch.Size([1000])\n",
            "(32, 32) torch.Size([1000]) torch.Size([1000])\n",
            "(32, 32) torch.Size([1000]) torch.Size([1000])\n",
            "(32, 32) torch.Size([1000]) torch.Size([1000])\n",
            "(32, 32) torch.Size([1000]) torch.Size([1000])\n",
            "(32, 32) torch.Size([1000]) torch.Size([1000])\n",
            "(32, 32) torch.Size([1000]) torch.Size([1000])\n",
            "(32, 32) torch.Size([1000]) torch.Size([1000])\n",
            "(32, 32) torch.Size([1000]) torch.Size([1000])\n",
            "(32, 32) torch.Size([1000]) torch.Size([1000])\n",
            "(32, 32) torch.Size([1000]) torch.Size([1000])\n",
            "(32, 32) torch.Size([1000]) torch.Size([1000])\n",
            "(32, 32) torch.Size([1000]) torch.Size([1000])\n",
            "(32, 32) torch.Size([1000]) torch.Size([1000])\n",
            "(32, 32) torch.Size([1000]) torch.Size([1000])\n",
            "(32, 32) torch.Size([1000]) torch.Size([1000])\n",
            "(32, 32) torch.Size([1000]) torch.Size([1000])\n",
            "(32, 32) torch.Size([1000]) torch.Size([1000])\n",
            "(32, 32) torch.Size([1000]) torch.Size([1000])\n",
            "(32, 32) torch.Size([1000]) torch.Size([1000])\n",
            "(32, 32) torch.Size([1000]) torch.Size([1000])\n",
            "(32, 32) torch.Size([1000]) torch.Size([1000])\n",
            "(32, 32) torch.Size([1000]) torch.Size([1000])\n",
            "(32, 32) torch.Size([1000]) torch.Size([1000])\n",
            "(32, 32) torch.Size([1000]) torch.Size([1000])\n",
            "(32, 32) torch.Size([1000]) torch.Size([1000])\n",
            "(32, 32) torch.Size([1000]) torch.Size([1000])\n",
            "(32, 32) torch.Size([1000]) torch.Size([1000])\n",
            "(32, 32) torch.Size([1000]) torch.Size([1000])\n",
            "(32, 32) torch.Size([1000]) torch.Size([1000])\n",
            "(32, 32) torch.Size([1000]) torch.Size([1000])\n",
            "(32, 32) torch.Size([1000]) torch.Size([1000])\n",
            "(32, 32) torch.Size([1000]) torch.Size([1000])\n",
            "(32, 32) torch.Size([1000]) torch.Size([1000])\n",
            "(32, 32) torch.Size([1000]) torch.Size([1000])\n",
            "(32, 32) torch.Size([1000]) torch.Size([1000])\n",
            "(32, 32) torch.Size([1000]) torch.Size([1000])\n",
            "(32, 32) torch.Size([1000]) torch.Size([1000])\n",
            "(32, 32) torch.Size([1000]) torch.Size([1000])\n"
          ],
          "name": "stdout"
        },
        {
          "output_type": "display_data",
          "data": {
            "image/png": "[encoded data removed]",
            "text/plain": [
              "<Figure size 432x288 with 100 Axes>"
            ]
          },
          "metadata": {
            "tags": [],
            "needs_background": "light"
          }
        }
      ]
    },
    {
      "cell_type": "code",
      "metadata": {
        "id": "Sc-EDxB47gaq"
      },
      "source": [
        ""
      ],
      "execution_count": 1,
      "outputs": []
    },
    {
      "cell_type": "code",
      "metadata": {
        "id": "84wBGiGWyHMj",
        "outputId": "6fad3dc8-5ae3-4d53-cba4-f9805923642a",
        "colab": {
          "base_uri": "https://localhost:8080/",
          "height": 265
        }
      },
      "source": [
        "x = np.linspace(0, 10, 30)\n",
        "y = np.sin(x)\n",
        "\n",
        "plt.plot(x, y, ',-', color='red',ms=.3,lw=.3);\n"
      ],
      "execution_count": 2,
      "outputs": [
        {
          "output_type": "display_data",
          "data": {
            "image/png": "[encoded data removed]",
            "text/plain": [
              "<Figure size 432x288 with 1 Axes>"
            ]
          },
          "metadata": {
            "tags": [],
            "needs_background": "light"
          }
        }
      ]
    },
    {
      "cell_type": "code",
      "metadata": {
        "colab": {
          "base_uri": "https://localhost:8080/"
        },
        "id": "IUEcO58HTvV7",
        "outputId": "1647692a-cda7-4281-865b-ab80b99b38e0"
      },
      "source": [
        "from torch.utils import data\n",
        "from torch.utils.data import DataLoader, TensorDataset, RandomSampler\n",
        "\n",
        "mini_batch = 100\n",
        "train_dataset = DonutDataset(length = 100*20)\n",
        "loader_train = data.DataLoader(\n",
        "    train_dataset, \n",
        "    batch_size=mini_batch,\n",
        "    sampler=RandomSampler(data_source=train_dataset),\n",
        "    num_workers=4)\n"
      ],
      "execution_count": 3,
      "outputs": [
        {
          "output_type": "stream",
          "text": [
            "x0_y0_r_xrf_yrf torch.Size([2000, 1]) torch.Size([2000, 1]) torch.Size([2000, 1000]) torch.Size([1, 1000]) torch.Size([1, 1000])\n"
          ],
          "name": "stdout"
        }
      ]
    },
    {
      "cell_type": "code",
      "metadata": {
        "id": "cFADigm-QpNF",
        "colab": {
          "base_uri": "https://localhost:8080/"
        },
        "outputId": "d8d7f084-bae3-4cfc-c70c-a292c0adcc8d"
      },
      "source": [
        "!pip install vit-pytorch\n"
      ],
      "execution_count": 4,
      "outputs": [
        {
          "output_type": "stream",
          "text": [
            "Collecting vit-pytorch\n",
            "  Downloading vit_pytorch-0.20.2-py3-none-any.whl (35 kB)\n",
            "Requirement already satisfied: torchvision in /usr/local/lib/python3.7/dist-packages (from vit-pytorch) (0.10.0+cu102)\n",
            "Requirement already satisfied: torch>=1.6 in /usr/local/lib/python3.7/dist-packages (from vit-pytorch) (1.9.0+cu102)\n",
            "Collecting einops>=0.3\n",
            "  Downloading einops-0.3.0-py2.py3-none-any.whl (25 kB)\n",
            "Requirement already satisfied: typing-extensions in /usr/local/lib/python3.7/dist-packages (from torch>=1.6->vit-pytorch) (3.7.4.3)\n",
            "Requirement already satisfied: numpy in /usr/local/lib/python3.7/dist-packages (from torchvision->vit-pytorch) (1.19.5)\n",
            "Requirement already satisfied: pillow>=5.3.0 in /usr/local/lib/python3.7/dist-packages (from torchvision->vit-pytorch) (7.1.2)\n",
            "Installing collected packages: einops, vit-pytorch\n",
            "Successfully installed einops-0.3.0 vit-pytorch-0.20.2\n"
          ],
          "name": "stdout"
        }
      ]
    },
    {
      "cell_type": "code",
      "metadata": {
        "id": "d9VawN2O-fd1"
      },
      "source": [
        "import torch\n",
        "from vit_pytorch import ViT\n",
        "\n",
        "v = ViT(\n",
        "    image_size = 32,\n",
        "    patch_size = 4,\n",
        "    num_classes = 2000,\n",
        "    dim = 1024,\n",
        "    depth = 6,\n",
        "    heads = 16,\n",
        "    mlp_dim = 2048,\n",
        "    dropout = 0.1,\n",
        "    emb_dropout = 0.1\n",
        ")\n",
        "\n",
        "v = torch.nn.Sequential(\n",
        "    v,\n",
        "    torch.nn.Sigmoid()\n",
        ")\n",
        "\n",
        "img = torch.randn(100, 3, 32, 32)\n",
        "\n",
        "preds = v(img) # (1, 1000)\n"
      ],
      "execution_count": 5,
      "outputs": []
    },
    {
      "cell_type": "code",
      "metadata": {
        "colab": {
          "base_uri": "https://localhost:8080/"
        },
        "id": "c09Dhbbd_Cz9",
        "outputId": "ebd84b89-dd0b-47a1-80f1-b2f05472a85f"
      },
      "source": [
        "print(preds.shape)"
      ],
      "execution_count": 6,
      "outputs": [
        {
          "output_type": "stream",
          "text": [
            "torch.Size([100, 2000])\n"
          ],
          "name": "stdout"
        }
      ]
    },
    {
      "cell_type": "code",
      "metadata": {
        "id": "fgBlXQHMTHrV"
      },
      "source": [
        "\n",
        "#model = resnet18(pretrained=False,progress=True, num_classes = 2000).cuda()\n",
        "#model = wide_resnet101_2(pretrained=False,progress=True, num_classes = 2000).cuda()\n",
        "\n",
        "model = v.cuda()\n"
      ],
      "execution_count": 7,
      "outputs": []
    },
    {
      "cell_type": "code",
      "metadata": {
        "id": "ASrPqeg0W8Ju"
      },
      "source": [
        "\n",
        "#def mse_cnn(input, target):\n",
        " # out = model(input)\n",
        "  #out = out.reshape(target.shape)#64, 1000, 2\n",
        "  #print('mse_cnn',out.shape,target.shape)\n",
        "  \n",
        "  #return torch.mean((out-target)**2)\n",
        "  "
      ],
      "execution_count": 8,
      "outputs": []
    },
    {
      "cell_type": "code",
      "metadata": {
        "id": "pKLX0PtDAk7Y"
      },
      "source": [
        "\n",
        "def mse_vit(input, target,model=None,ret_out = False):\n",
        "  out = model(input)\n",
        "  out = out.reshape(target.shape)#64, 1000, 2\n",
        "  out = out*32.0\n",
        "  #print('mse_cnn',out.shape,target.shape)\n",
        "  if not ret_out:\n",
        "    return torch.mean((out-target)**2)\n",
        "  else:\n",
        "    return torch.mean((out-target)**2),out\n",
        "  "
      ],
      "execution_count": 9,
      "outputs": []
    },
    {
      "cell_type": "code",
      "metadata": {
        "id": "PjwD7NMyrUvT"
      },
      "source": [
        "optimizer = torch.optim.Adam(model.parameters(),lr = 0.0001, betas = (.9,.999))#ideal\n"
      ],
      "execution_count": 10,
      "outputs": []
    },
    {
      "cell_type": "code",
      "metadata": {
        "colab": {
          "base_uri": "https://localhost:8080/"
        },
        "id": "R6kr5wvOVn3S",
        "outputId": "2b18ccf8-2986-4f4c-b2b8-9f3b1fde2968"
      },
      "source": [
        "for epoch in range(100):\n",
        "  for x,y in loader_train:\n",
        "    optimizer.zero_grad()\n",
        "    x = x.cuda()\n",
        "    y = y.cuda()\n",
        "    loss = mse_vit(x,y,model=model)\n",
        "    loss.backward()\n",
        "    optimizer.step()\n",
        "  print('epoch',epoch,'loss',loss)\n",
        "    #print(out.shape)\n",
        "  \n",
        "  "
      ],
      "execution_count": 11,
      "outputs": [
        {
          "output_type": "stream",
          "text": [
            "epoch 0 loss tensor(2.3066, device='cuda:0', grad_fn=<MeanBackward0>)\n",
            "epoch 1 loss tensor(1.7456, device='cuda:0', grad_fn=<MeanBackward0>)\n",
            "epoch 2 loss tensor(1.5243, device='cuda:0', grad_fn=<MeanBackward0>)\n",
            "epoch 3 loss tensor(1.5286, device='cuda:0', grad_fn=<MeanBackward0>)\n",
            "epoch 4 loss tensor(1.3802, device='cuda:0', grad_fn=<MeanBackward0>)\n",
            "epoch 5 loss tensor(1.3607, device='cuda:0', grad_fn=<MeanBackward0>)\n",
            "epoch 6 loss tensor(1.3991, device='cuda:0', grad_fn=<MeanBackward0>)\n",
            "epoch 7 loss tensor(1.3650, device='cuda:0', grad_fn=<MeanBackward0>)\n",
            "epoch 8 loss tensor(1.2864, device='cuda:0', grad_fn=<MeanBackward0>)\n",
            "epoch 9 loss tensor(1.2176, device='cuda:0', grad_fn=<MeanBackward0>)\n",
            "epoch 10 loss tensor(1.3065, device='cuda:0', grad_fn=<MeanBackward0>)\n",
            "epoch 11 loss tensor(1.3527, device='cuda:0', grad_fn=<MeanBackward0>)\n",
            "epoch 12 loss tensor(1.2867, device='cuda:0', grad_fn=<MeanBackward0>)\n",
            "epoch 13 loss tensor(1.2166, device='cuda:0', grad_fn=<MeanBackward0>)\n",
            "epoch 14 loss tensor(1.2357, device='cuda:0', grad_fn=<MeanBackward0>)\n",
            "epoch 15 loss tensor(1.3326, device='cuda:0', grad_fn=<MeanBackward0>)\n",
            "epoch 16 loss tensor(1.2080, device='cuda:0', grad_fn=<MeanBackward0>)\n",
            "epoch 17 loss tensor(1.2244, device='cuda:0', grad_fn=<MeanBackward0>)\n",
            "epoch 18 loss tensor(1.2326, device='cuda:0', grad_fn=<MeanBackward0>)\n",
            "epoch 19 loss tensor(1.2221, device='cuda:0', grad_fn=<MeanBackward0>)\n",
            "epoch 20 loss tensor(1.2135, device='cuda:0', grad_fn=<MeanBackward0>)\n",
            "epoch 21 loss tensor(1.1749, device='cuda:0', grad_fn=<MeanBackward0>)\n",
            "epoch 22 loss tensor(1.1396, device='cuda:0', grad_fn=<MeanBackward0>)\n",
            "epoch 23 loss tensor(1.1793, device='cuda:0', grad_fn=<MeanBackward0>)\n",
            "epoch 24 loss tensor(1.1165, device='cuda:0', grad_fn=<MeanBackward0>)\n",
            "epoch 25 loss tensor(1.0617, device='cuda:0', grad_fn=<MeanBackward0>)\n",
            "epoch 26 loss tensor(1.0800, device='cuda:0', grad_fn=<MeanBackward0>)\n",
            "epoch 27 loss tensor(1.0682, device='cuda:0', grad_fn=<MeanBackward0>)\n",
            "epoch 28 loss tensor(1.0578, device='cuda:0', grad_fn=<MeanBackward0>)\n",
            "epoch 29 loss tensor(0.9148, device='cuda:0', grad_fn=<MeanBackward0>)\n",
            "epoch 30 loss tensor(0.9789, device='cuda:0', grad_fn=<MeanBackward0>)\n",
            "epoch 31 loss tensor(1.0231, device='cuda:0', grad_fn=<MeanBackward0>)\n",
            "epoch 32 loss tensor(1.0371, device='cuda:0', grad_fn=<MeanBackward0>)\n",
            "epoch 33 loss tensor(0.9304, device='cuda:0', grad_fn=<MeanBackward0>)\n",
            "epoch 34 loss tensor(0.8992, device='cuda:0', grad_fn=<MeanBackward0>)\n",
            "epoch 35 loss tensor(0.9343, device='cuda:0', grad_fn=<MeanBackward0>)\n",
            "epoch 36 loss tensor(0.8597, device='cuda:0', grad_fn=<MeanBackward0>)\n",
            "epoch 37 loss tensor(0.8258, device='cuda:0', grad_fn=<MeanBackward0>)\n",
            "epoch 38 loss tensor(0.8155, device='cuda:0', grad_fn=<MeanBackward0>)\n",
            "epoch 39 loss tensor(0.8631, device='cuda:0', grad_fn=<MeanBackward0>)\n",
            "epoch 40 loss tensor(0.7495, device='cuda:0', grad_fn=<MeanBackward0>)\n",
            "epoch 41 loss tensor(0.7368, device='cuda:0', grad_fn=<MeanBackward0>)\n",
            "epoch 42 loss tensor(0.7521, device='cuda:0', grad_fn=<MeanBackward0>)\n",
            "epoch 43 loss tensor(0.7136, device='cuda:0', grad_fn=<MeanBackward0>)\n",
            "epoch 44 loss tensor(0.6380, device='cuda:0', grad_fn=<MeanBackward0>)\n",
            "epoch 45 loss tensor(0.6387, device='cuda:0', grad_fn=<MeanBackward0>)\n",
            "epoch 46 loss tensor(0.6102, device='cuda:0', grad_fn=<MeanBackward0>)\n",
            "epoch 47 loss tensor(0.5619, device='cuda:0', grad_fn=<MeanBackward0>)\n",
            "epoch 48 loss tensor(0.5824, device='cuda:0', grad_fn=<MeanBackward0>)\n",
            "epoch 49 loss tensor(0.5627, device='cuda:0', grad_fn=<MeanBackward0>)\n",
            "epoch 50 loss tensor(0.5021, device='cuda:0', grad_fn=<MeanBackward0>)\n",
            "epoch 51 loss tensor(0.4835, device='cuda:0', grad_fn=<MeanBackward0>)\n",
            "epoch 52 loss tensor(0.4442, device='cuda:0', grad_fn=<MeanBackward0>)\n",
            "epoch 53 loss tensor(0.4570, device='cuda:0', grad_fn=<MeanBackward0>)\n",
            "epoch 54 loss tensor(0.4666, device='cuda:0', grad_fn=<MeanBackward0>)\n",
            "epoch 55 loss tensor(0.4565, device='cuda:0', grad_fn=<MeanBackward0>)\n",
            "epoch 56 loss tensor(0.4495, device='cuda:0', grad_fn=<MeanBackward0>)\n",
            "epoch 57 loss tensor(0.4284, device='cuda:0', grad_fn=<MeanBackward0>)\n",
            "epoch 58 loss tensor(0.3857, device='cuda:0', grad_fn=<MeanBackward0>)\n",
            "epoch 59 loss tensor(0.3641, device='cuda:0', grad_fn=<MeanBackward0>)\n",
            "epoch 60 loss tensor(0.3822, device='cuda:0', grad_fn=<MeanBackward0>)\n",
            "epoch 61 loss tensor(0.3581, device='cuda:0', grad_fn=<MeanBackward0>)\n",
            "epoch 62 loss tensor(0.3587, device='cuda:0', grad_fn=<MeanBackward0>)\n",
            "epoch 63 loss tensor(0.3583, device='cuda:0', grad_fn=<MeanBackward0>)\n",
            "epoch 64 loss tensor(0.3408, device='cuda:0', grad_fn=<MeanBackward0>)\n",
            "epoch 65 loss tensor(0.3079, device='cuda:0', grad_fn=<MeanBackward0>)\n",
            "epoch 66 loss tensor(0.3359, device='cuda:0', grad_fn=<MeanBackward0>)\n",
            "epoch 67 loss tensor(0.3160, device='cuda:0', grad_fn=<MeanBackward0>)\n",
            "epoch 68 loss tensor(0.2941, device='cuda:0', grad_fn=<MeanBackward0>)\n",
            "epoch 69 loss tensor(0.3039, device='cuda:0', grad_fn=<MeanBackward0>)\n",
            "epoch 70 loss tensor(0.2926, device='cuda:0', grad_fn=<MeanBackward0>)\n",
            "epoch 71 loss tensor(0.2803, device='cuda:0', grad_fn=<MeanBackward0>)\n",
            "epoch 72 loss tensor(0.2810, device='cuda:0', grad_fn=<MeanBackward0>)\n",
            "epoch 73 loss tensor(0.2735, device='cuda:0', grad_fn=<MeanBackward0>)\n",
            "epoch 74 loss tensor(0.2579, device='cuda:0', grad_fn=<MeanBackward0>)\n",
            "epoch 75 loss tensor(0.2498, device='cuda:0', grad_fn=<MeanBackward0>)\n",
            "epoch 76 loss tensor(0.2533, device='cuda:0', grad_fn=<MeanBackward0>)\n",
            "epoch 77 loss tensor(0.2408, device='cuda:0', grad_fn=<MeanBackward0>)\n",
            "epoch 78 loss tensor(0.2433, device='cuda:0', grad_fn=<MeanBackward0>)\n",
            "epoch 79 loss tensor(0.2385, device='cuda:0', grad_fn=<MeanBackward0>)\n",
            "epoch 80 loss tensor(0.2408, device='cuda:0', grad_fn=<MeanBackward0>)\n",
            "epoch 81 loss tensor(0.2265, device='cuda:0', grad_fn=<MeanBackward0>)\n",
            "epoch 82 loss tensor(0.2433, device='cuda:0', grad_fn=<MeanBackward0>)\n",
            "epoch 83 loss tensor(0.2331, device='cuda:0', grad_fn=<MeanBackward0>)\n",
            "epoch 84 loss tensor(0.2263, device='cuda:0', grad_fn=<MeanBackward0>)\n",
            "epoch 85 loss tensor(0.2274, device='cuda:0', grad_fn=<MeanBackward0>)\n",
            "epoch 86 loss tensor(0.2163, device='cuda:0', grad_fn=<MeanBackward0>)\n",
            "epoch 87 loss tensor(0.2101, device='cuda:0', grad_fn=<MeanBackward0>)\n",
            "epoch 88 loss tensor(0.2090, device='cuda:0', grad_fn=<MeanBackward0>)\n",
            "epoch 89 loss tensor(0.2072, device='cuda:0', grad_fn=<MeanBackward0>)\n",
            "epoch 90 loss tensor(0.2081, device='cuda:0', grad_fn=<MeanBackward0>)\n",
            "epoch 91 loss tensor(0.2030, device='cuda:0', grad_fn=<MeanBackward0>)\n",
            "epoch 92 loss tensor(0.2056, device='cuda:0', grad_fn=<MeanBackward0>)\n",
            "epoch 93 loss tensor(0.2023, device='cuda:0', grad_fn=<MeanBackward0>)\n",
            "epoch 94 loss tensor(0.1956, device='cuda:0', grad_fn=<MeanBackward0>)\n",
            "epoch 95 loss tensor(0.1899, device='cuda:0', grad_fn=<MeanBackward0>)\n",
            "epoch 96 loss tensor(0.1818, device='cuda:0', grad_fn=<MeanBackward0>)\n",
            "epoch 97 loss tensor(0.1860, device='cuda:0', grad_fn=<MeanBackward0>)\n",
            "epoch 98 loss tensor(0.1958, device='cuda:0', grad_fn=<MeanBackward0>)\n",
            "epoch 99 loss tensor(0.1825, device='cuda:0', grad_fn=<MeanBackward0>)\n"
          ],
          "name": "stdout"
        }
      ]
    },
    {
      "cell_type": "code",
      "metadata": {
        "id": "UZ8Q0NZijufn"
      },
      "source": [
        "optimizer = torch.optim.Adam(model.parameters(),lr = 0.00001, betas = (.9,.999))#ideal\n"
      ],
      "execution_count": 12,
      "outputs": []
    },
    {
      "cell_type": "code",
      "metadata": {
        "id": "uN5vSMvas0zG",
        "colab": {
          "base_uri": "https://localhost:8080/"
        },
        "outputId": "40892461-9a9c-4e9c-e23f-ae2969c29da5"
      },
      "source": [
        "for epoch in range(100):\n",
        "  for x,y in loader_train:\n",
        "    optimizer.zero_grad()\n",
        "    x = x.cuda()\n",
        "    y = y.cuda()\n",
        "    loss = mse_vit(x,y,model=model)\n",
        "    loss.backward()\n",
        "    optimizer.step()\n",
        "  print('epoch',epoch,'loss',loss)\n",
        "    #print(out.shape)\n",
        "  \n",
        "  "
      ],
      "execution_count": 13,
      "outputs": [
        {
          "output_type": "stream",
          "text": [
            "epoch 0 loss tensor(0.1762, device='cuda:0', grad_fn=<MeanBackward0>)\n",
            "epoch 1 loss tensor(0.1663, device='cuda:0', grad_fn=<MeanBackward0>)\n",
            "epoch 2 loss tensor(0.1699, device='cuda:0', grad_fn=<MeanBackward0>)\n",
            "epoch 3 loss tensor(0.1722, device='cuda:0', grad_fn=<MeanBackward0>)\n",
            "epoch 4 loss tensor(0.1648, device='cuda:0', grad_fn=<MeanBackward0>)\n",
            "epoch 5 loss tensor(0.1670, device='cuda:0', grad_fn=<MeanBackward0>)\n",
            "epoch 6 loss tensor(0.1723, device='cuda:0', grad_fn=<MeanBackward0>)\n",
            "epoch 7 loss tensor(0.1717, device='cuda:0', grad_fn=<MeanBackward0>)\n",
            "epoch 8 loss tensor(0.1633, device='cuda:0', grad_fn=<MeanBackward0>)\n",
            "epoch 9 loss tensor(0.1673, device='cuda:0', grad_fn=<MeanBackward0>)\n",
            "epoch 10 loss tensor(0.1566, device='cuda:0', grad_fn=<MeanBackward0>)\n",
            "epoch 11 loss tensor(0.1698, device='cuda:0', grad_fn=<MeanBackward0>)\n",
            "epoch 12 loss tensor(0.1625, device='cuda:0', grad_fn=<MeanBackward0>)\n",
            "epoch 13 loss tensor(0.1578, device='cuda:0', grad_fn=<MeanBackward0>)\n",
            "epoch 14 loss tensor(0.1672, device='cuda:0', grad_fn=<MeanBackward0>)\n",
            "epoch 15 loss tensor(0.1571, device='cuda:0', grad_fn=<MeanBackward0>)\n",
            "epoch 16 loss tensor(0.1671, device='cuda:0', grad_fn=<MeanBackward0>)\n",
            "epoch 17 loss tensor(0.1600, device='cuda:0', grad_fn=<MeanBackward0>)\n",
            "epoch 18 loss tensor(0.1612, device='cuda:0', grad_fn=<MeanBackward0>)\n",
            "epoch 19 loss tensor(0.1571, device='cuda:0', grad_fn=<MeanBackward0>)\n",
            "epoch 20 loss tensor(0.1614, device='cuda:0', grad_fn=<MeanBackward0>)\n",
            "epoch 21 loss tensor(0.1534, device='cuda:0', grad_fn=<MeanBackward0>)\n",
            "epoch 22 loss tensor(0.1620, device='cuda:0', grad_fn=<MeanBackward0>)\n",
            "epoch 23 loss tensor(0.1587, device='cuda:0', grad_fn=<MeanBackward0>)\n",
            "epoch 24 loss tensor(0.1571, device='cuda:0', grad_fn=<MeanBackward0>)\n",
            "epoch 25 loss tensor(0.1535, device='cuda:0', grad_fn=<MeanBackward0>)\n",
            "epoch 26 loss tensor(0.1536, device='cuda:0', grad_fn=<MeanBackward0>)\n",
            "epoch 27 loss tensor(0.1571, device='cuda:0', grad_fn=<MeanBackward0>)\n",
            "epoch 28 loss tensor(0.1575, device='cuda:0', grad_fn=<MeanBackward0>)\n",
            "epoch 29 loss tensor(0.1508, device='cuda:0', grad_fn=<MeanBackward0>)\n",
            "epoch 30 loss tensor(0.1564, device='cuda:0', grad_fn=<MeanBackward0>)\n",
            "epoch 31 loss tensor(0.1521, device='cuda:0', grad_fn=<MeanBackward0>)\n",
            "epoch 32 loss tensor(0.1483, device='cuda:0', grad_fn=<MeanBackward0>)\n",
            "epoch 33 loss tensor(0.1489, device='cuda:0', grad_fn=<MeanBackward0>)\n",
            "epoch 34 loss tensor(0.1506, device='cuda:0', grad_fn=<MeanBackward0>)\n",
            "epoch 35 loss tensor(0.1505, device='cuda:0', grad_fn=<MeanBackward0>)\n",
            "epoch 36 loss tensor(0.1462, device='cuda:0', grad_fn=<MeanBackward0>)\n",
            "epoch 37 loss tensor(0.1511, device='cuda:0', grad_fn=<MeanBackward0>)\n",
            "epoch 38 loss tensor(0.1481, device='cuda:0', grad_fn=<MeanBackward0>)\n",
            "epoch 39 loss tensor(0.1483, device='cuda:0', grad_fn=<MeanBackward0>)\n",
            "epoch 40 loss tensor(0.1498, device='cuda:0', grad_fn=<MeanBackward0>)\n",
            "epoch 41 loss tensor(0.1500, device='cuda:0', grad_fn=<MeanBackward0>)\n",
            "epoch 42 loss tensor(0.1466, device='cuda:0', grad_fn=<MeanBackward0>)\n",
            "epoch 43 loss tensor(0.1435, device='cuda:0', grad_fn=<MeanBackward0>)\n",
            "epoch 44 loss tensor(0.1461, device='cuda:0', grad_fn=<MeanBackward0>)\n",
            "epoch 45 loss tensor(0.1489, device='cuda:0', grad_fn=<MeanBackward0>)\n",
            "epoch 46 loss tensor(0.1461, device='cuda:0', grad_fn=<MeanBackward0>)\n",
            "epoch 47 loss tensor(0.1415, device='cuda:0', grad_fn=<MeanBackward0>)\n",
            "epoch 48 loss tensor(0.1372, device='cuda:0', grad_fn=<MeanBackward0>)\n",
            "epoch 49 loss tensor(0.1446, device='cuda:0', grad_fn=<MeanBackward0>)\n",
            "epoch 50 loss tensor(0.1433, device='cuda:0', grad_fn=<MeanBackward0>)\n",
            "epoch 51 loss tensor(0.1420, device='cuda:0', grad_fn=<MeanBackward0>)\n",
            "epoch 52 loss tensor(0.1444, device='cuda:0', grad_fn=<MeanBackward0>)\n",
            "epoch 53 loss tensor(0.1440, device='cuda:0', grad_fn=<MeanBackward0>)\n",
            "epoch 54 loss tensor(0.1392, device='cuda:0', grad_fn=<MeanBackward0>)\n",
            "epoch 55 loss tensor(0.1413, device='cuda:0', grad_fn=<MeanBackward0>)\n",
            "epoch 56 loss tensor(0.1406, device='cuda:0', grad_fn=<MeanBackward0>)\n",
            "epoch 57 loss tensor(0.1410, device='cuda:0', grad_fn=<MeanBackward0>)\n",
            "epoch 58 loss tensor(0.1352, device='cuda:0', grad_fn=<MeanBackward0>)\n",
            "epoch 59 loss tensor(0.1393, device='cuda:0', grad_fn=<MeanBackward0>)\n",
            "epoch 60 loss tensor(0.1361, device='cuda:0', grad_fn=<MeanBackward0>)\n",
            "epoch 61 loss tensor(0.1376, device='cuda:0', grad_fn=<MeanBackward0>)\n",
            "epoch 62 loss tensor(0.1335, device='cuda:0', grad_fn=<MeanBackward0>)\n",
            "epoch 63 loss tensor(0.1406, device='cuda:0', grad_fn=<MeanBackward0>)\n",
            "epoch 64 loss tensor(0.1426, device='cuda:0', grad_fn=<MeanBackward0>)\n",
            "epoch 65 loss tensor(0.1370, device='cuda:0', grad_fn=<MeanBackward0>)\n",
            "epoch 66 loss tensor(0.1342, device='cuda:0', grad_fn=<MeanBackward0>)\n",
            "epoch 67 loss tensor(0.1294, device='cuda:0', grad_fn=<MeanBackward0>)\n",
            "epoch 68 loss tensor(0.1364, device='cuda:0', grad_fn=<MeanBackward0>)\n",
            "epoch 69 loss tensor(0.1351, device='cuda:0', grad_fn=<MeanBackward0>)\n",
            "epoch 70 loss tensor(0.1350, device='cuda:0', grad_fn=<MeanBackward0>)\n",
            "epoch 71 loss tensor(0.1359, device='cuda:0', grad_fn=<MeanBackward0>)\n",
            "epoch 72 loss tensor(0.1326, device='cuda:0', grad_fn=<MeanBackward0>)\n",
            "epoch 73 loss tensor(0.1324, device='cuda:0', grad_fn=<MeanBackward0>)\n",
            "epoch 74 loss tensor(0.1352, device='cuda:0', grad_fn=<MeanBackward0>)\n",
            "epoch 75 loss tensor(0.1392, device='cuda:0', grad_fn=<MeanBackward0>)\n",
            "epoch 76 loss tensor(0.1284, device='cuda:0', grad_fn=<MeanBackward0>)\n",
            "epoch 77 loss tensor(0.1266, device='cuda:0', grad_fn=<MeanBackward0>)\n",
            "epoch 78 loss tensor(0.1333, device='cuda:0', grad_fn=<MeanBackward0>)\n",
            "epoch 79 loss tensor(0.1274, device='cuda:0', grad_fn=<MeanBackward0>)\n",
            "epoch 80 loss tensor(0.1255, device='cuda:0', grad_fn=<MeanBackward0>)\n",
            "epoch 81 loss tensor(0.1299, device='cuda:0', grad_fn=<MeanBackward0>)\n",
            "epoch 82 loss tensor(0.1250, device='cuda:0', grad_fn=<MeanBackward0>)\n",
            "epoch 83 loss tensor(0.1305, device='cuda:0', grad_fn=<MeanBackward0>)\n",
            "epoch 84 loss tensor(0.1259, device='cuda:0', grad_fn=<MeanBackward0>)\n",
            "epoch 85 loss tensor(0.1255, device='cuda:0', grad_fn=<MeanBackward0>)\n",
            "epoch 86 loss tensor(0.1287, device='cuda:0', grad_fn=<MeanBackward0>)\n",
            "epoch 87 loss tensor(0.1272, device='cuda:0', grad_fn=<MeanBackward0>)\n",
            "epoch 88 loss tensor(0.1285, device='cuda:0', grad_fn=<MeanBackward0>)\n",
            "epoch 89 loss tensor(0.1271, device='cuda:0', grad_fn=<MeanBackward0>)\n",
            "epoch 90 loss tensor(0.1236, device='cuda:0', grad_fn=<MeanBackward0>)\n",
            "epoch 91 loss tensor(0.1242, device='cuda:0', grad_fn=<MeanBackward0>)\n",
            "epoch 92 loss tensor(0.1180, device='cuda:0', grad_fn=<MeanBackward0>)\n",
            "epoch 93 loss tensor(0.1201, device='cuda:0', grad_fn=<MeanBackward0>)\n",
            "epoch 94 loss tensor(0.1203, device='cuda:0', grad_fn=<MeanBackward0>)\n",
            "epoch 95 loss tensor(0.1171, device='cuda:0', grad_fn=<MeanBackward0>)\n",
            "epoch 96 loss tensor(0.1159, device='cuda:0', grad_fn=<MeanBackward0>)\n",
            "epoch 97 loss tensor(0.1214, device='cuda:0', grad_fn=<MeanBackward0>)\n",
            "epoch 98 loss tensor(0.1247, device='cuda:0', grad_fn=<MeanBackward0>)\n",
            "epoch 99 loss tensor(0.1157, device='cuda:0', grad_fn=<MeanBackward0>)\n"
          ],
          "name": "stdout"
        }
      ]
    },
    {
      "cell_type": "code",
      "metadata": {
        "id": "fLpe0a2Q_rH7"
      },
      "source": [
        "#optimizer = torch.optim.Adam(model.parameters(),lr = 0.000001, betas = (.9,.999))#ideal\n"
      ],
      "execution_count": 14,
      "outputs": []
    },
    {
      "cell_type": "code",
      "metadata": {
        "id": "OgAVwY26_rYX",
        "colab": {
          "base_uri": "https://localhost:8080/",
          "height": 52
        },
        "outputId": "694bf212-563c-4bea-b1e4-8006249bd2d2"
      },
      "source": [
        "\"\"\"for epoch in range(100):\n",
        "  for x,y in loader_train:\n",
        "    optimizer.zero_grad()\n",
        "    x = x.cuda()\n",
        "    y = y.cuda()\n",
        "    loss = mse_cnn(x,y)\n",
        "    loss.backward()\n",
        "    optimizer.step()\n",
        "  print('epoch',epoch,'loss',loss)\n",
        "  \n",
        "    #print(out.shape)\n",
        "  \n",
        "\"\"\""
      ],
      "execution_count": 15,
      "outputs": [
        {
          "output_type": "execute_result",
          "data": {
            "application/vnd.google.colaboratory.intrinsic+json": {
              "type": "string"
            },
            "text/plain": [
              "\"for epoch in range(100):\\n  for x,y in loader_train:\\n    optimizer.zero_grad()\\n    x = x.cuda()\\n    y = y.cuda()\\n    loss = mse_cnn(x,y)\\n    loss.backward()\\n    optimizer.step()\\n  print('epoch',epoch,'loss',loss)\\n  \\n    #print(out.shape)\\n  \\n\""
            ]
          },
          "metadata": {
            "tags": []
          },
          "execution_count": 15
        }
      ]
    },
    {
      "cell_type": "code",
      "metadata": {
        "id": "GWdFizPB5D0k",
        "colab": {
          "base_uri": "https://localhost:8080/",
          "height": 1000
        },
        "outputId": "71f8e788-8662-45e4-e7ed-2a28256a3e9b"
      },
      "source": [
        "model = model.eval()\n",
        "#dataset = DonutDataset(length = 100)\n",
        "DonutDataset.displayCanvas('vit-training-1.png',loader_train, model = model)\n"
      ],
      "execution_count": 16,
      "outputs": [
        {
          "output_type": "stream",
          "text": [
            "preloss\n",
            "loss tensor(0.0386, device='cuda:0')\n",
            "(32, 32) torch.Size([1000]) torch.Size([1000])\n",
            "(32, 32) torch.Size([1000]) torch.Size([1000])\n",
            "(32, 32) torch.Size([1000]) torch.Size([1000])\n",
            "(32, 32) torch.Size([1000]) torch.Size([1000])\n",
            "(32, 32) torch.Size([1000]) torch.Size([1000])\n",
            "(32, 32) torch.Size([1000]) torch.Size([1000])\n",
            "(32, 32) torch.Size([1000]) torch.Size([1000])\n",
            "(32, 32) torch.Size([1000]) torch.Size([1000])\n",
            "(32, 32) torch.Size([1000]) torch.Size([1000])\n",
            "(32, 32) torch.Size([1000]) torch.Size([1000])\n",
            "(32, 32) torch.Size([1000]) torch.Size([1000])\n",
            "(32, 32) torch.Size([1000]) torch.Size([1000])\n",
            "(32, 32) torch.Size([1000]) torch.Size([1000])\n",
            "(32, 32) torch.Size([1000]) torch.Size([1000])\n",
            "(32, 32) torch.Size([1000]) torch.Size([1000])\n",
            "(32, 32) torch.Size([1000]) torch.Size([1000])\n",
            "(32, 32) torch.Size([1000]) torch.Size([1000])\n",
            "(32, 32) torch.Size([1000]) torch.Size([1000])\n",
            "(32, 32) torch.Size([1000]) torch.Size([1000])\n",
            "(32, 32) torch.Size([1000]) torch.Size([1000])\n",
            "(32, 32) torch.Size([1000]) torch.Size([1000])\n",
            "(32, 32) torch.Size([1000]) torch.Size([1000])\n",
            "(32, 32) torch.Size([1000]) torch.Size([1000])\n",
            "(32, 32) torch.Size([1000]) torch.Size([1000])\n",
            "(32, 32) torch.Size([1000]) torch.Size([1000])\n",
            "(32, 32) torch.Size([1000]) torch.Size([1000])\n",
            "(32, 32) torch.Size([1000]) torch.Size([1000])\n",
            "(32, 32) torch.Size([1000]) torch.Size([1000])\n",
            "(32, 32) torch.Size([1000]) torch.Size([1000])\n",
            "(32, 32) torch.Size([1000]) torch.Size([1000])\n",
            "(32, 32) torch.Size([1000]) torch.Size([1000])\n",
            "(32, 32) torch.Size([1000]) torch.Size([1000])\n",
            "(32, 32) torch.Size([1000]) torch.Size([1000])\n",
            "(32, 32) torch.Size([1000]) torch.Size([1000])\n",
            "(32, 32) torch.Size([1000]) torch.Size([1000])\n",
            "(32, 32) torch.Size([1000]) torch.Size([1000])\n",
            "(32, 32) torch.Size([1000]) torch.Size([1000])\n",
            "(32, 32) torch.Size([1000]) torch.Size([1000])\n",
            "(32, 32) torch.Size([1000]) torch.Size([1000])\n",
            "(32, 32) torch.Size([1000]) torch.Size([1000])\n",
            "(32, 32) torch.Size([1000]) torch.Size([1000])\n",
            "(32, 32) torch.Size([1000]) torch.Size([1000])\n",
            "(32, 32) torch.Size([1000]) torch.Size([1000])\n",
            "(32, 32) torch.Size([1000]) torch.Size([1000])\n",
            "(32, 32) torch.Size([1000]) torch.Size([1000])\n",
            "(32, 32) torch.Size([1000]) torch.Size([1000])\n",
            "(32, 32) torch.Size([1000]) torch.Size([1000])\n",
            "(32, 32) torch.Size([1000]) torch.Size([1000])\n",
            "(32, 32) torch.Size([1000]) torch.Size([1000])\n",
            "(32, 32) torch.Size([1000]) torch.Size([1000])\n",
            "(32, 32) torch.Size([1000]) torch.Size([1000])\n",
            "(32, 32) torch.Size([1000]) torch.Size([1000])\n",
            "(32, 32) torch.Size([1000]) torch.Size([1000])\n",
            "(32, 32) torch.Size([1000]) torch.Size([1000])\n",
            "(32, 32) torch.Size([1000]) torch.Size([1000])\n",
            "(32, 32) torch.Size([1000]) torch.Size([1000])\n",
            "(32, 32) torch.Size([1000]) torch.Size([1000])\n",
            "(32, 32) torch.Size([1000]) torch.Size([1000])\n",
            "(32, 32) torch.Size([1000]) torch.Size([1000])\n",
            "(32, 32) torch.Size([1000]) torch.Size([1000])\n",
            "(32, 32) torch.Size([1000]) torch.Size([1000])\n",
            "(32, 32) torch.Size([1000]) torch.Size([1000])\n",
            "(32, 32) torch.Size([1000]) torch.Size([1000])\n",
            "(32, 32) torch.Size([1000]) torch.Size([1000])\n",
            "(32, 32) torch.Size([1000]) torch.Size([1000])\n",
            "(32, 32) torch.Size([1000]) torch.Size([1000])\n",
            "(32, 32) torch.Size([1000]) torch.Size([1000])\n",
            "(32, 32) torch.Size([1000]) torch.Size([1000])\n",
            "(32, 32) torch.Size([1000]) torch.Size([1000])\n",
            "(32, 32) torch.Size([1000]) torch.Size([1000])\n",
            "(32, 32) torch.Size([1000]) torch.Size([1000])\n",
            "(32, 32) torch.Size([1000]) torch.Size([1000])\n",
            "(32, 32) torch.Size([1000]) torch.Size([1000])\n",
            "(32, 32) torch.Size([1000]) torch.Size([1000])\n",
            "(32, 32) torch.Size([1000]) torch.Size([1000])\n",
            "(32, 32) torch.Size([1000]) torch.Size([1000])\n",
            "(32, 32) torch.Size([1000]) torch.Size([1000])\n",
            "(32, 32) torch.Size([1000]) torch.Size([1000])\n",
            "(32, 32) torch.Size([1000]) torch.Size([1000])\n",
            "(32, 32) torch.Size([1000]) torch.Size([1000])\n",
            "(32, 32) torch.Size([1000]) torch.Size([1000])\n",
            "(32, 32) torch.Size([1000]) torch.Size([1000])\n",
            "(32, 32) torch.Size([1000]) torch.Size([1000])\n",
            "(32, 32) torch.Size([1000]) torch.Size([1000])\n",
            "(32, 32) torch.Size([1000]) torch.Size([1000])\n",
            "(32, 32) torch.Size([1000]) torch.Size([1000])\n",
            "(32, 32) torch.Size([1000]) torch.Size([1000])\n",
            "(32, 32) torch.Size([1000]) torch.Size([1000])\n",
            "(32, 32) torch.Size([1000]) torch.Size([1000])\n",
            "(32, 32) torch.Size([1000]) torch.Size([1000])\n",
            "(32, 32) torch.Size([1000]) torch.Size([1000])\n",
            "(32, 32) torch.Size([1000]) torch.Size([1000])\n",
            "(32, 32) torch.Size([1000]) torch.Size([1000])\n",
            "(32, 32) torch.Size([1000]) torch.Size([1000])\n",
            "(32, 32) torch.Size([1000]) torch.Size([1000])\n",
            "(32, 32) torch.Size([1000]) torch.Size([1000])\n",
            "(32, 32) torch.Size([1000]) torch.Size([1000])\n",
            "(32, 32) torch.Size([1000]) torch.Size([1000])\n",
            "(32, 32) torch.Size([1000]) torch.Size([1000])\n",
            "(32, 32) torch.Size([1000]) torch.Size([1000])\n"
          ],
          "name": "stdout"
        },
        {
          "output_type": "display_data",
          "data": {
            "image/png": "[encoded data removed]",
            "text/plain": [
              "<Figure size 432x288 with 100 Axes>"
            ]
          },
          "metadata": {
            "tags": [],
            "needs_background": "light"
          }
        }
      ]
    },
    {
      "cell_type": "code",
      "metadata": {
        "id": "WZU4xWyYs34O",
        "colab": {
          "base_uri": "https://localhost:8080/"
        },
        "outputId": "cd579e39-5d9a-4217-8b71-2ae5a2da0d59"
      },
      "source": [
        "from torch.utils import data\n",
        "from torch.utils.data import DataLoader, TensorDataset, RandomSampler\n",
        "\n",
        "mini_batch = 100\n",
        "dataset = DonutDataset(length = 100)\n",
        "loader_test = data.DataLoader(\n",
        "    dataset, \n",
        "    batch_size=mini_batch,\n",
        "    sampler=RandomSampler(data_source=dataset),\n",
        "    num_workers=4)\n"
      ],
      "execution_count": 17,
      "outputs": [
        {
          "output_type": "stream",
          "text": [
            "x0_y0_r_xrf_yrf torch.Size([100, 1]) torch.Size([100, 1]) torch.Size([100, 1000]) torch.Size([1, 1000]) torch.Size([1, 1000])\n"
          ],
          "name": "stdout"
        }
      ]
    },
    {
      "cell_type": "code",
      "metadata": {
        "colab": {
          "base_uri": "https://localhost:8080/"
        },
        "id": "rkwQbHHc9NhB",
        "outputId": "e3aca5a3-6a1e-4ec7-c6f9-cd37305d75ac"
      },
      "source": [
        "#model = model.eval()\n",
        "for x,y in loader_test:\n",
        "  x = x.cuda()\n",
        "  y = y.cuda()\n",
        "  loss = mse_vit(x,y,model=model)\n",
        "  print('validation loss',loss)\n",
        "  break\n",
        "  "
      ],
      "execution_count": 18,
      "outputs": [
        {
          "output_type": "stream",
          "text": [
            "validation loss tensor(0.0689, device='cuda:0', grad_fn=<MeanBackward0>)\n"
          ],
          "name": "stdout"
        }
      ]
    },
    {
      "cell_type": "markdown",
      "metadata": {
        "id": "4R4fKjUZB_14"
      },
      "source": [
        "need to avoid overfitting\n",
        "https://discuss.pytorch.org/t/inject-dropout-into-resnet-or-any-other-network/66322/2"
      ]
    },
    {
      "cell_type": "code",
      "metadata": {
        "colab": {
          "base_uri": "https://localhost:8080/",
          "height": 1000
        },
        "id": "eJ1wE8D0CBKG",
        "outputId": "819d5c68-1e88-4678-8c0d-d6b17361539d"
      },
      "source": [
        "#model = model.eval()\n",
        "#dataset = DonutDataset(length = 100)\n",
        "DonutDataset.displayCanvas('vit-test-set-1.png',loader_test, model = model)\n"
      ],
      "execution_count": 19,
      "outputs": [
        {
          "output_type": "stream",
          "text": [
            "preloss\n",
            "loss tensor(0.0689, device='cuda:0')\n",
            "(32, 32) torch.Size([1000]) torch.Size([1000])\n",
            "(32, 32) torch.Size([1000]) torch.Size([1000])\n",
            "(32, 32) torch.Size([1000]) torch.Size([1000])\n",
            "(32, 32) torch.Size([1000]) torch.Size([1000])\n",
            "(32, 32) torch.Size([1000]) torch.Size([1000])\n",
            "(32, 32) torch.Size([1000]) torch.Size([1000])\n",
            "(32, 32) torch.Size([1000]) torch.Size([1000])\n",
            "(32, 32) torch.Size([1000]) torch.Size([1000])\n",
            "(32, 32) torch.Size([1000]) torch.Size([1000])\n",
            "(32, 32) torch.Size([1000]) torch.Size([1000])\n",
            "(32, 32) torch.Size([1000]) torch.Size([1000])\n",
            "(32, 32) torch.Size([1000]) torch.Size([1000])\n",
            "(32, 32) torch.Size([1000]) torch.Size([1000])\n",
            "(32, 32) torch.Size([1000]) torch.Size([1000])\n",
            "(32, 32) torch.Size([1000]) torch.Size([1000])\n",
            "(32, 32) torch.Size([1000]) torch.Size([1000])\n",
            "(32, 32) torch.Size([1000]) torch.Size([1000])\n",
            "(32, 32) torch.Size([1000]) torch.Size([1000])\n",
            "(32, 32) torch.Size([1000]) torch.Size([1000])\n",
            "(32, 32) torch.Size([1000]) torch.Size([1000])\n",
            "(32, 32) torch.Size([1000]) torch.Size([1000])\n",
            "(32, 32) torch.Size([1000]) torch.Size([1000])\n",
            "(32, 32) torch.Size([1000]) torch.Size([1000])\n",
            "(32, 32) torch.Size([1000]) torch.Size([1000])\n",
            "(32, 32) torch.Size([1000]) torch.Size([1000])\n",
            "(32, 32) torch.Size([1000]) torch.Size([1000])\n",
            "(32, 32) torch.Size([1000]) torch.Size([1000])\n",
            "(32, 32) torch.Size([1000]) torch.Size([1000])\n",
            "(32, 32) torch.Size([1000]) torch.Size([1000])\n",
            "(32, 32) torch.Size([1000]) torch.Size([1000])\n",
            "(32, 32) torch.Size([1000]) torch.Size([1000])\n",
            "(32, 32) torch.Size([1000]) torch.Size([1000])\n",
            "(32, 32) torch.Size([1000]) torch.Size([1000])\n",
            "(32, 32) torch.Size([1000]) torch.Size([1000])\n",
            "(32, 32) torch.Size([1000]) torch.Size([1000])\n",
            "(32, 32) torch.Size([1000]) torch.Size([1000])\n",
            "(32, 32) torch.Size([1000]) torch.Size([1000])\n",
            "(32, 32) torch.Size([1000]) torch.Size([1000])\n",
            "(32, 32) torch.Size([1000]) torch.Size([1000])\n",
            "(32, 32) torch.Size([1000]) torch.Size([1000])\n",
            "(32, 32) torch.Size([1000]) torch.Size([1000])\n",
            "(32, 32) torch.Size([1000]) torch.Size([1000])\n",
            "(32, 32) torch.Size([1000]) torch.Size([1000])\n",
            "(32, 32) torch.Size([1000]) torch.Size([1000])\n",
            "(32, 32) torch.Size([1000]) torch.Size([1000])\n",
            "(32, 32) torch.Size([1000]) torch.Size([1000])\n",
            "(32, 32) torch.Size([1000]) torch.Size([1000])\n",
            "(32, 32) torch.Size([1000]) torch.Size([1000])\n",
            "(32, 32) torch.Size([1000]) torch.Size([1000])\n",
            "(32, 32) torch.Size([1000]) torch.Size([1000])\n",
            "(32, 32) torch.Size([1000]) torch.Size([1000])\n",
            "(32, 32) torch.Size([1000]) torch.Size([1000])\n",
            "(32, 32) torch.Size([1000]) torch.Size([1000])\n",
            "(32, 32) torch.Size([1000]) torch.Size([1000])\n",
            "(32, 32) torch.Size([1000]) torch.Size([1000])\n",
            "(32, 32) torch.Size([1000]) torch.Size([1000])\n",
            "(32, 32) torch.Size([1000]) torch.Size([1000])\n",
            "(32, 32) torch.Size([1000]) torch.Size([1000])\n",
            "(32, 32) torch.Size([1000]) torch.Size([1000])\n",
            "(32, 32) torch.Size([1000]) torch.Size([1000])\n",
            "(32, 32) torch.Size([1000]) torch.Size([1000])\n",
            "(32, 32) torch.Size([1000]) torch.Size([1000])\n",
            "(32, 32) torch.Size([1000]) torch.Size([1000])\n",
            "(32, 32) torch.Size([1000]) torch.Size([1000])\n",
            "(32, 32) torch.Size([1000]) torch.Size([1000])\n",
            "(32, 32) torch.Size([1000]) torch.Size([1000])\n",
            "(32, 32) torch.Size([1000]) torch.Size([1000])\n",
            "(32, 32) torch.Size([1000]) torch.Size([1000])\n",
            "(32, 32) torch.Size([1000]) torch.Size([1000])\n",
            "(32, 32) torch.Size([1000]) torch.Size([1000])\n",
            "(32, 32) torch.Size([1000]) torch.Size([1000])\n",
            "(32, 32) torch.Size([1000]) torch.Size([1000])\n",
            "(32, 32) torch.Size([1000]) torch.Size([1000])\n",
            "(32, 32) torch.Size([1000]) torch.Size([1000])\n",
            "(32, 32) torch.Size([1000]) torch.Size([1000])\n",
            "(32, 32) torch.Size([1000]) torch.Size([1000])\n",
            "(32, 32) torch.Size([1000]) torch.Size([1000])\n",
            "(32, 32) torch.Size([1000]) torch.Size([1000])\n",
            "(32, 32) torch.Size([1000]) torch.Size([1000])\n",
            "(32, 32) torch.Size([1000]) torch.Size([1000])\n",
            "(32, 32) torch.Size([1000]) torch.Size([1000])\n",
            "(32, 32) torch.Size([1000]) torch.Size([1000])\n",
            "(32, 32) torch.Size([1000]) torch.Size([1000])\n",
            "(32, 32) torch.Size([1000]) torch.Size([1000])\n",
            "(32, 32) torch.Size([1000]) torch.Size([1000])\n",
            "(32, 32) torch.Size([1000]) torch.Size([1000])\n",
            "(32, 32) torch.Size([1000]) torch.Size([1000])\n",
            "(32, 32) torch.Size([1000]) torch.Size([1000])\n",
            "(32, 32) torch.Size([1000]) torch.Size([1000])\n",
            "(32, 32) torch.Size([1000]) torch.Size([1000])\n",
            "(32, 32) torch.Size([1000]) torch.Size([1000])\n",
            "(32, 32) torch.Size([1000]) torch.Size([1000])\n",
            "(32, 32) torch.Size([1000]) torch.Size([1000])\n",
            "(32, 32) torch.Size([1000]) torch.Size([1000])\n",
            "(32, 32) torch.Size([1000]) torch.Size([1000])\n",
            "(32, 32) torch.Size([1000]) torch.Size([1000])\n",
            "(32, 32) torch.Size([1000]) torch.Size([1000])\n",
            "(32, 32) torch.Size([1000]) torch.Size([1000])\n",
            "(32, 32) torch.Size([1000]) torch.Size([1000])\n",
            "(32, 32) torch.Size([1000]) torch.Size([1000])\n"
          ],
          "name": "stdout"
        },
        {
          "output_type": "display_data",
          "data": {
            "image/png": "[encoded data removed]",
            "text/plain": [
              "<Figure size 432x288 with 100 Axes>"
            ]
          },
          "metadata": {
            "tags": [],
            "needs_background": "light"
          }
        }
      ]
    },
    {
      "cell_type": "code",
      "metadata": {
        "id": "H9WfjZ9EdnOT"
      },
      "source": [
        ""
      ],
      "execution_count": 19,
      "outputs": []
    }
  ]
}