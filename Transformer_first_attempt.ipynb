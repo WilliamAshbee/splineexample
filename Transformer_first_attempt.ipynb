{
  "nbformat": 4,
  "nbformat_minor": 0,
  "metadata": {
    "colab": {
      "name": "Transformer-first-attempt.ipynb",
      "provenance": [],
      "collapsed_sections": [],
      "machine_shape": "hm",
      "authorship_tag": "ABX9TyOPVsT0qk0yx137sWmzcePS",
      "include_colab_link": true
    },
    "kernelspec": {
      "name": "python3",
      "display_name": "Python 3"
    },
    "language_info": {
      "name": "python"
    },
    "accelerator": "GPU"
  },
  "cells": [
    {
      "cell_type": "markdown",
      "metadata": {
        "id": "view-in-github",
        "colab_type": "text"
      },
      "source": [
        "<a href=\"https://colab.research.google.com/github/WilliamAshbee/splineexample/blob/main/Transformer_first_attempt.ipynb\" target=\"_parent\"><img src=\"https://colab.research.google.com/assets/colab-badge.svg\" alt=\"Open In Colab\"/></a>"
      ]
    },
    {
      "cell_type": "code",
      "metadata": {
        "colab": {
          "base_uri": "https://localhost:8080/",
          "height": 1000
        },
        "id": "YVgLKks_RIr0",
        "outputId": "f6db1a92-ecba-454f-ff0b-98fff41658a3"
      },
      "source": [
        "import torch\n",
        "import numpy as np\n",
        "import pylab as plt\n",
        "from skimage import filters\n",
        "import math\n",
        "\n",
        "global numpoints\n",
        "numpoints = 1000\n",
        "side = 32\n",
        "\n",
        "rows = torch.zeros(32,32)\n",
        "columns = torch.zeros(32,32)\n",
        "\n",
        "\n",
        "for i in range(32):\n",
        "    columns[:,i] = i\n",
        "    rows[i,:] = i\n",
        "\n",
        "\n",
        "def donut_matrix(length = 10):\n",
        "    radiusMax = side /3\n",
        "    w = 1\n",
        "    sigmas = [None, 1]\n",
        "    \n",
        "    canvas = torch.zeros((length,side, side))\n",
        "    r0 = torch.tensor(np.random.uniform(side/4, side/3, length))\n",
        "\n",
        "    radii = torch.zeros((length,numpoints))\n",
        "    radii[:, :] = r0.unsqueeze(1)\n",
        "    \n",
        "    ind = [x for x in range(numpoints)]\n",
        "\n",
        "    theta = torch.FloatTensor(ind)\n",
        "    theta *= math.pi*2.0/(float)(numpoints)\n",
        "    \n",
        "    for i in range(1,length):\n",
        "        a = np.random.uniform(1.0,3.0)*torch.sin(np.random.uniform(20.0)*theta+np.random.uniform(1000.0))\n",
        "        radii[i,:] += a\n",
        "        \n",
        "    assert torch.min(radii)>0\n",
        "    rmaxs = radii.max(axis = 1)[0]\n",
        "    pmins = rmaxs+1.0\n",
        "    pmaxs = side-rmaxs-1.0\n",
        "    x0 = np.random.uniform(pmins,pmaxs)\n",
        "    y0 = np.random.uniform(pmins,pmaxs)\n",
        "    x0[:]=side/2\n",
        "    y0[:]=side/2\n",
        "    x0 = torch.tensor(x0)\n",
        "    y0 = torch.tensor(y0)\n",
        "    \n",
        "    x0 = x0.unsqueeze(1)\n",
        "    y0 = y0.unsqueeze(1)\n",
        "    #radii = torch.from_numpy(radii)\n",
        "    xrfactors = torch.cos(theta).unsqueeze(0)\n",
        "    yrfactors = torch.sin(theta).unsqueeze(0)\n",
        "    \n",
        "    print('x0_y0_r_xrf_yrf',x0.shape,y0.shape,radii.shape,xrfactors.shape,yrfactors.shape)\n",
        "\n",
        "    x = (x0+(xrfactors*radii))\n",
        "    y = (y0+(yrfactors*radii))\n",
        "    \n",
        "    assert x.shape == (length,numpoints)\n",
        "    assert y.shape == (length,numpoints)\n",
        "    assert torch.sum(x[x>(side-1)])==0 \n",
        "    assert torch.sum(x[x<0])==0 \n",
        "    assert torch.sum(y[y>(side-1)])==0 \n",
        "    assert torch.sum(y[y<0])==0 \n",
        "    \n",
        "    points = torch.zeros(length,numpoints,2)\n",
        "    for l in range(length):\n",
        "        canvas[l,y[l,:].type(torch.LongTensor),x[l,:].type(torch.LongTensor)]=1.0\n",
        "        points[l,:,0] = x[l,:]#modified for lstm discriminator\n",
        "        points[l,:,1] = y[l,:]#modified for lstm discriminator \n",
        "    \n",
        "    \n",
        "    return {\n",
        "        'canvas': canvas, \n",
        "        'points':points.type(torch.FloatTensor)}\n",
        "\n",
        "\n",
        "def plot_all( sample = None, model = None, labels = None, i = 0):\n",
        "    if len(sample) == 3:\n",
        "      img = sample[0,:,:].squeeze().cpu().numpy()\n",
        "    else:\n",
        "      img = sample[i,0,:,:].squeeze().cpu().numpy()\n",
        "      \n",
        "    plt.imshow(img, cmap=plt.cm.gray_r)\n",
        "    if model != None:\n",
        "        with torch.no_grad():\n",
        "            global numpoints\n",
        "            h0 = None\n",
        "            c0 = None\n",
        "            X = []\n",
        "            Y = []\n",
        "            out = model(sample.cuda())\n",
        "            print('loss',mse_vit(out,labels.cuda()))\n",
        "            X = out[i,:1000,0]*32.0\n",
        "            Y = out[i,-1000:,1]*32.0\n",
        "            \n",
        "            predres = 1000\n",
        "            s = [.001 for x in range(predres)]\n",
        "            assert len(s) == predres\n",
        "            c = ['red' for x in range(predres)]\n",
        "            assert len(c) == predres\n",
        "            ascatter = plt.scatter(X.cpu().numpy(),Y.cpu().numpy(),s = s,c = c)\n",
        "            plt.gca().add_artist(ascatter)\n",
        "    else:\n",
        "        print(len(labels),labels.shape)\n",
        "        if len(labels)==2:\n",
        "          X = labels[:,0]\n",
        "          Y = labels[:,1]\n",
        "          s = [.001 for x in range(numpoints)]\n",
        "          c = ['red' for x in range(numpoints)]\n",
        "        else:\n",
        "          X = labels[i,:,0]\n",
        "          Y = labels[i,:,1]\n",
        "          s = [.001 for x in range(numpoints)]\n",
        "          c = ['red' for x in range(numpoints)]\n",
        "\n",
        "        ascatter = plt.scatter(X.cpu().numpy(),Y.cpu().numpy(),s = s,c = c)\n",
        "        plt.gca().add_artist(ascatter)\n",
        "\n",
        "class DonutDataset(torch.utils.data.Dataset):\n",
        "    \"\"\"Donut dataset.\"\"\"\n",
        "    def __init__(self, length = 10):\n",
        "        \"\"\"\n",
        "        Args:\n",
        "            csv_file (string): Path to the csv file with annotations.\n",
        "            root_dir (string): Directory with all the images.\n",
        "            transform (callable, optional): Optional transform to be applied\n",
        "                on a sample.\n",
        "        \"\"\"\n",
        "        self.length = length\n",
        "        self.values = donut_matrix(length)\n",
        "        assert self.values['canvas'].shape[0] == self.length\n",
        "        assert self.values['points'].shape[0] == self.length\n",
        "        \n",
        "        count = 0\n",
        "        for i in range(self.length):\n",
        "          a = self[i]\n",
        "          c = a[0][0,:,:]\n",
        "          for el in a[1]:\n",
        "            y,x = (int)(el[1]),(int)(el[0])\n",
        "            \n",
        "            if x < side-2 and x > 2 and y < side-2 and y > 2: \n",
        "              if c[y,x] != 1 and \\\n",
        "                c[y+1,x] != 1 and c[y+1,-1+x] != 1 and c[y+1,1+x] != 1 and \\\n",
        "                c[y-1,x] != 1 and c[y,-1+x] != 1 and c[y,1+x] != 1:\n",
        "                count+=1\n",
        "        assert count ==0\n",
        "    def __len__(self):\n",
        "        return self.length\n",
        "\n",
        "\n",
        "    def __getitem__(self, idx):\n",
        "        canvas = self.values[\"canvas\"]\n",
        "        \n",
        "        canvas = canvas[idx,:,:]\n",
        "\n",
        "        #assert canvas.shape == (side,side) or canvas.shape == (len(idx))\n",
        "        \n",
        "        points = self.values[\"points\"]\n",
        "        points = points[idx,:]\n",
        "        if len(canvas.shape) == 2:\n",
        "          canvas = torch.stack([canvas,canvas,canvas],dim=0)\n",
        "        else:\n",
        "          canvas = torch.stack([canvas,canvas,canvas],dim=1)\n",
        "        \n",
        "        return canvas, points\n",
        "    \n",
        "    @staticmethod\n",
        "    def displayCanvas(title,dataset, model):\n",
        "        #model.setBatchSize(batch_size = 1)\n",
        "        sample, labels = dataset[0:100]\n",
        "        for i in range(100):\n",
        "          plt.subplot(10,10,i+1)\n",
        "          plot_all(sample = sample,model=model, labels = labels,i = i)\n",
        "          plt.axis('off')\n",
        "        plt.savefig(title,dpi=600)\n",
        "\n",
        "dataset = DonutDataset(length = 100)\n",
        "\n",
        "DonutDataset.displayCanvas('donut.png',dataset, model = None)\n"
      ],
      "execution_count": 38,
      "outputs": [
        {
          "output_type": "stream",
          "text": [
            "x0_y0_r_xrf_yrf torch.Size([100, 1]) torch.Size([100, 1]) torch.Size([100, 1000]) torch.Size([1, 1000]) torch.Size([1, 1000])\n",
            "100 torch.Size([100, 1000, 2])\n",
            "100 torch.Size([100, 1000, 2])\n",
            "100 torch.Size([100, 1000, 2])\n",
            "100 torch.Size([100, 1000, 2])\n",
            "100 torch.Size([100, 1000, 2])\n",
            "100 torch.Size([100, 1000, 2])\n",
            "100 torch.Size([100, 1000, 2])\n",
            "100 torch.Size([100, 1000, 2])\n",
            "100 torch.Size([100, 1000, 2])\n",
            "100 torch.Size([100, 1000, 2])\n",
            "100 torch.Size([100, 1000, 2])\n",
            "100 torch.Size([100, 1000, 2])\n",
            "100 torch.Size([100, 1000, 2])\n",
            "100 torch.Size([100, 1000, 2])\n",
            "100 torch.Size([100, 1000, 2])\n",
            "100 torch.Size([100, 1000, 2])\n",
            "100 torch.Size([100, 1000, 2])\n",
            "100 torch.Size([100, 1000, 2])\n",
            "100 torch.Size([100, 1000, 2])\n",
            "100 torch.Size([100, 1000, 2])\n",
            "100 torch.Size([100, 1000, 2])\n",
            "100 torch.Size([100, 1000, 2])\n",
            "100 torch.Size([100, 1000, 2])\n",
            "100 torch.Size([100, 1000, 2])\n",
            "100 torch.Size([100, 1000, 2])\n",
            "100 torch.Size([100, 1000, 2])\n",
            "100 torch.Size([100, 1000, 2])\n",
            "100 torch.Size([100, 1000, 2])\n",
            "100 torch.Size([100, 1000, 2])\n",
            "100 torch.Size([100, 1000, 2])\n",
            "100 torch.Size([100, 1000, 2])\n",
            "100 torch.Size([100, 1000, 2])\n",
            "100 torch.Size([100, 1000, 2])\n",
            "100 torch.Size([100, 1000, 2])\n",
            "100 torch.Size([100, 1000, 2])\n",
            "100 torch.Size([100, 1000, 2])\n",
            "100 torch.Size([100, 1000, 2])\n",
            "100 torch.Size([100, 1000, 2])\n",
            "100 torch.Size([100, 1000, 2])\n",
            "100 torch.Size([100, 1000, 2])\n",
            "100 torch.Size([100, 1000, 2])\n",
            "100 torch.Size([100, 1000, 2])\n",
            "100 torch.Size([100, 1000, 2])\n",
            "100 torch.Size([100, 1000, 2])\n",
            "100 torch.Size([100, 1000, 2])\n",
            "100 torch.Size([100, 1000, 2])\n",
            "100 torch.Size([100, 1000, 2])\n",
            "100 torch.Size([100, 1000, 2])\n",
            "100 torch.Size([100, 1000, 2])\n",
            "100 torch.Size([100, 1000, 2])\n",
            "100 torch.Size([100, 1000, 2])\n",
            "100 torch.Size([100, 1000, 2])\n",
            "100 torch.Size([100, 1000, 2])\n",
            "100 torch.Size([100, 1000, 2])\n",
            "100 torch.Size([100, 1000, 2])\n",
            "100 torch.Size([100, 1000, 2])\n",
            "100 torch.Size([100, 1000, 2])\n",
            "100 torch.Size([100, 1000, 2])\n",
            "100 torch.Size([100, 1000, 2])\n",
            "100 torch.Size([100, 1000, 2])\n",
            "100 torch.Size([100, 1000, 2])\n",
            "100 torch.Size([100, 1000, 2])\n",
            "100 torch.Size([100, 1000, 2])\n",
            "100 torch.Size([100, 1000, 2])\n",
            "100 torch.Size([100, 1000, 2])\n",
            "100 torch.Size([100, 1000, 2])\n",
            "100 torch.Size([100, 1000, 2])\n",
            "100 torch.Size([100, 1000, 2])\n",
            "100 torch.Size([100, 1000, 2])\n",
            "100 torch.Size([100, 1000, 2])\n",
            "100 torch.Size([100, 1000, 2])\n",
            "100 torch.Size([100, 1000, 2])\n",
            "100 torch.Size([100, 1000, 2])\n",
            "100 torch.Size([100, 1000, 2])\n",
            "100 torch.Size([100, 1000, 2])\n",
            "100 torch.Size([100, 1000, 2])\n",
            "100 torch.Size([100, 1000, 2])\n",
            "100 torch.Size([100, 1000, 2])\n",
            "100 torch.Size([100, 1000, 2])\n",
            "100 torch.Size([100, 1000, 2])\n",
            "100 torch.Size([100, 1000, 2])\n",
            "100 torch.Size([100, 1000, 2])\n",
            "100 torch.Size([100, 1000, 2])\n",
            "100 torch.Size([100, 1000, 2])\n",
            "100 torch.Size([100, 1000, 2])\n",
            "100 torch.Size([100, 1000, 2])\n",
            "100 torch.Size([100, 1000, 2])\n",
            "100 torch.Size([100, 1000, 2])\n",
            "100 torch.Size([100, 1000, 2])\n",
            "100 torch.Size([100, 1000, 2])\n",
            "100 torch.Size([100, 1000, 2])\n",
            "100 torch.Size([100, 1000, 2])\n",
            "100 torch.Size([100, 1000, 2])\n",
            "100 torch.Size([100, 1000, 2])\n",
            "100 torch.Size([100, 1000, 2])\n",
            "100 torch.Size([100, 1000, 2])\n",
            "100 torch.Size([100, 1000, 2])\n",
            "100 torch.Size([100, 1000, 2])\n",
            "100 torch.Size([100, 1000, 2])\n",
            "100 torch.Size([100, 1000, 2])\n"
          ],
          "name": "stdout"
        },
        {
          "output_type": "display_data",
          "data": {
            "image/png": "[encoded data removed]",
            "text/plain": [
              "<Figure size 432x288 with 100 Axes>"
            ]
          },
          "metadata": {
            "tags": [],
            "needs_background": "light"
          }
        }
      ]
    },
    {
      "cell_type": "code",
      "metadata": {
        "id": "Sc-EDxB47gaq",
        "colab": {
          "base_uri": "https://localhost:8080/"
        },
        "outputId": "5164d03e-ef81-4f39-c4bb-c1e7bf858b0b"
      },
      "source": [
        "dataset[0:10][0].shape"
      ],
      "execution_count": 3,
      "outputs": [
        {
          "output_type": "execute_result",
          "data": {
            "text/plain": [
              "torch.Size([10, 3, 32, 32])"
            ]
          },
          "metadata": {
            "tags": []
          },
          "execution_count": 3
        }
      ]
    },
    {
      "cell_type": "code",
      "metadata": {
        "colab": {
          "base_uri": "https://localhost:8080/"
        },
        "id": "IUEcO58HTvV7",
        "outputId": "4663d093-1b58-4248-b9ff-420f2296794f"
      },
      "source": [
        "from torch.utils import data\n",
        "from torch.utils.data import DataLoader, TensorDataset, RandomSampler\n",
        "\n",
        "mini_batch = 64\n",
        "train_dataset = DonutDataset(length = 64*20)\n",
        "loader_train = data.DataLoader(\n",
        "    train_dataset, \n",
        "    batch_size=mini_batch,\n",
        "    sampler=RandomSampler(data_source=train_dataset),\n",
        "    num_workers=4)\n"
      ],
      "execution_count": 4,
      "outputs": [
        {
          "output_type": "stream",
          "text": [
            "x0_y0_r_xrf_yrf torch.Size([1280, 1]) torch.Size([1280, 1]) torch.Size([1280, 1000]) torch.Size([1, 1000]) torch.Size([1, 1000])\n"
          ],
          "name": "stdout"
        }
      ]
    },
    {
      "cell_type": "code",
      "metadata": {
        "id": "cFADigm-QpNF",
        "colab": {
          "base_uri": "https://localhost:8080/"
        },
        "outputId": "9e77b553-afd4-41b2-e3f8-08700295402a"
      },
      "source": [
        "!pip install vit-pytorch\n"
      ],
      "execution_count": 11,
      "outputs": [
        {
          "output_type": "stream",
          "text": [
            "Collecting vit-pytorch\n",
            "  Downloading vit_pytorch-0.20.2-py3-none-any.whl (35 kB)\n",
            "Requirement already satisfied: torch>=1.6 in /usr/local/lib/python3.7/dist-packages (from vit-pytorch) (1.9.0+cu102)\n",
            "Requirement already satisfied: torchvision in /usr/local/lib/python3.7/dist-packages (from vit-pytorch) (0.10.0+cu102)\n",
            "Collecting einops>=0.3\n",
            "  Downloading einops-0.3.0-py2.py3-none-any.whl (25 kB)\n",
            "Requirement already satisfied: typing-extensions in /usr/local/lib/python3.7/dist-packages (from torch>=1.6->vit-pytorch) (3.7.4.3)\n",
            "Requirement already satisfied: pillow>=5.3.0 in /usr/local/lib/python3.7/dist-packages (from torchvision->vit-pytorch) (7.1.2)\n",
            "Requirement already satisfied: numpy in /usr/local/lib/python3.7/dist-packages (from torchvision->vit-pytorch) (1.19.5)\n",
            "Installing collected packages: einops, vit-pytorch\n",
            "Successfully installed einops-0.3.0 vit-pytorch-0.20.2\n"
          ],
          "name": "stdout"
        }
      ]
    },
    {
      "cell_type": "code",
      "metadata": {
        "id": "d9VawN2O-fd1"
      },
      "source": [
        "import torch\n",
        "from vit_pytorch import ViT\n",
        "\n",
        "v = ViT(\n",
        "    image_size = 32,\n",
        "    patch_size = 4,\n",
        "    num_classes = 2000,\n",
        "    dim = 1024,\n",
        "    depth = 6,\n",
        "    heads = 16,\n",
        "    mlp_dim = 2048,\n",
        "    dropout = 0.1,\n",
        "    emb_dropout = 0.1\n",
        ")\n",
        "\n",
        "v = nn.Sequential(\n",
        "    v,\n",
        "    nn.Sigmoid()\n",
        ")\n",
        "\n",
        "img = torch.randn(100, 3, 32, 32)\n",
        "\n",
        "preds = v(img) # (1, 1000)\n"
      ],
      "execution_count": 14,
      "outputs": []
    },
    {
      "cell_type": "code",
      "metadata": {
        "colab": {
          "base_uri": "https://localhost:8080/"
        },
        "id": "c09Dhbbd_Cz9",
        "outputId": "b1d3741c-d6ba-4859-e330-c21ade2d9e9f"
      },
      "source": [
        "print(preds.shape)"
      ],
      "execution_count": 15,
      "outputs": [
        {
          "output_type": "stream",
          "text": [
            "torch.Size([100, 2000])\n"
          ],
          "name": "stdout"
        }
      ]
    },
    {
      "cell_type": "code",
      "metadata": {
        "id": "fgBlXQHMTHrV"
      },
      "source": [
        "\n",
        "#model = resnet18(pretrained=False,progress=True, num_classes = 2000).cuda()\n",
        "#model = wide_resnet101_2(pretrained=False,progress=True, num_classes = 2000).cuda()\n",
        "\n",
        "model = v.cuda()\n"
      ],
      "execution_count": 25,
      "outputs": []
    },
    {
      "cell_type": "code",
      "metadata": {
        "id": "ASrPqeg0W8Ju"
      },
      "source": [
        "\n",
        "#def mse_cnn(input, target):\n",
        " # out = model(input)\n",
        "  #out = out.reshape(target.shape)#64, 1000, 2\n",
        "  #print('mse_cnn',out.shape,target.shape)\n",
        "  \n",
        "  #return torch.mean((out-target)**2)\n",
        "  "
      ],
      "execution_count": 26,
      "outputs": []
    },
    {
      "cell_type": "code",
      "metadata": {
        "id": "pKLX0PtDAk7Y"
      },
      "source": [
        "\n",
        "def mse_vit(input, target):\n",
        "  out = model(input)\n",
        "  out = out.reshape(target.shape)#64, 1000, 2\n",
        "  out = out*32.0\n",
        "  #print('mse_cnn',out.shape,target.shape)\n",
        "  \n",
        "  return torch.mean((out-target)**2)\n",
        "  "
      ],
      "execution_count": 27,
      "outputs": []
    },
    {
      "cell_type": "code",
      "metadata": {
        "id": "PjwD7NMyrUvT"
      },
      "source": [
        "optimizer = torch.optim.Adam(model.parameters(),lr = 0.0001, betas = (.9,.999))#ideal\n"
      ],
      "execution_count": 28,
      "outputs": []
    },
    {
      "cell_type": "code",
      "metadata": {
        "colab": {
          "base_uri": "https://localhost:8080/",
          "height": 1000
        },
        "id": "R6kr5wvOVn3S",
        "outputId": "5f7fa23e-931e-469d-d0f1-1d0f513f6bac"
      },
      "source": [
        "for epoch in range(100):\n",
        "  for x,y in loader_train:\n",
        "    optimizer.zero_grad()\n",
        "    x = x.cuda()\n",
        "    y = y.cuda()\n",
        "    loss = mse_vit(x,y)\n",
        "    loss.backward()\n",
        "    optimizer.step()\n",
        "  print('epoch',epoch,'loss',loss)\n",
        "    #print(out.shape)\n",
        "  \n",
        "  "
      ],
      "execution_count": 29,
      "outputs": [
        {
          "output_type": "stream",
          "text": [
            "epoch 0 loss tensor(2.3311, device='cuda:0', grad_fn=<MeanBackward0>)\n",
            "epoch 1 loss tensor(1.6940, device='cuda:0', grad_fn=<MeanBackward0>)\n",
            "epoch 2 loss tensor(1.6830, device='cuda:0', grad_fn=<MeanBackward0>)\n",
            "epoch 3 loss tensor(1.6588, device='cuda:0', grad_fn=<MeanBackward0>)\n",
            "epoch 4 loss tensor(1.6129, device='cuda:0', grad_fn=<MeanBackward0>)\n",
            "epoch 5 loss tensor(1.4089, device='cuda:0', grad_fn=<MeanBackward0>)\n",
            "epoch 6 loss tensor(1.2251, device='cuda:0', grad_fn=<MeanBackward0>)\n",
            "epoch 7 loss tensor(1.3439, device='cuda:0', grad_fn=<MeanBackward0>)\n",
            "epoch 8 loss tensor(1.1820, device='cuda:0', grad_fn=<MeanBackward0>)\n",
            "epoch 9 loss tensor(1.2983, device='cuda:0', grad_fn=<MeanBackward0>)\n",
            "epoch 10 loss tensor(1.2985, device='cuda:0', grad_fn=<MeanBackward0>)\n",
            "epoch 11 loss tensor(1.1819, device='cuda:0', grad_fn=<MeanBackward0>)\n",
            "epoch 12 loss tensor(1.3634, device='cuda:0', grad_fn=<MeanBackward0>)\n",
            "epoch 13 loss tensor(1.2465, device='cuda:0', grad_fn=<MeanBackward0>)\n",
            "epoch 14 loss tensor(1.2595, device='cuda:0', grad_fn=<MeanBackward0>)\n",
            "epoch 15 loss tensor(1.2679, device='cuda:0', grad_fn=<MeanBackward0>)\n",
            "epoch 16 loss tensor(1.2172, device='cuda:0', grad_fn=<MeanBackward0>)\n",
            "epoch 17 loss tensor(1.2229, device='cuda:0', grad_fn=<MeanBackward0>)\n",
            "epoch 18 loss tensor(1.2510, device='cuda:0', grad_fn=<MeanBackward0>)\n",
            "epoch 19 loss tensor(1.1105, device='cuda:0', grad_fn=<MeanBackward0>)\n",
            "epoch 20 loss tensor(1.2349, device='cuda:0', grad_fn=<MeanBackward0>)\n",
            "epoch 21 loss tensor(1.1835, device='cuda:0', grad_fn=<MeanBackward0>)\n",
            "epoch 22 loss tensor(1.2251, device='cuda:0', grad_fn=<MeanBackward0>)\n",
            "epoch 23 loss tensor(1.0798, device='cuda:0', grad_fn=<MeanBackward0>)\n",
            "epoch 24 loss tensor(1.1374, device='cuda:0', grad_fn=<MeanBackward0>)\n",
            "epoch 25 loss tensor(1.1219, device='cuda:0', grad_fn=<MeanBackward0>)\n",
            "epoch 26 loss tensor(1.1104, device='cuda:0', grad_fn=<MeanBackward0>)\n",
            "epoch 27 loss tensor(1.0462, device='cuda:0', grad_fn=<MeanBackward0>)\n",
            "epoch 28 loss tensor(1.0629, device='cuda:0', grad_fn=<MeanBackward0>)\n",
            "epoch 29 loss tensor(0.9880, device='cuda:0', grad_fn=<MeanBackward0>)\n",
            "epoch 30 loss tensor(0.9236, device='cuda:0', grad_fn=<MeanBackward0>)\n",
            "epoch 31 loss tensor(0.9018, device='cuda:0', grad_fn=<MeanBackward0>)\n",
            "epoch 32 loss tensor(0.9225, device='cuda:0', grad_fn=<MeanBackward0>)\n",
            "epoch 33 loss tensor(0.9449, device='cuda:0', grad_fn=<MeanBackward0>)\n",
            "epoch 34 loss tensor(1.0787, device='cuda:0', grad_fn=<MeanBackward0>)\n",
            "epoch 35 loss tensor(0.9492, device='cuda:0', grad_fn=<MeanBackward0>)\n",
            "epoch 36 loss tensor(0.8223, device='cuda:0', grad_fn=<MeanBackward0>)\n",
            "epoch 37 loss tensor(0.8707, device='cuda:0', grad_fn=<MeanBackward0>)\n",
            "epoch 38 loss tensor(0.7864, device='cuda:0', grad_fn=<MeanBackward0>)\n",
            "epoch 39 loss tensor(0.7585, device='cuda:0', grad_fn=<MeanBackward0>)\n",
            "epoch 40 loss tensor(0.7726, device='cuda:0', grad_fn=<MeanBackward0>)\n",
            "epoch 41 loss tensor(0.7589, device='cuda:0', grad_fn=<MeanBackward0>)\n",
            "epoch 42 loss tensor(0.7579, device='cuda:0', grad_fn=<MeanBackward0>)\n",
            "epoch 43 loss tensor(0.7019, device='cuda:0', grad_fn=<MeanBackward0>)\n",
            "epoch 44 loss tensor(0.6383, device='cuda:0', grad_fn=<MeanBackward0>)\n",
            "epoch 45 loss tensor(0.6622, device='cuda:0', grad_fn=<MeanBackward0>)\n",
            "epoch 46 loss tensor(0.6433, device='cuda:0', grad_fn=<MeanBackward0>)\n",
            "epoch 47 loss tensor(0.6441, device='cuda:0', grad_fn=<MeanBackward0>)\n",
            "epoch 48 loss tensor(0.5537, device='cuda:0', grad_fn=<MeanBackward0>)\n",
            "epoch 49 loss tensor(0.5930, device='cuda:0', grad_fn=<MeanBackward0>)\n",
            "epoch 50 loss tensor(0.5573, device='cuda:0', grad_fn=<MeanBackward0>)\n",
            "epoch 51 loss tensor(0.6101, device='cuda:0', grad_fn=<MeanBackward0>)\n",
            "epoch 52 loss tensor(0.5501, device='cuda:0', grad_fn=<MeanBackward0>)\n",
            "epoch 53 loss tensor(0.5636, device='cuda:0', grad_fn=<MeanBackward0>)\n",
            "epoch 54 loss tensor(0.5840, device='cuda:0', grad_fn=<MeanBackward0>)\n",
            "epoch 55 loss tensor(0.5548, device='cuda:0', grad_fn=<MeanBackward0>)\n",
            "epoch 56 loss tensor(0.4815, device='cuda:0', grad_fn=<MeanBackward0>)\n"
          ],
          "name": "stdout"
        },
        {
          "output_type": "error",
          "ename": "KeyboardInterrupt",
          "evalue": "ignored",
          "traceback": [
            "\u001b[0;31m---------------------------------------------------------------------------\u001b[0m",
            "\u001b[0;31mKeyboardInterrupt\u001b[0m                         Traceback (most recent call last)",
            "\u001b[0;32m<ipython-input-29-cc3e7a91b12c>\u001b[0m in \u001b[0;36m<module>\u001b[0;34m()\u001b[0m\n\u001b[1;32m      1\u001b[0m \u001b[0;32mfor\u001b[0m \u001b[0mepoch\u001b[0m \u001b[0;32min\u001b[0m \u001b[0mrange\u001b[0m\u001b[0;34m(\u001b[0m\u001b[0;36m100\u001b[0m\u001b[0;34m)\u001b[0m\u001b[0;34m:\u001b[0m\u001b[0;34m\u001b[0m\u001b[0;34m\u001b[0m\u001b[0m\n\u001b[1;32m      2\u001b[0m   \u001b[0;32mfor\u001b[0m \u001b[0mx\u001b[0m\u001b[0;34m,\u001b[0m\u001b[0my\u001b[0m \u001b[0;32min\u001b[0m \u001b[0mloader_train\u001b[0m\u001b[0;34m:\u001b[0m\u001b[0;34m\u001b[0m\u001b[0;34m\u001b[0m\u001b[0m\n\u001b[0;32m----> 3\u001b[0;31m     \u001b[0moptimizer\u001b[0m\u001b[0;34m.\u001b[0m\u001b[0mzero_grad\u001b[0m\u001b[0;34m(\u001b[0m\u001b[0;34m)\u001b[0m\u001b[0;34m\u001b[0m\u001b[0;34m\u001b[0m\u001b[0m\n\u001b[0m\u001b[1;32m      4\u001b[0m     \u001b[0mx\u001b[0m \u001b[0;34m=\u001b[0m \u001b[0mx\u001b[0m\u001b[0;34m.\u001b[0m\u001b[0mcuda\u001b[0m\u001b[0;34m(\u001b[0m\u001b[0;34m)\u001b[0m\u001b[0;34m\u001b[0m\u001b[0;34m\u001b[0m\u001b[0m\n\u001b[1;32m      5\u001b[0m     \u001b[0my\u001b[0m \u001b[0;34m=\u001b[0m \u001b[0my\u001b[0m\u001b[0;34m.\u001b[0m\u001b[0mcuda\u001b[0m\u001b[0;34m(\u001b[0m\u001b[0;34m)\u001b[0m\u001b[0;34m\u001b[0m\u001b[0;34m\u001b[0m\u001b[0m\n",
            "\u001b[0;32m/usr/local/lib/python3.7/dist-packages/torch/optim/optimizer.py\u001b[0m in \u001b[0;36mzero_grad\u001b[0;34m(self, set_to_none)\u001b[0m\n\u001b[1;32m    214\u001b[0m                             \u001b[0;32melse\u001b[0m\u001b[0;34m:\u001b[0m\u001b[0;34m\u001b[0m\u001b[0;34m\u001b[0m\u001b[0m\n\u001b[1;32m    215\u001b[0m                                 \u001b[0mp\u001b[0m\u001b[0;34m.\u001b[0m\u001b[0mgrad\u001b[0m\u001b[0;34m.\u001b[0m\u001b[0mrequires_grad_\u001b[0m\u001b[0;34m(\u001b[0m\u001b[0;32mFalse\u001b[0m\u001b[0;34m)\u001b[0m\u001b[0;34m\u001b[0m\u001b[0;34m\u001b[0m\u001b[0m\n\u001b[0;32m--> 216\u001b[0;31m                             \u001b[0mp\u001b[0m\u001b[0;34m.\u001b[0m\u001b[0mgrad\u001b[0m\u001b[0;34m.\u001b[0m\u001b[0mzero_\u001b[0m\u001b[0;34m(\u001b[0m\u001b[0;34m)\u001b[0m\u001b[0;34m\u001b[0m\u001b[0;34m\u001b[0m\u001b[0m\n\u001b[0m\u001b[1;32m    217\u001b[0m \u001b[0;34m\u001b[0m\u001b[0m\n\u001b[1;32m    218\u001b[0m     \u001b[0;32mdef\u001b[0m \u001b[0mstep\u001b[0m\u001b[0;34m(\u001b[0m\u001b[0mself\u001b[0m\u001b[0;34m,\u001b[0m \u001b[0mclosure\u001b[0m\u001b[0;34m)\u001b[0m\u001b[0;34m:\u001b[0m\u001b[0;34m\u001b[0m\u001b[0;34m\u001b[0m\u001b[0m\n",
            "\u001b[0;31mKeyboardInterrupt\u001b[0m: "
          ]
        }
      ]
    },
    {
      "cell_type": "code",
      "metadata": {
        "id": "UZ8Q0NZijufn"
      },
      "source": [
        "optimizer = torch.optim.Adam(model.parameters(),lr = 0.00001, betas = (.9,.999))#ideal\n"
      ],
      "execution_count": null,
      "outputs": []
    },
    {
      "cell_type": "code",
      "metadata": {
        "id": "uN5vSMvas0zG"
      },
      "source": [
        "for epoch in range(200):\n",
        "  for x,y in loader_train:\n",
        "    optimizer.zero_grad()\n",
        "    x = x.cuda()\n",
        "    y = y.cuda()\n",
        "    loss = mse_cnn(x,y)\n",
        "    loss.backward()\n",
        "    optimizer.step()\n",
        "  print('epoch',epoch,'loss',loss)\n",
        "    #print(out.shape)\n",
        "  \n",
        "  "
      ],
      "execution_count": null,
      "outputs": []
    },
    {
      "cell_type": "code",
      "metadata": {
        "id": "fLpe0a2Q_rH7"
      },
      "source": [
        "optimizer = torch.optim.Adam(model.parameters(),lr = 0.000001, betas = (.9,.999))#ideal\n"
      ],
      "execution_count": null,
      "outputs": []
    },
    {
      "cell_type": "code",
      "metadata": {
        "id": "OgAVwY26_rYX"
      },
      "source": [
        "for epoch in range(100):\n",
        "  for x,y in loader_train:\n",
        "    optimizer.zero_grad()\n",
        "    x = x.cuda()\n",
        "    y = y.cuda()\n",
        "    loss = mse_cnn(x,y)\n",
        "    loss.backward()\n",
        "    optimizer.step()\n",
        "  print('epoch',epoch,'loss',loss)\n",
        "  \n",
        "    #print(out.shape)\n",
        "  \n",
        "  "
      ],
      "execution_count": null,
      "outputs": []
    },
    {
      "cell_type": "code",
      "metadata": {
        "id": "GWdFizPB5D0k"
      },
      "source": [
        "model = model.eval()\n",
        "#dataset = DonutDataset(length = 100)\n",
        "DonutDataset.displayCanvas('cnn-resn18-mod-2WFCL.png',train_dataset, model = model)\n"
      ],
      "execution_count": null,
      "outputs": []
    },
    {
      "cell_type": "code",
      "metadata": {
        "id": "WZU4xWyYs34O",
        "colab": {
          "base_uri": "https://localhost:8080/"
        },
        "outputId": "6ac4b8f1-000b-4649-963d-ecabde426451"
      },
      "source": [
        "from torch.utils import data\n",
        "from torch.utils.data import DataLoader, TensorDataset, RandomSampler\n",
        "\n",
        "mini_batch = 64\n",
        "dataset = DonutDataset(length = 100)\n",
        "loader_test = data.DataLoader(\n",
        "    dataset, \n",
        "    batch_size=mini_batch,\n",
        "    sampler=RandomSampler(data_source=dataset),\n",
        "    num_workers=4)\n"
      ],
      "execution_count": 35,
      "outputs": [
        {
          "output_type": "stream",
          "text": [
            "x0_y0_r_xrf_yrf torch.Size([100, 1]) torch.Size([100, 1]) torch.Size([100, 1000]) torch.Size([1, 1000]) torch.Size([1, 1000])\n"
          ],
          "name": "stdout"
        }
      ]
    },
    {
      "cell_type": "code",
      "metadata": {
        "colab": {
          "base_uri": "https://localhost:8080/"
        },
        "id": "rkwQbHHc9NhB",
        "outputId": "11273ff3-ebdb-4c73-aa49-3390048ff410"
      },
      "source": [
        "#model = model.eval()\n",
        "for x,y in loader_test:\n",
        "  x = x.cuda()\n",
        "  y = y.cuda()\n",
        "  loss = mse_vit(x,y)\n",
        "  print('validation loss',loss)\n",
        "  break\n",
        "  "
      ],
      "execution_count": 36,
      "outputs": [
        {
          "output_type": "stream",
          "text": [
            "validation loss tensor(0.2976, device='cuda:0', grad_fn=<MeanBackward0>)\n"
          ],
          "name": "stdout"
        }
      ]
    },
    {
      "cell_type": "markdown",
      "metadata": {
        "id": "4R4fKjUZB_14"
      },
      "source": [
        "need to avoid overfitting\n",
        "https://discuss.pytorch.org/t/inject-dropout-into-resnet-or-any-other-network/66322/2"
      ]
    },
    {
      "cell_type": "code",
      "metadata": {
        "colab": {
          "base_uri": "https://localhost:8080/",
          "height": 332
        },
        "id": "eJ1wE8D0CBKG",
        "outputId": "fc5108b5-d614-40b7-ba67-0dda3b89af2d"
      },
      "source": [
        "#model = model.eval()\n",
        "#dataset = DonutDataset(length = 100)\n",
        "DonutDataset.displayCanvas('cnn-resn18-mod-2WFCL.png',loader_test, model = model)\n"
      ],
      "execution_count": 40,
      "outputs": [
        {
          "output_type": "error",
          "ename": "TypeError",
          "evalue": "ignored",
          "traceback": [
            "\u001b[0;31m---------------------------------------------------------------------------\u001b[0m",
            "\u001b[0;31mTypeError\u001b[0m                                 Traceback (most recent call last)",
            "\u001b[0;32m<ipython-input-40-818b9b62e868>\u001b[0m in \u001b[0;36m<module>\u001b[0;34m()\u001b[0m\n\u001b[1;32m      1\u001b[0m \u001b[0;31m#model = model.eval()\u001b[0m\u001b[0;34m\u001b[0m\u001b[0;34m\u001b[0m\u001b[0;34m\u001b[0m\u001b[0m\n\u001b[1;32m      2\u001b[0m \u001b[0;31m#dataset = DonutDataset(length = 100)\u001b[0m\u001b[0;34m\u001b[0m\u001b[0;34m\u001b[0m\u001b[0;34m\u001b[0m\u001b[0m\n\u001b[0;32m----> 3\u001b[0;31m \u001b[0mDonutDataset\u001b[0m\u001b[0;34m.\u001b[0m\u001b[0mdisplayCanvas\u001b[0m\u001b[0;34m(\u001b[0m\u001b[0;34m'cnn-resn18-mod-2WFCL.png'\u001b[0m\u001b[0;34m,\u001b[0m\u001b[0mloader_test\u001b[0m\u001b[0;34m,\u001b[0m \u001b[0mmodel\u001b[0m \u001b[0;34m=\u001b[0m \u001b[0mmodel\u001b[0m\u001b[0;34m)\u001b[0m\u001b[0;34m\u001b[0m\u001b[0;34m\u001b[0m\u001b[0m\n\u001b[0m",
            "\u001b[0;32m<ipython-input-38-ec33e1a4ad3b>\u001b[0m in \u001b[0;36mdisplayCanvas\u001b[0;34m(title, dataset, model)\u001b[0m\n\u001b[1;32m    170\u001b[0m     \u001b[0;32mdef\u001b[0m \u001b[0mdisplayCanvas\u001b[0m\u001b[0;34m(\u001b[0m\u001b[0mtitle\u001b[0m\u001b[0;34m,\u001b[0m\u001b[0mdataset\u001b[0m\u001b[0;34m,\u001b[0m \u001b[0mmodel\u001b[0m\u001b[0;34m)\u001b[0m\u001b[0;34m:\u001b[0m\u001b[0;34m\u001b[0m\u001b[0;34m\u001b[0m\u001b[0m\n\u001b[1;32m    171\u001b[0m         \u001b[0;31m#model.setBatchSize(batch_size = 1)\u001b[0m\u001b[0;34m\u001b[0m\u001b[0;34m\u001b[0m\u001b[0;34m\u001b[0m\u001b[0m\n\u001b[0;32m--> 172\u001b[0;31m         \u001b[0msample\u001b[0m\u001b[0;34m,\u001b[0m \u001b[0mlabels\u001b[0m \u001b[0;34m=\u001b[0m \u001b[0mdataset\u001b[0m\u001b[0;34m[\u001b[0m\u001b[0;36m0\u001b[0m\u001b[0;34m:\u001b[0m\u001b[0;36m100\u001b[0m\u001b[0;34m]\u001b[0m\u001b[0;34m\u001b[0m\u001b[0;34m\u001b[0m\u001b[0m\n\u001b[0m\u001b[1;32m    173\u001b[0m         \u001b[0;32mfor\u001b[0m \u001b[0mi\u001b[0m \u001b[0;32min\u001b[0m \u001b[0mrange\u001b[0m\u001b[0;34m(\u001b[0m\u001b[0;36m100\u001b[0m\u001b[0;34m)\u001b[0m\u001b[0;34m:\u001b[0m\u001b[0;34m\u001b[0m\u001b[0;34m\u001b[0m\u001b[0m\n\u001b[1;32m    174\u001b[0m           \u001b[0mplt\u001b[0m\u001b[0;34m.\u001b[0m\u001b[0msubplot\u001b[0m\u001b[0;34m(\u001b[0m\u001b[0;36m10\u001b[0m\u001b[0;34m,\u001b[0m\u001b[0;36m10\u001b[0m\u001b[0;34m,\u001b[0m\u001b[0mi\u001b[0m\u001b[0;34m+\u001b[0m\u001b[0;36m1\u001b[0m\u001b[0;34m)\u001b[0m\u001b[0;34m\u001b[0m\u001b[0;34m\u001b[0m\u001b[0m\n",
            "\u001b[0;31mTypeError\u001b[0m: 'DataLoader' object is not subscriptable"
          ]
        }
      ]
    },
    {
      "cell_type": "code",
      "metadata": {
        "id": "H9WfjZ9EdnOT"
      },
      "source": [
        ""
      ],
      "execution_count": null,
      "outputs": []
    }
  ]
}