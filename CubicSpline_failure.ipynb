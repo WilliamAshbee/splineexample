{
  "nbformat": 4,
  "nbformat_minor": 0,
  "metadata": {
    "colab": {
      "name": "CubicSpline-failure.ipynb",
      "provenance": [],
      "collapsed_sections": [],
      "authorship_tag": "ABX9TyMrgGvDuK5Od5GO2DyJciZ3",
      "include_colab_link": true
    },
    "kernelspec": {
      "name": "python3",
      "display_name": "Python 3"
    }
  },
  "cells": [
    {
      "cell_type": "markdown",
      "metadata": {
        "id": "view-in-github",
        "colab_type": "text"
      },
      "source": [
        "<a href=\"https://colab.research.google.com/github/WilliamAshbee/splineexample/blob/main/CubicSpline_failure.ipynb\" target=\"_parent\"><img src=\"https://colab.research.google.com/assets/colab-badge.svg\" alt=\"Open In Colab\"/></a>"
      ]
    },
    {
      "cell_type": "code",
      "metadata": {
        "colab": {
          "base_uri": "https://localhost:8080/"
        },
        "id": "3Hcw_WBcJfIK",
        "outputId": "24b98904-ab26-4163-a95c-d30f7333ded8"
      },
      "source": [
        "pip install git+https://github.com/patrick-kidger/torchcubicspline.git\r\n"
      ],
      "execution_count": 1,
      "outputs": [
        {
          "output_type": "stream",
          "text": [
            "Collecting git+https://github.com/patrick-kidger/torchcubicspline.git\n",
            "  Cloning https://github.com/patrick-kidger/torchcubicspline.git to /tmp/pip-req-build-k0ojodzt\n",
            "  Running command git clone -q https://github.com/patrick-kidger/torchcubicspline.git /tmp/pip-req-build-k0ojodzt\n",
            "Requirement already satisfied: torch>=1.0.0 in /usr/local/lib/python3.6/dist-packages (from torchcubicspline==0.0.2) (1.7.0+cu101)\n",
            "Requirement already satisfied: typing-extensions in /usr/local/lib/python3.6/dist-packages (from torch>=1.0.0->torchcubicspline==0.0.2) (3.7.4.3)\n",
            "Requirement already satisfied: numpy in /usr/local/lib/python3.6/dist-packages (from torch>=1.0.0->torchcubicspline==0.0.2) (1.19.5)\n",
            "Requirement already satisfied: dataclasses in /usr/local/lib/python3.6/dist-packages (from torch>=1.0.0->torchcubicspline==0.0.2) (0.8)\n",
            "Requirement already satisfied: future in /usr/local/lib/python3.6/dist-packages (from torch>=1.0.0->torchcubicspline==0.0.2) (0.16.0)\n",
            "Building wheels for collected packages: torchcubicspline\n",
            "  Building wheel for torchcubicspline (setup.py) ... \u001b[?25l\u001b[?25hdone\n",
            "  Created wheel for torchcubicspline: filename=torchcubicspline-0.0.2-cp36-none-any.whl size=12441 sha256=332c47178cfe563a7ff103e013b7a72e8142ca83d9392bd7587b15a45a1e2316\n",
            "  Stored in directory: /tmp/pip-ephem-wheel-cache-n_ywihro/wheels/c5/49/e6/a57d243e35e46b1bbb7abdad669099438dee56d72bd3d6fe43\n",
            "Successfully built torchcubicspline\n",
            "Installing collected packages: torchcubicspline\n",
            "Successfully installed torchcubicspline-0.0.2\n"
          ],
          "name": "stdout"
        }
      ]
    },
    {
      "cell_type": "code",
      "metadata": {
        "id": "0DsrZ1zJJi3G"
      },
      "source": [
        "import torch\r\n",
        "from torchcubicspline import(natural_cubic_spline_coeffs, \r\n",
        "                             NaturalCubicSpline)\r\n",
        "import math\r\n",
        "\r\n",
        "length, channels = 20, 2\r\n",
        "t = torch.linspace(0, math.pi*2.0, length)\r\n",
        "x = torch.zeros(length, channels)\r\n",
        "x[:,0] = t.sin()\r\n",
        "x[:,1] = t.cos()\r\n",
        "t = torch.linspace(0.0, 1.0, length)\r\n",
        "\r\n",
        "coeffs = natural_cubic_spline_coeffs(t, x)\r\n",
        "spline = NaturalCubicSpline(coeffs)\r\n",
        "#point = torch.tensor(0.4)\r\n",
        "points = torch.linspace(0, 1, 50)\r\n",
        "out = spline.evaluate(points)\r\n"
      ],
      "execution_count": 43,
      "outputs": []
    },
    {
      "cell_type": "code",
      "metadata": {
        "colab": {
          "base_uri": "https://localhost:8080/"
        },
        "id": "AwJPkMv6JrOW",
        "outputId": "6d266c36-a990-401b-c032-6c300b7f4390"
      },
      "source": [
        "out"
      ],
      "execution_count": 44,
      "outputs": [
        {
          "output_type": "execute_result",
          "data": {
            "text/plain": [
              "tensor([[ 0.0000e+00,  1.0000e+00],\n",
              "        [ 1.2787e-01,  9.8635e-01],\n",
              "        [ 2.5365e-01,  9.6488e-01],\n",
              "        [ 3.7526e-01,  9.2794e-01],\n",
              "        [ 4.9070e-01,  8.7255e-01],\n",
              "        [ 5.9811e-01,  8.0156e-01],\n",
              "        [ 6.9566e-01,  7.1795e-01],\n",
              "        [ 7.8182e-01,  6.2325e-01],\n",
              "        [ 8.5514e-01,  5.1844e-01],\n",
              "        [ 9.1438e-01,  4.0487e-01],\n",
              "        [ 9.5866e-01,  2.8455e-01],\n",
              "        [ 9.8716e-01,  1.5957e-01],\n",
              "        [ 9.9946e-01,  3.2029e-02],\n",
              "        [ 9.9538e-01, -9.6020e-02],\n",
              "        [ 9.7490e-01, -2.2251e-01],\n",
              "        [ 9.3846e-01, -3.4536e-01],\n",
              "        [ 8.8659e-01, -4.6253e-01],\n",
              "        [ 8.2015e-01, -5.7210e-01],\n",
              "        [ 7.4028e-01, -6.7230e-01],\n",
              "        [ 6.4821e-01, -7.6142e-01],\n",
              "        [ 5.4552e-01, -8.3807e-01],\n",
              "        [ 4.3388e-01, -9.0096e-01],\n",
              "        [ 3.1510e-01, -9.4903e-01],\n",
              "        [ 1.9116e-01, -9.8156e-01],\n",
              "        [ 6.4072e-02, -9.9792e-01],\n",
              "        [-6.4072e-02, -9.9792e-01],\n",
              "        [-1.9116e-01, -9.8156e-01],\n",
              "        [-3.1510e-01, -9.4903e-01],\n",
              "        [-4.3388e-01, -9.0096e-01],\n",
              "        [-5.4552e-01, -8.3807e-01],\n",
              "        [-6.4821e-01, -7.6142e-01],\n",
              "        [-7.4028e-01, -6.7230e-01],\n",
              "        [-8.2015e-01, -5.7210e-01],\n",
              "        [-8.8659e-01, -4.6253e-01],\n",
              "        [-9.3846e-01, -3.4536e-01],\n",
              "        [-9.7490e-01, -2.2251e-01],\n",
              "        [-9.9538e-01, -9.6020e-02],\n",
              "        [-9.9946e-01,  3.2029e-02],\n",
              "        [-9.8716e-01,  1.5957e-01],\n",
              "        [-9.5866e-01,  2.8455e-01],\n",
              "        [-9.1438e-01,  4.0487e-01],\n",
              "        [-8.5514e-01,  5.1844e-01],\n",
              "        [-7.8182e-01,  6.2325e-01],\n",
              "        [-6.9566e-01,  7.1795e-01],\n",
              "        [-5.9811e-01,  8.0157e-01],\n",
              "        [-4.9070e-01,  8.7255e-01],\n",
              "        [-3.7526e-01,  9.2794e-01],\n",
              "        [-2.5365e-01,  9.6488e-01],\n",
              "        [-1.2787e-01,  9.8635e-01],\n",
              "        [ 1.4901e-07,  1.0000e+00]])"
            ]
          },
          "metadata": {
            "tags": []
          },
          "execution_count": 44
        }
      ]
    },
    {
      "cell_type": "code",
      "metadata": {
        "colab": {
          "base_uri": "https://localhost:8080/",
          "height": 265
        },
        "id": "LXHZ4P2dWR8E",
        "outputId": "122f0db2-f6b2-4fe2-b7f1-8c804e30ff3a"
      },
      "source": [
        "import matplotlib.pylab as P\r\n",
        "P.scatter(x[:,0], x[:,1], label='Samples', color='purple')\r\n",
        "P.plot(out[:,0], out[:,1], label='Interpolated curve')\r\n",
        "#P.plot(xs, xs.sin(), '--', label='True Curve')\r\n",
        "#P.plot(xs, Ys, label='Spline Integral')\r\n",
        "#P.plot(xs, 1-xs.cos(), '--', label='True Integral')\r\n",
        "P.legend()\r\n",
        "P.show()"
      ],
      "execution_count": 45,
      "outputs": [
        {
          "output_type": "display_data",
          "data": {
            "image/png": "[encoded data removed]",
            "text/plain": [
              "<Figure size 432x288 with 1 Axes>"
            ]
          },
          "metadata": {
            "tags": [],
            "needs_background": "light"
          }
        }
      ]
    },
    {
      "cell_type": "code",
      "metadata": {
        "id": "K1Y4OthPbg4j"
      },
      "source": [
        "import torch.nn as nn\r\n",
        "class MLP(nn.Module):\r\n",
        "    def __init__(self,outclass = 101):\r\n",
        "        super(MLP, self).__init__()\r\n",
        "        self.layers = nn.Sequential(\r\n",
        "            nn.Linear(40, 40),\r\n",
        "            nn.ReLU(),\r\n",
        "            nn.Linear(40, 40),\r\n",
        "            nn.ReLU(),\r\n",
        "            nn.Linear(40, 40),\r\n",
        "            nn.ReLU(),\r\n",
        "            nn.Linear(40, outclass),\r\n",
        "            nn.Tanh()\r\n",
        "        )\r\n",
        "        \r\n",
        "    def forward(self, x):\r\n",
        "        # convert tensor (128, 1, 28, 28) --> (128, 1*28*28)\r\n",
        "        x = self.layers(x)\r\n",
        "        x=x*5.0\r\n",
        "        return x\r\n"
      ],
      "execution_count": 53,
      "outputs": []
    },
    {
      "cell_type": "code",
      "metadata": {
        "colab": {
          "base_uri": "https://localhost:8080/"
        },
        "id": "0vRP6zkrfg52",
        "outputId": "1bfa32de-3603-4438-9038-1870b4e2b574"
      },
      "source": [
        "import torch as T\r\n",
        "oc = 40\r\n",
        "model = MLP(outclass=oc)\r\n",
        "optimizer = T.optim.Adam(model.parameters(), lr=.00001)\r\n",
        "x = T.linspace(0, 30, 25)\r\n",
        "xs = T.linspace(0, 30, 100)\r\n",
        "xoc = T.linspace(0, 30, oc)\r\n",
        "print(xoc.shape)\r\n"
      ],
      "execution_count": 68,
      "outputs": [
        {
          "output_type": "stream",
          "text": [
            "torch.Size([40])\n"
          ],
          "name": "stdout"
        }
      ]
    },
    {
      "cell_type": "code",
      "metadata": {
        "colab": {
          "base_uri": "https://localhost:8080/",
          "height": 367
        },
        "id": "g1PwbQuMgQsf",
        "outputId": "1cdd5da6-b07f-4af5-adb1-9724ed9e1f32"
      },
      "source": [
        "length, channels = 20, 2\r\n",
        "for i in range(1000):\r\n",
        "  t = torch.linspace(0, math.pi*2.0, length)\r\n",
        "  x = torch.zeros(length, channels)\r\n",
        "  x[:,0] = t.sin()\r\n",
        "  x[:,1] = t.cos()\r\n",
        "  t = torch.linspace(0.0, 1.0, length)\r\n",
        "\r\n",
        "  gtcoeffs = natural_cubic_spline_coeffs(t, x)\r\n",
        "  gtspline = NaturalCubicSpline(coeffs)\r\n",
        "  #point = torch.tensor(0.4)\r\n",
        "  gtpoints = torch.linspace(0, 1, 50)\r\n",
        "  gtout = spline.evaluate(points)\r\n",
        "  x = x.flatten()\r\n",
        "  pout = model(x)\r\n",
        "  pout = pout.reshape(20,-1)\r\n",
        "  t = torch.linspace(0, math.pi*2.0, length)\r\n",
        "  pcoeffs = natural_cubic_spline_coeffs(t, pout)\r\n",
        "  pspline = NaturalCubicSpline(pcoeffs)\r\n",
        "  ppoints = torch.linspace(0, 1, 50)\r\n",
        "  pout = spline.evaluate(points)\r\n",
        "  gtout.requires_grad = False\r\n",
        "  loss = torch.mean((gtout-pout)**2)\r\n",
        "  loss.backward()\r\n",
        "  optimizer.step()\r\n"
      ],
      "execution_count": 70,
      "outputs": [
        {
          "output_type": "error",
          "ename": "RuntimeError",
          "evalue": "ignored",
          "traceback": [
            "\u001b[0;31m---------------------------------------------------------------------------\u001b[0m",
            "\u001b[0;31mRuntimeError\u001b[0m                              Traceback (most recent call last)",
            "\u001b[0;32m<ipython-input-70-9c1f08bc70c9>\u001b[0m in \u001b[0;36m<module>\u001b[0;34m()\u001b[0m\n\u001b[1;32m     22\u001b[0m   \u001b[0mgtout\u001b[0m\u001b[0;34m.\u001b[0m\u001b[0mrequires_grad\u001b[0m \u001b[0;34m=\u001b[0m \u001b[0;32mFalse\u001b[0m\u001b[0;34m\u001b[0m\u001b[0;34m\u001b[0m\u001b[0m\n\u001b[1;32m     23\u001b[0m   \u001b[0mloss\u001b[0m \u001b[0;34m=\u001b[0m \u001b[0mtorch\u001b[0m\u001b[0;34m.\u001b[0m\u001b[0mmean\u001b[0m\u001b[0;34m(\u001b[0m\u001b[0;34m(\u001b[0m\u001b[0;36m1.0\u001b[0m\u001b[0;34m-\u001b[0m\u001b[0mpout\u001b[0m\u001b[0;34m)\u001b[0m\u001b[0;34m**\u001b[0m\u001b[0;36m2\u001b[0m\u001b[0;34m)\u001b[0m\u001b[0;34m\u001b[0m\u001b[0;34m\u001b[0m\u001b[0m\n\u001b[0;32m---> 24\u001b[0;31m   \u001b[0mloss\u001b[0m\u001b[0;34m.\u001b[0m\u001b[0mbackward\u001b[0m\u001b[0;34m(\u001b[0m\u001b[0;34m)\u001b[0m\u001b[0;34m\u001b[0m\u001b[0;34m\u001b[0m\u001b[0m\n\u001b[0m\u001b[1;32m     25\u001b[0m   \u001b[0moptimizer\u001b[0m\u001b[0;34m.\u001b[0m\u001b[0mstep\u001b[0m\u001b[0;34m(\u001b[0m\u001b[0;34m)\u001b[0m\u001b[0;34m\u001b[0m\u001b[0;34m\u001b[0m\u001b[0m\n",
            "\u001b[0;32m/usr/local/lib/python3.6/dist-packages/torch/tensor.py\u001b[0m in \u001b[0;36mbackward\u001b[0;34m(self, gradient, retain_graph, create_graph)\u001b[0m\n\u001b[1;32m    219\u001b[0m                 \u001b[0mretain_graph\u001b[0m\u001b[0;34m=\u001b[0m\u001b[0mretain_graph\u001b[0m\u001b[0;34m,\u001b[0m\u001b[0;34m\u001b[0m\u001b[0;34m\u001b[0m\u001b[0m\n\u001b[1;32m    220\u001b[0m                 create_graph=create_graph)\n\u001b[0;32m--> 221\u001b[0;31m         \u001b[0mtorch\u001b[0m\u001b[0;34m.\u001b[0m\u001b[0mautograd\u001b[0m\u001b[0;34m.\u001b[0m\u001b[0mbackward\u001b[0m\u001b[0;34m(\u001b[0m\u001b[0mself\u001b[0m\u001b[0;34m,\u001b[0m \u001b[0mgradient\u001b[0m\u001b[0;34m,\u001b[0m \u001b[0mretain_graph\u001b[0m\u001b[0;34m,\u001b[0m \u001b[0mcreate_graph\u001b[0m\u001b[0;34m)\u001b[0m\u001b[0;34m\u001b[0m\u001b[0;34m\u001b[0m\u001b[0m\n\u001b[0m\u001b[1;32m    222\u001b[0m \u001b[0;34m\u001b[0m\u001b[0m\n\u001b[1;32m    223\u001b[0m     \u001b[0;32mdef\u001b[0m \u001b[0mregister_hook\u001b[0m\u001b[0;34m(\u001b[0m\u001b[0mself\u001b[0m\u001b[0;34m,\u001b[0m \u001b[0mhook\u001b[0m\u001b[0;34m)\u001b[0m\u001b[0;34m:\u001b[0m\u001b[0;34m\u001b[0m\u001b[0;34m\u001b[0m\u001b[0m\n",
            "\u001b[0;32m/usr/local/lib/python3.6/dist-packages/torch/autograd/__init__.py\u001b[0m in \u001b[0;36mbackward\u001b[0;34m(tensors, grad_tensors, retain_graph, create_graph, grad_variables)\u001b[0m\n\u001b[1;32m    130\u001b[0m     Variable._execution_engine.run_backward(\n\u001b[1;32m    131\u001b[0m         \u001b[0mtensors\u001b[0m\u001b[0;34m,\u001b[0m \u001b[0mgrad_tensors_\u001b[0m\u001b[0;34m,\u001b[0m \u001b[0mretain_graph\u001b[0m\u001b[0;34m,\u001b[0m \u001b[0mcreate_graph\u001b[0m\u001b[0;34m,\u001b[0m\u001b[0;34m\u001b[0m\u001b[0;34m\u001b[0m\u001b[0m\n\u001b[0;32m--> 132\u001b[0;31m         allow_unreachable=True)  # allow_unreachable flag\n\u001b[0m\u001b[1;32m    133\u001b[0m \u001b[0;34m\u001b[0m\u001b[0m\n\u001b[1;32m    134\u001b[0m \u001b[0;34m\u001b[0m\u001b[0m\n",
            "\u001b[0;31mRuntimeError\u001b[0m: element 0 of tensors does not require grad and does not have a grad_fn"
          ]
        }
      ]
    },
    {
      "cell_type": "code",
      "metadata": {
        "colab": {
          "base_uri": "https://localhost:8080/"
        },
        "id": "KItwToKhjXMm",
        "outputId": "b791ef9a-32dd-4462-aba5-56e4a126c5ba"
      },
      "source": [
        "print(pout.shape)\r\n"
      ],
      "execution_count": 60,
      "outputs": [
        {
          "output_type": "stream",
          "text": [
            "torch.Size([2, 20])\n"
          ],
          "name": "stdout"
        }
      ]
    },
    {
      "cell_type": "code",
      "metadata": {
        "id": "0Z3P_eCrj_rD"
      },
      "source": [
        ""
      ],
      "execution_count": null,
      "outputs": []
    }
  ]
}