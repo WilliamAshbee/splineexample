{
  "nbformat": 4,
  "nbformat_minor": 0,
  "metadata": {
    "colab": {
      "name": "figure8.ipynb",
      "provenance": [],
      "collapsed_sections": [],
      "authorship_tag": "ABX9TyOWET3Jce0X8I6SWF2F8+QL",
      "include_colab_link": true
    },
    "kernelspec": {
      "name": "python3",
      "display_name": "Python 3"
    },
    "accelerator": "GPU"
  },
  "cells": [
    {
      "cell_type": "markdown",
      "metadata": {
        "id": "view-in-github",
        "colab_type": "text"
      },
      "source": [
        "<a href=\"https://colab.research.google.com/github/WilliamAshbee/splineexample/blob/main/figure8.ipynb\" target=\"_parent\"><img src=\"https://colab.research.google.com/assets/colab-badge.svg\" alt=\"Open In Colab\"/></a>"
      ]
    },
    {
      "cell_type": "code",
      "metadata": {
        "id": "M-GrkQLNRGGH"
      },
      "source": [
        "import torch\n",
        "import matplotlib.pyplot as plt\n",
        "import numpy as np"
      ],
      "execution_count": 1,
      "outputs": []
    },
    {
      "cell_type": "code",
      "metadata": {
        "colab": {
          "base_uri": "https://localhost:8080/",
          "height": 299
        },
        "id": "P5uozAD5Rv1y",
        "outputId": "3c551971-757d-4771-a483-fc8b5808c1fd"
      },
      "source": [
        "for i in range(1):\n",
        "  t = torch.linspace(0,2*3.14159,1000)\n",
        "  x = t.cos()\n",
        "  y = t.sin()*t.cos()\n",
        "\n",
        "\n",
        "  randMultx = np.random.uniform(1.0,8.0)\n",
        "  randMulty = np.random.uniform(1.0,8.0)\n",
        "\n",
        "  maxaddx = 14-randMultx\n",
        "  maxaddy = 14-randMulty\n",
        "  \n",
        "  assert maxaddx >0\n",
        "  assert maxaddy >0\n",
        "\n",
        "  randAddx = np.random.uniform(-maxaddx,maxaddx)\n",
        "  randAddy = np.random.uniform(-maxaddy,maxaddy)\n",
        "\n",
        "  randMultSinx = None\n",
        "  randMultSiny = None\n",
        "  randAddSinx = None\n",
        "  randAddSiny = None\n",
        "\n",
        "  x = (x*randMultx)+16+randAddx\n",
        "  y = (y*randMulty)+16+randAddy\n",
        "  \n",
        "  plt.scatter(x,y,s=1)\n",
        "  plt.xlim(0,32)\n",
        "  plt.ylim(0,32)\n",
        "  #plt.show()\n",
        "  assert torch.max(x).item() < 32\n",
        "  assert torch.min(x).item() > 0\n",
        "  assert torch.max(y).item() < 32\n",
        "  assert torch.min(y).item() > 0\n",
        "  \n",
        "  print(\"max min x\",torch.max(x),torch.min(x))\n",
        "  print(\"max min y\",torch.max(y),torch.min(y))\n",
        "plt.show()"
      ],
      "execution_count": 2,
      "outputs": [
        {
          "output_type": "stream",
          "text": [
            "max min x tensor(18.4908) tensor(15.9191)\n",
            "max min y tensor(14.7710) tensor(12.1518)\n"
          ],
          "name": "stdout"
        },
        {
          "output_type": "display_data",
          "data": {
            "image/png": "[encoded data removed]",
            "text/plain": [
              "<Figure size 432x288 with 1 Axes>"
            ]
          },
          "metadata": {
            "tags": [],
            "needs_background": "light"
          }
        }
      ]
    },
    {
      "cell_type": "code",
      "metadata": {
        "colab": {
          "base_uri": "https://localhost:8080/",
          "height": 282
        },
        "id": "J71duByUSfL_",
        "outputId": "91a4d566-1311-4c26-9d78-847d8966a9e3"
      },
      "source": [
        "#add donut here\n",
        "import torch\n",
        "import numpy as np\n",
        "import pylab as plt\n",
        "from skimage import filters\n",
        "import math\n",
        "\n",
        "global numpoints\n",
        "numpoints = 1000\n",
        "side = 32\n",
        "\n",
        "rows = torch.zeros(32,32)\n",
        "columns = torch.zeros(32,32)\n",
        "\n",
        "\n",
        "for i in range(32):\n",
        "    columns[:,i] = i\n",
        "    rows[i,:] = i\n",
        "\n",
        "\n",
        "def donut_matrix(length = 10):\n",
        "    \n",
        "    canvas = torch.zeros((length,side, side))\n",
        "    x = torch.zeros((length,numpoints))\n",
        "    y = torch.zeros((length,numpoints))\n",
        "        \n",
        "    ###\n",
        "    for i in range(length):\n",
        "      t = torch.linspace(0,2*3.14159,numpoints)\n",
        "      x[i,:] = t.cos()\n",
        "      y[i,:] = t.sin()*t.cos()\n",
        "\n",
        "      WIDTH = 14\n",
        "      randMultx = np.random.uniform(8.0,WIDTH-.1)\n",
        "      randMulty = np.random.uniform(8.0,WIDTH-.1)\n",
        "\n",
        "      maxaddx = WIDTH-randMultx\n",
        "      maxaddy = WIDTH-randMulty\n",
        "      \n",
        "      assert maxaddx >0\n",
        "      assert maxaddy >0\n",
        "\n",
        "      randAddx = np.random.uniform(-maxaddx,maxaddx)\n",
        "      randAddy = np.random.uniform(-maxaddy,maxaddy)\n",
        "\n",
        "      randMultSinx = None\n",
        "      randMultSiny = None\n",
        "      randAddSinx = None\n",
        "      randAddSiny = None\n",
        "\n",
        "      x[i,:] = (x[i,:]*randMultx)+16+randAddx\n",
        "      y[i,:] = (y[i,:]*randMulty)+16+randAddy\n",
        "\n",
        "    \n",
        "    print(\"max min x\",torch.max(x),torch.min(x))\n",
        "    print(\"max min y\",torch.max(y),torch.min(y))\n",
        "   \n",
        "    assert torch.max(x).item() < 32\n",
        "    assert torch.min(x).item() > 0\n",
        "    assert torch.max(y).item() < 32\n",
        "    assert torch.min(y).item() > 0\n",
        "      \n",
        "    ###\n",
        "    \n",
        "    assert x.shape == (length,numpoints)\n",
        "    assert y.shape == (length,numpoints)\n",
        "    assert torch.sum(x[x>(side-1)])==0 \n",
        "    assert torch.sum(x[x<0])==0 \n",
        "    assert torch.sum(y[y>(side-1)])==0 \n",
        "    assert torch.sum(y[y<0])==0 \n",
        "    \n",
        "    points = torch.zeros(length,numpoints,2)\n",
        "    for l in range(length):\n",
        "        canvas[l,y[l,:].type(torch.LongTensor),x[l,:].type(torch.LongTensor)]=1.0\n",
        "        points[l,:,0] = x[l,:]#modified for lstm discriminator\n",
        "        points[l,:,1] = y[l,:]#modified for lstm discriminator \n",
        "    \n",
        "    \n",
        "    return {\n",
        "        'canvas': canvas, \n",
        "        'points':points.type(torch.FloatTensor)}\n",
        "\n",
        "\n",
        "def plot_all( sample = None, model = None, labels = None):\n",
        "    img = sample[:,:].squeeze().cpu().numpy()\n",
        "    plt.imshow(img, cmap=plt.cm.gray_r)\n",
        "    if model != None:\n",
        "        with torch.no_grad():\n",
        "            global numpoints\n",
        "\n",
        "            sample = torch.stack([sample for i in range(64)],dim = 0).cuda()\n",
        "            pred = model(sample,torch.zeros(64,1000,2).cuda())#come back to this\n",
        "            predres = numpoints\n",
        "            X = pred[0,:,0]\n",
        "            Y = pred[0,:,1]\n",
        "            \n",
        "            s = [.0001 for x in range(predres)]\n",
        "            \n",
        "            assert len(s) == predres\n",
        "            c = ['red' for x in range(predres)]\n",
        "            assert len(c) == predres\n",
        "            Y = Y.cuda()\n",
        "            X = X.cuda()\n",
        "            plt.plot(X.cpu(),Y.cpu(),',-',c='red', ms=.1, lw=0.1) \n",
        "\n",
        "    else:\n",
        "        X = labels[:,0]\n",
        "        Y = labels[:,1]\n",
        "        s = [.0001 for x in range(numpoints)]\n",
        "        c = ['red' for x in range(numpoints)]\n",
        "        plt.plot(X.cpu(),Y.cpu(),',-',c='red',  ms=.1, lw=0.1) \n",
        "\n",
        "\n",
        "class DonutDataset(torch.utils.data.Dataset):\n",
        "    def __init__(self, length = 10):\n",
        "        self.length = length\n",
        "        self.values = donut_matrix(length)\n",
        "        assert self.values['canvas'].shape[0] == self.length\n",
        "        assert self.values['points'].shape[0] == self.length\n",
        "        \n",
        "        count = 0\n",
        "        for i in range(self.length):\n",
        "          a = self[i]\n",
        "          c = a[0]\n",
        "          for el in a[1]:\n",
        "            y,x = (int)(el[1]),(int)(el[0])\n",
        "            if x < side-2 and x > 2 and y < side-2 and y > 2: \n",
        "              if c[y,x] != 1 and \\\n",
        "                c[y+1,x] != 1 and c[y+1,-1+x] != 1 and c[y+1,1+x] != 1 and \\\n",
        "                c[y-1,x] != 1 and c[y,-1+x] != 1 and c[y,1+x] != 1:\n",
        "                count+=1\n",
        "        assert count ==0\n",
        "\n",
        "\n",
        "    def __len__(self):\n",
        "        return self.length\n",
        "\n",
        "\n",
        "    def __getitem__(self, idx):\n",
        "        canvas = self.values[\"canvas\"]\n",
        "        canvas = canvas[idx,:,:]\n",
        "        assert canvas.shape == (side,side)\n",
        "        points = self.values[\"points\"]\n",
        "        points = points[idx,:]\n",
        "        z = torch.zeros(numpoints,1)\n",
        "        points = torch.cat([points,z], dim = 1)\n",
        "        \n",
        "        return canvas, points\n",
        "    \n",
        "    @staticmethod\n",
        "    def displayCanvas(title,dataset, model):\n",
        "        for i in range(100):\n",
        "            sample, labels = dataset[i]\n",
        "            plt.subplot(10,10,i+1)\n",
        "            plot_all(sample = sample,model=model, labels = labels)\n",
        "            plt.axis('off')\n",
        "        plt.savefig(title,dpi=1200)\n",
        "        \n",
        "dataset = DonutDataset(length = 100)\n",
        "\n",
        "DonutDataset.displayCanvas('donut.png',dataset, model = None)"
      ],
      "execution_count": 3,
      "outputs": [
        {
          "output_type": "stream",
          "text": [
            "max min x tensor(29.9642) tensor(2.0004)\n",
            "max min y tensor(25.0304) tensor(6.4093)\n"
          ],
          "name": "stdout"
        },
        {
          "output_type": "display_data",
          "data": {
            "image/png": "[encoded data removed]",
            "text/plain": [
              "<Figure size 432x288 with 100 Axes>"
            ]
          },
          "metadata": {
            "tags": [],
            "needs_background": "light"
          }
        }
      ]
    },
    {
      "cell_type": "code",
      "metadata": {
        "id": "WpUmuSb4aYMs"
      },
      "source": [
        "#https://math.stackexchange.com/questions/7988/the-function-that-draws-a-figure-eight"
      ],
      "execution_count": 4,
      "outputs": []
    },
    {
      "cell_type": "code",
      "metadata": {
        "id": "PfCDPgJJQ9XU"
      },
      "source": [
        ""
      ],
      "execution_count": 4,
      "outputs": []
    },
    {
      "cell_type": "markdown",
      "metadata": {
        "id": "YHmG4vbzRFWj"
      },
      "source": [
        "$ t\\in(-\\tfrac12\\pi,\\tfrac32\\pi)\\mapsto(\\cos t,\\sin t\\cos t)\\in\\mathbb R^2 $\n"
      ]
    },
    {
      "cell_type": "code",
      "metadata": {
        "id": "WoigviP4Rx5i",
        "colab": {
          "base_uri": "https://localhost:8080/"
        },
        "outputId": "7a726246-db03-4bdb-d0fc-db3700d7b0c5"
      },
      "source": [
        "from torch.utils import data\n",
        "from torch.utils.data import DataLoader, TensorDataset, RandomSampler\n",
        "\n",
        "mini_batch = 64\n",
        "dataset = DonutDataset(length = 64*20)\n",
        "loader_train = data.DataLoader(\n",
        "    dataset, \n",
        "    batch_size=mini_batch,\n",
        "    sampler=RandomSampler(data_source=dataset),\n",
        "    num_workers=4)\n"
      ],
      "execution_count": 5,
      "outputs": [
        {
          "output_type": "stream",
          "text": [
            "max min x tensor(29.9959) tensor(2.0006)\n",
            "max min y tensor(25.8121) tensor(6.2546)\n"
          ],
          "name": "stdout"
        },
        {
          "output_type": "stream",
          "text": [
            "/usr/local/lib/python3.7/dist-packages/torch/utils/data/dataloader.py:477: UserWarning: This DataLoader will create 4 worker processes in total. Our suggested max number of worker in current system is 2, which is smaller than what this DataLoader is going to create. Please be aware that excessive worker creation might get DataLoader running slow or even freeze, lower the worker number to avoid potential slowness/freeze if necessary.\n",
            "  cpuset_checked))\n"
          ],
          "name": "stderr"
        }
      ]
    },
    {
      "cell_type": "code",
      "metadata": {
        "id": "YkhvNrZ5M3LZ"
      },
      "source": [
        "#add model\n",
        "import torch\n",
        "import torch.nn as nn\n",
        "from torch.hub import load_state_dict_from_url\n",
        "\n",
        "class MLP(nn.Module):\n",
        "    def __init__(self):\n",
        "        super(MLP, self).__init__()\n",
        "        self.input_dim = 1*32*32\n",
        "        self.hidden_dim = self.input_dim*100\n",
        "        self.output_dim = 1000*2\n",
        "\n",
        "        self.mlp = nn.Sequential(\n",
        "            nn.Linear(self.input_dim, self.hidden_dim),\n",
        "            nn.ReLU(),\n",
        "            nn.Dropout(),\n",
        "            nn.Linear(self.hidden_dim, self.output_dim),\n",
        "            nn.Sigmoid()\n",
        "        )\n",
        "\n",
        "    def forward(self, x,points):\n",
        "        x = x.squeeze()\n",
        "        x = torch.flatten(x,start_dim=1)\n",
        "        assert x.shape == (mini_batch,self.input_dim)\n",
        "        out = self.mlp(x)\n",
        "        return 32.0*out.reshape(points.shape)\n"
      ],
      "execution_count": 6,
      "outputs": []
    },
    {
      "cell_type": "code",
      "metadata": {
        "id": "xVZgd3NSM-KE"
      },
      "source": [
        "model = MLP().cuda()\n"
      ],
      "execution_count": 7,
      "outputs": []
    },
    {
      "cell_type": "code",
      "metadata": {
        "id": "jXCbr9ekNLr5"
      },
      "source": [
        "optimizer = torch.optim.Adam(model.parameters(),lr = 0.0001, betas = (.9,.999))\n"
      ],
      "execution_count": 8,
      "outputs": []
    },
    {
      "cell_type": "code",
      "metadata": {
        "colab": {
          "base_uri": "https://localhost:8080/"
        },
        "id": "-e0aWJ2eNOo4",
        "outputId": "39b31063-ddce-416b-982c-19c3ab6e3ad2"
      },
      "source": [
        "#add training \n",
        "for i in range(40):\n",
        "  for xin,yin in loader_train:\n",
        "    optimizer.zero_grad()\n",
        "    if xin.shape[0] != 64:\n",
        "      print(xin.shape)\n",
        "      continue\n",
        "    xin = xin.cuda()\n",
        "    yin = yin.cuda()\n",
        "    \n",
        "    out = model(xin,yin[:,:,:2])\n",
        "    loss = torch.mean((out-yin[:,:,:2])**2)\n",
        "    loss.backward()\n",
        "    optimizer.step()\n",
        "  print(\"loss\",loss.item())\n"
      ],
      "execution_count": 9,
      "outputs": [
        {
          "output_type": "stream",
          "text": [
            "/usr/local/lib/python3.7/dist-packages/torch/utils/data/dataloader.py:477: UserWarning: This DataLoader will create 4 worker processes in total. Our suggested max number of worker in current system is 2, which is smaller than what this DataLoader is going to create. Please be aware that excessive worker creation might get DataLoader running slow or even freeze, lower the worker number to avoid potential slowness/freeze if necessary.\n",
            "  cpuset_checked))\n"
          ],
          "name": "stderr"
        },
        {
          "output_type": "stream",
          "text": [
            "loss 2.565610885620117\n",
            "loss 0.6846811771392822\n",
            "loss 0.39510679244995117\n",
            "loss 0.18996970355510712\n",
            "loss 0.15526510775089264\n",
            "loss 0.12953045964241028\n",
            "loss 0.11634644120931625\n",
            "loss 0.11037683486938477\n",
            "loss 0.10489726066589355\n",
            "loss 0.10131978243589401\n",
            "loss 0.09376052767038345\n",
            "loss 0.08962007611989975\n",
            "loss 0.08626534044742584\n",
            "loss 0.08870408684015274\n",
            "loss 0.08172159641981125\n",
            "loss 0.07929719984531403\n",
            "loss 0.07789349555969238\n",
            "loss 0.07576099038124084\n",
            "loss 0.0747360959649086\n",
            "loss 0.07189396023750305\n",
            "loss 0.07051665335893631\n",
            "loss 0.06761085987091064\n",
            "loss 0.06659634411334991\n",
            "loss 0.06496082246303558\n",
            "loss 0.0657738521695137\n",
            "loss 0.06160517409443855\n",
            "loss 0.0632227212190628\n",
            "loss 0.06009385734796524\n",
            "loss 0.05962293595075607\n",
            "loss 0.057638708502054214\n",
            "loss 0.05467908829450607\n",
            "loss 0.05365007370710373\n",
            "loss 0.051860611885786057\n",
            "loss 0.0532056987285614\n",
            "loss 0.052035678178071976\n",
            "loss 0.051360003650188446\n",
            "loss 0.05102861672639847\n",
            "loss 0.05005142465233803\n",
            "loss 0.047798410058021545\n",
            "loss 0.04694291576743126\n"
          ],
          "name": "stdout"
        }
      ]
    },
    {
      "cell_type": "code",
      "metadata": {
        "id": "H_C4vh8VNSp6"
      },
      "source": [
        "optimizer = torch.optim.Adam(model.parameters(),lr = 0.00001, betas = (.9,.999))\n"
      ],
      "execution_count": 10,
      "outputs": []
    },
    {
      "cell_type": "code",
      "metadata": {
        "colab": {
          "base_uri": "https://localhost:8080/"
        },
        "id": "RSvRTkatNarV",
        "outputId": "fc027350-48bf-48e2-9a0f-9752acd1a6f8"
      },
      "source": [
        "#add training \n",
        "for i in range(40):\n",
        "  for xin,yin in loader_train:\n",
        "    optimizer.zero_grad()\n",
        "    if xin.shape[0] != 64:\n",
        "      print(xin.shape)\n",
        "      continue\n",
        "    xin = xin.cuda()\n",
        "    yin = yin.cuda()\n",
        "    \n",
        "    out = model(xin,yin[:,:,:2])\n",
        "    loss = torch.mean((out-yin[:,:,:2])**2)\n",
        "    loss.backward()\n",
        "    optimizer.step()\n",
        "  print(\"loss\",loss.item())\n"
      ],
      "execution_count": 11,
      "outputs": [
        {
          "output_type": "stream",
          "text": [
            "/usr/local/lib/python3.7/dist-packages/torch/utils/data/dataloader.py:477: UserWarning: This DataLoader will create 4 worker processes in total. Our suggested max number of worker in current system is 2, which is smaller than what this DataLoader is going to create. Please be aware that excessive worker creation might get DataLoader running slow or even freeze, lower the worker number to avoid potential slowness/freeze if necessary.\n",
            "  cpuset_checked))\n"
          ],
          "name": "stderr"
        },
        {
          "output_type": "stream",
          "text": [
            "loss 0.04914335161447525\n",
            "loss 0.04259306937456131\n",
            "loss 0.04097241535782814\n",
            "loss 0.04251152276992798\n",
            "loss 0.04049212858080864\n",
            "loss 0.040959179401397705\n",
            "loss 0.040557704865932465\n",
            "loss 0.04008522257208824\n",
            "loss 0.038826752454042435\n",
            "loss 0.03910374268889427\n",
            "loss 0.03750435262918472\n",
            "loss 0.037574462592601776\n",
            "loss 0.035827070474624634\n",
            "loss 0.03652434051036835\n",
            "loss 0.03558918461203575\n",
            "loss 0.03709955886006355\n",
            "loss 0.035169053822755814\n",
            "loss 0.035363808274269104\n",
            "loss 0.03511226922273636\n",
            "loss 0.035354889929294586\n",
            "loss 0.033177345991134644\n",
            "loss 0.033386919647455215\n",
            "loss 0.03230345994234085\n",
            "loss 0.03213293477892876\n",
            "loss 0.031176798045635223\n",
            "loss 0.03220413997769356\n",
            "loss 0.032371193170547485\n",
            "loss 0.03083140030503273\n",
            "loss 0.03189638629555702\n",
            "loss 0.029983337968587875\n",
            "loss 0.031177785247564316\n",
            "loss 0.029273660853505135\n",
            "loss 0.029922738671302795\n",
            "loss 0.030297579243779182\n",
            "loss 0.031553782522678375\n",
            "loss 0.02872934564948082\n",
            "loss 0.02921818383038044\n",
            "loss 0.02835753746330738\n",
            "loss 0.027574578300118446\n",
            "loss 0.02788141742348671\n"
          ],
          "name": "stdout"
        }
      ]
    },
    {
      "cell_type": "code",
      "metadata": {
        "colab": {
          "base_uri": "https://localhost:8080/",
          "height": 282
        },
        "id": "YmbHNqt6Nbpo",
        "outputId": "9bd65f7a-48bf-40fa-d307-62fa44ec24a2"
      },
      "source": [
        "test_dataset = DonutDataset(length = 100)\n",
        "\n",
        "DonutDataset.displayCanvas('testsetfit-points.png',test_dataset, model = model)\n"
      ],
      "execution_count": 12,
      "outputs": [
        {
          "output_type": "stream",
          "text": [
            "max min x tensor(29.9922) tensor(2.0102)\n",
            "max min y tensor(25.3351) tensor(6.7879)\n"
          ],
          "name": "stdout"
        },
        {
          "output_type": "display_data",
          "data": {
            "image/png": "[encoded data removed]",
            "text/plain": [
              "<Figure size 432x288 with 100 Axes>"
            ]
          },
          "metadata": {
            "tags": [],
            "needs_background": "light"
          }
        }
      ]
    },
    {
      "cell_type": "code",
      "metadata": {
        "colab": {
          "base_uri": "https://localhost:8080/"
        },
        "id": "RxmEvbtMNh34",
        "outputId": "7ce379ee-aff5-4b7b-d94f-2d7f11b02789"
      },
      "source": [
        "val_dataset = DonutDataset(length = 64)\n",
        "loader_val = data.DataLoader(\n",
        "    dataset, \n",
        "    batch_size=mini_batch,\n",
        "    sampler=RandomSampler(data_source=val_dataset),\n",
        "    num_workers=4)\n"
      ],
      "execution_count": 13,
      "outputs": [
        {
          "output_type": "stream",
          "text": [
            "max min x tensor(29.8766) tensor(2.0073)\n",
            "max min y tensor(25.7784) tensor(6.6655)\n"
          ],
          "name": "stdout"
        },
        {
          "output_type": "stream",
          "text": [
            "/usr/local/lib/python3.7/dist-packages/torch/utils/data/dataloader.py:477: UserWarning: This DataLoader will create 4 worker processes in total. Our suggested max number of worker in current system is 2, which is smaller than what this DataLoader is going to create. Please be aware that excessive worker creation might get DataLoader running slow or even freeze, lower the worker number to avoid potential slowness/freeze if necessary.\n",
            "  cpuset_checked))\n"
          ],
          "name": "stderr"
        }
      ]
    },
    {
      "cell_type": "code",
      "metadata": {
        "colab": {
          "base_uri": "https://localhost:8080/",
          "height": 354
        },
        "id": "ZfLck0wNNzuh",
        "outputId": "576b4c5c-563d-49c2-bedf-e319dddc3797"
      },
      "source": [
        "from scipy.interpolate import splprep, splev\n",
        "from numpy import arange, cos, linspace, pi, sin, random\n",
        "\n",
        "#display fits on validation set\n",
        "xgt = None\n",
        "ygt = None\n",
        "\n",
        "out = None\n",
        "\n",
        "\n",
        "for xin,yin in loader_val:\n",
        "  out = model(xin.cuda(),yin[:,:,:2].cuda())\n",
        "  xgt = yin[:,:,0]\n",
        "  ygt = yin[:,:,1]\n",
        "out = out[1,:,:]\n",
        "xpred = out[:,0].detach()\n",
        "ypred = out[:,1].detach()\n",
        "print(out.shape)\n",
        "xgt=xgt[1,:]\n",
        "ygt=ygt[1,:]\n",
        "\n",
        "t=np.linspace(0,1,1000)\n",
        "z = t\n",
        "\n",
        "# spline parameters\n",
        "s=75 # smoothness parameter\n",
        "k=3 # spline order\n",
        "nest=-1 # estimate of number of knots needed (-1 = maximal)\n",
        "\n",
        "# find the knot points\n",
        "tck,u = splprep([xpred.cpu().numpy(),ypred.cpu().numpy(),z],s=s,k=k,nest=-1)\n",
        "\n",
        "# evaluate spline, including interpolated points\n",
        "xnew,ynew,znew = splev(linspace(0,1,4000),tck)\n",
        "\n",
        "ascatter = plt.scatter(xnew,ynew,s=10,c='red')\n",
        "ascatter = plt.scatter(xgt.cpu().numpy(),ygt.cpu().numpy(),s=10,c='black')\n",
        "ascatter = plt.scatter(tck[1][0],tck[1][1],s=1)\n",
        "plt.gca().add_artist(ascatter)\n"
      ],
      "execution_count": 14,
      "outputs": [
        {
          "output_type": "stream",
          "text": [
            "/usr/local/lib/python3.7/dist-packages/torch/utils/data/dataloader.py:477: UserWarning: This DataLoader will create 4 worker processes in total. Our suggested max number of worker in current system is 2, which is smaller than what this DataLoader is going to create. Please be aware that excessive worker creation might get DataLoader running slow or even freeze, lower the worker number to avoid potential slowness/freeze if necessary.\n",
            "  cpuset_checked))\n"
          ],
          "name": "stderr"
        },
        {
          "output_type": "stream",
          "text": [
            "torch.Size([1000, 2])\n"
          ],
          "name": "stdout"
        },
        {
          "output_type": "execute_result",
          "data": {
            "text/plain": [
              "<matplotlib.collections.PathCollection at 0x7f36e0592ad0>"
            ]
          },
          "metadata": {
            "tags": []
          },
          "execution_count": 14
        },
        {
          "output_type": "display_data",
          "data": {
            "image/png": "[encoded data removed]",
            "text/plain": [
              "<Figure size 432x288 with 1 Axes>"
            ]
          },
          "metadata": {
            "tags": [],
            "needs_background": "light"
          }
        }
      ]
    },
    {
      "cell_type": "code",
      "metadata": {
        "id": "1lGhv_uLPeJy"
      },
      "source": [
        ""
      ],
      "execution_count": 14,
      "outputs": []
    }
  ]
}