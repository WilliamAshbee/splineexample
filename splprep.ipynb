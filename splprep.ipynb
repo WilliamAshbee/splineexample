{
  "nbformat": 4,
  "nbformat_minor": 0,
  "metadata": {
    "colab": {
      "name": "splprep.ipynb",
      "provenance": [],
      "collapsed_sections": [],
      "authorship_tag": "ABX9TyN/9+fb38kKl8Bo19+UOEqd",
      "include_colab_link": true
    },
    "kernelspec": {
      "name": "python3",
      "display_name": "Python 3"
    },
    "accelerator": "GPU"
  },
  "cells": [
    {
      "cell_type": "markdown",
      "metadata": {
        "id": "view-in-github",
        "colab_type": "text"
      },
      "source": [
        "<a href=\"https://colab.research.google.com/github/WilliamAshbee/splineexample/blob/main/splprep.ipynb\" target=\"_parent\"><img src=\"https://colab.research.google.com/assets/colab-badge.svg\" alt=\"Open In Colab\"/></a>"
      ]
    },
    {
      "cell_type": "code",
      "metadata": {
        "id": "eUZ2M0d_ubTH"
      },
      "source": [
        ""
      ],
      "execution_count": null,
      "outputs": []
    },
    {
      "cell_type": "code",
      "metadata": {
        "id": "WdF3Hi_m6DLQ"
      },
      "source": [
        "%matplotlib inline\n",
        "from numpy import arange, cos, linspace, pi, sin, random\n",
        "from scipy.interpolate import splprep, splev\n",
        "import matplotlib.pyplot as plt\n",
        "\n",
        "# make ascending spiral in 3-space\n",
        "t=linspace(0,1.75*2*pi,100)\n",
        "\n",
        "x = sin(t)\n",
        "y = cos(t)\n",
        "z = t\n",
        "\n",
        "\n",
        "# spline parameters\n",
        "s=.00001 # smoothness parameter\n",
        "k=3 # spline order\n",
        "nest=-1 # estimate of number of knots needed (-1 = maximal)\n",
        "\n",
        "# find the knot points\n",
        "tck,u = splprep([x,y,z],s=s,k=k,nest=-1)\n",
        "\n",
        "# evaluate spline, including interpolated points\n",
        "xnew,ynew,znew = splev(linspace(0,1,400),tck)\n"
      ],
      "execution_count": 1,
      "outputs": []
    },
    {
      "cell_type": "code",
      "metadata": {
        "colab": {
          "base_uri": "https://localhost:8080/",
          "height": 283
        },
        "id": "v6AAY0rpFwmF",
        "outputId": "b6b691e9-d31c-4456-eea9-5a1b26b7c0b8"
      },
      "source": [
        "import matplotlib.pyplot as plt\n",
        "ascatter = plt.scatter(x,y)\n",
        "ascatter = plt.scatter(xnew,ynew,s=1)\n",
        "plt.gca().add_artist(ascatter)\n"
      ],
      "execution_count": 2,
      "outputs": [
        {
          "output_type": "execute_result",
          "data": {
            "text/plain": [
              "<matplotlib.collections.PathCollection at 0x7f7d84aa42d0>"
            ]
          },
          "metadata": {
            "tags": []
          },
          "execution_count": 2
        },
        {
          "output_type": "display_data",
          "data": {
            "image/png": "[encoded data removed]",
            "text/plain": [
              "<Figure size 432x288 with 1 Axes>"
            ]
          },
          "metadata": {
            "tags": [],
            "needs_background": "light"
          }
        }
      ]
    },
    {
      "cell_type": "code",
      "metadata": {
        "colab": {
          "base_uri": "https://localhost:8080/"
        },
        "id": "ruksjMhc6El9",
        "outputId": "0eb78eb5-c2c3-44ce-d2fc-4e0c54e1e04f"
      },
      "source": [
        "print(tck[0].shape)\n",
        "print(tck[1][0].shape)\n",
        "print(tck[1][1].shape)\n",
        "print(tck[2])"
      ],
      "execution_count": 3,
      "outputs": [
        {
          "output_type": "stream",
          "text": [
            "(23,)\n",
            "(19,)\n",
            "(19,)\n",
            "3\n"
          ],
          "name": "stdout"
        }
      ]
    },
    {
      "cell_type": "code",
      "metadata": {
        "colab": {
          "base_uri": "https://localhost:8080/",
          "height": 265
        },
        "id": "ZkDZeR7H9H90",
        "outputId": "57b02375-4718-4651-b356-67182f6c8bdf"
      },
      "source": [
        "import torch\n",
        "import numpy as np\n",
        "import pylab as plt\n",
        "from skimage import filters\n",
        "import math\n",
        "\n",
        "global numpoints\n",
        "numpoints = 1000\n",
        "side = 32\n",
        "\n",
        "rows = torch.zeros(32,32)\n",
        "columns = torch.zeros(32,32)\n",
        "\n",
        "\n",
        "for i in range(32):\n",
        "    columns[:,i] = i\n",
        "    rows[i,:] = i\n",
        "\n",
        "\n",
        "def donut_matrix(length = 10):\n",
        "    radiusMax = side /3\n",
        "    w = 1\n",
        "    sigmas = [None, 1]\n",
        "    \n",
        "    canvas = torch.zeros((length,side, side))\n",
        "    r0 = torch.tensor(np.random.uniform(side/4, side/3, length))\n",
        "\n",
        "    radii = torch.zeros((length,numpoints))\n",
        "    radii[:, :] = r0.unsqueeze(1)\n",
        "    \n",
        "    ind = [x for x in range(numpoints)]\n",
        "\n",
        "    theta = torch.FloatTensor(ind)\n",
        "    theta *= math.pi*2.0/(float)(numpoints)\n",
        "    \n",
        "    for i in range(1,length):\n",
        "        a = np.random.uniform(1.0,3.0)*torch.sin(np.random.uniform(20.0)*theta+np.random.uniform(1000.0))\n",
        "        #a = 4.0*torch.sin(10.0*theta)\n",
        "        #print(a.shape,torch.max(a))\n",
        "        radii[i,:] += a\n",
        "        #print(radii.shape, torch.max(radii))\n",
        "    \n",
        "    assert torch.min(radii)>0\n",
        "    #print(radii.max(axis = 0)[0].shape)\n",
        "    rmaxs = radii.max(axis = 1)[0]\n",
        "    pmins = rmaxs+1.0\n",
        "    pmaxs = side-rmaxs-1.0\n",
        "    x0 = np.random.uniform(pmins,pmaxs)\n",
        "    y0 = np.random.uniform(pmins,pmaxs)\n",
        "    x0[:]=side/2\n",
        "    y0[:]=side/2\n",
        "    x0 = torch.tensor(x0)\n",
        "    y0 = torch.tensor(y0)\n",
        "    \n",
        "    x0 = x0.unsqueeze(1)\n",
        "    y0 = y0.unsqueeze(1)\n",
        "    #radii = torch.from_numpy(radii)\n",
        "    xrfactors = torch.cos(theta).unsqueeze(0)\n",
        "    yrfactors = torch.sin(theta).unsqueeze(0)\n",
        "    \n",
        "    print(x0.shape,y0.shape,radii.shape,xrfactors.shape,yrfactors.shape)\n",
        "\n",
        "    x = (x0+(xrfactors*radii))\n",
        "    y = (y0+(yrfactors*radii))\n",
        "    assert x.shape == (length,numpoints)\n",
        "    assert y.shape == (length,numpoints)\n",
        "    assert torch.sum(x[x>(side-1)])==0 \n",
        "    assert torch.sum(x[x<0])==0 \n",
        "    assert torch.sum(y[y>(side-1)])==0 \n",
        "    assert torch.sum(y[y<0])==0 \n",
        "    \n",
        "    points = torch.zeros(length,numpoints,2)\n",
        "    for l in range(length):\n",
        "        canvas[l,x[l,:].type(torch.LongTensor),y[l,:].type(torch.LongTensor)]=1.0\n",
        "        #points[l,:,0] = x[l,:]\n",
        "        #points[l,:,1] = y[l,:]\n",
        "        points[l,:,0] = x[l,:]#modified for lstm discriminator\n",
        "        points[l,:,1] = y[l,:]#modified for lstm discriminator \n",
        "    \n",
        "    \n",
        "    return {\n",
        "        'canvas': canvas, \n",
        "        'points':points.type(torch.FloatTensor)}\n",
        "\n",
        "\n",
        "def plot_all( sample = None, model = None, labels = None):\n",
        "    img = sample[0,:,:].squeeze().cpu().numpy()\n",
        "    plt.imshow(img, cmap=plt.cm.gray_r)\n",
        "    if model != None:\n",
        "        with torch.no_grad():\n",
        "            global numpoints\n",
        "\n",
        "            print(\"sample\", sample.shape)\n",
        "            pred = model(sample).view(1000,3)\n",
        "            print('pred', pred.shape)\n",
        "            predres = numpoints\n",
        "            X = pred[:,0]\n",
        "            Y = pred[:,1]\n",
        "            \n",
        "            s = [.001 for x in range(predres)]\n",
        "            \n",
        "            assert len(s) == predres\n",
        "            c = ['red' for x in range(predres)]\n",
        "            assert len(c) == predres\n",
        "            Y = Y.cuda()\n",
        "            X = X.cuda()\n",
        "            print(\"type\",type(X))\n",
        "            ascatter = plt.scatter(Y.cpu().numpy(),X.cpu().numpy(),s = s,c = c)\n",
        "            plt.gca().add_artist(ascatter)\n",
        "    else:\n",
        "        #print(labels.shape)\n",
        "\n",
        "        X = labels[:,0]\n",
        "        Y = labels[:,1]\n",
        "        #print(X.shape)\n",
        "        #print(Y.shape)\n",
        "            \n",
        "        s = [.001 for x in range(numpoints)]\n",
        "        #print(len(s))\n",
        "        c = ['red' for x in range(numpoints)]\n",
        "        #print(len(c))\n",
        "        ascatter = plt.scatter(Y.cpu().numpy(),X.cpu().numpy(),s = s,c = c)\n",
        "        plt.gca().add_artist(ascatter)\n",
        "\n",
        "class DonutDataset(torch.utils.data.Dataset):\n",
        "    \"\"\"Donut dataset.\"\"\"\n",
        "    def __init__(self, length = 10):\n",
        "        \"\"\"\n",
        "        Args:\n",
        "            csv_file (string): Path to the csv file with annotations.\n",
        "            root_dir (string): Directory with all the images.\n",
        "            transform (callable, optional): Optional transform to be applied\n",
        "                on a sample.\n",
        "        \"\"\"\n",
        "        self.length = length\n",
        "        self.values = donut_matrix(length)\n",
        "        assert self.values['canvas'].shape[0] == self.length\n",
        "        assert self.values['points'].shape[0] == self.length\n",
        "\n",
        "    def __len__(self):\n",
        "        return self.length\n",
        "\n",
        "\n",
        "    def __getitem__(self, idx):\n",
        "        canvas = self.values[\"canvas\"]\n",
        "        \n",
        "        canvas = canvas[idx,:,:]\n",
        "        assert canvas.shape == (side,side)\n",
        "        canvas = torch.reshape(canvas,(1,side,side))\n",
        "        assert canvas.shape == (1,side,side)\n",
        "        \n",
        "        \n",
        "        assert canvas.shape == (1,side,side)\n",
        "        points = self.values[\"points\"]\n",
        "        points = points[idx,:]\n",
        "        #points = points.unsqueeze(1)\n",
        "        z = torch.zeros(numpoints,1)\n",
        "        #print(z.shape)\n",
        "        points = torch.cat([points,z], dim = 1)\n",
        "        \n",
        "        #print('points', points.shape)\n",
        "        return canvas, points\n",
        "    \n",
        "    @staticmethod\n",
        "    def displayCanvas(title,dataset, model):\n",
        "        #model.setBatchSize(batch_size = 1)\n",
        "        for i in range(100):\n",
        "            sample, labels = dataset[i]\n",
        "            plt.subplot(10,10,i+1)\n",
        "            plot_all(sample = sample,model=model, labels = labels)\n",
        "            plt.axis('off')\n",
        "        plt.savefig(title,dpi=600)\n",
        "\n",
        "dataset = DonutDataset(length = 100)\n",
        "DonutDataset.displayCanvas('donut.png',dataset, model = None)\n"
      ],
      "execution_count": 4,
      "outputs": [
        {
          "output_type": "stream",
          "text": [
            "torch.Size([100, 1]) torch.Size([100, 1]) torch.Size([100, 1000]) torch.Size([1, 1000]) torch.Size([1, 1000])\n"
          ],
          "name": "stdout"
        },
        {
          "output_type": "display_data",
          "data": {
            "image/png": "[encoded data removed]",
            "text/plain": [
              "<Figure size 432x288 with 100 Axes>"
            ]
          },
          "metadata": {
            "tags": [],
            "needs_background": "light"
          }
        }
      ]
    },
    {
      "cell_type": "code",
      "metadata": {
        "colab": {
          "base_uri": "https://localhost:8080/",
          "height": 283
        },
        "id": "AF29fGC_MXaw",
        "outputId": "0068aecb-123a-4fa3-b4cd-24fcd6dbb013"
      },
      "source": [
        "dataset[1][1].shape\n",
        "x = dataset[1][1][:,0]\n",
        "y = dataset[1][1][:,1]\n",
        "ascatter = plt.scatter(x,y)\n",
        "#ascatter = plt.scatter(xnew,ynew,s=1)\n",
        "plt.gca().add_artist(ascatter)\n"
      ],
      "execution_count": 5,
      "outputs": [
        {
          "output_type": "execute_result",
          "data": {
            "text/plain": [
              "<matplotlib.collections.PathCollection at 0x7f7d1e814f10>"
            ]
          },
          "metadata": {
            "tags": []
          },
          "execution_count": 5
        },
        {
          "output_type": "display_data",
          "data": {
            "image/png": "[encoded data removed]",
            "text/plain": [
              "<Figure size 432x288 with 1 Axes>"
            ]
          },
          "metadata": {
            "tags": [],
            "needs_background": "light"
          }
        }
      ]
    },
    {
      "cell_type": "code",
      "metadata": {
        "colab": {
          "base_uri": "https://localhost:8080/"
        },
        "id": "7M3ghdvyOIwr",
        "outputId": "7c6a1433-9eff-4938-cbf0-793e2f3beebb"
      },
      "source": [
        "t=np.linspace(0,1.75*2*pi,1000)\n",
        "z = t\n",
        "\n",
        "print(x.shape,y.shape,z.shape)\n",
        "print(type(x),type(y),type(z))\n",
        "# spline parameters\n",
        "s=10 # smoothness parameter\n",
        "k=3 # spline order\n",
        "nest=-1 # estimate of number of knots needed (-1 = maximal)\n",
        "\n",
        "# find the knot points\n",
        "tck,u = splprep([x.cpu().numpy(),y.cpu().numpy(),z],s=s,k=k,nest=40)\n",
        "\n",
        "# evaluate spline, including interpolated points\n",
        "xnew,ynew,znew = splev(linspace(0,1,4000),tck)\n"
      ],
      "execution_count": 6,
      "outputs": [
        {
          "output_type": "stream",
          "text": [
            "torch.Size([1000]) torch.Size([1000]) (1000,)\n",
            "<class 'torch.Tensor'> <class 'torch.Tensor'> <class 'numpy.ndarray'>\n"
          ],
          "name": "stdout"
        },
        {
          "output_type": "stream",
          "text": [
            "/usr/local/lib/python3.7/dist-packages/scipy/interpolate/_fitpack_impl.py:299: RuntimeWarning: The required storage space exceeds the available storage space.\n",
            "Probable causes: data (x,y) size is too small or smoothing parameter\n",
            "s is too small (fp>s).\n",
            "  warnings.warn(RuntimeWarning(_iermess[ier][0]))\n"
          ],
          "name": "stderr"
        }
      ]
    },
    {
      "cell_type": "code",
      "metadata": {
        "colab": {
          "base_uri": "https://localhost:8080/",
          "height": 354
        },
        "id": "doIbntkxKdAZ",
        "outputId": "10d2550e-e3a7-4ed5-ca7c-f49afc75b6b3"
      },
      "source": [
        "print(tck[0].shape)\n",
        "print(tck[1][0].shape)\n",
        "print(tck[1][1].shape)\n",
        "print(tck[2])\n",
        "ascatter = plt.scatter(xnew,ynew,s=10)\n",
        "ascatter = plt.scatter(tck[1][0],tck[1][1],s=1)\n",
        "plt.gca().add_artist(ascatter)\n"
      ],
      "execution_count": 7,
      "outputs": [
        {
          "output_type": "stream",
          "text": [
            "(40,)\n",
            "(36,)\n",
            "(36,)\n",
            "3\n"
          ],
          "name": "stdout"
        },
        {
          "output_type": "execute_result",
          "data": {
            "text/plain": [
              "<matplotlib.collections.PathCollection at 0x7f7d1e782f10>"
            ]
          },
          "metadata": {
            "tags": []
          },
          "execution_count": 7
        },
        {
          "output_type": "display_data",
          "data": {
            "image/png": "[encoded data removed]",
            "text/plain": [
              "<Figure size 432x288 with 1 Axes>"
            ]
          },
          "metadata": {
            "tags": [],
            "needs_background": "light"
          }
        }
      ]
    },
    {
      "cell_type": "code",
      "metadata": {
        "id": "Hpn31i09TMwh"
      },
      "source": [
        ""
      ],
      "execution_count": 7,
      "outputs": []
    },
    {
      "cell_type": "code",
      "metadata": {
        "colab": {
          "base_uri": "https://localhost:8080/"
        },
        "id": "DsYrRnPzFm-B",
        "outputId": "4e4aa5e5-e737-4b39-b56c-7f210b9ffec1"
      },
      "source": [
        "\n",
        "t=linspace(0,1.75*2*pi,100)\n",
        "\n",
        "x = sin(t)\n",
        "y = cos(t)\n",
        "z = t\n",
        "\n",
        "print(x.shape,y.shape,z.shape)\n",
        "print(type(x))\n",
        "\n",
        "# spline parameters\n",
        "s=.00001 # smoothness parameter\n",
        "k=3 # spline order\n",
        "nest=-1 # estimate of number of knots needed (-1 = maximal)\n",
        "\n",
        "# find the knot points\n",
        "tck,u = splprep([x,y,z],s=s,k=k,nest=-1)\n",
        "\n",
        "# evaluate spline, including interpolated points\n",
        "xnew,ynew,znew = splev(linspace(0,1,400),tck)\n"
      ],
      "execution_count": 8,
      "outputs": [
        {
          "output_type": "stream",
          "text": [
            "(100,) (100,) (100,)\n",
            "<class 'numpy.ndarray'>\n"
          ],
          "name": "stdout"
        }
      ]
    },
    {
      "cell_type": "code",
      "metadata": {
        "colab": {
          "base_uri": "https://localhost:8080/",
          "height": 460
        },
        "id": "vTNdSD3zOqT7",
        "outputId": "d46dc00d-44a8-4e7a-9e1c-be909b5b8ae1"
      },
      "source": [
        "x = dataset[1][1][:,0]\n",
        "y = dataset[1][1][:,1]\n",
        "t=np.linspace(0,1,1000)\n",
        "z = t\n",
        "\n",
        "print(x.shape,y.shape,z.shape)\n",
        "print(type(x),type(y),type(z))\n",
        "# spline parameters\n",
        "s=10 # smoothness parameter\n",
        "k=3 # spline order\n",
        "nest=-1 # estimate of number of knots needed (-1 = maximal)\n",
        "\n",
        "# find the knot points\n",
        "tck,u = splprep([x.cpu().numpy(),y.cpu().numpy(),z],s=s,k=k,nest=40)\n",
        "\n",
        "# evaluate spline, including interpolated points\n",
        "tck[0] = np.linspace(0,1,35)\n",
        "tck[0][:4]=0\n",
        "tck[0][-4:]=1\n",
        "xnew,ynew,znew = splev(linspace(0,1,4000),tck)\n",
        "\n",
        "print(tck[0].shape)\n",
        "print(tck[1][0].shape)\n",
        "print(tck[1][1].shape)\n",
        "print(tck[2])\n",
        "ascatter = plt.scatter(xnew,ynew,s=10)\n",
        "ascatter = plt.scatter(tck[1][0],tck[1][1],s=1)\n",
        "plt.gca().add_artist(ascatter)\n"
      ],
      "execution_count": 9,
      "outputs": [
        {
          "output_type": "stream",
          "text": [
            "torch.Size([1000]) torch.Size([1000]) (1000,)\n",
            "<class 'torch.Tensor'> <class 'torch.Tensor'> <class 'numpy.ndarray'>\n",
            "(35,)\n",
            "(36,)\n",
            "(36,)\n",
            "3\n"
          ],
          "name": "stdout"
        },
        {
          "output_type": "stream",
          "text": [
            "/usr/local/lib/python3.7/dist-packages/scipy/interpolate/_fitpack_impl.py:299: RuntimeWarning: The required storage space exceeds the available storage space.\n",
            "Probable causes: data (x,y) size is too small or smoothing parameter\n",
            "s is too small (fp>s).\n",
            "  warnings.warn(RuntimeWarning(_iermess[ier][0]))\n"
          ],
          "name": "stderr"
        },
        {
          "output_type": "execute_result",
          "data": {
            "text/plain": [
              "<matplotlib.collections.PathCollection at 0x7f7d1e6fbad0>"
            ]
          },
          "metadata": {
            "tags": []
          },
          "execution_count": 9
        },
        {
          "output_type": "display_data",
          "data": {
            "image/png": "[encoded data removed]",
            "text/plain": [
              "<Figure size 432x288 with 1 Axes>"
            ]
          },
          "metadata": {
            "tags": [],
            "needs_background": "light"
          }
        }
      ]
    },
    {
      "cell_type": "code",
      "metadata": {
        "colab": {
          "base_uri": "https://localhost:8080/"
        },
        "id": "x_SOgFCGU2GV",
        "outputId": "752b8248-61d5-428b-d6de-2fb4c620871d"
      },
      "source": [
        "  print(tck[0])"
      ],
      "execution_count": 10,
      "outputs": [
        {
          "output_type": "stream",
          "text": [
            "[0.         0.         0.         0.         0.11764706 0.14705882\n",
            " 0.17647059 0.20588235 0.23529412 0.26470588 0.29411765 0.32352941\n",
            " 0.35294118 0.38235294 0.41176471 0.44117647 0.47058824 0.5\n",
            " 0.52941176 0.55882353 0.58823529 0.61764706 0.64705882 0.67647059\n",
            " 0.70588235 0.73529412 0.76470588 0.79411765 0.82352941 0.85294118\n",
            " 0.88235294 1.         1.         1.         1.        ]\n"
          ],
          "name": "stdout"
        }
      ]
    },
    {
      "cell_type": "code",
      "metadata": {
        "colab": {
          "base_uri": "https://localhost:8080/",
          "height": 389
        },
        "id": "lmTRC5Q6VkLW",
        "outputId": "efa71a2a-85aa-471a-97cd-c65a2ef6fc02"
      },
      "source": [
        "maxpoints = 0\n",
        "minpoints = 100000\n",
        "for xin,yin in dataset:\n",
        "  x = yin[:,0]\n",
        "  y = yin[:,1]\n",
        "  t = np.linspace(0,1,1000)\n",
        "  z = t\n",
        "\n",
        "  print(x.shape,y.shape,z.shape)\n",
        "  print(type(x),type(y),type(z))\n",
        "  # spline parameters\n",
        "  s=1 # smoothness parameter\n",
        "  k=3 # spline order\n",
        "  nest=-1 # estimate of number of knots needed (-1 = maximal)\n",
        "\n",
        "  # find the knot points\n",
        "  tck,u = splprep([x.cpu().numpy(),y.cpu().numpy(),z],s=s,k=k,nest=nest)\n",
        "  print(len(tck[1][0]),len(tck[1][1]))\n",
        "  # evaluate spline, including interpolated points\n",
        "  #tck[0] = np.linspace(0,1,35)\n",
        "  #tck[0][:4]=0\n",
        "  #tck[0][-4:]=1\n",
        "  xnew,ynew,znew = splev(linspace(0,1,4000),tck)\n",
        "\n",
        "  print(tck[0].shape)\n",
        "  maxpoints = max(maxpoints,tck[1][0].shape[0])\n",
        "  minpoints = min(minpoints,tck[1][0].shape[0])\n",
        "  print(tck[1][0].shape)\n",
        "  print(tck[1][1].shape)\n",
        "  print(tck[2])\n",
        "  ascatter = plt.scatter(xnew,ynew,s=10)\n",
        "  ascatter = plt.scatter(tck[1][0],tck[1][1],s=1)\n",
        "  plt.gca().add_artist(ascatter)\n",
        "  plt.show()\n",
        "  break"
      ],
      "execution_count": 11,
      "outputs": [
        {
          "output_type": "stream",
          "text": [
            "torch.Size([1000]) torch.Size([1000]) (1000,)\n",
            "<class 'torch.Tensor'> <class 'torch.Tensor'> <class 'numpy.ndarray'>\n",
            "9 9\n",
            "(13,)\n",
            "(9,)\n",
            "(9,)\n",
            "3\n"
          ],
          "name": "stdout"
        },
        {
          "output_type": "display_data",
          "data": {
            "image/png": "[encoded data removed]",
            "text/plain": [
              "<Figure size 432x288 with 1 Axes>"
            ]
          },
          "metadata": {
            "tags": [],
            "needs_background": "light"
          }
        }
      ]
    },
    {
      "cell_type": "code",
      "metadata": {
        "colab": {
          "base_uri": "https://localhost:8080/"
        },
        "id": "Yf07LNySc7Aa",
        "outputId": "e136ee6d-ca5d-44b3-fda0-0839014641ca"
      },
      "source": [
        "print('minpoints',minpoints)\n",
        "print('maxpoints',maxpoints)"
      ],
      "execution_count": 12,
      "outputs": [
        {
          "output_type": "stream",
          "text": [
            "minpoints 9\n",
            "maxpoints 9\n"
          ],
          "name": "stdout"
        }
      ]
    },
    {
      "cell_type": "code",
      "metadata": {
        "id": "mhnM2uQKh0Za"
      },
      "source": [
        "import torch\n",
        "import torch.nn as nn\n",
        "from torch.hub import load_state_dict_from_url\n",
        "\n",
        "class MLP(nn.Module):\n",
        "    def __init__(self):\n",
        "        super(MLP, self).__init__()\n",
        "        self.hidden_dim = 1*32*32\n",
        "        self.control_pointsx =  nn.Sequential(\n",
        "            nn.Dropout(),\n",
        "            nn.Linear(self.hidden_dim, self.hidden_dim),\n",
        "            nn.ReLU(True),\n",
        "            nn.Dropout(),\n",
        "            nn.Linear(self.hidden_dim, self.hidden_dim),\n",
        "            nn.ReLU(True),\n",
        "            nn.Dropout(),\n",
        "            nn.Linear(self.hidden_dim, self.hidden_dim),\n",
        "            nn.Sigmoid()\n",
        "        )\n",
        "        self.control_pointsy =  nn.Sequential(\n",
        "            nn.Dropout(),\n",
        "            nn.Linear(self.hidden_dim, self.hidden_dim),\n",
        "            nn.ReLU(True),\n",
        "            nn.Dropout(),\n",
        "            nn.Linear(self.hidden_dim, self.hidden_dim),\n",
        "            nn.ReLU(True),\n",
        "            nn.Dropout(),\n",
        "            nn.Linear(self.hidden_dim, self.hidden_dim),\n",
        "            nn.Sigmoid()\n",
        "        )\n",
        "        self.spline_params =  nn.Sequential(\n",
        "            nn.Dropout(),\n",
        "            nn.Linear(self.hidden_dim, self.hidden_dim),\n",
        "            nn.ReLU(True),\n",
        "            nn.Dropout(),\n",
        "            nn.Linear(self.hidden_dim, self.hidden_dim),\n",
        "            nn.ReLU(True),\n",
        "            nn.Dropout(),\n",
        "            nn.Linear(self.hidden_dim, self.hidden_dim),\n",
        "            nn.Sigmoid()\n",
        "        )\n",
        "\n",
        "        self.maskc =  nn.Sequential(\n",
        "            nn.Dropout(),\n",
        "            nn.Linear(self.hidden_dim, self.hidden_dim),\n",
        "            nn.ReLU(True),\n",
        "            nn.Dropout(),\n",
        "            nn.Linear(self.hidden_dim, self.hidden_dim),\n",
        "            nn.ReLU(True),\n",
        "            nn.Dropout(),\n",
        "            nn.Linear(self.hidden_dim, self.hidden_dim),\n",
        "            nn.Sigmoid()\n",
        "        )\n",
        "\n",
        "        self.maskp =  nn.Sequential(\n",
        "            nn.Dropout(),\n",
        "            nn.Linear(self.hidden_dim, self.hidden_dim),\n",
        "            nn.ReLU(True),\n",
        "            nn.Dropout(),\n",
        "            nn.Linear(self.hidden_dim, self.hidden_dim),\n",
        "            nn.ReLU(True),\n",
        "            nn.Dropout(),\n",
        "            nn.Linear(self.hidden_dim, self.hidden_dim),\n",
        "            nn.Sigmoid()\n",
        "        )\n",
        "\n",
        "        self.mlp = nn.Sequential(\n",
        "            nn.Linear(self.hidden_dim, self.hidden_dim),\n",
        "            nn.ReLU(True),\n",
        "            nn.Dropout(),\n",
        "            nn.Linear(self.hidden_dim, self.hidden_dim),\n",
        "            nn.ReLU(True),\n",
        "            nn.Dropout(),\n",
        "            nn.Linear(self.hidden_dim, self.hidden_dim),\n",
        "            nn.ReLU(True)\n",
        "        )\n",
        "\n",
        "    def forward(self, x):\n",
        "        \n",
        "        x = x.squeeze()\n",
        "        x = torch.flatten(x,start_dim=1)\n",
        "        latent = self.mlp(x)\n",
        "        return 32.0*self.control_pointsx(latent),32.0*self.control_pointsy(latent),self.maskc(latent)#,self.spline_params(latent),self.maskp(latent)\n"
      ],
      "execution_count": 13,
      "outputs": []
    },
    {
      "cell_type": "code",
      "metadata": {
        "id": "zU5hk3CFK4ta"
      },
      "source": [
        "model = MLP().cuda()\n",
        "optimizer = torch.optim.Adam(model.parameters(),lr = 0.0001, betas = (.9,.999))\n"
      ],
      "execution_count": 22,
      "outputs": []
    },
    {
      "cell_type": "code",
      "metadata": {
        "id": "ABD0dTWLJWgw",
        "colab": {
          "base_uri": "https://localhost:8080/"
        },
        "outputId": "bfeecc9a-9559-4592-c6fe-7feb6ad843e6"
      },
      "source": [
        "from torch.utils import data\n",
        "from torch.utils.data import DataLoader, TensorDataset, RandomSampler\n",
        "\n",
        "mini_batch = 64\n",
        "loader_train = data.DataLoader(\n",
        "    dataset, \n",
        "    batch_size=mini_batch,\n",
        "    sampler=RandomSampler(data_source=dataset),\n",
        "    num_workers=4)\n"
      ],
      "execution_count": 23,
      "outputs": [
        {
          "output_type": "stream",
          "text": [
            "/usr/local/lib/python3.7/dist-packages/torch/utils/data/dataloader.py:477: UserWarning: This DataLoader will create 4 worker processes in total. Our suggested max number of worker in current system is 2, which is smaller than what this DataLoader is going to create. Please be aware that excessive worker creation might get DataLoader running slow or even freeze, lower the worker number to avoid potential slowness/freeze if necessary.\n",
            "  cpuset_checked))\n"
          ],
          "name": "stderr"
        }
      ]
    },
    {
      "cell_type": "code",
      "metadata": {
        "id": "csGN_-2FQg_e",
        "colab": {
          "base_uri": "https://localhost:8080/"
        },
        "outputId": "d7ce93c7-e945-4beb-ab9b-7db4431a56bf"
      },
      "source": [
        "for xin,yin in loader_train:\n",
        "  print('yin', yin.shape)\n",
        "  xin = xin.cuda()\n",
        "  out = model(xin)\n",
        "  print('out', out[0].shape, out[1].shape, out[2].shape)\n",
        "  x = yin[:,:,0]\n",
        "  y = yin[:,:,1]\n",
        "  t = np.array([np.linspace(0,1,1000) for i in range(64)])\n",
        "  z = t\n",
        "  # spline parameters\n",
        "  s=1 # smoothness parameter\n",
        "  k=3 # spline order\n",
        "  nest=-1 # estimate of number of knots needed (-1 = maximal)\n",
        "\n",
        "  print('xyz',x.shape, y.shape, t.shape)\n",
        "  # find the knot points\n",
        "  print(x[0,:].shape,y[0,:].shape)\n",
        "  tck_u = [splprep([x[i,:].cpu().numpy(),y[i,:].cpu().numpy(),z[i,:]],s=s,k=k,nest=nest) for i in range(64)]#64, 2, 3 \n",
        "  assert len(tck_u)==64\n",
        "  assert len(tck_u[0])==2\n",
        "  tck = [tck_u[i][0] for i in range(64)]\n",
        "  #tck,u = splprep([x[0,:].cpu().numpy(),y[0,:].cpu().numpy(),z[0,:]],s=s,k=k,nest=nest)\n",
        "  print(len(tck[0][1][0]),len(tck[0][1][1]))\n",
        "  assert len(tck[0][1][0])==len(tck[0][1][1])\n",
        "  gtmasks = torch.zeros((64,1024)).cuda()\n",
        "  gtxs = torch.zeros((64,1024)).cuda()\n",
        "  gtys = torch.zeros((64,1024)).cuda()\n",
        "  for i in range(64):\n",
        "    gtxt = torch.from_numpy(tck[i][1][0]).cuda()\n",
        "    gtx = torch.zeros(1024).cuda()\n",
        "    gtx[:gtxt.shape[0]] = gtxt\n",
        "    gty = torch.zeros(1024).cuda()\n",
        "    gty[:gtxt.shape[0]] = torch.from_numpy(tck[i][1][1]).cuda()\n",
        "    gtmask = torch.zeros(1024).cuda()\n",
        "    gtmask[:gtxt.shape[0]] = 1.0\n",
        "\n",
        "    gtxs[i,:] = gtx\n",
        "    gtys[i,:] = gty\n",
        "    gtmasks[i,:] = gtmask\n",
        "  \n",
        "  out0 = out[0]\n",
        "  out1 = out[1]\n",
        "  out2 = out[2]\n",
        "\n",
        "  out0 = out0*out2#multiply by mask\n",
        "  out1 = out1*out2#multiply by mask\n",
        "  loss = torch.mean((gtmasks-out2)**2+(gtxs-out0)**2+(gtys-out1)**2)/3.0\n",
        "  loss.backward()\n",
        "  optimizer.step()\n",
        "\n",
        "  print(loss)\n",
        "  \n",
        "  break \n"
      ],
      "execution_count": 31,
      "outputs": [
        {
          "output_type": "stream",
          "text": [
            "/usr/local/lib/python3.7/dist-packages/torch/utils/data/dataloader.py:477: UserWarning: This DataLoader will create 4 worker processes in total. Our suggested max number of worker in current system is 2, which is smaller than what this DataLoader is going to create. Please be aware that excessive worker creation might get DataLoader running slow or even freeze, lower the worker number to avoid potential slowness/freeze if necessary.\n",
            "  cpuset_checked))\n"
          ],
          "name": "stderr"
        },
        {
          "output_type": "stream",
          "text": [
            "yin torch.Size([64, 1000, 3])\n",
            "out torch.Size([64, 1024]) torch.Size([64, 1024]) torch.Size([64, 1024])\n",
            "xyz torch.Size([64, 1000]) torch.Size([64, 1000]) (64, 1000)\n",
            "torch.Size([1000]) torch.Size([1000])\n",
            "193 193\n",
            "tensor(44.6840, device='cuda:0', grad_fn=<DivBackward0>)\n"
          ],
          "name": "stdout"
        }
      ]
    },
    {
      "cell_type": "code",
      "metadata": {
        "id": "ECzW35oDRfUU"
      },
      "source": [
        "#ascatter = plt.scatter(tck[1][0],tck[1][1],s=1)\n"
      ],
      "execution_count": 18,
      "outputs": []
    },
    {
      "cell_type": "code",
      "metadata": {
        "id": "CvWGS8wbIU-t"
      },
      "source": [
        ""
      ],
      "execution_count": null,
      "outputs": []
    }
  ]
}