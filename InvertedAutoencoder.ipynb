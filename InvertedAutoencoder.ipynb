{
  "nbformat": 4,
  "nbformat_minor": 0,
  "metadata": {
    "colab": {
      "name": "InvertedAutoencoder.ipynb",
      "provenance": [],
      "authorship_tag": "ABX9TyMV25KzKYWy53LcFkq514eE",
      "include_colab_link": true
    },
    "kernelspec": {
      "name": "python3",
      "display_name": "Python 3"
    },
    "language_info": {
      "name": "python"
    },
    "accelerator": "GPU"
  },
  "cells": [
    {
      "cell_type": "markdown",
      "metadata": {
        "id": "view-in-github",
        "colab_type": "text"
      },
      "source": [
        "<a href=\"https://colab.research.google.com/github/WilliamAshbee/splineexample/blob/main/InvertedAutoencoder.ipynb\" target=\"_parent\"><img src=\"https://colab.research.google.com/assets/colab-badge.svg\" alt=\"Open In Colab\"/></a>"
      ]
    },
    {
      "cell_type": "code",
      "metadata": {
        "id": "GbFxWD7GyBi6"
      },
      "source": [
        "# import packages\n",
        "import os\n",
        "import torch \n",
        "import torchvision\n",
        "import torch.nn as nn\n",
        "import torchvision.transforms as transforms\n",
        "import torch.optim as optim\n",
        "import matplotlib.pyplot as plt\n",
        "import torch.nn.functional as F\n",
        " \n",
        "from torchvision import datasets\n",
        "from torch.utils.data import DataLoader\n",
        "from torchvision.utils import save_image"
      ],
      "execution_count": 10,
      "outputs": []
    },
    {
      "cell_type": "code",
      "metadata": {
        "id": "q8EuwEvQyCFE"
      },
      "source": [
        "#https://debuggercafe.com/implementing-deep-autoencoder-in-pytorch/"
      ],
      "execution_count": 11,
      "outputs": []
    },
    {
      "cell_type": "code",
      "metadata": {
        "id": "QptJ6eVwyEUI"
      },
      "source": [
        "# constants\n",
        "NUM_EPOCHS = 10\n",
        "LEARNING_RATE = 1e-3\n",
        "BATCH_SIZE = 128\n",
        "\n",
        "# image transformations\n",
        "transform = transforms.Compose([\n",
        "    transforms.ToTensor(),\n",
        "])"
      ],
      "execution_count": 12,
      "outputs": []
    },
    {
      "cell_type": "code",
      "metadata": {
        "id": "mw6frkcgyIeA"
      },
      "source": [
        "trainset = datasets.FashionMNIST(\n",
        "    root='./data',\n",
        "    train=True, \n",
        "    download=True,\n",
        "    transform=transform\n",
        ")\n",
        "testset = datasets.FashionMNIST(\n",
        "    root='./data',\n",
        "    train=False,\n",
        "    download=True,\n",
        "    transform=transform\n",
        ")\n",
        "trainloader = DataLoader(\n",
        "    trainset, \n",
        "    batch_size=BATCH_SIZE,\n",
        "    shuffle=True\n",
        ")\n",
        "testloader = DataLoader(\n",
        "    testset, \n",
        "    batch_size=BATCH_SIZE, \n",
        "    shuffle=True\n",
        ")"
      ],
      "execution_count": 13,
      "outputs": []
    },
    {
      "cell_type": "code",
      "metadata": {
        "id": "y74ChltuyL3-"
      },
      "source": [
        "# utility functions\n",
        "def get_device():\n",
        "    if torch.cuda.is_available():\n",
        "        device = 'cuda:0'\n",
        "    else:\n",
        "        device = 'cpu'\n",
        "    return device\n",
        "def make_dir():\n",
        "    image_dir = 'FashionMNIST_Images'\n",
        "    if not os.path.exists(image_dir):\n",
        "        os.makedirs(image_dir)\n",
        "def save_decoded_image(img, epoch):\n",
        "    img = img.view(img.size(0), 1, 28, 28)\n",
        "    save_image(img, './FashionMNIST_Images/linear_ae_image{}.png'.format(epoch))"
      ],
      "execution_count": 14,
      "outputs": []
    },
    {
      "cell_type": "code",
      "metadata": {
        "colab": {
          "base_uri": "https://localhost:8080/"
        },
        "id": "02-tD4ToyPvS",
        "outputId": "596a7f6f-87bb-44f4-ddae-5903d8d26795"
      },
      "source": [
        "class Autoencoder(nn.Module):\n",
        "    def __init__(self):\n",
        "        super(Autoencoder, self).__init__()\n",
        "\n",
        "        # encoder\n",
        "        ins = 784\n",
        "        self.enc1 = nn.Linear(in_features=ins, out_features=ins*3)\n",
        "        self.enc2 = nn.Linear(in_features=ins*3, out_features=ins*6)\n",
        "\n",
        "        # decoder \n",
        "        self.dec4 = nn.Linear(in_features=ins*6, out_features=ins*3)\n",
        "        self.dec5 = nn.Linear(in_features=ins*3, out_features=ins)\n",
        "\n",
        "    def forward(self, x):\n",
        "        x = F.relu(self.enc1(x))\n",
        "        x = F.relu(self.enc2(x))\n",
        "\n",
        "        x = F.relu(self.dec4(x))\n",
        "        x = F.relu(self.dec5(x))\n",
        "        return x\n",
        "\n",
        "net = Autoencoder()\n",
        "print(net)\n"
      ],
      "execution_count": 35,
      "outputs": [
        {
          "output_type": "stream",
          "text": [
            "Autoencoder(\n",
            "  (enc1): Linear(in_features=784, out_features=2352, bias=True)\n",
            "  (enc2): Linear(in_features=2352, out_features=4704, bias=True)\n",
            "  (dec4): Linear(in_features=4704, out_features=2352, bias=True)\n",
            "  (dec5): Linear(in_features=2352, out_features=784, bias=True)\n",
            ")\n"
          ],
          "name": "stdout"
        }
      ]
    },
    {
      "cell_type": "code",
      "metadata": {
        "id": "bG9430ljyTNu"
      },
      "source": [
        "criterion = nn.MSELoss()\n",
        "optimizer = optim.Adam(net.parameters(), lr=LEARNING_RATE)\n"
      ],
      "execution_count": 36,
      "outputs": []
    },
    {
      "cell_type": "code",
      "metadata": {
        "id": "d16ZgrODyWv6"
      },
      "source": [
        ""
      ],
      "execution_count": 36,
      "outputs": []
    },
    {
      "cell_type": "code",
      "metadata": {
        "colab": {
          "base_uri": "https://localhost:8080/",
          "height": 485
        },
        "id": "YswR8fB0ya7S",
        "outputId": "4bccd367-0cca-4219-9cde-deb816f9691f"
      },
      "source": [
        "# get the computation device\n",
        "device = torch.device(\"cuda\")\n",
        "#get_device()\n",
        "print(device)\n",
        "# load the neural network onto the device\n",
        "net.to(device)\n",
        "make_dir()\n",
        "# train the network\n",
        "train_loss = train(net, trainloader, NUM_EPOCHS)\n",
        "plt.figure()\n",
        "plt.plot(train_loss)\n",
        "plt.title('Train Loss')\n",
        "plt.xlabel('Epochs')\n",
        "plt.ylabel('Loss')\n",
        "plt.savefig('deep_ae_fashionmnist_loss.png')\n",
        "# test the network\n",
        "test_image_reconstruction(net, testloader)"
      ],
      "execution_count": 37,
      "outputs": [
        {
          "output_type": "stream",
          "text": [
            "cuda\n",
            "Epoch 1 of 10, Train Loss: 0.037\n",
            "Epoch 2 of 10, Train Loss: 0.018\n",
            "Epoch 3 of 10, Train Loss: 0.015\n",
            "Epoch 4 of 10, Train Loss: 0.013\n",
            "Epoch 5 of 10, Train Loss: 0.012\n",
            "Epoch 6 of 10, Train Loss: 0.011\n",
            "Epoch 7 of 10, Train Loss: 0.011\n",
            "Epoch 8 of 10, Train Loss: 0.010\n",
            "Epoch 9 of 10, Train Loss: 0.010\n",
            "Epoch 10 of 10, Train Loss: 0.009\n"
          ],
          "name": "stdout"
        },
        {
          "output_type": "display_data",
          "data": {
            "image/png": "[encoded data removed]",
            "text/plain": [
              "<Figure size 432x288 with 1 Axes>"
            ]
          },
          "metadata": {
            "tags": [],
            "needs_background": "light"
          }
        }
      ]
    },
    {
      "cell_type": "code",
      "metadata": {
        "id": "oiKR3H2VyfeA"
      },
      "source": [
        ""
      ],
      "execution_count": 18,
      "outputs": []
    }
  ]
}