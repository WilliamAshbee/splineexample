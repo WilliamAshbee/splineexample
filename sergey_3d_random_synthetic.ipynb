{
  "nbformat": 4,
  "nbformat_minor": 0,
  "metadata": {
    "colab": {
      "name": "sergey-3d-random-synthetic.ipynb",
      "provenance": [],
      "authorship_tag": "ABX9TyPFY2fYyzF5/EVrVYgG9Kip",
      "include_colab_link": true
    },
    "kernelspec": {
      "name": "python3",
      "display_name": "Python 3"
    },
    "language_info": {
      "name": "python"
    }
  },
  "cells": [
    {
      "cell_type": "markdown",
      "metadata": {
        "id": "view-in-github",
        "colab_type": "text"
      },
      "source": [
        "<a href=\"https://colab.research.google.com/github/WilliamAshbee/splineexample/blob/main/sergey_3d_random_synthetic.ipynb\" target=\"_parent\"><img src=\"https://colab.research.google.com/assets/colab-badge.svg\" alt=\"Open In Colab\"/></a>"
      ]
    },
    {
      "cell_type": "code",
      "metadata": {
        "colab": {
          "base_uri": "https://localhost:8080/",
          "height": 899
        },
        "id": "t7la9CneP_gS",
        "outputId": "20c6a091-453b-475d-f478-184ef5f68ea6"
      },
      "source": [
        "\n",
        "\n",
        "!pip install ipdb"
      ],
      "execution_count": 8,
      "outputs": [
        {
          "output_type": "stream",
          "name": "stdout",
          "text": [
            "Collecting ipdb\n",
            "  Downloading ipdb-0.13.9.tar.gz (16 kB)\n",
            "Requirement already satisfied: setuptools in /usr/local/lib/python3.7/dist-packages (from ipdb) (57.4.0)\n",
            "Collecting ipython>=7.17.0\n",
            "  Downloading ipython-7.27.0-py3-none-any.whl (787 kB)\n",
            "\u001b[K     |████████████████████████████████| 787 kB 6.7 MB/s \n",
            "\u001b[?25hRequirement already satisfied: toml>=0.10.2 in /usr/local/lib/python3.7/dist-packages (from ipdb) (0.10.2)\n",
            "Requirement already satisfied: decorator in /usr/local/lib/python3.7/dist-packages (from ipdb) (4.4.2)\n",
            "Requirement already satisfied: pexpect>4.3 in /usr/local/lib/python3.7/dist-packages (from ipython>=7.17.0->ipdb) (4.8.0)\n",
            "Requirement already satisfied: pickleshare in /usr/local/lib/python3.7/dist-packages (from ipython>=7.17.0->ipdb) (0.7.5)\n",
            "Requirement already satisfied: pygments in /usr/local/lib/python3.7/dist-packages (from ipython>=7.17.0->ipdb) (2.6.1)\n",
            "Requirement already satisfied: matplotlib-inline in /usr/local/lib/python3.7/dist-packages (from ipython>=7.17.0->ipdb) (0.1.2)\n",
            "Collecting prompt-toolkit!=3.0.0,!=3.0.1,<3.1.0,>=2.0.0\n",
            "  Downloading prompt_toolkit-3.0.20-py3-none-any.whl (370 kB)\n",
            "\u001b[K     |████████████████████████████████| 370 kB 45.2 MB/s \n",
            "\u001b[?25hRequirement already satisfied: backcall in /usr/local/lib/python3.7/dist-packages (from ipython>=7.17.0->ipdb) (0.2.0)\n",
            "Requirement already satisfied: traitlets>=4.2 in /usr/local/lib/python3.7/dist-packages (from ipython>=7.17.0->ipdb) (5.0.5)\n",
            "Requirement already satisfied: jedi>=0.16 in /usr/local/lib/python3.7/dist-packages (from ipython>=7.17.0->ipdb) (0.18.0)\n",
            "Requirement already satisfied: parso<0.9.0,>=0.8.0 in /usr/local/lib/python3.7/dist-packages (from jedi>=0.16->ipython>=7.17.0->ipdb) (0.8.2)\n",
            "Requirement already satisfied: ptyprocess>=0.5 in /usr/local/lib/python3.7/dist-packages (from pexpect>4.3->ipython>=7.17.0->ipdb) (0.7.0)\n",
            "Requirement already satisfied: wcwidth in /usr/local/lib/python3.7/dist-packages (from prompt-toolkit!=3.0.0,!=3.0.1,<3.1.0,>=2.0.0->ipython>=7.17.0->ipdb) (0.2.5)\n",
            "Requirement already satisfied: ipython-genutils in /usr/local/lib/python3.7/dist-packages (from traitlets>=4.2->ipython>=7.17.0->ipdb) (0.2.0)\n",
            "Building wheels for collected packages: ipdb\n",
            "  Building wheel for ipdb (setup.py) ... \u001b[?25l\u001b[?25hdone\n",
            "  Created wheel for ipdb: filename=ipdb-0.13.9-py3-none-any.whl size=11648 sha256=7aa169091b6113f0c1dbf3d3927ec137c830cd734b96ac87f067614f9ca836e3\n",
            "  Stored in directory: /root/.cache/pip/wheels/65/cd/cc/aaf92acae337a28fdd2aa4d632196a59745c8c39f76eaeed01\n",
            "Successfully built ipdb\n",
            "Installing collected packages: prompt-toolkit, ipython, ipdb\n",
            "  Attempting uninstall: prompt-toolkit\n",
            "    Found existing installation: prompt-toolkit 1.0.18\n",
            "    Uninstalling prompt-toolkit-1.0.18:\n",
            "      Successfully uninstalled prompt-toolkit-1.0.18\n",
            "  Attempting uninstall: ipython\n",
            "    Found existing installation: ipython 5.5.0\n",
            "    Uninstalling ipython-5.5.0:\n",
            "      Successfully uninstalled ipython-5.5.0\n",
            "\u001b[31mERROR: pip's dependency resolver does not currently take into account all the packages that are installed. This behaviour is the source of the following dependency conflicts.\n",
            "jupyter-console 5.2.0 requires prompt-toolkit<2.0.0,>=1.0.0, but you have prompt-toolkit 3.0.20 which is incompatible.\n",
            "google-colab 1.0.0 requires ipython~=5.5.0, but you have ipython 7.27.0 which is incompatible.\u001b[0m\n",
            "Successfully installed ipdb-0.13.9 ipython-7.27.0 prompt-toolkit-3.0.20\n"
          ]
        },
        {
          "output_type": "display_data",
          "data": {
            "application/vnd.colab-display-data+json": {
              "pip_warning": {
                "packages": [
                  "IPython",
                  "prompt_toolkit"
                ]
              }
            }
          },
          "metadata": {}
        }
      ]
    },
    {
      "cell_type": "code",
      "metadata": {
        "id": "a64hvI_hT6sa"
      },
      "source": [
        "from scipy import *\n",
        "from math import *\n",
        "import numpy as np\n",
        "\n",
        "def clean_float(fnumber):\n",
        "    tol = 0.0000001\n",
        "    if fnumber < tol and fnumber > -1.0 * tol:\n",
        "        fnumber = 0.0\n",
        "    return fnumber\n",
        "\n",
        "def topology(frequency):\n",
        "    vertex = 3\n",
        "    for i in range(2,frequency+1):\n",
        "        vertex += i + 1\n",
        "    faces = frequency * frequency\n",
        "    edges = (vertex + faces) - 1\n",
        "    return [vertex, faces, edges]\n",
        "\n",
        "def vlabels(vertex,faces,edges,frequency):\n",
        "    labels = zeros([2,vertex + 1])\n",
        "    points = zeros([3,vertex + 1])\n",
        "    count = 1\n",
        "    for i in range(0,frequency + 1):\n",
        "        for j in range(0, i+1):\n",
        "            labels[0,count] = i\n",
        "            labels[1,count] = j\n",
        "            points[0,count] = j\n",
        "            points[1,count] = i - j\n",
        "            points[2,count] = frequency - i\n",
        "            count += 1\n",
        "    return [points,labels]\n",
        "\n",
        "def vcoords(points,labels,frequency):\n",
        "    DEG_TO_RAD = .0174532925199433\n",
        "    RAD_TO_DEG = 57.2957795130824    \n",
        "    results = points.copy()\n",
        "    results = results * 0.0\n",
        "    for i in range(1,size(points,1)):\n",
        "        X = points[0,i] * sin(72.0 * DEG_TO_RAD)\n",
        "        Y = points[1,i] + (points[0,i] * cos(72.0 * DEG_TO_RAD))\n",
        "        Z = frequency/2.0 + (points[2,i] / (2.0 * cos(36.0 * DEG_TO_RAD)))\n",
        "        if (X == Y):\n",
        "            results[0,i] = 0.0\n",
        "        elif Y == 0:\n",
        "            results[0,i] = 90.0\n",
        "        else:\n",
        "            results[0,i] = atan(X/Y) * RAD_TO_DEG\n",
        "        # adjust value to correct quadrant\n",
        "        if results[0,i] < 0.0:\n",
        "            results[0,i] += 180\n",
        "        # now calculate theta\n",
        "        if (Z == 0):\n",
        "            results[1,i] = 90.0\n",
        "        else:\n",
        "            results[1,i] = atan((pow(pow(X, 2.0) + pow(Y, 2.0), 0.5)) / Z) * RAD_TO_DEG\n",
        "        # make sure the right quadrant is used\n",
        "        if (results[1,i] < 0.0):\n",
        "            results[1,i] += 180.0\n",
        "        results[2,i] = 1\n",
        "    return results\n",
        "\n",
        "def oneface(labels,faceidx,vertex,count,i):\n",
        "    faceidx[0,count] = i\n",
        "    for j in range(i, vertex + 1):\n",
        "        if ((labels[0,j] == labels[0,i] + 1) and (labels[1,j] == labels[1,i])):\n",
        "            break\n",
        "    faceidx[1,count] = j\n",
        "    for k in range(i,vertex + 1):\n",
        "        if ((labels[0,k] == labels[0,j]) and (labels[1,k] == labels[1,j] + 1)):\n",
        "            break\n",
        "    faceidx[2,count] = k\n",
        "    return 0\n",
        "\n",
        "def twoface(labels,faceidx,vertex,count,i):\n",
        "    faceidx[0,count] = i\n",
        "    for j in range(i, vertex + 1):\n",
        "        if ((labels[0,j] == labels[0,i] + 1) and (labels[1,j] == labels[1,i] + 1)):\n",
        "            break\n",
        "    faceidx[1,count] = j\n",
        "    for k in range(i,vertex + 1):\n",
        "        if ((labels[0,k] == labels[0,j] - 1) and (labels[1,k] == labels[1,j])):\n",
        "            break\n",
        "    faceidx[2,count] = k\n",
        "    return 0\n",
        "            \n",
        "def face_factor(vertex,faces,frequency,labels):\n",
        "    faceidx = zeros([3,faces + 1])\n",
        "    count = 1\n",
        "    for i in range(1,vertex - (frequency + 1) + 1):\n",
        "        if (labels[0,i] == 0 and labels[1,i] == 0):\n",
        "            oneface(labels,faceidx,vertex,count,i)\n",
        "            count += 1\n",
        "        elif (labels[1,i] == 0):\n",
        "            oneface(labels,faceidx,vertex,count,i)            \n",
        "            count += 1             \n",
        "            twoface(labels,faceidx,vertex,count,i)\n",
        "            count += 1\n",
        "        elif (labels[1,i] == labels[0,i]):\n",
        "            oneface(labels,faceidx,vertex,count,i)            \n",
        "            count += 1\n",
        "        else:\n",
        "            oneface(labels,faceidx,vertex,count,i)\n",
        "            count += 1             \n",
        "            twoface(labels,faceidx,vertex,count,i)\n",
        "            count += 1             \n",
        "    return  faceidx\n",
        "\n",
        "def sphere2cart(vertices):\n",
        "    DEG_TO_RAD = .0174532925199433    \n",
        "    for i in range(1,size(vertices,1)):\n",
        "        sX = clean_float(cos(vertices[0,i] * DEG_TO_RAD) \\\n",
        "                         * sin(vertices[1,i] * DEG_TO_RAD))\n",
        "        sY = clean_float(sin(vertices[0,i] * DEG_TO_RAD) \\\n",
        "                         * sin(vertices[1,i] * DEG_TO_RAD))\n",
        "        sZ = clean_float(cos(vertices[1,i] * DEG_TO_RAD))\n",
        "        vertices[0,i] = sX\n",
        "        vertices[1,i] = sY\n",
        "        vertices[2,i] = sZ\n",
        "    return 0\n",
        "\n",
        "def points_facets(frequency):\n",
        "    [v,f,e] = topology(frequency)\n",
        "    [vp,lp] = vlabels(v,f,e,frequency)\n",
        "    vc = vcoords(vp,lp,frequency)\n",
        "    fidx = face_factor(v,f,frequency,lp)\n",
        "    sphere2cart(vc)\n",
        "    return [vc,fidx]\n",
        "\n",
        "# returns spherical point coordinates\n",
        "def spoints_facets(frequency):\n",
        "    [v,f,e] = topology(frequency)\n",
        "    [vp,lp] = vlabels(v,f,e,frequency)\n",
        "    vc = vcoords(vp,lp,frequency)    \n",
        "    fidx = face_factor(v,f,frequency,lp)\n",
        "    return [vc,fidx]\n",
        "\n",
        "def rotate_phi(phi, phi1, theta1, theta2):\n",
        "    DEG_TO_RAD = .0174532925199433\n",
        "    RAD_TO_DEG = 57.2957795130824        \n",
        "    result = (sin(theta1 * DEG_TO_RAD)* sin((phi-phi1) * DEG_TO_RAD)) \\\n",
        "             / sin(theta2 * DEG_TO_RAD)\n",
        "    if (result > 1.0):\n",
        "        result = 1.0\n",
        "    elif (result < -1.0):\n",
        "        result = -1.0    \n",
        "    return asin(result) * RAD_TO_DEG\n",
        "\n",
        "def rotate_theta(phi, phi1, theta, theta1):\n",
        "    DEG_TO_RAD = .0174532925199433\n",
        "    RAD_TO_DEG = 57.2957795130824        \n",
        "    result = cos(theta1 * DEG_TO_RAD) * cos(theta * DEG_TO_RAD) + \\\n",
        "             sin(theta1 * DEG_TO_RAD) * sin(theta * DEG_TO_RAD) * \\\n",
        "             cos((phi-phi1) * DEG_TO_RAD)\n",
        "    if (result > 1.0):\n",
        "        result = 1.0\n",
        "    elif (result < -1.0):\n",
        "        result = -1.0    \n",
        "    return acos(result) * RAD_TO_DEG    \n",
        "    \n",
        "def icosa_sphere(facenum,points):\n",
        "    RAD_TO_DEG = 57.2957795130824            \n",
        "    sphere_pnt = points.copy() * 0.0\n",
        "    if (facenum >= 0 and facenum <= 4):\n",
        "        for i in range(1,size(points,1)):\n",
        "            sphere_pnt[0,i] = points[0,i] + 72.0 * facenum\n",
        "            sphere_pnt[1,i] = points[1,i]\n",
        "            sphere_pnt[2,i] = 1.0\n",
        "    elif (facenum >= 5 and facenum <= 9):\n",
        "        k = facenum - 5\t\t#phi rotation factor        \n",
        "        for i in range(1,size(points,1)):        \n",
        "            sphere_pnt[1,i] = rotate_theta(36.0, points[0,i], \\\n",
        "                                           (180.0 - (atan(2.0) * RAD_TO_DEG)), \\\n",
        "                                           points[1,i])\n",
        "            sphere_pnt[0,i] = (rotate_phi(36.0, points[0,i], points[1,i], \\\n",
        "                                          sphere_pnt[1,i]) + 36.0) + 72.0 * k\n",
        "            sphere_pnt[2,i] = 1.0\n",
        "    elif (facenum >= 10 and facenum <= 14):\n",
        "        k = facenum - 10\t\t#phi rotation factor        \n",
        "        for i in range(1,size(points,1)):\n",
        "            sphere_pnt[1,i] = 180.0 - rotate_theta(36.0, points[0,i], \\\n",
        "                                                   (180.0 - (atan(2.0) * RAD_TO_DEG)), \\\n",
        "                                                   points[1,i])\n",
        "            sphere_pnt[0,i] = (rotate_phi(36.0, points[0,i], points[1,i], \\\n",
        "                                          sphere_pnt[1,i]) + 36.0) + 72.0 * k + 36.0\n",
        "            sphere_pnt[2,i] = 1.0\n",
        "    else:\n",
        "        k = facenum - 15\t\t#phi rotation factor        \n",
        "        for i in range(1,size(points,1)):            \n",
        "            sphere_pnt[0,i] = (points[0,i] + 72.0 * k) + 36.0\n",
        "            sphere_pnt[1,i] = 180.0 - points[1,i]\n",
        "            sphere_pnt[2,i] = 1.0\n",
        "    return sphere_pnt\n",
        "\n",
        "def icosphere(maxlevel, R):\n",
        "    [spoints,sfacets] = spoints_facets(maxlevel)\n",
        "    sfacets = sfacets - 1\n",
        "    pp = []\n",
        "    for fnum in range(0,20):\n",
        "        points = icosa_sphere(fnum,spoints)\n",
        "        sphere2cart(points)\n",
        "        points = points * R\n",
        "        pp.append(points)\n",
        "    return np.hstack(pp)"
      ],
      "execution_count": 13,
      "outputs": []
    },
    {
      "cell_type": "code",
      "metadata": {
        "colab": {
          "base_uri": "https://localhost:8080/"
        },
        "id": "GRUGVIoUQQ8B",
        "outputId": "18071e46-8621-44e5-db70-c226e7b8edb2"
      },
      "source": [
        "!pip install icosahedron"
      ],
      "execution_count": 1,
      "outputs": [
        {
          "output_type": "stream",
          "name": "stdout",
          "text": [
            "\u001b[31mERROR: Could not find a version that satisfies the requirement icosahedron (from versions: none)\u001b[0m\n",
            "\u001b[31mERROR: No matching distribution found for icosahedron\u001b[0m\n"
          ]
        }
      ]
    },
    {
      "cell_type": "code",
      "metadata": {
        "id": "beIbnr9kMt49"
      },
      "source": [
        "from scipy.special import iv as besseli\n",
        "import pylab as plt\n",
        "import numpy as np\n",
        "import ipdb\n",
        "import matplotlib.pyplot as plt\n",
        "from mpl_toolkits.mplot3d import Axes3D\n",
        "#import icosahedron as ico\n",
        "\n",
        "def vmf(mu, kappa, x):\n",
        "    # single point function\n",
        "    d = mu.shape[0]\n",
        "    # compute in the log space\n",
        "    logvmf = (d//2-1) * np.log(kappa) - np.log((2*np.pi)**(d/2)*besseli(d//2-1,kappa)) + kappa * np.dot(mu,x)\n",
        "    return np.exp(logvmf)\n",
        "\n",
        "def apply_vmf(x, mu, kappa, norm=1.0):\n",
        "    delta = 1.0+vmf(mu, kappa, x)\n",
        "    y = x * np.vstack([np.power(delta,3)]*x.shape[0])\n",
        "    return y\n",
        "\n",
        "plt.clf()\n",
        "\n",
        "ax = plt.axes(projection ='3d')\n",
        "numbumps = 1\n",
        "\n",
        "w = np.random.rand(numbumps)\n",
        "print('w',w.shape)\n",
        "w = w/np.sum(w)\n",
        "x = icosphere(30, 1.3) #np.random.randn(3,5000)\n",
        "print('x',x.shape)\n",
        "\n",
        "xnormed = x/np.linalg.norm(x, axis=0)\n",
        "print('xnormed',xnormed.shape)\n",
        "\n",
        "xx = xnormed.copy()*0\n",
        "print('xx',xx.shape)\n",
        "\n",
        "for i in range(numbumps):\n",
        "    kappa = np.random.randint(1, 200)\n",
        "    #print('kappa',kappa.shape)\n",
        "\n",
        "    mu = np.random.randn(3); mu = mu/np.linalg.norm(mu)\n",
        "    print('mu',mu.shape)\n",
        "\n",
        "    y = apply_vmf(xnormed, mu, kappa)\n",
        "    print('y',y.shape)\n",
        "\n",
        "    xx += w[i]*y\n",
        "    print('xx',xx.shape)\n",
        "\n",
        "ax.scatter(xx[0,:], xx[1,:], xx[2,:], c=np.linalg.norm(xx,axis=0)-1, s=0.5, cmap=plt.cm.inferno)\n",
        "\n",
        "#plt.gca().set_aspect(1)\n",
        "#plt.axis('off')\n",
        "plt.show()\n"
      ],
      "execution_count": null,
      "outputs": []
    },
    {
      "cell_type": "code",
      "metadata": {
        "colab": {
          "base_uri": "https://localhost:8080/"
        },
        "id": "8NzjjXmHMzAu",
        "outputId": "65a0ce8d-df38-4859-f884-ff256187b07b"
      },
      "source": [
        "xx.shape"
      ],
      "execution_count": 20,
      "outputs": [
        {
          "output_type": "execute_result",
          "data": {
            "text/plain": [
              "(3, 9940)"
            ]
          },
          "metadata": {},
          "execution_count": 20
        }
      ]
    },
    {
      "cell_type": "code",
      "metadata": {
        "id": "Eo8Hrob4o63m"
      },
      "source": [
        ""
      ],
      "execution_count": null,
      "outputs": []
    }
  ]
}