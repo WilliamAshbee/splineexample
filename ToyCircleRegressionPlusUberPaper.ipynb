{
  "nbformat": 4,
  "nbformat_minor": 0,
  "metadata": {
    "colab": {
      "name": "ToyCircleRegressionPlusUberPaper.ipynb",
      "provenance": [],
      "authorship_tag": "ABX9TyMfxR7pTdblLc0MF0fzOZgF",
      "include_colab_link": true
    },
    "kernelspec": {
      "name": "python3",
      "display_name": "Python 3"
    },
    "language_info": {
      "name": "python"
    },
    "accelerator": "GPU"
  },
  "cells": [
    {
      "cell_type": "markdown",
      "metadata": {
        "id": "view-in-github",
        "colab_type": "text"
      },
      "source": [
        "<a href=\"https://colab.research.google.com/github/WilliamAshbee/splineexample/blob/main/ToyCircleRegressionPlusUberPaper.ipynb\" target=\"_parent\"><img src=\"https://colab.research.google.com/assets/colab-badge.svg\" alt=\"Open In Colab\"/></a>"
      ]
    },
    {
      "cell_type": "code",
      "metadata": {
        "id": "Le3p2NWe4jSd"
      },
      "source": [
        "#create image of circle, log values of theta or scaled [0,1]"
      ],
      "execution_count": null,
      "outputs": []
    },
    {
      "cell_type": "code",
      "metadata": {
        "id": "SROJ6PAG7hx6"
      },
      "source": [
        ""
      ],
      "execution_count": null,
      "outputs": []
    },
    {
      "cell_type": "code",
      "metadata": {
        "colab": {
          "base_uri": "https://localhost:8080/",
          "height": 265
        },
        "id": "pPJLPR-jCBtx",
        "outputId": "d2b3884f-6e3f-4111-b236-d2056ab94f94"
      },
      "source": [
        "import torch\n",
        "import numpy as np\n",
        "import pylab as plt\n",
        "from skimage import filters\n",
        "import math\n",
        "\n",
        "global numpoints\n",
        "numpoints = 1000\n",
        "side = 32\n",
        "\n",
        "rows = torch.zeros(32,32)\n",
        "columns = torch.zeros(32,32)\n",
        "\n",
        "\n",
        "for i in range(32):\n",
        "    columns[:,i] = i\n",
        "    rows[i,:] = i\n",
        "\n",
        "\n",
        "def donut_matrix(length = 10):\n",
        "    radiusMax = side /3\n",
        "    w = 1\n",
        "    sigmas = [None, 1]\n",
        "    \n",
        "    canvas = torch.zeros((length,side, side))\n",
        "    r0 = torch.tensor(np.random.uniform(side/4, side/3, length))\n",
        "\n",
        "    radii = torch.zeros((length,numpoints))\n",
        "    radii[:, :] = r0.unsqueeze(1)\n",
        "    \n",
        "    ind = [x for x in range(numpoints)]\n",
        "\n",
        "    theta = torch.FloatTensor(ind)\n",
        "    theta *= math.pi*2.0/(float)(numpoints)\n",
        "    \n",
        "    for i in range(1,length):\n",
        "        a = np.random.uniform(1.0,3.0)*torch.sin(np.random.uniform(20.0)*theta+np.random.uniform(1000.0))\n",
        "        #a = 4.0*torch.sin(10.0*theta)\n",
        "        #print(a.shape,torch.max(a))\n",
        "        radii[i,:] += a\n",
        "        #print(radii.shape, torch.max(radii))\n",
        "    \n",
        "    assert torch.min(radii)>0\n",
        "    #print(radii.max(axis = 0)[0].shape)\n",
        "    rmaxs = radii.max(axis = 1)[0]\n",
        "    pmins = rmaxs+1.0\n",
        "    pmaxs = side-rmaxs-1.0\n",
        "    x0 = np.random.uniform(pmins,pmaxs)\n",
        "    y0 = np.random.uniform(pmins,pmaxs)\n",
        "    x0[:]=side/2\n",
        "    y0[:]=side/2\n",
        "    x0 = torch.tensor(x0)\n",
        "    y0 = torch.tensor(y0)\n",
        "    \n",
        "    x0 = x0.unsqueeze(1)\n",
        "    y0 = y0.unsqueeze(1)\n",
        "    #radii = torch.from_numpy(radii)\n",
        "    xrfactors = torch.cos(theta).unsqueeze(0)\n",
        "    yrfactors = torch.sin(theta).unsqueeze(0)\n",
        "    \n",
        "    print('x0_y0_r_xrf_yrf',x0.shape,y0.shape,radii.shape,xrfactors.shape,yrfactors.shape)\n",
        "\n",
        "    x = (x0+(xrfactors*radii))\n",
        "    y = (y0+(yrfactors*radii))\n",
        "    assert x.shape == (length,numpoints)\n",
        "    assert y.shape == (length,numpoints)\n",
        "    assert torch.sum(x[x>(side-1)])==0 \n",
        "    assert torch.sum(x[x<0])==0 \n",
        "    assert torch.sum(y[y>(side-1)])==0 \n",
        "    assert torch.sum(y[y<0])==0 \n",
        "    \n",
        "    points = torch.zeros(length,numpoints,2)\n",
        "    for l in range(length):\n",
        "        canvas[l,y[l,:].type(torch.LongTensor),x[l,:].type(torch.LongTensor)]=1.0\n",
        "        points[l,:,0] = x[l,:]#modified for lstm discriminator\n",
        "        points[l,:,1] = y[l,:]#modified for lstm discriminator \n",
        "    \n",
        "    \n",
        "    return {\n",
        "        'canvas': canvas, \n",
        "        'points':points.type(torch.FloatTensor)}\n",
        "\n",
        "\n",
        "def plot_all( sample = None, model = None, labels = None):\n",
        "    img = sample[:,:].squeeze().cpu().numpy()\n",
        "    #img = img.T\n",
        "    plt.imshow(img, cmap=plt.cm.gray_r)\n",
        "    if model != None:\n",
        "        with torch.no_grad():\n",
        "            global numpoints\n",
        "\n",
        "            #print(\"sample\", sample.shape)\n",
        "            sample = torch.stack([sample for i in range(64)],dim = 0).cuda()\n",
        "            pred = model(sample,torch.zeros(64,1000,2).cuda())#come back to this\n",
        "            #print('pred', pred.shape)\n",
        "            predres = numpoints\n",
        "            X = pred[0,:,0]\n",
        "            Y = pred[0,:,1]\n",
        "            \n",
        "            s = [.001 for x in range(predres)]\n",
        "            \n",
        "            assert len(s) == predres\n",
        "            c = ['red' for x in range(predres)]\n",
        "            assert len(c) == predres\n",
        "            Y = Y.cuda()\n",
        "            X = X.cuda()\n",
        "            #print(\"type\",type(X))\n",
        "            ascatter = plt.scatter(X.cpu().numpy(),Y.cpu().numpy(),s = s,c = c)\n",
        "            plt.gca().add_artist(ascatter)\n",
        "    else:\n",
        "        #print(labels.shape)\n",
        "        X = labels[:,0]\n",
        "        Y = labels[:,1]\n",
        "        #print(X.shape)\n",
        "        #print(Y.shape)\n",
        "        s = [.001 for x in range(numpoints)]\n",
        "        #print(len(s))\n",
        "        c = ['red' for x in range(numpoints)]\n",
        "        #print(len(c))\n",
        "        ascatter = plt.scatter(X.cpu().numpy(),Y.cpu().numpy(),s = s,c = c)\n",
        "        plt.gca().add_artist(ascatter)\n",
        "\n",
        "class DonutDataset(torch.utils.data.Dataset):\n",
        "    \"\"\"Donut dataset.\"\"\"\n",
        "    def __init__(self, length = 10):\n",
        "        \"\"\"\n",
        "        Args:\n",
        "            csv_file (string): Path to the csv file with annotations.\n",
        "            root_dir (string): Directory with all the images.\n",
        "            transform (callable, optional): Optional transform to be applied\n",
        "                on a sample.\n",
        "        \"\"\"\n",
        "        self.length = length\n",
        "        self.values = donut_matrix(length)\n",
        "        assert self.values['canvas'].shape[0] == self.length\n",
        "        assert self.values['points'].shape[0] == self.length\n",
        "        \n",
        "        count = 0\n",
        "        for i in range(self.length):\n",
        "          a = self[i]\n",
        "          c = a[0]\n",
        "          for el in a[1]:\n",
        "            #print(c[(int)(el[1]),(int)(el[0])].item())\n",
        "            #assert c[(int)(el[1]),(int)(el[0])].item() == 1\n",
        "            y,x = (int)(el[1]),(int)(el[0])\n",
        "            if x < side-2 and x > 2 and y < side-2 and y > 2: \n",
        "              if c[y,x] != 1 and \\\n",
        "                c[y+1,x] != 1 and c[y+1,-1+x] != 1 and c[y+1,1+x] != 1 and \\\n",
        "                c[y-1,x] != 1 and c[y,-1+x] != 1 and c[y,1+x] != 1:\n",
        "                count+=1\n",
        "        assert count ==0\n",
        "    def __len__(self):\n",
        "        return self.length\n",
        "\n",
        "\n",
        "    def __getitem__(self, idx):\n",
        "        canvas = self.values[\"canvas\"]\n",
        "        \n",
        "        canvas = canvas[idx,:,:]\n",
        "        assert canvas.shape == (side,side)\n",
        "        \n",
        "        points = self.values[\"points\"]\n",
        "        points = points[idx,:]\n",
        "        #points = points.unsqueeze(1)\n",
        "        z = torch.zeros(numpoints,1)\n",
        "        #print(z.shape)\n",
        "        points = torch.cat([points,z], dim = 1)\n",
        "        \n",
        "        #print('points', points.shape)\n",
        "        return canvas, points\n",
        "    \n",
        "    @staticmethod\n",
        "    def displayCanvas(title,dataset, model):\n",
        "        #model.setBatchSize(batch_size = 1)\n",
        "        for i in range(100):\n",
        "            sample, labels = dataset[i]\n",
        "            plt.subplot(10,10,i+1)\n",
        "            plot_all(sample = sample,model=model, labels = labels)\n",
        "            plt.axis('off')\n",
        "        plt.savefig(title,dpi=600)\n",
        "\n",
        "dataset = DonutDataset(length = 100)\n",
        "\n",
        "DonutDataset.displayCanvas('donut.png',dataset, model = None)\n"
      ],
      "execution_count": null,
      "outputs": [
        {
          "output_type": "stream",
          "text": [
            "x0_y0_r_xrf_yrf torch.Size([100, 1]) torch.Size([100, 1]) torch.Size([100, 1000]) torch.Size([1, 1000]) torch.Size([1, 1000])\n"
          ],
          "name": "stdout"
        },
        {
          "output_type": "display_data",
          "data": {
            "image/png": "[encoded data removed]",
            "text/plain": [
              "<Figure size 432x288 with 100 Axes>"
            ]
          },
          "metadata": {
            "tags": [],
            "needs_background": "light"
          }
        }
      ]
    },
    {
      "cell_type": "code",
      "metadata": {
        "id": "1tNmTVOkP0T4",
        "colab": {
          "base_uri": "https://localhost:8080/"
        },
        "outputId": "af65c24c-4464-4d82-d48c-1579d46b73e1"
      },
      "source": [
        "a = torch.zeros(32,32)\n",
        "\n",
        "a = torch.stack([a,a],dim=0)\n",
        "print(a.shape)"
      ],
      "execution_count": null,
      "outputs": [
        {
          "output_type": "stream",
          "text": [
            "torch.Size([2, 32, 32])\n"
          ],
          "name": "stdout"
        }
      ]
    },
    {
      "cell_type": "code",
      "metadata": {
        "colab": {
          "base_uri": "https://localhost:8080/",
          "height": 35
        },
        "id": "OzxE9JkhuUho",
        "outputId": "ee992237-eb85-4f3e-f102-5132dd9ff7e2"
      },
      "source": [
        "\"\"\"a = dataset[1]\n",
        "c = a[0]\n",
        "print(a[1].shape)\n",
        "for el in a[1]:\n",
        "  print(c[(int)(el[1]),(int)(el[0])])\"\"\""
      ],
      "execution_count": null,
      "outputs": [
        {
          "output_type": "execute_result",
          "data": {
            "application/vnd.google.colaboratory.intrinsic+json": {
              "type": "string"
            },
            "text/plain": [
              "'a = dataset[1]\\nc = a[0]\\nprint(a[1].shape)\\nfor el in a[1]:\\n  print(c[(int)(el[1]),(int)(el[0])])'"
            ]
          },
          "metadata": {
            "tags": []
          },
          "execution_count": 4
        }
      ]
    },
    {
      "cell_type": "code",
      "metadata": {
        "id": "goNJPar1NxyS"
      },
      "source": [
        "\n",
        "import torch\n",
        "import torch.nn as nn\n",
        "from torch.hub import load_state_dict_from_url\n",
        "\n",
        "class MLP(nn.Module):\n",
        "    def __init__(self):\n",
        "        super(MLP, self).__init__()\n",
        "        self.input_dim = 1*32*32\n",
        "        self.hidden_dim = self.input_dim*10\n",
        "        self.output_dim = 1000*2\n",
        "\n",
        "        self.mlp = nn.Sequential(\n",
        "            nn.Linear(self.input_dim, self.hidden_dim),\n",
        "            nn.ReLU(True),\n",
        "            nn.Dropout(),\n",
        "            nn.Linear(self.hidden_dim, self.hidden_dim),\n",
        "            nn.ReLU(True),\n",
        "            nn.Dropout(),\n",
        "            nn.Linear(self.hidden_dim, self.hidden_dim),\n",
        "            nn.ReLU(True),\n",
        "            nn.Dropout(),\n",
        "            nn.Linear(self.hidden_dim, self.hidden_dim),\n",
        "            nn.ReLU(True),\n",
        "            nn.Dropout(),\n",
        "            nn.Linear(self.hidden_dim, self.hidden_dim),\n",
        "            nn.ReLU(True),\n",
        "            nn.Dropout(),\n",
        "            nn.Linear(self.hidden_dim, self.hidden_dim),\n",
        "            nn.ReLU(True),\n",
        "            nn.Dropout(),\n",
        "            nn.Linear(self.hidden_dim, self.output_dim),\n",
        "            nn.Sigmoid()\n",
        "        )\n",
        "\n",
        "    def forward(self, x,points):\n",
        "        x = x.squeeze()\n",
        "        x = torch.flatten(x,start_dim=1)\n",
        "        assert x.shape == (mini_batch,self.input_dim)\n",
        "        out = self.mlp(x)\n",
        "        return 32.0*out.reshape(points.shape)\n"
      ],
      "execution_count": null,
      "outputs": []
    },
    {
      "cell_type": "code",
      "metadata": {
        "id": "8v3_vrHNPYRO"
      },
      "source": [
        "model = MLP().cuda()\n",
        "#optimizer = torch.optim.Adam(model.parameters(),lr = 0.0001, betas = (.9,.999))\n"
      ],
      "execution_count": null,
      "outputs": []
    },
    {
      "cell_type": "code",
      "metadata": {
        "id": "Ue8uMIYKoJov"
      },
      "source": [
        "#optimizer = torch.optim.Adam(model.parameters(),lr = 0.00001, betas = (.9,.999))\n",
        "optimizer = torch.optim.Adam(model.parameters(),lr = 0.000001, betas = (.9,.999))\n"
      ],
      "execution_count": null,
      "outputs": []
    },
    {
      "cell_type": "code",
      "metadata": {
        "colab": {
          "base_uri": "https://localhost:8080/"
        },
        "id": "KhiJIwh0PvXT",
        "outputId": "a6611170-13f1-499a-cfd0-ce40ca825876"
      },
      "source": [
        "\n",
        "from torch.utils import data\n",
        "from torch.utils.data import DataLoader, TensorDataset, RandomSampler\n",
        "\n",
        "mini_batch = 64\n",
        "dataset = DonutDataset(length = 64*20)\n",
        "loader_train = data.DataLoader(\n",
        "    dataset, \n",
        "    batch_size=mini_batch,\n",
        "    sampler=RandomSampler(data_source=dataset),\n",
        "    num_workers=4)\n"
      ],
      "execution_count": null,
      "outputs": [
        {
          "output_type": "stream",
          "text": [
            "x0_y0_r_xrf_yrf torch.Size([1280, 1]) torch.Size([1280, 1]) torch.Size([1280, 1000]) torch.Size([1, 1000]) torch.Size([1, 1000])\n"
          ],
          "name": "stdout"
        },
        {
          "output_type": "stream",
          "text": [
            "/usr/local/lib/python3.7/dist-packages/torch/utils/data/dataloader.py:477: UserWarning: This DataLoader will create 4 worker processes in total. Our suggested max number of worker in current system is 2, which is smaller than what this DataLoader is going to create. Please be aware that excessive worker creation might get DataLoader running slow or even freeze, lower the worker number to avoid potential slowness/freeze if necessary.\n",
            "  cpuset_checked))\n"
          ],
          "name": "stderr"
        }
      ]
    },
    {
      "cell_type": "code",
      "metadata": {
        "colab": {
          "base_uri": "https://localhost:8080/"
        },
        "id": "XM71HaN2QkGz",
        "outputId": "21f116c3-274a-430f-eeba-19a47a1cfa95"
      },
      "source": [
        "epoch = 300\n",
        "loss = None\n",
        "for e in range(epoch):\n",
        "  for xin,yin in loader_train:\n",
        "    if xin.shape[0] != 64:\n",
        "      print(xin.shape)\n",
        "      continue\n",
        "    xin = xin.cuda()\n",
        "    yin = yin.cuda()\n",
        "    x = yin[:,:,0]\n",
        "    y = yin[:,:,1]\n",
        "    t = np.array([np.linspace(0,1,1000) for i in range(64)])\n",
        "    z = t\n",
        "    # spline parameters\n",
        "    s=1 # smoothness parameter\n",
        "    k=3 # spline order\n",
        "    nest=-1 # estimate of number of knots needed (-1 = maximal)\n",
        "\n",
        "    numpoints = x.shape[1]\n",
        "    \"\"\"scaledthetas = [(float)(i/numpoints) for i in range(numpoints)]\n",
        "    scaledthetas = [scaledthetas for i in range(mini_batch)]\n",
        "    scaledthetas = np.array(scaledthetas)\n",
        "    scaledthetas = torch.from_numpy(scaledthetas).float().cuda()\n",
        "    assert torch.max(scaledthetas) <= 1\n",
        "    #print(xin.shape,scaledthetas.shape)\n",
        "    out = model(xin,torch.zeros_like(scaledthetas[:,ind]),torch.zeros_like(yin[:,0,:]))\n",
        "    \"\"\"\n",
        "    out = model(xin,yin[:,:,:2])\n",
        "    #print(out.shape,yin[:2,:2,:])\n",
        "    #print(yin[0,0,:])\n",
        "    loss = torch.mean((out-yin[:,:,:2])**2)\n",
        "    loss.backward()\n",
        "    optimizer.step()\n",
        "  print(\"epoch\", e,\"loss\",loss.item())\n",
        "    \n"
      ],
      "execution_count": null,
      "outputs": [
        {
          "output_type": "stream",
          "text": [
            "/usr/local/lib/python3.7/dist-packages/torch/utils/data/dataloader.py:477: UserWarning: This DataLoader will create 4 worker processes in total. Our suggested max number of worker in current system is 2, which is smaller than what this DataLoader is going to create. Please be aware that excessive worker creation might get DataLoader running slow or even freeze, lower the worker number to avoid potential slowness/freeze if necessary.\n",
            "  cpuset_checked))\n"
          ],
          "name": "stderr"
        },
        {
          "output_type": "stream",
          "text": [
            "epoch 0 loss 43.81703186035156\n",
            "epoch 1 loss 45.07276916503906\n",
            "epoch 2 loss 41.65119934082031\n",
            "epoch 3 loss 31.681882858276367\n",
            "epoch 4 loss 13.77694034576416\n",
            "epoch 5 loss 24.113927841186523\n",
            "epoch 6 loss 26.897903442382812\n",
            "epoch 7 loss 6.647032737731934\n",
            "epoch 8 loss 18.471500396728516\n",
            "epoch 9 loss 28.190946578979492\n",
            "epoch 10 loss 32.44694519042969\n",
            "epoch 11 loss 29.90727424621582\n",
            "epoch 12 loss 22.64537239074707\n",
            "epoch 13 loss 13.918087005615234\n",
            "epoch 14 loss 15.0626859664917\n",
            "epoch 15 loss 28.579740524291992\n",
            "epoch 16 loss 26.88555335998535\n",
            "epoch 17 loss 13.560221672058105\n",
            "epoch 18 loss 5.233475685119629\n",
            "epoch 19 loss 10.203007698059082\n",
            "epoch 20 loss 16.96836280822754\n",
            "epoch 21 loss 21.852108001708984\n",
            "epoch 22 loss 22.419498443603516\n",
            "epoch 23 loss 19.328922271728516\n",
            "epoch 24 loss 13.11050796508789\n",
            "epoch 25 loss 6.190002918243408\n",
            "epoch 26 loss 4.145810604095459\n",
            "epoch 27 loss 12.191574096679688\n",
            "epoch 28 loss 22.774852752685547\n",
            "epoch 29 loss 27.155000686645508\n",
            "epoch 30 loss 18.683103561401367\n",
            "epoch 31 loss 6.759318828582764\n",
            "epoch 32 loss 3.246929407119751\n",
            "epoch 33 loss 8.412729263305664\n",
            "epoch 34 loss 15.097616195678711\n",
            "epoch 35 loss 20.395097732543945\n",
            "epoch 36 loss 22.809968948364258\n",
            "epoch 37 loss 24.753694534301758\n",
            "epoch 38 loss 24.022855758666992\n",
            "epoch 39 loss 23.51585578918457\n",
            "epoch 40 loss 20.03831672668457\n",
            "epoch 41 loss 16.362211227416992\n",
            "epoch 42 loss 10.54159927368164\n",
            "epoch 43 loss 5.628879547119141\n",
            "epoch 44 loss 2.564213991165161\n",
            "epoch 45 loss 3.9350028038024902\n",
            "epoch 46 loss 9.79609203338623\n",
            "epoch 47 loss 14.549845695495605\n",
            "epoch 48 loss 21.0989990234375\n",
            "epoch 49 loss 21.886404037475586\n",
            "epoch 50 loss 18.75271224975586\n",
            "epoch 51 loss 13.329926490783691\n",
            "epoch 52 loss 7.1794328689575195\n",
            "epoch 53 loss 3.132628917694092\n",
            "epoch 54 loss 2.4310007095336914\n",
            "epoch 55 loss 3.8026108741760254\n",
            "epoch 56 loss 7.0470991134643555\n",
            "epoch 57 loss 10.104310035705566\n",
            "epoch 58 loss 12.64468765258789\n",
            "epoch 59 loss 15.06337833404541\n",
            "epoch 60 loss 16.578006744384766\n",
            "epoch 61 loss 16.90587615966797\n",
            "epoch 62 loss 17.43341064453125\n",
            "epoch 63 loss 16.911888122558594\n",
            "epoch 64 loss 14.85233211517334\n",
            "epoch 65 loss 13.896170616149902\n",
            "epoch 66 loss 10.623373031616211\n",
            "epoch 67 loss 8.370031356811523\n",
            "epoch 68 loss 5.800763130187988\n",
            "epoch 69 loss 3.7955939769744873\n",
            "epoch 70 loss 2.8265185356140137\n",
            "epoch 71 loss 3.3776211738586426\n",
            "epoch 72 loss 5.602320194244385\n",
            "epoch 73 loss 8.094396591186523\n",
            "epoch 74 loss 10.796379089355469\n",
            "epoch 75 loss 12.545454025268555\n",
            "epoch 76 loss 15.229493141174316\n",
            "epoch 77 loss 14.643381118774414\n",
            "epoch 78 loss 15.668598175048828\n",
            "epoch 79 loss 13.02759838104248\n",
            "epoch 80 loss 9.998621940612793\n",
            "epoch 81 loss 8.498078346252441\n",
            "epoch 82 loss 5.8266215324401855\n",
            "epoch 83 loss 4.280911445617676\n",
            "epoch 84 loss 2.815899133682251\n",
            "epoch 85 loss 2.715825319290161\n",
            "epoch 86 loss 3.5065507888793945\n",
            "epoch 87 loss 4.211963176727295\n",
            "epoch 88 loss 5.7671637535095215\n",
            "epoch 89 loss 7.460592269897461\n",
            "epoch 90 loss 9.102682113647461\n",
            "epoch 91 loss 9.962996482849121\n",
            "epoch 92 loss 10.789522171020508\n",
            "epoch 93 loss 10.955400466918945\n",
            "epoch 94 loss 11.540770530700684\n",
            "epoch 95 loss 11.391185760498047\n",
            "epoch 96 loss 12.00595474243164\n",
            "epoch 97 loss 10.589325904846191\n",
            "epoch 98 loss 9.98919677734375\n",
            "epoch 99 loss 8.898913383483887\n",
            "epoch 100 loss 8.478429794311523\n",
            "epoch 101 loss 6.601790428161621\n",
            "epoch 102 loss 4.2953877449035645\n",
            "epoch 103 loss 3.8085777759552\n",
            "epoch 104 loss 2.645035743713379\n",
            "epoch 105 loss 2.396021842956543\n",
            "epoch 106 loss 2.298578977584839\n",
            "epoch 107 loss 2.896681308746338\n",
            "epoch 108 loss 4.290050983428955\n",
            "epoch 109 loss 5.5617852210998535\n",
            "epoch 110 loss 7.6190714836120605\n",
            "epoch 111 loss 8.588812828063965\n",
            "epoch 112 loss 9.195886611938477\n",
            "epoch 113 loss 11.11241340637207\n",
            "epoch 114 loss 10.540799140930176\n",
            "epoch 115 loss 10.542129516601562\n",
            "epoch 116 loss 9.123174667358398\n",
            "epoch 117 loss 7.3996262550354\n",
            "epoch 118 loss 6.1660685539245605\n",
            "epoch 119 loss 4.01896333694458\n",
            "epoch 120 loss 3.53513503074646\n",
            "epoch 121 loss 2.595667600631714\n",
            "epoch 122 loss 1.946352481842041\n",
            "epoch 123 loss 1.9299376010894775\n",
            "epoch 124 loss 2.240076780319214\n",
            "epoch 125 loss 2.7631595134735107\n",
            "epoch 126 loss 3.1823174953460693\n",
            "epoch 127 loss 3.2976911067962646\n",
            "epoch 128 loss 4.1508002281188965\n",
            "epoch 129 loss 4.863889217376709\n",
            "epoch 130 loss 5.9145050048828125\n",
            "epoch 131 loss 6.322920322418213\n",
            "epoch 132 loss 6.227351665496826\n",
            "epoch 133 loss 6.420185089111328\n",
            "epoch 134 loss 6.3788909912109375\n",
            "epoch 135 loss 6.68675422668457\n",
            "epoch 136 loss 6.197685718536377\n",
            "epoch 137 loss 6.247669219970703\n",
            "epoch 138 loss 6.029310703277588\n",
            "epoch 139 loss 5.227086067199707\n",
            "epoch 140 loss 4.967877388000488\n",
            "epoch 141 loss 4.376981735229492\n",
            "epoch 142 loss 3.670827865600586\n",
            "epoch 143 loss 2.968809127807617\n",
            "epoch 144 loss 2.6961252689361572\n",
            "epoch 145 loss 2.2329189777374268\n",
            "epoch 146 loss 1.7265177965164185\n",
            "epoch 147 loss 1.6353095769882202\n",
            "epoch 148 loss 1.5108957290649414\n",
            "epoch 149 loss 1.8544278144836426\n",
            "epoch 150 loss 2.064211368560791\n",
            "epoch 151 loss 2.8283610343933105\n",
            "epoch 152 loss 3.128265142440796\n",
            "epoch 153 loss 4.004322528839111\n",
            "epoch 154 loss 4.265873908996582\n",
            "epoch 155 loss 4.625273704528809\n",
            "epoch 156 loss 5.796067714691162\n",
            "epoch 157 loss 5.334293842315674\n",
            "epoch 158 loss 5.5782036781311035\n",
            "epoch 159 loss 5.068028450012207\n",
            "epoch 160 loss 5.223213195800781\n",
            "epoch 161 loss 5.129581451416016\n",
            "epoch 162 loss 4.540715217590332\n",
            "epoch 163 loss 4.021273136138916\n",
            "epoch 164 loss 3.692258834838867\n",
            "epoch 165 loss 3.0786802768707275\n",
            "epoch 166 loss 2.6882739067077637\n",
            "epoch 167 loss 2.3765101432800293\n",
            "epoch 168 loss 2.095874786376953\n",
            "epoch 169 loss 1.9458104372024536\n",
            "epoch 170 loss 1.6314064264297485\n",
            "epoch 171 loss 1.728190541267395\n",
            "epoch 172 loss 1.6232857704162598\n",
            "epoch 173 loss 1.6023975610733032\n",
            "epoch 174 loss 1.6907399892807007\n",
            "epoch 175 loss 1.7069051265716553\n",
            "epoch 176 loss 1.761208176612854\n",
            "epoch 177 loss 1.9507501125335693\n",
            "epoch 178 loss 1.998605489730835\n",
            "epoch 179 loss 2.075397253036499\n",
            "epoch 180 loss 2.1240124702453613\n",
            "epoch 181 loss 2.4047439098358154\n",
            "epoch 182 loss 2.380244255065918\n",
            "epoch 183 loss 2.5552632808685303\n",
            "epoch 184 loss 2.8145089149475098\n",
            "epoch 185 loss 2.4390087127685547\n",
            "epoch 186 loss 3.0411500930786133\n",
            "epoch 187 loss 2.717316150665283\n",
            "epoch 188 loss 2.666412591934204\n",
            "epoch 189 loss 2.558152914047241\n",
            "epoch 190 loss 2.4771134853363037\n",
            "epoch 191 loss 2.52801775932312\n",
            "epoch 192 loss 2.2715342044830322\n",
            "epoch 193 loss 2.603722333908081\n",
            "epoch 194 loss 2.1055831909179688\n",
            "epoch 195 loss 2.0973849296569824\n",
            "epoch 196 loss 2.139427900314331\n",
            "epoch 197 loss 1.937722086906433\n",
            "epoch 198 loss 1.6949480772018433\n",
            "epoch 199 loss 1.7128190994262695\n",
            "epoch 200 loss 1.7277555465698242\n",
            "epoch 201 loss 1.6062941551208496\n",
            "epoch 202 loss 1.6059080362319946\n",
            "epoch 203 loss 1.667594075202942\n",
            "epoch 204 loss 1.6596287488937378\n",
            "epoch 205 loss 1.842603325843811\n",
            "epoch 206 loss 1.8738672733306885\n",
            "epoch 207 loss 1.8595603704452515\n",
            "epoch 208 loss 1.964102864265442\n",
            "epoch 209 loss 1.9318419694900513\n",
            "epoch 210 loss 2.2466564178466797\n",
            "epoch 211 loss 2.1744425296783447\n",
            "epoch 212 loss 2.791153907775879\n",
            "epoch 213 loss 2.3811612129211426\n",
            "epoch 214 loss 2.3644931316375732\n",
            "epoch 215 loss 2.3292956352233887\n",
            "epoch 216 loss 2.7626750469207764\n",
            "epoch 217 loss 2.951737403869629\n",
            "epoch 218 loss 2.487973690032959\n",
            "epoch 219 loss 2.5792598724365234\n",
            "epoch 220 loss 2.6957898139953613\n",
            "epoch 221 loss 2.404268741607666\n",
            "epoch 222 loss 2.5053277015686035\n",
            "epoch 223 loss 2.4719560146331787\n",
            "epoch 224 loss 2.346787214279175\n",
            "epoch 225 loss 2.158381462097168\n",
            "epoch 226 loss 1.957938551902771\n",
            "epoch 227 loss 2.200150489807129\n",
            "epoch 228 loss 1.9706138372421265\n",
            "epoch 229 loss 1.8534373044967651\n",
            "epoch 230 loss 1.4711343050003052\n",
            "epoch 231 loss 1.4990437030792236\n",
            "epoch 232 loss 1.5507962703704834\n",
            "epoch 233 loss 1.4458882808685303\n",
            "epoch 234 loss 1.6583913564682007\n",
            "epoch 235 loss 1.6668609380722046\n",
            "epoch 236 loss 1.6581038236618042\n",
            "epoch 237 loss 1.7450569868087769\n",
            "epoch 238 loss 1.723847508430481\n",
            "epoch 239 loss 1.6160913705825806\n",
            "epoch 240 loss 1.7643213272094727\n",
            "epoch 241 loss 1.7614009380340576\n",
            "epoch 242 loss 1.662407398223877\n",
            "epoch 243 loss 1.836991548538208\n",
            "epoch 244 loss 1.709355115890503\n",
            "epoch 245 loss 1.8793789148330688\n",
            "epoch 246 loss 1.9718760251998901\n",
            "epoch 247 loss 1.674726128578186\n",
            "epoch 248 loss 2.023550033569336\n",
            "epoch 249 loss 1.8982586860656738\n",
            "epoch 250 loss 1.6579269170761108\n",
            "epoch 251 loss 2.136190414428711\n",
            "epoch 252 loss 1.9331103563308716\n",
            "epoch 253 loss 1.98634672164917\n",
            "epoch 254 loss 1.9603084325790405\n",
            "epoch 255 loss 2.0712103843688965\n",
            "epoch 256 loss 1.5892037153244019\n",
            "epoch 257 loss 1.7374629974365234\n",
            "epoch 258 loss 1.5484538078308105\n",
            "epoch 259 loss 1.7662962675094604\n",
            "epoch 260 loss 1.458491325378418\n",
            "epoch 261 loss 1.5947712659835815\n",
            "epoch 262 loss 1.5228723287582397\n",
            "epoch 263 loss 1.5008269548416138\n",
            "epoch 264 loss 1.443345308303833\n",
            "epoch 265 loss 1.4536470174789429\n",
            "epoch 266 loss 1.717179536819458\n",
            "epoch 267 loss 1.5205481052398682\n",
            "epoch 268 loss 1.6293036937713623\n",
            "epoch 269 loss 1.4662905931472778\n",
            "epoch 270 loss 1.645581603050232\n",
            "epoch 271 loss 1.4429768323898315\n",
            "epoch 272 loss 1.5433399677276611\n",
            "epoch 273 loss 1.3602291345596313\n",
            "epoch 274 loss 1.5328609943389893\n",
            "epoch 275 loss 1.418049931526184\n",
            "epoch 276 loss 1.4733864068984985\n",
            "epoch 277 loss 1.4020243883132935\n",
            "epoch 278 loss 1.503201961517334\n",
            "epoch 279 loss 1.4312151670455933\n",
            "epoch 280 loss 1.5500385761260986\n",
            "epoch 281 loss 1.5614526271820068\n",
            "epoch 282 loss 1.4425660371780396\n",
            "epoch 283 loss 1.620169758796692\n",
            "epoch 284 loss 1.4249380826950073\n",
            "epoch 285 loss 1.786744475364685\n",
            "epoch 286 loss 1.6601710319519043\n",
            "epoch 287 loss 1.6014814376831055\n",
            "epoch 288 loss 1.5026137828826904\n",
            "epoch 289 loss 1.576552152633667\n",
            "epoch 290 loss 1.5974152088165283\n",
            "epoch 291 loss 1.4991360902786255\n",
            "epoch 292 loss 1.5841683149337769\n",
            "epoch 293 loss 1.5887532234191895\n",
            "epoch 294 loss 1.5364603996276855\n",
            "epoch 295 loss 1.6011453866958618\n",
            "epoch 296 loss 1.572104573249817\n",
            "epoch 297 loss 1.563825011253357\n",
            "epoch 298 loss 1.5372934341430664\n",
            "epoch 299 loss 1.5154777765274048\n"
          ],
          "name": "stdout"
        }
      ]
    },
    {
      "cell_type": "code",
      "metadata": {
        "id": "ws8nXyw3LnVY",
        "colab": {
          "base_uri": "https://localhost:8080/",
          "height": 248
        },
        "outputId": "ae2070ca-6536-432c-b5ec-fd451a4b06e5"
      },
      "source": [
        "DonutDataset.displayCanvas('post_train_model.png',dataset, model = model)\n"
      ],
      "execution_count": null,
      "outputs": [
        {
          "output_type": "display_data",
          "data": {
            "image/png": "[encoded data removed]",
            "text/plain": [
              "<Figure size 432x288 with 100 Axes>"
            ]
          },
          "metadata": {
            "tags": [],
            "needs_background": "light"
          }
        }
      ]
    },
    {
      "cell_type": "code",
      "metadata": {
        "colab": {
          "base_uri": "https://localhost:8080/",
          "height": 282
        },
        "id": "6WUGvMJqdZMA",
        "outputId": "f26c2628-cbe2-4055-b463-762f31623ae7"
      },
      "source": [
        "xin,yin = None,None\n",
        "loss = None\n",
        "\n",
        "dataset = DonutDataset(length = 100)\n",
        "DonutDataset.displayCanvas('validation_set_fit.png',dataset, model = model)\n",
        "\n",
        "print(loss)\n"
      ],
      "execution_count": null,
      "outputs": [
        {
          "output_type": "stream",
          "text": [
            "x0_y0_r_xrf_yrf torch.Size([100, 1]) torch.Size([100, 1]) torch.Size([100, 1000]) torch.Size([1, 1000]) torch.Size([1, 1000])\n",
            "None\n"
          ],
          "name": "stdout"
        },
        {
          "output_type": "display_data",
          "data": {
            "image/png": "[encoded data removed]",
            "text/plain": [
              "<Figure size 432x288 with 100 Axes>"
            ]
          },
          "metadata": {
            "tags": [],
            "needs_background": "light"
          }
        }
      ]
    },
    {
      "cell_type": "code",
      "metadata": {
        "id": "W6QSIVYeMLDj",
        "colab": {
          "base_uri": "https://localhost:8080/"
        },
        "outputId": "1f9d92d6-7565-4354-ace3-534f71b6c895"
      },
      "source": [
        "\n",
        "loader_val = data.DataLoader(\n",
        "    dataset, \n",
        "    batch_size=mini_batch,\n",
        "    sampler=RandomSampler(data_source=dataset),\n",
        "    num_workers=4)\n",
        "for xin,yin in loader_val:\n",
        "  if xin.shape[0] != 64:\n",
        "    print(xin.shape)\n",
        "    continue\n",
        "  xin = xin.cuda()\n",
        "  yin = yin.cuda()\n",
        "  \n",
        "  out = model(xin,yin[:,:,:2])\n",
        "  loss = torch.mean((out-yin[:,:,:2])**2)\n",
        "  loss.backward()\n",
        "  optimizer.step()\n",
        "  print(\"validation loss\",loss.item())\n",
        "  break \n"
      ],
      "execution_count": null,
      "outputs": [
        {
          "output_type": "stream",
          "text": [
            "/usr/local/lib/python3.7/dist-packages/torch/utils/data/dataloader.py:477: UserWarning: This DataLoader will create 4 worker processes in total. Our suggested max number of worker in current system is 2, which is smaller than what this DataLoader is going to create. Please be aware that excessive worker creation might get DataLoader running slow or even freeze, lower the worker number to avoid potential slowness/freeze if necessary.\n",
            "  cpuset_checked))\n"
          ],
          "name": "stderr"
        },
        {
          "output_type": "stream",
          "text": [
            "validation loss 1.6671688556671143\n"
          ],
          "name": "stdout"
        }
      ]
    },
    {
      "cell_type": "markdown",
      "metadata": {
        "id": "D6LUe-aMK-nI"
      },
      "source": [
        "I think I need to give the model the first x0,y0 coordinate in addition to all the other information.\n",
        "\n",
        "Ablation:\\\n",
        "Network depth helps\\\n",
        "Network width helps\\\n",
        "Probably lower learning rate and long running times helps \\\n",
        "\\\n",
        "note:\\\n",
        "worth noting one of the ameba columns always starts at the same place"
      ]
    },
    {
      "cell_type": "code",
      "metadata": {
        "colab": {
          "base_uri": "https://localhost:8080/"
        },
        "id": "kQPdMg3Xda0b",
        "outputId": "a46087bf-8951-46c1-ab81-a755f600fedf"
      },
      "source": [
        "\n",
        "from torch.utils import data\n",
        "from torch.utils.data import DataLoader, TensorDataset, RandomSampler\n",
        "\n",
        "mini_batch = 64\n",
        "dataset = DonutDataset(length = 64*20)\n",
        "loader_train = data.DataLoader(\n",
        "    dataset, \n",
        "    batch_size=mini_batch,\n",
        "    sampler=RandomSampler(data_source=dataset),\n",
        "    num_workers=4)\n"
      ],
      "execution_count": null,
      "outputs": [
        {
          "output_type": "stream",
          "text": [
            "x0_y0_r_xrf_yrf torch.Size([1280, 1]) torch.Size([1280, 1]) torch.Size([1280, 1000]) torch.Size([1, 1000]) torch.Size([1, 1000])\n"
          ],
          "name": "stdout"
        },
        {
          "output_type": "stream",
          "text": [
            "/usr/local/lib/python3.7/dist-packages/torch/utils/data/dataloader.py:477: UserWarning: This DataLoader will create 4 worker processes in total. Our suggested max number of worker in current system is 2, which is smaller than what this DataLoader is going to create. Please be aware that excessive worker creation might get DataLoader running slow or even freeze, lower the worker number to avoid potential slowness/freeze if necessary.\n",
            "  cpuset_checked))\n"
          ],
          "name": "stderr"
        }
      ]
    },
    {
      "cell_type": "code",
      "metadata": {
        "id": "EtrWeWo6LGBz"
      },
      "source": [
        "\n",
        "import torch\n",
        "import torch.nn as nn\n",
        "from torch.hub import load_state_dict_from_url\n",
        "\n",
        "class GRU_P(nn.Module):\n",
        "    def __init__(self):\n",
        "        super(GRU_P, self).__init__()\n",
        "        self.rnn = nn.GRU(64, 64, 64)#input, output,\n",
        "\n",
        "        self.hiddenmlp = nn.Sequential(nn.Linear(1024,256),nn.ReLU(True),nn.Dropout(),\n",
        "                                       nn.Linear(256,64),nn.ReLU(True)) \n",
        "        self.inputmlp = nn.Sequential(nn.Linear(1024,256),nn.ReLU(True),nn.Dropout(),\n",
        "                                       nn.Linear(256,64),nn.ReLU(True)) \n",
        "        self.inputmlphx = nn.Sequential(nn.Linear(64,64),nn.ReLU(True),nn.Dropout(),nn.Linear(64,64),nn.Sigmoid()) \n",
        "        self.mlp = nn.Sequential(\n",
        "            nn.Linear(64, 32),\n",
        "            nn.ReLU(True),\n",
        "            nn.Dropout(),\n",
        "            nn.Linear(32, 2),\n",
        "            nn.Sigmoid()\n",
        "        )\n",
        "    def forward(self, x, hidden):\n",
        "        \n",
        "        indim= x.shape[0]\n",
        "        x = self.inputmlp(torch.flatten(x,start_dim=1))\n",
        "        x = x.reshape(indim,1,64)\n",
        "        hidden = hidden.reshape(indim,1024)\n",
        "        hidden = self.hiddenmlp(hidden)\n",
        "        #print('1')\n",
        "        h = hidden.reshape(indim,1,64)\n",
        "        points = torch.zeros(indim,10,2).cuda()\n",
        "        for i in range(10):\n",
        "\n",
        "          inrnn = torch.flatten(h,start_dim=1)\n",
        "          #print(inrnn.shape)\n",
        "          inrnn = self.inputmlphx(inrnn)\n",
        "          inrnn = (x.reshape(indim,64)*inrnn.reshape(indim,64))\n",
        "          out, h = self.rnn(inrnn.reshape(indim,1,64),h)\n",
        "          out = self.mlp(torch.flatten(out,start_dim=1))\n",
        "          points[:,i,:] = out\n",
        "        #print(out.shape,h.shape)\n",
        "        \n",
        "        #print(h.shape)\n",
        "        #assert out.shape == (indim,1,1024)\n",
        "        return 32.0*points \n"
      ],
      "execution_count": null,
      "outputs": []
    },
    {
      "cell_type": "code",
      "metadata": {
        "colab": {
          "base_uri": "https://localhost:8080/"
        },
        "id": "XuRxDqENY_JB",
        "outputId": "f5e6cd39-05cf-4d0b-94de-6958ddb54967"
      },
      "source": [
        "rnn = nn.GRU(1024, 200, 2)#input, output, \n",
        "input = torch.randn(5, 1, 1024)\n",
        "h0 = torch.randn(2, 1, 200)\n",
        "output, hn = rnn(input, h0)\n",
        "print(output.shape,hn.shape)"
      ],
      "execution_count": null,
      "outputs": [
        {
          "output_type": "stream",
          "text": [
            "torch.Size([5, 1, 200]) torch.Size([2, 1, 200])\n"
          ],
          "name": "stdout"
        }
      ]
    },
    {
      "cell_type": "code",
      "metadata": {
        "id": "i9RTPCUEg0iY"
      },
      "source": [
        "model = GRU_P().cuda()\n",
        "#optimizer = torch.optim.Adam(model.parameters(),lr = 0.0001, betas = (.9,.999))\n"
      ],
      "execution_count": null,
      "outputs": []
    },
    {
      "cell_type": "code",
      "metadata": {
        "id": "6rCDwEjSiY8g"
      },
      "source": [
        "#model = MLP().cuda()\n",
        "optimizer = torch.optim.Adam(model.parameters(),lr = 0.0001, betas = (.9,.999))\n"
      ],
      "execution_count": null,
      "outputs": []
    },
    {
      "cell_type": "code",
      "metadata": {
        "colab": {
          "base_uri": "https://localhost:8080/",
          "height": 1000
        },
        "id": "CmA4pl7Iiazz",
        "outputId": "6c72b8fc-bee5-444b-bbb0-f16022157a33"
      },
      "source": [
        "for i in range (10):\n",
        "  loss = None\n",
        "  for x,y in loader_train:\n",
        "    x = x.cuda()\n",
        "    y = y.cuda()\n",
        "    out = model(x,x)\n",
        "    print('1')\n",
        "    #print(out.shape)\n",
        "    loss = torch.mean((out-y[:,:10,:2])**2)\n",
        "    loss.backward()\n",
        "    optimizer.step()\n",
        "    #print(y[:,0,:2])\n",
        "  print(loss)"
      ],
      "execution_count": null,
      "outputs": [
        {
          "output_type": "stream",
          "text": [
            "/usr/local/lib/python3.7/dist-packages/torch/utils/data/dataloader.py:477: UserWarning: This DataLoader will create 4 worker processes in total. Our suggested max number of worker in current system is 2, which is smaller than what this DataLoader is going to create. Please be aware that excessive worker creation might get DataLoader running slow or even freeze, lower the worker number to avoid potential slowness/freeze if necessary.\n",
            "  cpuset_checked))\n"
          ],
          "name": "stderr"
        },
        {
          "output_type": "stream",
          "text": [
            "1\n",
            "1\n",
            "1\n",
            "1\n",
            "1\n",
            "1\n",
            "1\n",
            "1\n",
            "1\n",
            "1\n",
            "1\n",
            "1\n",
            "1\n",
            "1\n",
            "1\n",
            "1\n",
            "1\n",
            "1\n",
            "1\n",
            "1\n",
            "tensor(31.3228, device='cuda:0', grad_fn=<MeanBackward0>)\n",
            "1\n",
            "1\n",
            "1\n",
            "1\n",
            "1\n",
            "1\n",
            "1\n",
            "1\n",
            "1\n",
            "1\n",
            "1\n",
            "1\n",
            "1\n",
            "1\n",
            "1\n",
            "1\n",
            "1\n",
            "1\n",
            "1\n",
            "1\n",
            "tensor(21.4646, device='cuda:0', grad_fn=<MeanBackward0>)\n",
            "1\n",
            "1\n",
            "1\n",
            "1\n",
            "1\n",
            "1\n",
            "1\n",
            "1\n",
            "1\n",
            "1\n",
            "1\n",
            "1\n",
            "1\n",
            "1\n",
            "1\n",
            "1\n",
            "1\n",
            "1\n",
            "1\n",
            "1\n",
            "tensor(7.7437, device='cuda:0', grad_fn=<MeanBackward0>)\n",
            "1\n",
            "1\n",
            "1\n",
            "1\n",
            "1\n",
            "1\n",
            "1\n",
            "1\n",
            "1\n",
            "1\n",
            "1\n",
            "1\n",
            "1\n",
            "1\n",
            "1\n",
            "1\n",
            "1\n",
            "1\n",
            "1\n",
            "1\n",
            "tensor(6.3014, device='cuda:0', grad_fn=<MeanBackward0>)\n",
            "1\n",
            "1\n",
            "1\n",
            "1\n",
            "1\n",
            "1\n",
            "1\n",
            "1\n",
            "1\n",
            "1\n",
            "1\n",
            "1\n",
            "1\n",
            "1\n",
            "1\n",
            "1\n",
            "1\n",
            "1\n",
            "1\n",
            "1\n",
            "tensor(9.0768, device='cuda:0', grad_fn=<MeanBackward0>)\n",
            "1\n",
            "1\n",
            "1\n",
            "1\n",
            "1\n",
            "1\n",
            "1\n",
            "1\n",
            "1\n",
            "1\n",
            "1\n",
            "1\n",
            "1\n",
            "1\n",
            "1\n",
            "1\n",
            "1\n",
            "1\n",
            "1\n",
            "1\n",
            "tensor(8.9183, device='cuda:0', grad_fn=<MeanBackward0>)\n",
            "1\n",
            "1\n",
            "1\n",
            "1\n",
            "1\n",
            "1\n",
            "1\n",
            "1\n",
            "1\n",
            "1\n",
            "1\n",
            "1\n",
            "1\n",
            "1\n",
            "1\n",
            "1\n",
            "1\n",
            "1\n",
            "1\n",
            "1\n",
            "tensor(6.4309, device='cuda:0', grad_fn=<MeanBackward0>)\n",
            "1\n",
            "1\n"
          ],
          "name": "stdout"
        },
        {
          "output_type": "stream",
          "text": [
            "Traceback (most recent call last):\n",
            "  File \"/usr/lib/python3.7/multiprocessing/queues.py\", line 242, in _feed\n",
            "    send_bytes(obj)\n",
            "  File \"/usr/lib/python3.7/multiprocessing/connection.py\", line 200, in send_bytes\n",
            "    self._send_bytes(m[offset:offset + size])\n",
            "  File \"/usr/lib/python3.7/multiprocessing/connection.py\", line 404, in _send_bytes\n",
            "    self._send(header + buf)\n",
            "  File \"/usr/lib/python3.7/multiprocessing/connection.py\", line 368, in _send\n",
            "    n = write(self._handle, buf)\n",
            "BrokenPipeError: [Errno 32] Broken pipe\n"
          ],
          "name": "stderr"
        },
        {
          "output_type": "error",
          "ename": "KeyboardInterrupt",
          "evalue": "ignored",
          "traceback": [
            "\u001b[0;31m---------------------------------------------------------------------------\u001b[0m",
            "\u001b[0;31mKeyboardInterrupt\u001b[0m                         Traceback (most recent call last)",
            "\u001b[0;32m<ipython-input-83-989a51424d17>\u001b[0m in \u001b[0;36m<module>\u001b[0;34m()\u001b[0m\n\u001b[1;32m      8\u001b[0m     \u001b[0;31m#print(out.shape)\u001b[0m\u001b[0;34m\u001b[0m\u001b[0;34m\u001b[0m\u001b[0;34m\u001b[0m\u001b[0m\n\u001b[1;32m      9\u001b[0m     \u001b[0mloss\u001b[0m \u001b[0;34m=\u001b[0m \u001b[0mtorch\u001b[0m\u001b[0;34m.\u001b[0m\u001b[0mmean\u001b[0m\u001b[0;34m(\u001b[0m\u001b[0;34m(\u001b[0m\u001b[0mout\u001b[0m\u001b[0;34m-\u001b[0m\u001b[0my\u001b[0m\u001b[0;34m[\u001b[0m\u001b[0;34m:\u001b[0m\u001b[0;34m,\u001b[0m\u001b[0;34m:\u001b[0m\u001b[0;36m10\u001b[0m\u001b[0;34m,\u001b[0m\u001b[0;34m:\u001b[0m\u001b[0;36m2\u001b[0m\u001b[0;34m]\u001b[0m\u001b[0;34m)\u001b[0m\u001b[0;34m**\u001b[0m\u001b[0;36m2\u001b[0m\u001b[0;34m)\u001b[0m\u001b[0;34m\u001b[0m\u001b[0;34m\u001b[0m\u001b[0m\n\u001b[0;32m---> 10\u001b[0;31m     \u001b[0mloss\u001b[0m\u001b[0;34m.\u001b[0m\u001b[0mbackward\u001b[0m\u001b[0;34m(\u001b[0m\u001b[0;34m)\u001b[0m\u001b[0;34m\u001b[0m\u001b[0;34m\u001b[0m\u001b[0m\n\u001b[0m\u001b[1;32m     11\u001b[0m     \u001b[0moptimizer\u001b[0m\u001b[0;34m.\u001b[0m\u001b[0mstep\u001b[0m\u001b[0;34m(\u001b[0m\u001b[0;34m)\u001b[0m\u001b[0;34m\u001b[0m\u001b[0;34m\u001b[0m\u001b[0m\n\u001b[1;32m     12\u001b[0m     \u001b[0;31m#print(y[:,0,:2])\u001b[0m\u001b[0;34m\u001b[0m\u001b[0;34m\u001b[0m\u001b[0;34m\u001b[0m\u001b[0m\n",
            "\u001b[0;32m/usr/local/lib/python3.7/dist-packages/torch/tensor.py\u001b[0m in \u001b[0;36mbackward\u001b[0;34m(self, gradient, retain_graph, create_graph, inputs)\u001b[0m\n\u001b[1;32m    243\u001b[0m                 \u001b[0mcreate_graph\u001b[0m\u001b[0;34m=\u001b[0m\u001b[0mcreate_graph\u001b[0m\u001b[0;34m,\u001b[0m\u001b[0;34m\u001b[0m\u001b[0;34m\u001b[0m\u001b[0m\n\u001b[1;32m    244\u001b[0m                 inputs=inputs)\n\u001b[0;32m--> 245\u001b[0;31m         \u001b[0mtorch\u001b[0m\u001b[0;34m.\u001b[0m\u001b[0mautograd\u001b[0m\u001b[0;34m.\u001b[0m\u001b[0mbackward\u001b[0m\u001b[0;34m(\u001b[0m\u001b[0mself\u001b[0m\u001b[0;34m,\u001b[0m \u001b[0mgradient\u001b[0m\u001b[0;34m,\u001b[0m \u001b[0mretain_graph\u001b[0m\u001b[0;34m,\u001b[0m \u001b[0mcreate_graph\u001b[0m\u001b[0;34m,\u001b[0m \u001b[0minputs\u001b[0m\u001b[0;34m=\u001b[0m\u001b[0minputs\u001b[0m\u001b[0;34m)\u001b[0m\u001b[0;34m\u001b[0m\u001b[0;34m\u001b[0m\u001b[0m\n\u001b[0m\u001b[1;32m    246\u001b[0m \u001b[0;34m\u001b[0m\u001b[0m\n\u001b[1;32m    247\u001b[0m     \u001b[0;32mdef\u001b[0m \u001b[0mregister_hook\u001b[0m\u001b[0;34m(\u001b[0m\u001b[0mself\u001b[0m\u001b[0;34m,\u001b[0m \u001b[0mhook\u001b[0m\u001b[0;34m)\u001b[0m\u001b[0;34m:\u001b[0m\u001b[0;34m\u001b[0m\u001b[0;34m\u001b[0m\u001b[0m\n",
            "\u001b[0;32m/usr/local/lib/python3.7/dist-packages/torch/autograd/__init__.py\u001b[0m in \u001b[0;36mbackward\u001b[0;34m(tensors, grad_tensors, retain_graph, create_graph, grad_variables, inputs)\u001b[0m\n\u001b[1;32m    145\u001b[0m     Variable._execution_engine.run_backward(\n\u001b[1;32m    146\u001b[0m         \u001b[0mtensors\u001b[0m\u001b[0;34m,\u001b[0m \u001b[0mgrad_tensors_\u001b[0m\u001b[0;34m,\u001b[0m \u001b[0mretain_graph\u001b[0m\u001b[0;34m,\u001b[0m \u001b[0mcreate_graph\u001b[0m\u001b[0;34m,\u001b[0m \u001b[0minputs\u001b[0m\u001b[0;34m,\u001b[0m\u001b[0;34m\u001b[0m\u001b[0;34m\u001b[0m\u001b[0m\n\u001b[0;32m--> 147\u001b[0;31m         allow_unreachable=True, accumulate_grad=True)  # allow_unreachable flag\n\u001b[0m\u001b[1;32m    148\u001b[0m \u001b[0;34m\u001b[0m\u001b[0m\n\u001b[1;32m    149\u001b[0m \u001b[0;34m\u001b[0m\u001b[0m\n",
            "\u001b[0;31mKeyboardInterrupt\u001b[0m: "
          ]
        }
      ]
    },
    {
      "cell_type": "code",
      "metadata": {
        "id": "oIZXIh2ijH2p"
      },
      "source": [
        "\n",
        "import torch\n",
        "import torch.nn as nn\n",
        "from torch.hub import load_state_dict_from_url\n",
        "\n",
        "class GRU_P(nn.Module):\n",
        "    def __init__(self):\n",
        "        super(GRU_P, self).__init__()\n",
        "        self.stacks = 3\n",
        "        self.rnn = nn.GRU(99, 101, self.stacks)#input, output,\n",
        "\n",
        "        self.inputmlp = nn.Sequential(nn.Linear(1024,256),nn.ReLU(True),nn.Dropout(),\n",
        "                                       nn.Linear(256,99),nn.ReLU(True)) \n",
        "        self.embedPointsMlp = nn.Sequential(nn.Linear(20+1024,512),nn.ReLU(True),nn.Dropout(),\n",
        "                                       nn.Linear(512,99),nn.ReLU(True)) \n",
        "        \n",
        "        self.mlp = nn.Sequential(\n",
        "            nn.Linear(101, 32),\n",
        "            nn.ReLU(True),\n",
        "            nn.Dropout(),\n",
        "            nn.Linear(32, 20),\n",
        "            nn.Sigmoid()\n",
        "        )\n",
        "    def forward(self, x, y, h=None):\n",
        "        \n",
        "        indim= x.shape[0]\n",
        "        if h == None:\n",
        "          embed = self.embedPointsMlp(torch.cat([torch.flatten(torch.zeros(indim,20).cuda(),start_dim=1),torch.flatten(x,start_dim=1)],dim=1)).reshape(indim,1,99)\n",
        "          out,h = self.rnn(embed,torch.zeros(self.stacks,1,101).cuda())\n",
        "        #print(h.shape)#128,1000,3\n",
        "        #print('1')\n",
        "        embed = self.embedPointsMlp(torch.cat([torch.flatten(y,start_dim=1),torch.flatten(x,start_dim=1)],dim=1)).reshape(indim,1,99)\n",
        "        out,h = self.rnn(embed,h)\n",
        "        out = self.mlp(torch.flatten(out,start_dim=1))\n",
        "        \n",
        "        \n",
        "\n",
        "        return 32.0*out , h \n",
        "\n"
      ],
      "execution_count": null,
      "outputs": []
    },
    {
      "cell_type": "code",
      "metadata": {
        "colab": {
          "base_uri": "https://localhost:8080/"
        },
        "id": "K_62LylvoIhr",
        "outputId": "4d802e2d-b10e-4ab7-f6e5-5a7d36ceb7c4"
      },
      "source": [
        "rnn = nn.GRU(99, 101, 3)#input, output, \n",
        "input = torch.randn(128, 1, 99)\n",
        "h0 = torch.randn(3, 1, 101)\n",
        "output, hn = rnn(input, h0)\n",
        "print(output.shape,hn.shape)\n"
      ],
      "execution_count": null,
      "outputs": [
        {
          "output_type": "stream",
          "text": [
            "torch.Size([128, 1, 101]) torch.Size([3, 1, 101])\n"
          ],
          "name": "stdout"
        }
      ]
    },
    {
      "cell_type": "code",
      "metadata": {
        "id": "7eKC5AhlonkE"
      },
      "source": [
        "model = GRU_P().cuda()\n",
        "#optimizer = torch.optim.Adam(model.parameters(),lr = 0.0001, betas = (.9,.999))\n"
      ],
      "execution_count": null,
      "outputs": []
    },
    {
      "cell_type": "code",
      "metadata": {
        "id": "6sW_EmZ2rOxA"
      },
      "source": [
        "#model = GRU_P().cuda()\n",
        "optimizer = torch.optim.Adam(model.parameters(),lr = 0.00001, betas = (.9,.999))\n"
      ],
      "execution_count": null,
      "outputs": []
    },
    {
      "cell_type": "code",
      "metadata": {
        "colab": {
          "base_uri": "https://localhost:8080/",
          "height": 885
        },
        "id": "cFOOsq25rPzU",
        "outputId": "89943a05-f7dd-4ecd-ac40-3580a0190645"
      },
      "source": [
        "for i in range (10):\n",
        "  loss = None\n",
        "  for x,y in loader_train:\n",
        "    x = x.cuda()\n",
        "    y = y.cuda()\n",
        "    h = None\n",
        "\n",
        "    for i in range(1,100):\n",
        "      optimizer.zero_grad()\n",
        "      out,h = model(x,y[:,10*(i-1):10*(i),:2],h)\n",
        "      h = h.detach()\n",
        "      out = out.reshape(mini_batch,10,2)\n",
        "      loss = torch.mean((out-y[:,10*i:10*(i+1),:2])**2)\n",
        "      loss.backward()\n",
        "      optimizer.step()\n",
        "    #print(y[:,0,:2])\n",
        "    print('i',i)\n",
        "  print(loss)"
      ],
      "execution_count": null,
      "outputs": [
        {
          "output_type": "stream",
          "text": [
            "/usr/local/lib/python3.7/dist-packages/torch/utils/data/dataloader.py:477: UserWarning: This DataLoader will create 4 worker processes in total. Our suggested max number of worker in current system is 2, which is smaller than what this DataLoader is going to create. Please be aware that excessive worker creation might get DataLoader running slow or even freeze, lower the worker number to avoid potential slowness/freeze if necessary.\n",
            "  cpuset_checked))\n"
          ],
          "name": "stderr"
        },
        {
          "output_type": "stream",
          "text": [
            "i 99\n",
            "i 99\n",
            "i 99\n",
            "i 99\n",
            "i 99\n",
            "i 99\n",
            "i 99\n",
            "i 99\n",
            "i 99\n",
            "i 99\n",
            "tensor(37.6157, device='cuda:0', grad_fn=<MeanBackward0>)\n",
            "i 99\n",
            "i 99\n",
            "i 99\n",
            "i 99\n",
            "i 99\n",
            "i 99\n",
            "i 99\n",
            "i 99\n",
            "i 99\n",
            "i 99\n",
            "tensor(36.7172, device='cuda:0', grad_fn=<MeanBackward0>)\n",
            "i 99\n",
            "i 99\n",
            "i 99\n"
          ],
          "name": "stdout"
        },
        {
          "output_type": "error",
          "ename": "KeyboardInterrupt",
          "evalue": "ignored",
          "traceback": [
            "\u001b[0;31m---------------------------------------------------------------------------\u001b[0m",
            "\u001b[0;31mKeyboardInterrupt\u001b[0m                         Traceback (most recent call last)",
            "\u001b[0;32m<ipython-input-250-c775bb1e517a>\u001b[0m in \u001b[0;36m<module>\u001b[0;34m()\u001b[0m\n\u001b[1;32m     12\u001b[0m       \u001b[0mout\u001b[0m \u001b[0;34m=\u001b[0m \u001b[0mout\u001b[0m\u001b[0;34m.\u001b[0m\u001b[0mreshape\u001b[0m\u001b[0;34m(\u001b[0m\u001b[0mmini_batch\u001b[0m\u001b[0;34m,\u001b[0m\u001b[0;36m10\u001b[0m\u001b[0;34m,\u001b[0m\u001b[0;36m2\u001b[0m\u001b[0;34m)\u001b[0m\u001b[0;34m\u001b[0m\u001b[0;34m\u001b[0m\u001b[0m\n\u001b[1;32m     13\u001b[0m       \u001b[0mloss\u001b[0m \u001b[0;34m=\u001b[0m \u001b[0mtorch\u001b[0m\u001b[0;34m.\u001b[0m\u001b[0mmean\u001b[0m\u001b[0;34m(\u001b[0m\u001b[0;34m(\u001b[0m\u001b[0mout\u001b[0m\u001b[0;34m-\u001b[0m\u001b[0my\u001b[0m\u001b[0;34m[\u001b[0m\u001b[0;34m:\u001b[0m\u001b[0;34m,\u001b[0m\u001b[0;36m10\u001b[0m\u001b[0;34m*\u001b[0m\u001b[0mi\u001b[0m\u001b[0;34m:\u001b[0m\u001b[0;36m10\u001b[0m\u001b[0;34m*\u001b[0m\u001b[0;34m(\u001b[0m\u001b[0mi\u001b[0m\u001b[0;34m+\u001b[0m\u001b[0;36m1\u001b[0m\u001b[0;34m)\u001b[0m\u001b[0;34m,\u001b[0m\u001b[0;34m:\u001b[0m\u001b[0;36m2\u001b[0m\u001b[0;34m]\u001b[0m\u001b[0;34m)\u001b[0m\u001b[0;34m**\u001b[0m\u001b[0;36m2\u001b[0m\u001b[0;34m)\u001b[0m\u001b[0;34m\u001b[0m\u001b[0;34m\u001b[0m\u001b[0m\n\u001b[0;32m---> 14\u001b[0;31m       \u001b[0mloss\u001b[0m\u001b[0;34m.\u001b[0m\u001b[0mbackward\u001b[0m\u001b[0;34m(\u001b[0m\u001b[0;34m)\u001b[0m\u001b[0;34m\u001b[0m\u001b[0;34m\u001b[0m\u001b[0m\n\u001b[0m\u001b[1;32m     15\u001b[0m       \u001b[0moptimizer\u001b[0m\u001b[0;34m.\u001b[0m\u001b[0mstep\u001b[0m\u001b[0;34m(\u001b[0m\u001b[0;34m)\u001b[0m\u001b[0;34m\u001b[0m\u001b[0;34m\u001b[0m\u001b[0m\n\u001b[1;32m     16\u001b[0m     \u001b[0;31m#print(y[:,0,:2])\u001b[0m\u001b[0;34m\u001b[0m\u001b[0;34m\u001b[0m\u001b[0;34m\u001b[0m\u001b[0m\n",
            "\u001b[0;32m/usr/local/lib/python3.7/dist-packages/torch/tensor.py\u001b[0m in \u001b[0;36mbackward\u001b[0;34m(self, gradient, retain_graph, create_graph, inputs)\u001b[0m\n\u001b[1;32m    243\u001b[0m                 \u001b[0mcreate_graph\u001b[0m\u001b[0;34m=\u001b[0m\u001b[0mcreate_graph\u001b[0m\u001b[0;34m,\u001b[0m\u001b[0;34m\u001b[0m\u001b[0;34m\u001b[0m\u001b[0m\n\u001b[1;32m    244\u001b[0m                 inputs=inputs)\n\u001b[0;32m--> 245\u001b[0;31m         \u001b[0mtorch\u001b[0m\u001b[0;34m.\u001b[0m\u001b[0mautograd\u001b[0m\u001b[0;34m.\u001b[0m\u001b[0mbackward\u001b[0m\u001b[0;34m(\u001b[0m\u001b[0mself\u001b[0m\u001b[0;34m,\u001b[0m \u001b[0mgradient\u001b[0m\u001b[0;34m,\u001b[0m \u001b[0mretain_graph\u001b[0m\u001b[0;34m,\u001b[0m \u001b[0mcreate_graph\u001b[0m\u001b[0;34m,\u001b[0m \u001b[0minputs\u001b[0m\u001b[0;34m=\u001b[0m\u001b[0minputs\u001b[0m\u001b[0;34m)\u001b[0m\u001b[0;34m\u001b[0m\u001b[0;34m\u001b[0m\u001b[0m\n\u001b[0m\u001b[1;32m    246\u001b[0m \u001b[0;34m\u001b[0m\u001b[0m\n\u001b[1;32m    247\u001b[0m     \u001b[0;32mdef\u001b[0m \u001b[0mregister_hook\u001b[0m\u001b[0;34m(\u001b[0m\u001b[0mself\u001b[0m\u001b[0;34m,\u001b[0m \u001b[0mhook\u001b[0m\u001b[0;34m)\u001b[0m\u001b[0;34m:\u001b[0m\u001b[0;34m\u001b[0m\u001b[0;34m\u001b[0m\u001b[0m\n",
            "\u001b[0;32m/usr/local/lib/python3.7/dist-packages/torch/autograd/__init__.py\u001b[0m in \u001b[0;36mbackward\u001b[0;34m(tensors, grad_tensors, retain_graph, create_graph, grad_variables, inputs)\u001b[0m\n\u001b[1;32m    145\u001b[0m     Variable._execution_engine.run_backward(\n\u001b[1;32m    146\u001b[0m         \u001b[0mtensors\u001b[0m\u001b[0;34m,\u001b[0m \u001b[0mgrad_tensors_\u001b[0m\u001b[0;34m,\u001b[0m \u001b[0mretain_graph\u001b[0m\u001b[0;34m,\u001b[0m \u001b[0mcreate_graph\u001b[0m\u001b[0;34m,\u001b[0m \u001b[0minputs\u001b[0m\u001b[0;34m,\u001b[0m\u001b[0;34m\u001b[0m\u001b[0;34m\u001b[0m\u001b[0m\n\u001b[0;32m--> 147\u001b[0;31m         allow_unreachable=True, accumulate_grad=True)  # allow_unreachable flag\n\u001b[0m\u001b[1;32m    148\u001b[0m \u001b[0;34m\u001b[0m\u001b[0m\n\u001b[1;32m    149\u001b[0m \u001b[0;34m\u001b[0m\u001b[0m\n",
            "\u001b[0;31mKeyboardInterrupt\u001b[0m: "
          ]
        }
      ]
    },
    {
      "cell_type": "code",
      "metadata": {
        "id": "LWgUGfAnrVIJ"
      },
      "source": [
        "a = torch.zeros(128,111)\n",
        "b = torch.zeros(128,99)\n",
        "c= torch.cat([a,b],dim=1)"
      ],
      "execution_count": null,
      "outputs": []
    },
    {
      "cell_type": "code",
      "metadata": {
        "colab": {
          "base_uri": "https://localhost:8080/"
        },
        "id": "_Mw2Wcmh50GO",
        "outputId": "686b1d8c-fd1e-401c-e8f7-82bf8af03ed5"
      },
      "source": [
        "print(c.shape)"
      ],
      "execution_count": null,
      "outputs": [
        {
          "output_type": "stream",
          "text": [
            "torch.Size([128, 210])\n"
          ],
          "name": "stdout"
        }
      ]
    },
    {
      "cell_type": "code",
      "metadata": {
        "id": "EvZwpFdO6YF7"
      },
      "source": [
        "import torch\n",
        "import torch.nn as nn\n",
        "from torch.hub import load_state_dict_from_url\n",
        "\n",
        "class DecoderRNN(nn.Module):\n",
        "    def __init__(self):\n",
        "        super(DecoderRNN, self).__init__()\n",
        "        \n",
        "        # define the properties\n",
        "        self.embed_size = 99\n",
        "        self.hidden_size = 101\n",
        "        self.vocab_size = 2\n",
        "        self.num_layers = 1\n",
        "        # lstm cell\n",
        "        self.lstm_cell = nn.LSTM(self.embed_size, self.hidden_size,self.num_layers)\n",
        "    \n",
        "        # output fully connected layer\n",
        "        #self.mlp = \n",
        "        #self.fc_out = nn.Linear(in_features=self.hidden_size, out_features=self.vocab_size)\n",
        "        self.fc_out = nn.Sequential(\n",
        "            nn.Linear(101, 60),\n",
        "            nn.ReLU(True),\n",
        "            nn.Dropout(),\n",
        "            nn.Linear(60, 20),\n",
        "            nn.ReLU(True),\n",
        "            nn.Dropout(),\n",
        "            nn.Linear(20, 2),\n",
        "            nn.Sigmoid()\n",
        "        )\n",
        "        # embedding layer\n",
        "        #self.embed = nn.Embedding(num_embeddings=self.vocab_size, embedding_dim=self.embed_size)\n",
        "        #self.embed = nn\n",
        "\n",
        "        self.inputmlp = nn.Sequential(\n",
        "            nn.Linear(1024,512),nn.ReLU(),nn.Dropout(),\n",
        "            nn.Linear(512,256),nn.ReLU(),nn.Dropout(),\n",
        "            nn.Linear(256,97),nn.Sigmoid()) \n",
        "\n",
        "        self.hiddenMlp = nn.Sequential(\n",
        "            nn.Linear(97+2,self.hidden_size),nn.ReLU(),nn.Dropout(),\n",
        "            nn.Linear(self.hidden_size,self.hidden_size),nn.ReLU(),nn.Dropout(),\n",
        "            nn.Linear(self.hidden_size,self.hidden_size),nn.ReLU()) \n",
        "        self.cellMlp = nn.Sequential(\n",
        "            nn.Linear(97+2,self.hidden_size),nn.ReLU(),nn.Dropout(),\n",
        "            nn.Linear(self.hidden_size,self.hidden_size),nn.ReLU(),nn.Dropout(),\n",
        "            nn.Linear(self.hidden_size,self.hidden_size),nn.ReLU()) \n",
        "\n",
        "        \n",
        "        # activations\n",
        "        self.softmax = nn.Softmax(dim=1)\n",
        "    \n",
        "    def forward(self, features, captions):\n",
        "        \n",
        "        #print(features.shape,captions.shape)\n",
        "        # batch size\n",
        "        #print('0')\n",
        "        lvector = self.inputmlp(torch.flatten(features,start_dim=1))\n",
        "        p0 = torch.flatten(captions[:,0,:2],start_dim=1)\n",
        "\n",
        "        batch_size = features.size(0)\n",
        "                \n",
        "        # init the hidden and cell states to zeros\n",
        "        #h_0 of shape (num_layers * num_directions, batch, hidden_size)\n",
        "        h0 = self.hiddenMlp(torch.cat([lvector,p0],dim=1)).reshape(self.num_layers,batch_size, self.hidden_size)\n",
        "        c0 = self.cellMlp(torch.cat([lvector,p0],dim=1)).reshape(self.num_layers,batch_size, self.hidden_size)\n",
        "        #hidden_state = torch.zeros((self.num_layers,batch_size, self.hidden_size)).cuda()\n",
        "        #cell_state = torch.zeros((self.num_layers,batch_size, self.hidden_size)).cuda()\n",
        "\n",
        "        #print('1')\n",
        "        \n",
        "        # define the output tensor placeholder\n",
        "        assert captions.size(1)==1000\n",
        "        assert self.vocab_size == 2\n",
        "        outputs = torch.empty((batch_size, captions.size(1), self.vocab_size)).cuda()\n",
        "        \n",
        "        #output, (hidden_state, cell_state) = self.lstm_cell(features, (hidden_state, cell_state))\n",
        "            \n",
        "        # pass the caption word by word\n",
        "        for t in range(captions.size(1)):\n",
        "        \n",
        "            # for the first time step the input is the feature vector\n",
        "            if t == 0:\n",
        "                #print('2')\n",
        "        \n",
        "                b = torch.cat([lvector,p0],dim=1)\n",
        "                #print(b.shape)\n",
        "                output, (hidden_state, cell_state) = self.lstm_cell(b.unsqueeze(0), (h0, c0))\n",
        "            else:\n",
        "                #print('3')\n",
        "        \n",
        "                pt = torch.flatten(captions[:,t-1,:2],start_dim=1)\n",
        "                b = torch.cat([lvector,pt],dim=1)\n",
        "                output, (hidden_state, cell_state) = self.lstm_cell(b.unsqueeze(0), (hidden_state, cell_state))\n",
        "                \n",
        "            out = self.fc_out(torch.flatten(torch.squeeze(output),start_dim=1))\n",
        "            \n",
        "            # build the output tensor\n",
        "            outputs[:, t, :] = out\n",
        "    \n",
        "        return 32.0*outputs"
      ],
      "execution_count": null,
      "outputs": []
    },
    {
      "cell_type": "code",
      "metadata": {
        "id": "nOgbejh4CcmM"
      },
      "source": [
        "model = DecoderRNN().cuda()"
      ],
      "execution_count": null,
      "outputs": []
    },
    {
      "cell_type": "code",
      "metadata": {
        "id": "TlMaDUFu_Mnr"
      },
      "source": [
        "x = torch.zeros(128,1024).cuda()\n",
        "y = torch.zeros(128,1000,2).cuda()\n",
        "\n",
        "#outs = model(x,y)"
      ],
      "execution_count": null,
      "outputs": []
    },
    {
      "cell_type": "code",
      "metadata": {
        "id": "_2N6KvjKClBO"
      },
      "source": [
        ""
      ],
      "execution_count": null,
      "outputs": []
    },
    {
      "cell_type": "code",
      "metadata": {
        "id": "v0aG37CeL5c9"
      },
      "source": [
        "#model = GRU_P().cuda()\n",
        "#optimizer = torch.optim.Adam(model.parameters(),lr = 0.0001, betas = (.9,.999))\n"
      ],
      "execution_count": null,
      "outputs": []
    },
    {
      "cell_type": "code",
      "metadata": {
        "id": "keW5Til6MBkj"
      },
      "source": [
        "#model = GRU_P().cuda()\n",
        "optimizer = torch.optim.Adam(model.parameters(),lr = 0.0001, betas = (.9,.999))#ideal\n"
      ],
      "execution_count": null,
      "outputs": []
    },
    {
      "cell_type": "code",
      "metadata": {
        "colab": {
          "base_uri": "https://localhost:8080/",
          "height": 1000
        },
        "id": "VSoczVl6LXFf",
        "outputId": "50068ed3-8087-4862-b67e-b288a9de1ada"
      },
      "source": [
        "for i in range (20):\n",
        "  loss = None\n",
        "  for x,y in loader_train:\n",
        "    x = x.cuda()\n",
        "    y = y.cuda()\n",
        "    \n",
        "    optimizer.zero_grad()\n",
        "    out = model(x,y[:,:,:2])\n",
        "    loss = torch.mean((out-y[:,:,:2])**2)\n",
        "    loss.backward()\n",
        "    optimizer.step()\n",
        "    #print(y[:,0,:2])\n",
        "    print('i',i)\n",
        "  print(loss)"
      ],
      "execution_count": null,
      "outputs": [
        {
          "output_type": "stream",
          "text": [
            "/usr/local/lib/python3.7/dist-packages/torch/utils/data/dataloader.py:477: UserWarning: This DataLoader will create 4 worker processes in total. Our suggested max number of worker in current system is 2, which is smaller than what this DataLoader is going to create. Please be aware that excessive worker creation might get DataLoader running slow or even freeze, lower the worker number to avoid potential slowness/freeze if necessary.\n",
            "  cpuset_checked))\n"
          ],
          "name": "stderr"
        },
        {
          "output_type": "stream",
          "text": [
            "i 0\n",
            "i 0\n",
            "i 0\n",
            "i 0\n",
            "i 0\n",
            "i 0\n",
            "i 0\n",
            "i 0\n",
            "i 0\n",
            "i 0\n",
            "i 0\n",
            "i 0\n",
            "i 0\n",
            "i 0\n",
            "i 0\n",
            "i 0\n",
            "i 0\n",
            "i 0\n",
            "i 0\n",
            "i 0\n",
            "tensor(7.2511, device='cuda:0', grad_fn=<MeanBackward0>)\n",
            "i 1\n",
            "i 1\n",
            "i 1\n",
            "i 1\n",
            "i 1\n",
            "i 1\n",
            "i 1\n",
            "i 1\n",
            "i 1\n",
            "i 1\n",
            "i 1\n",
            "i 1\n",
            "i 1\n",
            "i 1\n",
            "i 1\n",
            "i 1\n",
            "i 1\n",
            "i 1\n",
            "i 1\n",
            "i 1\n",
            "tensor(7.1782, device='cuda:0', grad_fn=<MeanBackward0>)\n",
            "i 2\n",
            "i 2\n",
            "i 2\n",
            "i 2\n",
            "i 2\n",
            "i 2\n",
            "i 2\n",
            "i 2\n",
            "i 2\n",
            "i 2\n",
            "i 2\n",
            "i 2\n",
            "i 2\n",
            "i 2\n",
            "i 2\n",
            "i 2\n",
            "i 2\n",
            "i 2\n",
            "i 2\n",
            "i 2\n",
            "tensor(7.0582, device='cuda:0', grad_fn=<MeanBackward0>)\n",
            "i 3\n",
            "i 3\n",
            "i 3\n",
            "i 3\n",
            "i 3\n",
            "i 3\n",
            "i 3\n",
            "i 3\n",
            "i 3\n",
            "i 3\n",
            "i 3\n",
            "i 3\n",
            "i 3\n",
            "i 3\n",
            "i 3\n",
            "i 3\n",
            "i 3\n",
            "i 3\n",
            "i 3\n",
            "i 3\n",
            "tensor(7.3243, device='cuda:0', grad_fn=<MeanBackward0>)\n",
            "i 4\n",
            "i 4\n",
            "i 4\n",
            "i 4\n",
            "i 4\n",
            "i 4\n",
            "i 4\n",
            "i 4\n",
            "i 4\n",
            "i 4\n",
            "i 4\n",
            "i 4\n",
            "i 4\n",
            "i 4\n",
            "i 4\n",
            "i 4\n",
            "i 4\n",
            "i 4\n",
            "i 4\n",
            "i 4\n",
            "tensor(7.1884, device='cuda:0', grad_fn=<MeanBackward0>)\n",
            "i 5\n",
            "i 5\n",
            "i 5\n",
            "i 5\n",
            "i 5\n",
            "i 5\n",
            "i 5\n",
            "i 5\n",
            "i 5\n",
            "i 5\n",
            "i 5\n",
            "i 5\n",
            "i 5\n",
            "i 5\n",
            "i 5\n",
            "i 5\n",
            "i 5\n",
            "i 5\n",
            "i 5\n",
            "i 5\n",
            "tensor(7.3165, device='cuda:0', grad_fn=<MeanBackward0>)\n",
            "i 6\n",
            "i 6\n",
            "i 6\n",
            "i 6\n",
            "i 6\n",
            "i 6\n",
            "i 6\n",
            "i 6\n",
            "i 6\n",
            "i 6\n",
            "i 6\n",
            "i 6\n",
            "i 6\n",
            "i 6\n",
            "i 6\n",
            "i 6\n",
            "i 6\n",
            "i 6\n",
            "i 6\n",
            "i 6\n",
            "tensor(7.2381, device='cuda:0', grad_fn=<MeanBackward0>)\n",
            "i 7\n",
            "i 7\n",
            "i 7\n",
            "i 7\n",
            "i 7\n",
            "i 7\n",
            "i 7\n",
            "i 7\n"
          ],
          "name": "stdout"
        },
        {
          "output_type": "error",
          "ename": "KeyboardInterrupt",
          "evalue": "ignored",
          "traceback": [
            "\u001b[0;31m---------------------------------------------------------------------------\u001b[0m",
            "\u001b[0;31mKeyboardInterrupt\u001b[0m                         Traceback (most recent call last)",
            "\u001b[0;32m<ipython-input-196-4b8eaf8f5d99>\u001b[0m in \u001b[0;36m<module>\u001b[0;34m()\u001b[0m\n\u001b[1;32m      6\u001b[0m \u001b[0;34m\u001b[0m\u001b[0m\n\u001b[1;32m      7\u001b[0m     \u001b[0moptimizer\u001b[0m\u001b[0;34m.\u001b[0m\u001b[0mzero_grad\u001b[0m\u001b[0;34m(\u001b[0m\u001b[0;34m)\u001b[0m\u001b[0;34m\u001b[0m\u001b[0;34m\u001b[0m\u001b[0m\n\u001b[0;32m----> 8\u001b[0;31m     \u001b[0mout\u001b[0m \u001b[0;34m=\u001b[0m \u001b[0mmodel\u001b[0m\u001b[0;34m(\u001b[0m\u001b[0mx\u001b[0m\u001b[0;34m,\u001b[0m\u001b[0my\u001b[0m\u001b[0;34m[\u001b[0m\u001b[0;34m:\u001b[0m\u001b[0;34m,\u001b[0m\u001b[0;34m:\u001b[0m\u001b[0;34m,\u001b[0m\u001b[0;34m:\u001b[0m\u001b[0;36m2\u001b[0m\u001b[0;34m]\u001b[0m\u001b[0;34m)\u001b[0m\u001b[0;34m\u001b[0m\u001b[0;34m\u001b[0m\u001b[0m\n\u001b[0m\u001b[1;32m      9\u001b[0m     \u001b[0mloss\u001b[0m \u001b[0;34m=\u001b[0m \u001b[0mtorch\u001b[0m\u001b[0;34m.\u001b[0m\u001b[0mmean\u001b[0m\u001b[0;34m(\u001b[0m\u001b[0;34m(\u001b[0m\u001b[0mout\u001b[0m\u001b[0;34m-\u001b[0m\u001b[0my\u001b[0m\u001b[0;34m[\u001b[0m\u001b[0;34m:\u001b[0m\u001b[0;34m,\u001b[0m\u001b[0;34m:\u001b[0m\u001b[0;34m,\u001b[0m\u001b[0;34m:\u001b[0m\u001b[0;36m2\u001b[0m\u001b[0;34m]\u001b[0m\u001b[0;34m)\u001b[0m\u001b[0;34m**\u001b[0m\u001b[0;36m2\u001b[0m\u001b[0;34m)\u001b[0m\u001b[0;34m\u001b[0m\u001b[0;34m\u001b[0m\u001b[0m\n\u001b[1;32m     10\u001b[0m     \u001b[0mloss\u001b[0m\u001b[0;34m.\u001b[0m\u001b[0mbackward\u001b[0m\u001b[0;34m(\u001b[0m\u001b[0;34m)\u001b[0m\u001b[0;34m\u001b[0m\u001b[0;34m\u001b[0m\u001b[0m\n",
            "\u001b[0;32m/usr/local/lib/python3.7/dist-packages/torch/nn/modules/module.py\u001b[0m in \u001b[0;36m_call_impl\u001b[0;34m(self, *input, **kwargs)\u001b[0m\n\u001b[1;32m    887\u001b[0m             \u001b[0mresult\u001b[0m \u001b[0;34m=\u001b[0m \u001b[0mself\u001b[0m\u001b[0;34m.\u001b[0m\u001b[0m_slow_forward\u001b[0m\u001b[0;34m(\u001b[0m\u001b[0;34m*\u001b[0m\u001b[0minput\u001b[0m\u001b[0;34m,\u001b[0m \u001b[0;34m**\u001b[0m\u001b[0mkwargs\u001b[0m\u001b[0;34m)\u001b[0m\u001b[0;34m\u001b[0m\u001b[0;34m\u001b[0m\u001b[0m\n\u001b[1;32m    888\u001b[0m         \u001b[0;32melse\u001b[0m\u001b[0;34m:\u001b[0m\u001b[0;34m\u001b[0m\u001b[0;34m\u001b[0m\u001b[0m\n\u001b[0;32m--> 889\u001b[0;31m             \u001b[0mresult\u001b[0m \u001b[0;34m=\u001b[0m \u001b[0mself\u001b[0m\u001b[0;34m.\u001b[0m\u001b[0mforward\u001b[0m\u001b[0;34m(\u001b[0m\u001b[0;34m*\u001b[0m\u001b[0minput\u001b[0m\u001b[0;34m,\u001b[0m \u001b[0;34m**\u001b[0m\u001b[0mkwargs\u001b[0m\u001b[0;34m)\u001b[0m\u001b[0;34m\u001b[0m\u001b[0;34m\u001b[0m\u001b[0m\n\u001b[0m\u001b[1;32m    890\u001b[0m         for hook in itertools.chain(\n\u001b[1;32m    891\u001b[0m                 \u001b[0m_global_forward_hooks\u001b[0m\u001b[0;34m.\u001b[0m\u001b[0mvalues\u001b[0m\u001b[0;34m(\u001b[0m\u001b[0;34m)\u001b[0m\u001b[0;34m,\u001b[0m\u001b[0;34m\u001b[0m\u001b[0;34m\u001b[0m\u001b[0m\n",
            "\u001b[0;32m<ipython-input-189-22b96fae211b>\u001b[0m in \u001b[0;36mforward\u001b[0;34m(self, features, captions)\u001b[0m\n\u001b[1;32m     90\u001b[0m \u001b[0;34m\u001b[0m\u001b[0m\n\u001b[1;32m     91\u001b[0m                 \u001b[0mpt\u001b[0m \u001b[0;34m=\u001b[0m \u001b[0mtorch\u001b[0m\u001b[0;34m.\u001b[0m\u001b[0mflatten\u001b[0m\u001b[0;34m(\u001b[0m\u001b[0mcaptions\u001b[0m\u001b[0;34m[\u001b[0m\u001b[0;34m:\u001b[0m\u001b[0;34m,\u001b[0m\u001b[0mt\u001b[0m\u001b[0;34m-\u001b[0m\u001b[0;36m1\u001b[0m\u001b[0;34m,\u001b[0m\u001b[0;34m:\u001b[0m\u001b[0;36m2\u001b[0m\u001b[0;34m]\u001b[0m\u001b[0;34m,\u001b[0m\u001b[0mstart_dim\u001b[0m\u001b[0;34m=\u001b[0m\u001b[0;36m1\u001b[0m\u001b[0;34m)\u001b[0m\u001b[0;34m\u001b[0m\u001b[0;34m\u001b[0m\u001b[0m\n\u001b[0;32m---> 92\u001b[0;31m                 \u001b[0mb\u001b[0m \u001b[0;34m=\u001b[0m \u001b[0mtorch\u001b[0m\u001b[0;34m.\u001b[0m\u001b[0mcat\u001b[0m\u001b[0;34m(\u001b[0m\u001b[0;34m[\u001b[0m\u001b[0mlvector\u001b[0m\u001b[0;34m,\u001b[0m\u001b[0mpt\u001b[0m\u001b[0;34m]\u001b[0m\u001b[0;34m,\u001b[0m\u001b[0mdim\u001b[0m\u001b[0;34m=\u001b[0m\u001b[0;36m1\u001b[0m\u001b[0;34m)\u001b[0m\u001b[0;34m\u001b[0m\u001b[0;34m\u001b[0m\u001b[0m\n\u001b[0m\u001b[1;32m     93\u001b[0m                 \u001b[0moutput\u001b[0m\u001b[0;34m,\u001b[0m \u001b[0;34m(\u001b[0m\u001b[0mhidden_state\u001b[0m\u001b[0;34m,\u001b[0m \u001b[0mcell_state\u001b[0m\u001b[0;34m)\u001b[0m \u001b[0;34m=\u001b[0m \u001b[0mself\u001b[0m\u001b[0;34m.\u001b[0m\u001b[0mlstm_cell\u001b[0m\u001b[0;34m(\u001b[0m\u001b[0mb\u001b[0m\u001b[0;34m.\u001b[0m\u001b[0munsqueeze\u001b[0m\u001b[0;34m(\u001b[0m\u001b[0;36m0\u001b[0m\u001b[0;34m)\u001b[0m\u001b[0;34m,\u001b[0m \u001b[0;34m(\u001b[0m\u001b[0mhidden_state\u001b[0m\u001b[0;34m,\u001b[0m \u001b[0mcell_state\u001b[0m\u001b[0;34m)\u001b[0m\u001b[0;34m)\u001b[0m\u001b[0;34m\u001b[0m\u001b[0;34m\u001b[0m\u001b[0m\n\u001b[1;32m     94\u001b[0m \u001b[0;34m\u001b[0m\u001b[0m\n",
            "\u001b[0;31mKeyboardInterrupt\u001b[0m: "
          ]
        }
      ]
    },
    {
      "cell_type": "code",
      "metadata": {
        "id": "R9Zik5B1MUcN"
      },
      "source": [
        ""
      ],
      "execution_count": null,
      "outputs": []
    }
  ]
}