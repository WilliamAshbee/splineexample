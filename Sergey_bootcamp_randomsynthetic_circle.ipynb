{
  "nbformat": 4,
  "nbformat_minor": 0,
  "metadata": {
    "colab": {
      "name": "Sergey_bootcamp_randomsynthetic_circle.ipynb",
      "provenance": [],
      "authorship_tag": "ABX9TyNxdJ6HIlae6xhCszjqkBa5",
      "include_colab_link": true
    },
    "kernelspec": {
      "name": "python3",
      "display_name": "Python 3"
    },
    "language_info": {
      "name": "python"
    }
  },
  "cells": [
    {
      "cell_type": "markdown",
      "metadata": {
        "id": "view-in-github",
        "colab_type": "text"
      },
      "source": [
        "<a href=\"https://colab.research.google.com/github/WilliamAshbee/splineexample/blob/main/Sergey_bootcamp_randomsynthetic_circle.ipynb\" target=\"_parent\"><img src=\"https://colab.research.google.com/assets/colab-badge.svg\" alt=\"Open In Colab\"/></a>"
      ]
    },
    {
      "cell_type": "code",
      "metadata": {
        "colab": {
          "base_uri": "https://localhost:8080/",
          "height": 306
        },
        "id": "j3jPxYt3-VLl",
        "outputId": "9e6fcee3-4e46-4325-d90f-ed0df83a06c1"
      },
      "source": [
        "from scipy.special import spherical_jn as besseli\n",
        "import numpy as np\n",
        "from scipy import *\n",
        "from math import *\n",
        "import matplotlib.pyplot as plt\n",
        "\n",
        "def vmf(mu, kappa, x):\n",
        "    # single point function\n",
        "    d = mu.shape[0]\n",
        "    # compute in the log space\n",
        "    logvmf = (d//2-1) * np.log(kappa) - np.log((2*pi)**(d/2)*besseli(d//2-1,kappa)) + kappa * np.dot(mu,x)\n",
        "    return np.exp(logvmf)\n",
        "\n",
        "def pol2cart(r, phi):\n",
        "    x = r*np.cos(phi)\n",
        "    y = r*np.sin(phi)\n",
        "    return np.array([x,y])\n",
        "    \n",
        "def cart2pol(x,y):\n",
        "    th = atan2(y,x)\n",
        "    r = sqrt(x**2+y**2)\n",
        "    return th,r\n",
        "\n",
        "\n",
        "def apply_vmf(x, mu, kappa):\n",
        "    y = []\n",
        "    for i in range(x.shape[1]):\n",
        "        phi, rho = cart2pol(x[0,i], x[1,i])\n",
        "        delta = vmf(mu, kappa, x[:,i])\n",
        "        xi, yi = pol2cart(rho+delta, phi)\n",
        "        y.append(np.array([xi,yi]).T)\n",
        "    return np.asarray(y).T\n",
        "\n",
        "\n",
        "x = np.random.randn(2,1000)\n",
        "xnormed = x/np.linalg.norm(x, axis=0)\n",
        "mu = np.random.randn(2); mu = mu/np.linalg.norm(mu)\n",
        "y = apply_vmf(xnormed, mu, 20)\n",
        "plt.plot(y[0,:], y[1,:], '.')\n"
      ],
      "execution_count": 11,
      "outputs": [
        {
          "output_type": "execute_result",
          "data": {
            "text/plain": [
              "[<matplotlib.lines.Line2D at 0x7ffa4355ebd0>]"
            ]
          },
          "metadata": {},
          "execution_count": 11
        },
        {
          "output_type": "display_data",
          "data": {
            "image/png": "[encoded data removed]",
            "text/plain": [
              "<Figure size 432x288 with 1 Axes>"
            ]
          },
          "metadata": {
            "needs_background": "light"
          }
        }
      ]
    },
    {
      "cell_type": "code",
      "metadata": {
        "id": "9WYfXuXQ-aAj"
      },
      "source": [
        ""
      ],
      "execution_count": null,
      "outputs": []
    }
  ]
}