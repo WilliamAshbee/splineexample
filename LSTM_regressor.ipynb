{
  "nbformat": 4,
  "nbformat_minor": 0,
  "metadata": {
    "colab": {
      "name": "LSTM_regressor.ipynb",
      "provenance": [],
      "authorship_tag": "ABX9TyOFJ1Zxb+VPthXkNEdshED6",
      "include_colab_link": true
    },
    "kernelspec": {
      "name": "python3",
      "display_name": "Python 3"
    },
    "language_info": {
      "name": "python"
    },
    "accelerator": "GPU"
  },
  "cells": [
    {
      "cell_type": "markdown",
      "metadata": {
        "id": "view-in-github",
        "colab_type": "text"
      },
      "source": [
        "<a href=\"https://colab.research.google.com/github/WilliamAshbee/splineexample/blob/main/LSTM_regressor.ipynb\" target=\"_parent\"><img src=\"https://colab.research.google.com/assets/colab-badge.svg\" alt=\"Open In Colab\"/></a>"
      ]
    },
    {
      "cell_type": "code",
      "metadata": {
        "id": "EtrWeWo6LGBz",
        "colab": {
          "base_uri": "https://localhost:8080/",
          "height": 242
        },
        "outputId": "e48dadd6-73e5-4bc4-b1c5-376b64fd7b5b"
      },
      "source": [
        "\n",
        "\"\"\"import torch\n",
        "import torch.nn as nn\n",
        "from torch.hub import load_state_dict_from_url\n",
        "\n",
        "class GRU_P(nn.Module):\n",
        "    def __init__(self):\n",
        "        super(GRU_P, self).__init__()\n",
        "        self.rnn = nn.GRU(64, 64, 64)#input, output,\n",
        "\n",
        "        self.hiddenmlp = nn.Sequential(nn.Linear(1024,256),nn.ReLU(True),nn.Dropout(),\n",
        "                                       nn.Linear(256,64),nn.ReLU(True)) \n",
        "        self.inputmlp = nn.Sequential(nn.Linear(1024,256),nn.ReLU(True),nn.Dropout(),\n",
        "                                       nn.Linear(256,64),nn.ReLU(True)) \n",
        "        self.inputmlphx = nn.Sequential(nn.Linear(64,64),nn.ReLU(True),nn.Dropout(),nn.Linear(64,64),nn.Sigmoid()) \n",
        "        self.mlp = nn.Sequential(\n",
        "            nn.Linear(64, 32),\n",
        "            nn.ReLU(True),\n",
        "            nn.Dropout(),\n",
        "            nn.Linear(32, 2),\n",
        "            nn.Sigmoid()\n",
        "        )\n",
        "    def forward(self, x, hidden):\n",
        "        \n",
        "        indim= x.shape[0]\n",
        "        x = self.inputmlp(torch.flatten(x,start_dim=1))\n",
        "        x = x.reshape(indim,1,64)\n",
        "        hidden = hidden.reshape(indim,1024)\n",
        "        hidden = self.hiddenmlp(hidden)\n",
        "        #print('1')\n",
        "        h = hidden.reshape(indim,1,64)\n",
        "        points = torch.zeros(indim,10,2).cuda()\n",
        "        for i in range(10):\n",
        "\n",
        "          inrnn = torch.flatten(h,start_dim=1)\n",
        "          #print(inrnn.shape)\n",
        "          inrnn = self.inputmlphx(inrnn)\n",
        "          inrnn = (x.reshape(indim,64)*inrnn.reshape(indim,64))\n",
        "          out, h = self.rnn(inrnn.reshape(indim,1,64),h)\n",
        "          out = self.mlp(torch.flatten(out,start_dim=1))\n",
        "          points[:,i,:] = out\n",
        "        #print(out.shape,h.shape)\n",
        "        \n",
        "        #print(h.shape)\n",
        "        #assert out.shape == (indim,1,1024)\n",
        "        return 32.0*points \n",
        "\"\"\""
      ],
      "execution_count": 1,
      "outputs": [
        {
          "output_type": "execute_result",
          "data": {
            "application/vnd.google.colaboratory.intrinsic+json": {
              "type": "string"
            },
            "text/plain": [
              "\"import torch\\nimport torch.nn as nn\\nfrom torch.hub import load_state_dict_from_url\\n\\nclass GRU_P(nn.Module):\\n    def __init__(self):\\n        super(GRU_P, self).__init__()\\n        self.rnn = nn.GRU(64, 64, 64)#input, output,\\n\\n        self.hiddenmlp = nn.Sequential(nn.Linear(1024,256),nn.ReLU(True),nn.Dropout(),\\n                                       nn.Linear(256,64),nn.ReLU(True)) \\n        self.inputmlp = nn.Sequential(nn.Linear(1024,256),nn.ReLU(True),nn.Dropout(),\\n                                       nn.Linear(256,64),nn.ReLU(True)) \\n        self.inputmlphx = nn.Sequential(nn.Linear(64,64),nn.ReLU(True),nn.Dropout(),nn.Linear(64,64),nn.Sigmoid()) \\n        self.mlp = nn.Sequential(\\n            nn.Linear(64, 32),\\n            nn.ReLU(True),\\n            nn.Dropout(),\\n            nn.Linear(32, 2),\\n            nn.Sigmoid()\\n        )\\n    def forward(self, x, hidden):\\n        \\n        indim= x.shape[0]\\n        x = self.inputmlp(torch.flatten(x,start_dim=1))\\n        x = x.reshape(indim,1,64)\\n        hidden = hidden.reshape(indim,1024)\\n        hidden = self.hiddenmlp(hidden)\\n        #print('1')\\n        h = hidden.reshape(indim,1,64)\\n        points = torch.zeros(indim,10,2).cuda()\\n        for i in range(10):\\n\\n          inrnn = torch.flatten(h,start_dim=1)\\n          #print(inrnn.shape)\\n          inrnn = self.inputmlphx(inrnn)\\n          inrnn = (x.reshape(indim,64)*inrnn.reshape(indim,64))\\n          out, h = self.rnn(inrnn.reshape(indim,1,64),h)\\n          out = self.mlp(torch.flatten(out,start_dim=1))\\n          points[:,i,:] = out\\n        #print(out.shape,h.shape)\\n        \\n        #print(h.shape)\\n        #assert out.shape == (indim,1,1024)\\n        return 32.0*points \\n\""
            ]
          },
          "metadata": {
            "tags": []
          },
          "execution_count": 1
        }
      ]
    },
    {
      "cell_type": "code",
      "metadata": {
        "id": "Le3p2NWe4jSd"
      },
      "source": [
        "#create image of circle, log values of theta or scaled [0,1]"
      ],
      "execution_count": 2,
      "outputs": []
    },
    {
      "cell_type": "code",
      "metadata": {
        "id": "SROJ6PAG7hx6"
      },
      "source": [
        ""
      ],
      "execution_count": 2,
      "outputs": []
    },
    {
      "cell_type": "code",
      "metadata": {
        "colab": {
          "base_uri": "https://localhost:8080/",
          "height": 285
        },
        "id": "pPJLPR-jCBtx",
        "outputId": "da307536-b93a-491d-988b-e9089c4d2271"
      },
      "source": [
        "import torch\n",
        "import numpy as np\n",
        "import pylab as plt\n",
        "from skimage import filters\n",
        "import math\n",
        "\n",
        "global numpoints\n",
        "numpoints = 1000\n",
        "side = 32\n",
        "\n",
        "rows = torch.zeros(32,32)\n",
        "columns = torch.zeros(32,32)\n",
        "\n",
        "\n",
        "for i in range(32):\n",
        "    columns[:,i] = i\n",
        "    rows[i,:] = i\n",
        "\n",
        "\n",
        "def donut_matrix(length = 10):\n",
        "    radiusMax = side /3\n",
        "    w = 1\n",
        "    sigmas = [None, 1]\n",
        "    \n",
        "    canvas = torch.zeros((length,side, side))\n",
        "    r0 = torch.tensor(np.random.uniform(side/4, side/3, length))\n",
        "\n",
        "    radii = torch.zeros((length,numpoints))\n",
        "    radii[:, :] = r0.unsqueeze(1)\n",
        "    \n",
        "    ind = [x for x in range(numpoints)]\n",
        "\n",
        "    theta = torch.FloatTensor(ind)\n",
        "    theta *= math.pi*2.0/(float)(numpoints)\n",
        "    \n",
        "    for i in range(1,length):\n",
        "        a = np.random.uniform(1.0,3.0)*torch.sin(np.random.uniform(20.0)*theta+np.random.uniform(1000.0))\n",
        "        #a = 4.0*torch.sin(10.0*theta)\n",
        "        #print(a.shape,torch.max(a))\n",
        "        radii[i,:] += a\n",
        "        #print(radii.shape, torch.max(radii))\n",
        "    \n",
        "    assert torch.min(radii)>0\n",
        "    #print(radii.max(axis = 0)[0].shape)\n",
        "    rmaxs = radii.max(axis = 1)[0]\n",
        "    pmins = rmaxs+1.0\n",
        "    pmaxs = side-rmaxs-1.0\n",
        "    x0 = np.random.uniform(pmins,pmaxs)\n",
        "    y0 = np.random.uniform(pmins,pmaxs)\n",
        "    x0[:]=side/2\n",
        "    y0[:]=side/2\n",
        "    x0 = torch.tensor(x0)\n",
        "    y0 = torch.tensor(y0)\n",
        "    \n",
        "    x0 = x0.unsqueeze(1)\n",
        "    y0 = y0.unsqueeze(1)\n",
        "    #radii = torch.from_numpy(radii)\n",
        "    xrfactors = torch.cos(theta).unsqueeze(0)\n",
        "    yrfactors = torch.sin(theta).unsqueeze(0)\n",
        "    \n",
        "    print('x0_y0_r_xrf_yrf',x0.shape,y0.shape,radii.shape,xrfactors.shape,yrfactors.shape)\n",
        "\n",
        "    x = (x0+(xrfactors*radii))\n",
        "    y = (y0+(yrfactors*radii))\n",
        "    assert x.shape == (length,numpoints)\n",
        "    assert y.shape == (length,numpoints)\n",
        "    assert torch.sum(x[x>(side-1)])==0 \n",
        "    assert torch.sum(x[x<0])==0 \n",
        "    assert torch.sum(y[y>(side-1)])==0 \n",
        "    assert torch.sum(y[y<0])==0 \n",
        "    \n",
        "    points = torch.zeros(length,numpoints,2)\n",
        "    for l in range(length):\n",
        "        canvas[l,y[l,:].type(torch.LongTensor),x[l,:].type(torch.LongTensor)]=1.0\n",
        "        points[l,:,0] = x[l,:]#modified for lstm discriminator\n",
        "        points[l,:,1] = y[l,:]#modified for lstm discriminator \n",
        "    \n",
        "    \n",
        "    return {\n",
        "        'canvas': canvas, \n",
        "        'points':points.type(torch.FloatTensor)}\n",
        "\n",
        "\n",
        "def plot_all( sample = None, model = None, labels = None):\n",
        "    img = sample[:,:].squeeze().cpu().numpy()\n",
        "    #img = img.T\n",
        "    plt.imshow(img, cmap=plt.cm.gray_r)\n",
        "    if model != None:\n",
        "        with torch.no_grad():\n",
        "            global numpoints\n",
        "            print(labels.shape,sample.shape)\n",
        "            sample = torch.stack([sample for i in range(2)],dim = 0).cuda()\n",
        "            labels = torch.stack([labels for i in range(2)],dim = 0).cuda()\n",
        "            pred = model(sample.cuda(),labels.cuda())#come back to this\n",
        "            predres = numpoints\n",
        "            print('pred',pred.shape)\n",
        "            X = pred[0,:,0]\n",
        "            Y = pred[0,:,1]\n",
        "            \n",
        "            s = [.001 for x in range(predres)]\n",
        "            \n",
        "            assert len(s) == predres\n",
        "            c = ['red' for x in range(predres)]\n",
        "            assert len(c) == predres\n",
        "            Y = Y.cuda()\n",
        "            X = X.cuda()\n",
        "            #print(\"type\",type(X))\n",
        "            ascatter = plt.scatter(X.cpu().numpy(),Y.cpu().numpy(),s = s,c = c)\n",
        "            plt.gca().add_artist(ascatter)\n",
        "    else:\n",
        "        #print(labels.shape)\n",
        "        X = labels[:,0]\n",
        "        Y = labels[:,1]\n",
        "        #print(X.shape)\n",
        "        #print(Y.shape)\n",
        "        s = [.001 for x in range(numpoints)]\n",
        "        #print(len(s))\n",
        "        c = ['red' for x in range(numpoints)]\n",
        "        #print(len(c))\n",
        "        ascatter = plt.scatter(X.cpu().numpy(),Y.cpu().numpy(),s = s,c = c)\n",
        "        plt.gca().add_artist(ascatter)\n",
        "\n",
        "class DonutDataset(torch.utils.data.Dataset):\n",
        "    \"\"\"Donut dataset.\"\"\"\n",
        "    def __init__(self, length = 10):\n",
        "        \"\"\"\n",
        "        Args:\n",
        "            csv_file (string): Path to the csv file with annotations.\n",
        "            root_dir (string): Directory with all the images.\n",
        "            transform (callable, optional): Optional transform to be applied\n",
        "                on a sample.\n",
        "        \"\"\"\n",
        "        self.length = length\n",
        "        self.values = donut_matrix(length)\n",
        "        assert self.values['canvas'].shape[0] == self.length\n",
        "        assert self.values['points'].shape[0] == self.length\n",
        "        \n",
        "        count = 0\n",
        "        for i in range(self.length):\n",
        "          a = self[i]\n",
        "          c = a[0]\n",
        "          for el in a[1]:\n",
        "            #print(c[(int)(el[1]),(int)(el[0])].item())\n",
        "            #assert c[(int)(el[1]),(int)(el[0])].item() == 1\n",
        "            y,x = (int)(el[1]),(int)(el[0])\n",
        "            if x < side-2 and x > 2 and y < side-2 and y > 2: \n",
        "              if c[y,x] != 1 and \\\n",
        "                c[y+1,x] != 1 and c[y+1,-1+x] != 1 and c[y+1,1+x] != 1 and \\\n",
        "                c[y-1,x] != 1 and c[y,-1+x] != 1 and c[y,1+x] != 1:\n",
        "                count+=1\n",
        "        assert count ==0\n",
        "    def __len__(self):\n",
        "        return self.length\n",
        "\n",
        "\n",
        "    def __getitem__(self, idx):\n",
        "        canvas = self.values[\"canvas\"]\n",
        "        \n",
        "        canvas = canvas[idx,:,:]\n",
        "        assert canvas.shape == (side,side)\n",
        "        \n",
        "        points = self.values[\"points\"]\n",
        "        points = points[idx,:]\n",
        "        #points = points.unsqueeze(1)\n",
        "        z = torch.zeros(numpoints,1)\n",
        "        #print(z.shape)\n",
        "        points = torch.cat([points,z], dim = 1)\n",
        "        \n",
        "        #print('points', points.shape)\n",
        "        return canvas, points\n",
        "    \n",
        "    @staticmethod\n",
        "    def displayCanvas(title,dataset, model):\n",
        "        #model.setBatchSize(batch_size = 1)\n",
        "        for i in range(100):\n",
        "            sample, labels = dataset[i]\n",
        "            plt.subplot(10,10,i+1)\n",
        "            plot_all(sample = sample,model=model, labels = labels)\n",
        "            plt.axis('off')\n",
        "        plt.savefig(title,dpi=600)\n",
        "\n",
        "dataset = DonutDataset(length = 100)\n",
        "\n",
        "DonutDataset.displayCanvas('donut.png',dataset, model = None)\n"
      ],
      "execution_count": 3,
      "outputs": [
        {
          "output_type": "stream",
          "text": [
            "x0_y0_r_xrf_yrf torch.Size([100, 1]) torch.Size([100, 1]) torch.Size([100, 1000]) torch.Size([1, 1000]) torch.Size([1, 1000])\n"
          ],
          "name": "stdout"
        },
        {
          "output_type": "display_data",
          "data": {
            "image/png": "[encoded data removed]",
            "text/plain": [
              "<Figure size 432x288 with 100 Axes>"
            ]
          },
          "metadata": {
            "tags": [],
            "needs_background": "light"
          }
        }
      ]
    },
    {
      "cell_type": "code",
      "metadata": {
        "id": "1tNmTVOkP0T4",
        "colab": {
          "base_uri": "https://localhost:8080/"
        },
        "outputId": "34b38e9c-a47c-4d65-8d6b-64899fa287a3"
      },
      "source": [
        "a = torch.zeros(32,32)\n",
        "\n",
        "a = torch.stack([a,a],dim=0)\n",
        "print(a.shape)"
      ],
      "execution_count": 4,
      "outputs": [
        {
          "output_type": "stream",
          "text": [
            "torch.Size([2, 32, 32])\n"
          ],
          "name": "stdout"
        }
      ]
    },
    {
      "cell_type": "code",
      "metadata": {
        "id": "mLdlZuLz1fPa",
        "colab": {
          "base_uri": "https://localhost:8080/"
        },
        "outputId": "65e5e37e-8b66-4cfd-a55a-b3d2513a8c5d"
      },
      "source": [
        "\n",
        "from torch.utils import data\n",
        "from torch.utils.data import DataLoader, TensorDataset, RandomSampler\n",
        "\n",
        "mini_batch = 64\n",
        "test_dataset = DonutDataset(length = 64)\n",
        "loader_test = data.DataLoader(\n",
        "    test_dataset, \n",
        "    batch_size=mini_batch,\n",
        "    sampler=RandomSampler(data_source=test_dataset),\n",
        "    num_workers=4)\n"
      ],
      "execution_count": 5,
      "outputs": [
        {
          "output_type": "stream",
          "text": [
            "x0_y0_r_xrf_yrf torch.Size([64, 1]) torch.Size([64, 1]) torch.Size([64, 1000]) torch.Size([1, 1000]) torch.Size([1, 1000])\n"
          ],
          "name": "stdout"
        },
        {
          "output_type": "stream",
          "text": [
            "/usr/local/lib/python3.7/dist-packages/torch/utils/data/dataloader.py:477: UserWarning: This DataLoader will create 4 worker processes in total. Our suggested max number of worker in current system is 2, which is smaller than what this DataLoader is going to create. Please be aware that excessive worker creation might get DataLoader running slow or even freeze, lower the worker number to avoid potential slowness/freeze if necessary.\n",
            "  cpuset_checked))\n"
          ],
          "name": "stderr"
        }
      ]
    },
    {
      "cell_type": "code",
      "metadata": {
        "colab": {
          "base_uri": "https://localhost:8080/"
        },
        "id": "KhiJIwh0PvXT",
        "outputId": "02fbc459-068f-476c-a74f-5a9cf6182c2f"
      },
      "source": [
        "\n",
        "from torch.utils import data\n",
        "from torch.utils.data import DataLoader, TensorDataset, RandomSampler\n",
        "\n",
        "mini_batch = 64\n",
        "dataset = DonutDataset(length = 64*20)\n",
        "loader_train = data.DataLoader(\n",
        "    dataset, \n",
        "    batch_size=mini_batch,\n",
        "    sampler=RandomSampler(data_source=dataset),\n",
        "    num_workers=4)\n"
      ],
      "execution_count": 6,
      "outputs": [
        {
          "output_type": "stream",
          "text": [
            "x0_y0_r_xrf_yrf torch.Size([1280, 1]) torch.Size([1280, 1]) torch.Size([1280, 1000]) torch.Size([1, 1000]) torch.Size([1, 1000])\n"
          ],
          "name": "stdout"
        },
        {
          "output_type": "stream",
          "text": [
            "/usr/local/lib/python3.7/dist-packages/torch/utils/data/dataloader.py:477: UserWarning: This DataLoader will create 4 worker processes in total. Our suggested max number of worker in current system is 2, which is smaller than what this DataLoader is going to create. Please be aware that excessive worker creation might get DataLoader running slow or even freeze, lower the worker number to avoid potential slowness/freeze if necessary.\n",
            "  cpuset_checked))\n"
          ],
          "name": "stderr"
        }
      ]
    },
    {
      "cell_type": "markdown",
      "metadata": {
        "id": "D6LUe-aMK-nI"
      },
      "source": [
        "I think I need to give the model the first x0,y0 coordinate in addition to all the other information.\n",
        "\n",
        "Ablation:\\\n",
        "Network depth helps\\\n",
        "Network width helps\\\n",
        "Probably lower learning rate and long running times helps \\\n",
        "\\\n",
        "note:\\\n",
        "worth noting one of the ameba columns always starts at the same place"
      ]
    },
    {
      "cell_type": "code",
      "metadata": {
        "id": "EvZwpFdO6YF7"
      },
      "source": [
        "import torch\n",
        "import torch.nn as nn\n",
        "from torch.hub import load_state_dict_from_url\n",
        "\n",
        "class DecoderRNN(nn.Module):\n",
        "    def __init__(self):\n",
        "        super(DecoderRNN, self).__init__()\n",
        "        \n",
        "        # define the properties\n",
        "        self.embed_size = 2\n",
        "        self.hidden_size = 256+2\n",
        "        self.num_layers = 5\n",
        "        # lstm cell\n",
        "        self.lstm_cell = nn.LSTM(self.embed_size, self.hidden_size,self.num_layers)\n",
        "    \n",
        "        self.fc_out = nn.Sequential(\n",
        "            nn.Linear(self.hidden_size,2),\n",
        "            nn.Sigmoid()\n",
        "        )\n",
        "        # embedding layer\n",
        "        #self.embed = nn.Embedding(num_embeddings=self.vocab_size, embedding_dim=self.embed_size)\n",
        "        #self.embed = nn\n",
        "\n",
        "        \n",
        "\n",
        "        self.hiddenMlp = nn.Sequential(\n",
        "            nn.Linear(1024+2,self.hidden_size),nn.ReLU())\n",
        "        self.cellMlp = nn.Sequential(\n",
        "            nn.Linear(1024+2,self.hidden_size),nn.ReLU())\n",
        "            \n",
        "        \n",
        "    def forward(self, features, captions,train = True):\n",
        "        \n",
        "        #outcap = torch.zeros_like(captions)\n",
        "        #outcap[:,0,:] = captions[:,0,:] \n",
        "        #print(features.shape,captions.shape)\n",
        "        # batch size\n",
        "        #lvector = self.inputmlp(torch.flatten(features,start_dim=1))\n",
        "        p0 = torch.flatten(captions[:,0,:2],start_dim=1)\n",
        "\n",
        "        batch_size = features.size(0)\n",
        "                \n",
        "        # init the hidden and cell states to zeros\n",
        "        #h_0 of shape (num_layers * num_directions, batch, hidden_size)\n",
        "        h0 = self.hiddenMlp(torch.cat([torch.flatten(features,start_dim=1),p0],dim=1)).reshape(1,batch_size, self.hidden_size)\n",
        "        c0 = self.cellMlp(torch.cat([torch.flatten(features,start_dim=1),p0],dim=1)).reshape(1,batch_size, self.hidden_size)\n",
        "        if self.num_layers>1:\n",
        "          h0 = torch.stack([h0.squeeze() for i in range(self.num_layers)],dim = 0)\n",
        "          c0 = torch.stack([c0.squeeze() for i in range(self.num_layers)],dim = 0)\n",
        "        #hidden_state = torch.zeros((self.num_layers,batch_size, self.hidden_size)).cuda()\n",
        "        #cell_state = torch.zeros((self.num_layers,batch_size, self.hidden_size)).cuda()\n",
        "\n",
        "        \n",
        "        # define the output tensor placeholder\n",
        "        #assert captions.size(1)==50\n",
        "        #assert self.vocab_size == 2\n",
        "        outputs = torch.empty((batch_size, captions.size(1), 2)).cuda()\n",
        "        \n",
        "        #output, (hidden_state, cell_state) = self.lstm_cell(features, (hidden_state, cell_state))\n",
        "            \n",
        "        # pass the caption word by word\n",
        "        for t in range(captions.size(1)):\n",
        "        \n",
        "            # for the first time step the input is the feature vector\n",
        "            if t == 0:\n",
        "                \n",
        "                #b = torch.cat([lvector,p0],dim=1)\n",
        "                #print(b.shape)\n",
        "                #print('p0',p0.shape)\n",
        "                output, (hidden_state, cell_state) = self.lstm_cell(p0.unsqueeze(0), (h0, c0))\n",
        "                \n",
        "            else:\n",
        "                #print('3')\n",
        "        \n",
        "                #pt = torch.flatten(outcap[:,t-1,:2],start_dim=1)\n",
        "                #b = torch.cat([lvector,pt],dim=1)\n",
        "                #print('out',out.shape)\n",
        "                output, (hidden_state, cell_state) = self.lstm_cell(out.unsqueeze(0), (hidden_state, cell_state))\n",
        "                \n",
        "            out = self.fc_out(torch.flatten(torch.squeeze(output),start_dim=1))\n",
        "            \n",
        "            # build the output tensor\n",
        "            outputs[:, t, :] = out\n",
        "    \n",
        "        return 32.0*outputs#, captions"
      ],
      "execution_count": 131,
      "outputs": []
    },
    {
      "cell_type": "code",
      "metadata": {
        "id": "8J9zjLwEsYXx"
      },
      "source": [
        "model = None"
      ],
      "execution_count": 136,
      "outputs": []
    },
    {
      "cell_type": "code",
      "metadata": {
        "id": "nOgbejh4CcmM"
      },
      "source": [
        "\n",
        "model = DecoderRNN().cuda()"
      ],
      "execution_count": 143,
      "outputs": []
    },
    {
      "cell_type": "code",
      "metadata": {
        "id": "keW5Til6MBkj"
      },
      "source": [
        "\n",
        "optimizer = torch.optim.Adam(model.parameters(),lr = 0.00001, betas = (.9,.999))#ideal\n"
      ],
      "execution_count": 144,
      "outputs": []
    },
    {
      "cell_type": "code",
      "metadata": {
        "id": "VSoczVl6LXFf"
      },
      "source": [
        "for epoch in range (20):\n",
        "  loss = None\n",
        "  for x,y in loader_train:\n",
        "    for i in range(19):\n",
        "      x = x.cuda()\n",
        "      y = y.cuda()\n",
        "      \n",
        "      optimizer.zero_grad()\n",
        "      #print(x.shape,y.shape)\n",
        "      out = model(x,y[:,i*50:50*(i+1),:2])\n",
        "      loss = torch.mean((out-y[:,1+(50*i):1+(50*(i+1)),:2])**2)\n",
        "      loss.backward()\n",
        "      optimizer.step()\n",
        "    #print(y[:,0,:2])\n",
        "    print('epoch',epoch)\n",
        "    print(loss)"
      ],
      "execution_count": null,
      "outputs": []
    },
    {
      "cell_type": "code",
      "metadata": {
        "id": "0q4_KNtP0wKU"
      },
      "source": [
        "optimizer = torch.optim.Adam(model.parameters(),lr = 0.000001, betas = (.9,.999))#ideal\n"
      ],
      "execution_count": 146,
      "outputs": []
    },
    {
      "cell_type": "code",
      "metadata": {
        "id": "R9Zik5B1MUcN",
        "colab": {
          "base_uri": "https://localhost:8080/",
          "height": 1000
        },
        "outputId": "949b2c2d-7db8-43a4-da9c-590f545b22f2"
      },
      "source": [
        "for epoch in range (20):\n",
        "  loss = None\n",
        "  for x,y in loader_train:\n",
        "    for i in range(19):\n",
        "      x = x.cuda()\n",
        "      y = y.cuda()\n",
        "      \n",
        "      optimizer.zero_grad()\n",
        "      #print(x.shape,y.shape)\n",
        "      out = model(x,y[:,i*50:50*(i+1),:2])\n",
        "      loss = torch.mean((out-y[:,1+(50*i):1+(50*(i+1)),:2])**2)\n",
        "      loss.backward()\n",
        "      optimizer.step()\n",
        "    #print(y[:,0,:2])\n",
        "    print('epoch',epoch)\n",
        "    print(loss)"
      ],
      "execution_count": 148,
      "outputs": [
        {
          "output_type": "stream",
          "text": [
            "/usr/local/lib/python3.7/dist-packages/torch/utils/data/dataloader.py:477: UserWarning: This DataLoader will create 4 worker processes in total. Our suggested max number of worker in current system is 2, which is smaller than what this DataLoader is going to create. Please be aware that excessive worker creation might get DataLoader running slow or even freeze, lower the worker number to avoid potential slowness/freeze if necessary.\n",
            "  cpuset_checked))\n"
          ],
          "name": "stderr"
        },
        {
          "output_type": "stream",
          "text": [
            "epoch 0\n",
            "tensor(1.1735, device='cuda:0', grad_fn=<MeanBackward0>)\n",
            "epoch 0\n",
            "tensor(1.5080, device='cuda:0', grad_fn=<MeanBackward0>)\n",
            "epoch 0\n",
            "tensor(1.1584, device='cuda:0', grad_fn=<MeanBackward0>)\n",
            "epoch 0\n",
            "tensor(1.4062, device='cuda:0', grad_fn=<MeanBackward0>)\n",
            "epoch 0\n",
            "tensor(1.2470, device='cuda:0', grad_fn=<MeanBackward0>)\n",
            "epoch 0\n",
            "tensor(1.4840, device='cuda:0', grad_fn=<MeanBackward0>)\n",
            "epoch 0\n",
            "tensor(1.1583, device='cuda:0', grad_fn=<MeanBackward0>)\n",
            "epoch 0\n",
            "tensor(1.3136, device='cuda:0', grad_fn=<MeanBackward0>)\n",
            "epoch 0\n",
            "tensor(1.2115, device='cuda:0', grad_fn=<MeanBackward0>)\n",
            "epoch 0\n",
            "tensor(1.3093, device='cuda:0', grad_fn=<MeanBackward0>)\n",
            "epoch 0\n",
            "tensor(1.2057, device='cuda:0', grad_fn=<MeanBackward0>)\n",
            "epoch 0\n",
            "tensor(1.2163, device='cuda:0', grad_fn=<MeanBackward0>)\n",
            "epoch 0\n",
            "tensor(1.3668, device='cuda:0', grad_fn=<MeanBackward0>)\n",
            "epoch 0\n",
            "tensor(1.1944, device='cuda:0', grad_fn=<MeanBackward0>)\n",
            "epoch 0\n",
            "tensor(1.1300, device='cuda:0', grad_fn=<MeanBackward0>)\n",
            "epoch 0\n",
            "tensor(1.3869, device='cuda:0', grad_fn=<MeanBackward0>)\n",
            "epoch 0\n",
            "tensor(1.3580, device='cuda:0', grad_fn=<MeanBackward0>)\n",
            "epoch 0\n",
            "tensor(1.4897, device='cuda:0', grad_fn=<MeanBackward0>)\n",
            "epoch 0\n",
            "tensor(1.2344, device='cuda:0', grad_fn=<MeanBackward0>)\n",
            "epoch 0\n",
            "tensor(1.4591, device='cuda:0', grad_fn=<MeanBackward0>)\n",
            "epoch 1\n",
            "tensor(1.3037, device='cuda:0', grad_fn=<MeanBackward0>)\n",
            "epoch 1\n",
            "tensor(1.5761, device='cuda:0', grad_fn=<MeanBackward0>)\n",
            "epoch 1\n",
            "tensor(1.3175, device='cuda:0', grad_fn=<MeanBackward0>)\n",
            "epoch 1\n",
            "tensor(1.2684, device='cuda:0', grad_fn=<MeanBackward0>)\n",
            "epoch 1\n",
            "tensor(1.2236, device='cuda:0', grad_fn=<MeanBackward0>)\n",
            "epoch 1\n",
            "tensor(1.1381, device='cuda:0', grad_fn=<MeanBackward0>)\n",
            "epoch 1\n",
            "tensor(1.2276, device='cuda:0', grad_fn=<MeanBackward0>)\n",
            "epoch 1\n",
            "tensor(1.3185, device='cuda:0', grad_fn=<MeanBackward0>)\n",
            "epoch 1\n",
            "tensor(1.3042, device='cuda:0', grad_fn=<MeanBackward0>)\n",
            "epoch 1\n",
            "tensor(1.5533, device='cuda:0', grad_fn=<MeanBackward0>)\n",
            "epoch 1\n",
            "tensor(1.2620, device='cuda:0', grad_fn=<MeanBackward0>)\n",
            "epoch 1\n",
            "tensor(1.1143, device='cuda:0', grad_fn=<MeanBackward0>)\n",
            "epoch 1\n",
            "tensor(1.2895, device='cuda:0', grad_fn=<MeanBackward0>)\n",
            "epoch 1\n",
            "tensor(1.2966, device='cuda:0', grad_fn=<MeanBackward0>)\n",
            "epoch 1\n",
            "tensor(1.2580, device='cuda:0', grad_fn=<MeanBackward0>)\n",
            "epoch 1\n",
            "tensor(1.3128, device='cuda:0', grad_fn=<MeanBackward0>)\n",
            "epoch 1\n",
            "tensor(1.2053, device='cuda:0', grad_fn=<MeanBackward0>)\n",
            "epoch 1\n",
            "tensor(0.9915, device='cuda:0', grad_fn=<MeanBackward0>)\n",
            "epoch 1\n",
            "tensor(1.3123, device='cuda:0', grad_fn=<MeanBackward0>)\n",
            "epoch 1\n",
            "tensor(1.3285, device='cuda:0', grad_fn=<MeanBackward0>)\n",
            "epoch 2\n",
            "tensor(1.4867, device='cuda:0', grad_fn=<MeanBackward0>)\n",
            "epoch 2\n",
            "tensor(1.2117, device='cuda:0', grad_fn=<MeanBackward0>)\n",
            "epoch 2\n",
            "tensor(1.2879, device='cuda:0', grad_fn=<MeanBackward0>)\n",
            "epoch 2\n",
            "tensor(1.4277, device='cuda:0', grad_fn=<MeanBackward0>)\n",
            "epoch 2\n",
            "tensor(1.2269, device='cuda:0', grad_fn=<MeanBackward0>)\n",
            "epoch 2\n",
            "tensor(1.4043, device='cuda:0', grad_fn=<MeanBackward0>)\n",
            "epoch 2\n",
            "tensor(1.3251, device='cuda:0', grad_fn=<MeanBackward0>)\n",
            "epoch 2\n",
            "tensor(1.2228, device='cuda:0', grad_fn=<MeanBackward0>)\n",
            "epoch 2\n",
            "tensor(1.3330, device='cuda:0', grad_fn=<MeanBackward0>)\n",
            "epoch 2\n",
            "tensor(1.2517, device='cuda:0', grad_fn=<MeanBackward0>)\n",
            "epoch 2\n",
            "tensor(1.1987, device='cuda:0', grad_fn=<MeanBackward0>)\n",
            "epoch 2\n",
            "tensor(1.1505, device='cuda:0', grad_fn=<MeanBackward0>)\n",
            "epoch 2\n",
            "tensor(1.3011, device='cuda:0', grad_fn=<MeanBackward0>)\n",
            "epoch 2\n",
            "tensor(1.3223, device='cuda:0', grad_fn=<MeanBackward0>)\n",
            "epoch 2\n",
            "tensor(1.2693, device='cuda:0', grad_fn=<MeanBackward0>)\n",
            "epoch 2\n",
            "tensor(1.2101, device='cuda:0', grad_fn=<MeanBackward0>)\n",
            "epoch 2\n",
            "tensor(1.1667, device='cuda:0', grad_fn=<MeanBackward0>)\n",
            "epoch 2\n",
            "tensor(1.2417, device='cuda:0', grad_fn=<MeanBackward0>)\n",
            "epoch 2\n",
            "tensor(1.1268, device='cuda:0', grad_fn=<MeanBackward0>)\n",
            "epoch 2\n",
            "tensor(1.1513, device='cuda:0', grad_fn=<MeanBackward0>)\n",
            "epoch 3\n",
            "tensor(1.2489, device='cuda:0', grad_fn=<MeanBackward0>)\n",
            "epoch 3\n",
            "tensor(1.2441, device='cuda:0', grad_fn=<MeanBackward0>)\n",
            "epoch 3\n",
            "tensor(1.2218, device='cuda:0', grad_fn=<MeanBackward0>)\n",
            "epoch 3\n",
            "tensor(1.4555, device='cuda:0', grad_fn=<MeanBackward0>)\n",
            "epoch 3\n",
            "tensor(1.3716, device='cuda:0', grad_fn=<MeanBackward0>)\n",
            "epoch 3\n",
            "tensor(1.1890, device='cuda:0', grad_fn=<MeanBackward0>)\n",
            "epoch 3\n",
            "tensor(1.1153, device='cuda:0', grad_fn=<MeanBackward0>)\n",
            "epoch 3\n",
            "tensor(1.2191, device='cuda:0', grad_fn=<MeanBackward0>)\n",
            "epoch 3\n",
            "tensor(1.2196, device='cuda:0', grad_fn=<MeanBackward0>)\n",
            "epoch 3\n",
            "tensor(1.0794, device='cuda:0', grad_fn=<MeanBackward0>)\n",
            "epoch 3\n",
            "tensor(1.3268, device='cuda:0', grad_fn=<MeanBackward0>)\n",
            "epoch 3\n",
            "tensor(1.2882, device='cuda:0', grad_fn=<MeanBackward0>)\n",
            "epoch 3\n",
            "tensor(1.2982, device='cuda:0', grad_fn=<MeanBackward0>)\n",
            "epoch 3\n",
            "tensor(1.2243, device='cuda:0', grad_fn=<MeanBackward0>)\n",
            "epoch 3\n",
            "tensor(1.1370, device='cuda:0', grad_fn=<MeanBackward0>)\n",
            "epoch 3\n",
            "tensor(1.2896, device='cuda:0', grad_fn=<MeanBackward0>)\n",
            "epoch 3\n",
            "tensor(1.3499, device='cuda:0', grad_fn=<MeanBackward0>)\n",
            "epoch 3\n",
            "tensor(1.4384, device='cuda:0', grad_fn=<MeanBackward0>)\n",
            "epoch 3\n",
            "tensor(1.3600, device='cuda:0', grad_fn=<MeanBackward0>)\n",
            "epoch 3\n",
            "tensor(1.0998, device='cuda:0', grad_fn=<MeanBackward0>)\n",
            "epoch 4\n",
            "tensor(1.2400, device='cuda:0', grad_fn=<MeanBackward0>)\n",
            "epoch 4\n",
            "tensor(1.3088, device='cuda:0', grad_fn=<MeanBackward0>)\n",
            "epoch 4\n",
            "tensor(1.2042, device='cuda:0', grad_fn=<MeanBackward0>)\n",
            "epoch 4\n",
            "tensor(1.1951, device='cuda:0', grad_fn=<MeanBackward0>)\n",
            "epoch 4\n",
            "tensor(1.2558, device='cuda:0', grad_fn=<MeanBackward0>)\n",
            "epoch 4\n",
            "tensor(1.3121, device='cuda:0', grad_fn=<MeanBackward0>)\n",
            "epoch 4\n",
            "tensor(1.2570, device='cuda:0', grad_fn=<MeanBackward0>)\n",
            "epoch 4\n",
            "tensor(1.3081, device='cuda:0', grad_fn=<MeanBackward0>)\n",
            "epoch 4\n",
            "tensor(1.1774, device='cuda:0', grad_fn=<MeanBackward0>)\n",
            "epoch 4\n",
            "tensor(1.1122, device='cuda:0', grad_fn=<MeanBackward0>)\n",
            "epoch 4\n",
            "tensor(1.2639, device='cuda:0', grad_fn=<MeanBackward0>)\n",
            "epoch 4\n",
            "tensor(1.2581, device='cuda:0', grad_fn=<MeanBackward0>)\n",
            "epoch 4\n",
            "tensor(1.2840, device='cuda:0', grad_fn=<MeanBackward0>)\n",
            "epoch 4\n",
            "tensor(1.3360, device='cuda:0', grad_fn=<MeanBackward0>)\n",
            "epoch 4\n",
            "tensor(1.3762, device='cuda:0', grad_fn=<MeanBackward0>)\n",
            "epoch 4\n",
            "tensor(1.0877, device='cuda:0', grad_fn=<MeanBackward0>)\n",
            "epoch 4\n",
            "tensor(1.0975, device='cuda:0', grad_fn=<MeanBackward0>)\n",
            "epoch 4\n",
            "tensor(1.2164, device='cuda:0', grad_fn=<MeanBackward0>)\n",
            "epoch 4\n",
            "tensor(1.3716, device='cuda:0', grad_fn=<MeanBackward0>)\n",
            "epoch 4\n",
            "tensor(1.2787, device='cuda:0', grad_fn=<MeanBackward0>)\n",
            "epoch 5\n",
            "tensor(1.2781, device='cuda:0', grad_fn=<MeanBackward0>)\n",
            "epoch 5\n",
            "tensor(1.1615, device='cuda:0', grad_fn=<MeanBackward0>)\n",
            "epoch 5\n",
            "tensor(1.2182, device='cuda:0', grad_fn=<MeanBackward0>)\n",
            "epoch 5\n",
            "tensor(1.3107, device='cuda:0', grad_fn=<MeanBackward0>)\n",
            "epoch 5\n",
            "tensor(1.2442, device='cuda:0', grad_fn=<MeanBackward0>)\n",
            "epoch 5\n",
            "tensor(1.3758, device='cuda:0', grad_fn=<MeanBackward0>)\n",
            "epoch 5\n",
            "tensor(1.2190, device='cuda:0', grad_fn=<MeanBackward0>)\n",
            "epoch 5\n",
            "tensor(1.1563, device='cuda:0', grad_fn=<MeanBackward0>)\n",
            "epoch 5\n",
            "tensor(1.3172, device='cuda:0', grad_fn=<MeanBackward0>)\n",
            "epoch 5\n",
            "tensor(1.1885, device='cuda:0', grad_fn=<MeanBackward0>)\n",
            "epoch 5\n",
            "tensor(1.1568, device='cuda:0', grad_fn=<MeanBackward0>)\n",
            "epoch 5\n",
            "tensor(1.2418, device='cuda:0', grad_fn=<MeanBackward0>)\n",
            "epoch 5\n",
            "tensor(1.1993, device='cuda:0', grad_fn=<MeanBackward0>)\n",
            "epoch 5\n",
            "tensor(1.3762, device='cuda:0', grad_fn=<MeanBackward0>)\n",
            "epoch 5\n",
            "tensor(1.3442, device='cuda:0', grad_fn=<MeanBackward0>)\n",
            "epoch 5\n",
            "tensor(1.2194, device='cuda:0', grad_fn=<MeanBackward0>)\n",
            "epoch 5\n",
            "tensor(1.2535, device='cuda:0', grad_fn=<MeanBackward0>)\n",
            "epoch 5\n",
            "tensor(1.1416, device='cuda:0', grad_fn=<MeanBackward0>)\n",
            "epoch 5\n",
            "tensor(1.1632, device='cuda:0', grad_fn=<MeanBackward0>)\n",
            "epoch 5\n",
            "tensor(1.2032, device='cuda:0', grad_fn=<MeanBackward0>)\n",
            "epoch 6\n",
            "tensor(1.2354, device='cuda:0', grad_fn=<MeanBackward0>)\n",
            "epoch 6\n",
            "tensor(1.1605, device='cuda:0', grad_fn=<MeanBackward0>)\n",
            "epoch 6\n",
            "tensor(1.2461, device='cuda:0', grad_fn=<MeanBackward0>)\n",
            "epoch 6\n",
            "tensor(1.1069, device='cuda:0', grad_fn=<MeanBackward0>)\n",
            "epoch 6\n",
            "tensor(1.3635, device='cuda:0', grad_fn=<MeanBackward0>)\n",
            "epoch 6\n",
            "tensor(1.0939, device='cuda:0', grad_fn=<MeanBackward0>)\n",
            "epoch 6\n",
            "tensor(1.1801, device='cuda:0', grad_fn=<MeanBackward0>)\n",
            "epoch 6\n",
            "tensor(1.1107, device='cuda:0', grad_fn=<MeanBackward0>)\n",
            "epoch 6\n",
            "tensor(1.2366, device='cuda:0', grad_fn=<MeanBackward0>)\n",
            "epoch 6\n",
            "tensor(1.2584, device='cuda:0', grad_fn=<MeanBackward0>)\n",
            "epoch 6\n",
            "tensor(1.1582, device='cuda:0', grad_fn=<MeanBackward0>)\n",
            "epoch 6\n",
            "tensor(1.3033, device='cuda:0', grad_fn=<MeanBackward0>)\n",
            "epoch 6\n",
            "tensor(1.1255, device='cuda:0', grad_fn=<MeanBackward0>)\n",
            "epoch 6\n",
            "tensor(1.3412, device='cuda:0', grad_fn=<MeanBackward0>)\n",
            "epoch 6\n",
            "tensor(1.5008, device='cuda:0', grad_fn=<MeanBackward0>)\n",
            "epoch 6\n",
            "tensor(1.3282, device='cuda:0', grad_fn=<MeanBackward0>)\n",
            "epoch 6\n",
            "tensor(1.4601, device='cuda:0', grad_fn=<MeanBackward0>)\n",
            "epoch 6\n",
            "tensor(1.0970, device='cuda:0', grad_fn=<MeanBackward0>)\n",
            "epoch 6\n",
            "tensor(0.9882, device='cuda:0', grad_fn=<MeanBackward0>)\n",
            "epoch 6\n",
            "tensor(1.3091, device='cuda:0', grad_fn=<MeanBackward0>)\n",
            "epoch 7\n",
            "tensor(1.3328, device='cuda:0', grad_fn=<MeanBackward0>)\n",
            "epoch 7\n",
            "tensor(1.3405, device='cuda:0', grad_fn=<MeanBackward0>)\n",
            "epoch 7\n",
            "tensor(1.1748, device='cuda:0', grad_fn=<MeanBackward0>)\n",
            "epoch 7\n",
            "tensor(1.2254, device='cuda:0', grad_fn=<MeanBackward0>)\n",
            "epoch 7\n",
            "tensor(1.0610, device='cuda:0', grad_fn=<MeanBackward0>)\n",
            "epoch 7\n",
            "tensor(1.2366, device='cuda:0', grad_fn=<MeanBackward0>)\n",
            "epoch 7\n",
            "tensor(1.2533, device='cuda:0', grad_fn=<MeanBackward0>)\n",
            "epoch 7\n",
            "tensor(1.2509, device='cuda:0', grad_fn=<MeanBackward0>)\n",
            "epoch 7\n",
            "tensor(1.0882, device='cuda:0', grad_fn=<MeanBackward0>)\n",
            "epoch 7\n",
            "tensor(1.0655, device='cuda:0', grad_fn=<MeanBackward0>)\n",
            "epoch 7\n",
            "tensor(1.1532, device='cuda:0', grad_fn=<MeanBackward0>)\n",
            "epoch 7\n",
            "tensor(1.0313, device='cuda:0', grad_fn=<MeanBackward0>)\n",
            "epoch 7\n",
            "tensor(1.2030, device='cuda:0', grad_fn=<MeanBackward0>)\n"
          ],
          "name": "stdout"
        },
        {
          "output_type": "error",
          "ename": "KeyboardInterrupt",
          "evalue": "ignored",
          "traceback": [
            "\u001b[0;31m---------------------------------------------------------------------------\u001b[0m",
            "\u001b[0;31mKeyboardInterrupt\u001b[0m                         Traceback (most recent call last)",
            "\u001b[0;32m<ipython-input-148-08f20bf8ee96>\u001b[0m in \u001b[0;36m<module>\u001b[0;34m()\u001b[0m\n\u001b[1;32m     10\u001b[0m       \u001b[0mout\u001b[0m \u001b[0;34m=\u001b[0m \u001b[0mmodel\u001b[0m\u001b[0;34m(\u001b[0m\u001b[0mx\u001b[0m\u001b[0;34m,\u001b[0m\u001b[0my\u001b[0m\u001b[0;34m[\u001b[0m\u001b[0;34m:\u001b[0m\u001b[0;34m,\u001b[0m\u001b[0mi\u001b[0m\u001b[0;34m*\u001b[0m\u001b[0;36m50\u001b[0m\u001b[0;34m:\u001b[0m\u001b[0;36m50\u001b[0m\u001b[0;34m*\u001b[0m\u001b[0;34m(\u001b[0m\u001b[0mi\u001b[0m\u001b[0;34m+\u001b[0m\u001b[0;36m1\u001b[0m\u001b[0;34m)\u001b[0m\u001b[0;34m,\u001b[0m\u001b[0;34m:\u001b[0m\u001b[0;36m2\u001b[0m\u001b[0;34m]\u001b[0m\u001b[0;34m)\u001b[0m\u001b[0;34m\u001b[0m\u001b[0;34m\u001b[0m\u001b[0m\n\u001b[1;32m     11\u001b[0m       \u001b[0mloss\u001b[0m \u001b[0;34m=\u001b[0m \u001b[0mtorch\u001b[0m\u001b[0;34m.\u001b[0m\u001b[0mmean\u001b[0m\u001b[0;34m(\u001b[0m\u001b[0;34m(\u001b[0m\u001b[0mout\u001b[0m\u001b[0;34m-\u001b[0m\u001b[0my\u001b[0m\u001b[0;34m[\u001b[0m\u001b[0;34m:\u001b[0m\u001b[0;34m,\u001b[0m\u001b[0;36m1\u001b[0m\u001b[0;34m+\u001b[0m\u001b[0;34m(\u001b[0m\u001b[0;36m50\u001b[0m\u001b[0;34m*\u001b[0m\u001b[0mi\u001b[0m\u001b[0;34m)\u001b[0m\u001b[0;34m:\u001b[0m\u001b[0;36m1\u001b[0m\u001b[0;34m+\u001b[0m\u001b[0;34m(\u001b[0m\u001b[0;36m50\u001b[0m\u001b[0;34m*\u001b[0m\u001b[0;34m(\u001b[0m\u001b[0mi\u001b[0m\u001b[0;34m+\u001b[0m\u001b[0;36m1\u001b[0m\u001b[0;34m)\u001b[0m\u001b[0;34m)\u001b[0m\u001b[0;34m,\u001b[0m\u001b[0;34m:\u001b[0m\u001b[0;36m2\u001b[0m\u001b[0;34m]\u001b[0m\u001b[0;34m)\u001b[0m\u001b[0;34m**\u001b[0m\u001b[0;36m2\u001b[0m\u001b[0;34m)\u001b[0m\u001b[0;34m\u001b[0m\u001b[0;34m\u001b[0m\u001b[0m\n\u001b[0;32m---> 12\u001b[0;31m       \u001b[0mloss\u001b[0m\u001b[0;34m.\u001b[0m\u001b[0mbackward\u001b[0m\u001b[0;34m(\u001b[0m\u001b[0;34m)\u001b[0m\u001b[0;34m\u001b[0m\u001b[0;34m\u001b[0m\u001b[0m\n\u001b[0m\u001b[1;32m     13\u001b[0m       \u001b[0moptimizer\u001b[0m\u001b[0;34m.\u001b[0m\u001b[0mstep\u001b[0m\u001b[0;34m(\u001b[0m\u001b[0;34m)\u001b[0m\u001b[0;34m\u001b[0m\u001b[0;34m\u001b[0m\u001b[0m\n\u001b[1;32m     14\u001b[0m     \u001b[0;31m#print(y[:,0,:2])\u001b[0m\u001b[0;34m\u001b[0m\u001b[0;34m\u001b[0m\u001b[0;34m\u001b[0m\u001b[0m\n",
            "\u001b[0;32m/usr/local/lib/python3.7/dist-packages/torch/tensor.py\u001b[0m in \u001b[0;36mbackward\u001b[0;34m(self, gradient, retain_graph, create_graph, inputs)\u001b[0m\n\u001b[1;32m    243\u001b[0m                 \u001b[0mcreate_graph\u001b[0m\u001b[0;34m=\u001b[0m\u001b[0mcreate_graph\u001b[0m\u001b[0;34m,\u001b[0m\u001b[0;34m\u001b[0m\u001b[0;34m\u001b[0m\u001b[0m\n\u001b[1;32m    244\u001b[0m                 inputs=inputs)\n\u001b[0;32m--> 245\u001b[0;31m         \u001b[0mtorch\u001b[0m\u001b[0;34m.\u001b[0m\u001b[0mautograd\u001b[0m\u001b[0;34m.\u001b[0m\u001b[0mbackward\u001b[0m\u001b[0;34m(\u001b[0m\u001b[0mself\u001b[0m\u001b[0;34m,\u001b[0m \u001b[0mgradient\u001b[0m\u001b[0;34m,\u001b[0m \u001b[0mretain_graph\u001b[0m\u001b[0;34m,\u001b[0m \u001b[0mcreate_graph\u001b[0m\u001b[0;34m,\u001b[0m \u001b[0minputs\u001b[0m\u001b[0;34m=\u001b[0m\u001b[0minputs\u001b[0m\u001b[0;34m)\u001b[0m\u001b[0;34m\u001b[0m\u001b[0;34m\u001b[0m\u001b[0m\n\u001b[0m\u001b[1;32m    246\u001b[0m \u001b[0;34m\u001b[0m\u001b[0m\n\u001b[1;32m    247\u001b[0m     \u001b[0;32mdef\u001b[0m \u001b[0mregister_hook\u001b[0m\u001b[0;34m(\u001b[0m\u001b[0mself\u001b[0m\u001b[0;34m,\u001b[0m \u001b[0mhook\u001b[0m\u001b[0;34m)\u001b[0m\u001b[0;34m:\u001b[0m\u001b[0;34m\u001b[0m\u001b[0;34m\u001b[0m\u001b[0m\n",
            "\u001b[0;32m/usr/local/lib/python3.7/dist-packages/torch/autograd/__init__.py\u001b[0m in \u001b[0;36mbackward\u001b[0;34m(tensors, grad_tensors, retain_graph, create_graph, grad_variables, inputs)\u001b[0m\n\u001b[1;32m    145\u001b[0m     Variable._execution_engine.run_backward(\n\u001b[1;32m    146\u001b[0m         \u001b[0mtensors\u001b[0m\u001b[0;34m,\u001b[0m \u001b[0mgrad_tensors_\u001b[0m\u001b[0;34m,\u001b[0m \u001b[0mretain_graph\u001b[0m\u001b[0;34m,\u001b[0m \u001b[0mcreate_graph\u001b[0m\u001b[0;34m,\u001b[0m \u001b[0minputs\u001b[0m\u001b[0;34m,\u001b[0m\u001b[0;34m\u001b[0m\u001b[0;34m\u001b[0m\u001b[0m\n\u001b[0;32m--> 147\u001b[0;31m         allow_unreachable=True, accumulate_grad=True)  # allow_unreachable flag\n\u001b[0m\u001b[1;32m    148\u001b[0m \u001b[0;34m\u001b[0m\u001b[0m\n\u001b[1;32m    149\u001b[0m \u001b[0;34m\u001b[0m\u001b[0m\n",
            "\u001b[0;31mKeyboardInterrupt\u001b[0m: "
          ]
        }
      ]
    },
    {
      "cell_type": "code",
      "metadata": {
        "id": "V-vA-9Go01-z",
        "colab": {
          "base_uri": "https://localhost:8080/"
        },
        "outputId": "3ee25a01-8c14-4315-b8e8-5fc7db691253"
      },
      "source": [
        "loss = None\n",
        "for x,y in loader_test:\n",
        "  x = x.cuda()\n",
        "  y = y.cuda()\n",
        "  \n",
        "  out = model(x,y[:,:-51,:2])\n",
        "  loss = torch.mean((out-y[:,1:-50,:2])**2)\n",
        "  print('test loss', loss.item())"
      ],
      "execution_count": 150,
      "outputs": [
        {
          "output_type": "stream",
          "text": [
            "/usr/local/lib/python3.7/dist-packages/torch/utils/data/dataloader.py:477: UserWarning: This DataLoader will create 4 worker processes in total. Our suggested max number of worker in current system is 2, which is smaller than what this DataLoader is going to create. Please be aware that excessive worker creation might get DataLoader running slow or even freeze, lower the worker number to avoid potential slowness/freeze if necessary.\n",
            "  cpuset_checked))\n"
          ],
          "name": "stderr"
        },
        {
          "output_type": "stream",
          "text": [
            "test loss 88.70587921142578\n"
          ],
          "name": "stdout"
        }
      ]
    },
    {
      "cell_type": "code",
      "metadata": {
        "id": "Ym9Hkrqj2cyb",
        "colab": {
          "base_uri": "https://localhost:8080/",
          "height": 469
        },
        "outputId": "2e0fd949-6118-44a8-8626-cde0694d8de3"
      },
      "source": [
        "dataset = DonutDataset(length = 100)\n",
        "model = model.eval()\n",
        "DonutDataset.displayCanvas('test-set.png',dataset, model = model)\n",
        "\n"
      ],
      "execution_count": 130,
      "outputs": [
        {
          "output_type": "stream",
          "text": [
            "x0_y0_r_xrf_yrf torch.Size([100, 1]) torch.Size([100, 1]) torch.Size([100, 1000]) torch.Size([1, 1000]) torch.Size([1, 1000])\n",
            "torch.Size([1000, 3]) torch.Size([32, 32])\n"
          ],
          "name": "stdout"
        },
        {
          "output_type": "error",
          "ename": "AssertionError",
          "evalue": "ignored",
          "traceback": [
            "\u001b[0;31m---------------------------------------------------------------------------\u001b[0m",
            "\u001b[0;31mAssertionError\u001b[0m                            Traceback (most recent call last)",
            "\u001b[0;32m<ipython-input-130-b66adc20d99f>\u001b[0m in \u001b[0;36m<module>\u001b[0;34m()\u001b[0m\n\u001b[1;32m      1\u001b[0m \u001b[0mdataset\u001b[0m \u001b[0;34m=\u001b[0m \u001b[0mDonutDataset\u001b[0m\u001b[0;34m(\u001b[0m\u001b[0mlength\u001b[0m \u001b[0;34m=\u001b[0m \u001b[0;36m100\u001b[0m\u001b[0;34m)\u001b[0m\u001b[0;34m\u001b[0m\u001b[0;34m\u001b[0m\u001b[0m\n\u001b[1;32m      2\u001b[0m \u001b[0mmodel\u001b[0m \u001b[0;34m=\u001b[0m \u001b[0mmodel\u001b[0m\u001b[0;34m.\u001b[0m\u001b[0meval\u001b[0m\u001b[0;34m(\u001b[0m\u001b[0;34m)\u001b[0m\u001b[0;34m\u001b[0m\u001b[0;34m\u001b[0m\u001b[0m\n\u001b[0;32m----> 3\u001b[0;31m \u001b[0mDonutDataset\u001b[0m\u001b[0;34m.\u001b[0m\u001b[0mdisplayCanvas\u001b[0m\u001b[0;34m(\u001b[0m\u001b[0;34m'test-set.png'\u001b[0m\u001b[0;34m,\u001b[0m\u001b[0mdataset\u001b[0m\u001b[0;34m,\u001b[0m \u001b[0mmodel\u001b[0m \u001b[0;34m=\u001b[0m \u001b[0mmodel\u001b[0m\u001b[0;34m)\u001b[0m\u001b[0;34m\u001b[0m\u001b[0;34m\u001b[0m\u001b[0m\n\u001b[0m\u001b[1;32m      4\u001b[0m \u001b[0;34m\u001b[0m\u001b[0m\n",
            "\u001b[0;32m<ipython-input-3-cf4edafdbcce>\u001b[0m in \u001b[0;36mdisplayCanvas\u001b[0;34m(title, dataset, model)\u001b[0m\n\u001b[1;32m    174\u001b[0m             \u001b[0msample\u001b[0m\u001b[0;34m,\u001b[0m \u001b[0mlabels\u001b[0m \u001b[0;34m=\u001b[0m \u001b[0mdataset\u001b[0m\u001b[0;34m[\u001b[0m\u001b[0mi\u001b[0m\u001b[0;34m]\u001b[0m\u001b[0;34m\u001b[0m\u001b[0;34m\u001b[0m\u001b[0m\n\u001b[1;32m    175\u001b[0m             \u001b[0mplt\u001b[0m\u001b[0;34m.\u001b[0m\u001b[0msubplot\u001b[0m\u001b[0;34m(\u001b[0m\u001b[0;36m10\u001b[0m\u001b[0;34m,\u001b[0m\u001b[0;36m10\u001b[0m\u001b[0;34m,\u001b[0m\u001b[0mi\u001b[0m\u001b[0;34m+\u001b[0m\u001b[0;36m1\u001b[0m\u001b[0;34m)\u001b[0m\u001b[0;34m\u001b[0m\u001b[0;34m\u001b[0m\u001b[0m\n\u001b[0;32m--> 176\u001b[0;31m             \u001b[0mplot_all\u001b[0m\u001b[0;34m(\u001b[0m\u001b[0msample\u001b[0m \u001b[0;34m=\u001b[0m \u001b[0msample\u001b[0m\u001b[0;34m,\u001b[0m\u001b[0mmodel\u001b[0m\u001b[0;34m=\u001b[0m\u001b[0mmodel\u001b[0m\u001b[0;34m,\u001b[0m \u001b[0mlabels\u001b[0m \u001b[0;34m=\u001b[0m \u001b[0mlabels\u001b[0m\u001b[0;34m)\u001b[0m\u001b[0;34m\u001b[0m\u001b[0;34m\u001b[0m\u001b[0m\n\u001b[0m\u001b[1;32m    177\u001b[0m             \u001b[0mplt\u001b[0m\u001b[0;34m.\u001b[0m\u001b[0maxis\u001b[0m\u001b[0;34m(\u001b[0m\u001b[0;34m'off'\u001b[0m\u001b[0;34m)\u001b[0m\u001b[0;34m\u001b[0m\u001b[0;34m\u001b[0m\u001b[0m\n\u001b[1;32m    178\u001b[0m         \u001b[0mplt\u001b[0m\u001b[0;34m.\u001b[0m\u001b[0msavefig\u001b[0m\u001b[0;34m(\u001b[0m\u001b[0mtitle\u001b[0m\u001b[0;34m,\u001b[0m\u001b[0mdpi\u001b[0m\u001b[0;34m=\u001b[0m\u001b[0;36m600\u001b[0m\u001b[0;34m)\u001b[0m\u001b[0;34m\u001b[0m\u001b[0;34m\u001b[0m\u001b[0m\n",
            "\u001b[0;32m<ipython-input-3-cf4edafdbcce>\u001b[0m in \u001b[0;36mplot_all\u001b[0;34m(sample, model, labels)\u001b[0m\n\u001b[1;32m     92\u001b[0m             \u001b[0msample\u001b[0m \u001b[0;34m=\u001b[0m \u001b[0mtorch\u001b[0m\u001b[0;34m.\u001b[0m\u001b[0mstack\u001b[0m\u001b[0;34m(\u001b[0m\u001b[0;34m[\u001b[0m\u001b[0msample\u001b[0m \u001b[0;32mfor\u001b[0m \u001b[0mi\u001b[0m \u001b[0;32min\u001b[0m \u001b[0mrange\u001b[0m\u001b[0;34m(\u001b[0m\u001b[0;36m2\u001b[0m\u001b[0;34m)\u001b[0m\u001b[0;34m]\u001b[0m\u001b[0;34m,\u001b[0m\u001b[0mdim\u001b[0m \u001b[0;34m=\u001b[0m \u001b[0;36m0\u001b[0m\u001b[0;34m)\u001b[0m\u001b[0;34m.\u001b[0m\u001b[0mcuda\u001b[0m\u001b[0;34m(\u001b[0m\u001b[0;34m)\u001b[0m\u001b[0;34m\u001b[0m\u001b[0;34m\u001b[0m\u001b[0m\n\u001b[1;32m     93\u001b[0m             \u001b[0mlabels\u001b[0m \u001b[0;34m=\u001b[0m \u001b[0mtorch\u001b[0m\u001b[0;34m.\u001b[0m\u001b[0mstack\u001b[0m\u001b[0;34m(\u001b[0m\u001b[0;34m[\u001b[0m\u001b[0mlabels\u001b[0m \u001b[0;32mfor\u001b[0m \u001b[0mi\u001b[0m \u001b[0;32min\u001b[0m \u001b[0mrange\u001b[0m\u001b[0;34m(\u001b[0m\u001b[0;36m2\u001b[0m\u001b[0;34m)\u001b[0m\u001b[0;34m]\u001b[0m\u001b[0;34m,\u001b[0m\u001b[0mdim\u001b[0m \u001b[0;34m=\u001b[0m \u001b[0;36m0\u001b[0m\u001b[0;34m)\u001b[0m\u001b[0;34m.\u001b[0m\u001b[0mcuda\u001b[0m\u001b[0;34m(\u001b[0m\u001b[0;34m)\u001b[0m\u001b[0;34m\u001b[0m\u001b[0;34m\u001b[0m\u001b[0m\n\u001b[0;32m---> 94\u001b[0;31m             \u001b[0mpred\u001b[0m \u001b[0;34m=\u001b[0m \u001b[0mmodel\u001b[0m\u001b[0;34m(\u001b[0m\u001b[0msample\u001b[0m\u001b[0;34m.\u001b[0m\u001b[0mcuda\u001b[0m\u001b[0;34m(\u001b[0m\u001b[0;34m)\u001b[0m\u001b[0;34m,\u001b[0m\u001b[0mlabels\u001b[0m\u001b[0;34m.\u001b[0m\u001b[0mcuda\u001b[0m\u001b[0;34m(\u001b[0m\u001b[0;34m)\u001b[0m\u001b[0;34m)\u001b[0m\u001b[0;31m#come back to this\u001b[0m\u001b[0;34m\u001b[0m\u001b[0;34m\u001b[0m\u001b[0m\n\u001b[0m\u001b[1;32m     95\u001b[0m             \u001b[0mpredres\u001b[0m \u001b[0;34m=\u001b[0m \u001b[0mnumpoints\u001b[0m\u001b[0;34m\u001b[0m\u001b[0;34m\u001b[0m\u001b[0m\n\u001b[1;32m     96\u001b[0m             \u001b[0mprint\u001b[0m\u001b[0;34m(\u001b[0m\u001b[0;34m'pred'\u001b[0m\u001b[0;34m,\u001b[0m\u001b[0mpred\u001b[0m\u001b[0;34m.\u001b[0m\u001b[0mshape\u001b[0m\u001b[0;34m)\u001b[0m\u001b[0;34m\u001b[0m\u001b[0;34m\u001b[0m\u001b[0m\n",
            "\u001b[0;32m/usr/local/lib/python3.7/dist-packages/torch/nn/modules/module.py\u001b[0m in \u001b[0;36m_call_impl\u001b[0;34m(self, *input, **kwargs)\u001b[0m\n\u001b[1;32m    887\u001b[0m             \u001b[0mresult\u001b[0m \u001b[0;34m=\u001b[0m \u001b[0mself\u001b[0m\u001b[0;34m.\u001b[0m\u001b[0m_slow_forward\u001b[0m\u001b[0;34m(\u001b[0m\u001b[0;34m*\u001b[0m\u001b[0minput\u001b[0m\u001b[0;34m,\u001b[0m \u001b[0;34m**\u001b[0m\u001b[0mkwargs\u001b[0m\u001b[0;34m)\u001b[0m\u001b[0;34m\u001b[0m\u001b[0;34m\u001b[0m\u001b[0m\n\u001b[1;32m    888\u001b[0m         \u001b[0;32melse\u001b[0m\u001b[0;34m:\u001b[0m\u001b[0;34m\u001b[0m\u001b[0;34m\u001b[0m\u001b[0m\n\u001b[0;32m--> 889\u001b[0;31m             \u001b[0mresult\u001b[0m \u001b[0;34m=\u001b[0m \u001b[0mself\u001b[0m\u001b[0;34m.\u001b[0m\u001b[0mforward\u001b[0m\u001b[0;34m(\u001b[0m\u001b[0;34m*\u001b[0m\u001b[0minput\u001b[0m\u001b[0;34m,\u001b[0m \u001b[0;34m**\u001b[0m\u001b[0mkwargs\u001b[0m\u001b[0;34m)\u001b[0m\u001b[0;34m\u001b[0m\u001b[0;34m\u001b[0m\u001b[0m\n\u001b[0m\u001b[1;32m    890\u001b[0m         for hook in itertools.chain(\n\u001b[1;32m    891\u001b[0m                 \u001b[0m_global_forward_hooks\u001b[0m\u001b[0;34m.\u001b[0m\u001b[0mvalues\u001b[0m\u001b[0;34m(\u001b[0m\u001b[0;34m)\u001b[0m\u001b[0;34m,\u001b[0m\u001b[0;34m\u001b[0m\u001b[0;34m\u001b[0m\u001b[0m\n",
            "\u001b[0;32m<ipython-input-122-fabc5ed14a3e>\u001b[0m in \u001b[0;36mforward\u001b[0;34m(self, features, captions, train)\u001b[0m\n\u001b[1;32m     53\u001b[0m \u001b[0;34m\u001b[0m\u001b[0m\n\u001b[1;32m     54\u001b[0m         \u001b[0;31m# define the output tensor placeholder\u001b[0m\u001b[0;34m\u001b[0m\u001b[0;34m\u001b[0m\u001b[0;34m\u001b[0m\u001b[0m\n\u001b[0;32m---> 55\u001b[0;31m         \u001b[0;32massert\u001b[0m \u001b[0mcaptions\u001b[0m\u001b[0;34m.\u001b[0m\u001b[0msize\u001b[0m\u001b[0;34m(\u001b[0m\u001b[0;36m1\u001b[0m\u001b[0;34m)\u001b[0m\u001b[0;34m==\u001b[0m\u001b[0;36m50\u001b[0m\u001b[0;34m\u001b[0m\u001b[0;34m\u001b[0m\u001b[0m\n\u001b[0m\u001b[1;32m     56\u001b[0m         \u001b[0;31m#assert self.vocab_size == 2\u001b[0m\u001b[0;34m\u001b[0m\u001b[0;34m\u001b[0m\u001b[0;34m\u001b[0m\u001b[0m\n\u001b[1;32m     57\u001b[0m         \u001b[0moutputs\u001b[0m \u001b[0;34m=\u001b[0m \u001b[0mtorch\u001b[0m\u001b[0;34m.\u001b[0m\u001b[0mempty\u001b[0m\u001b[0;34m(\u001b[0m\u001b[0;34m(\u001b[0m\u001b[0mbatch_size\u001b[0m\u001b[0;34m,\u001b[0m \u001b[0mcaptions\u001b[0m\u001b[0;34m.\u001b[0m\u001b[0msize\u001b[0m\u001b[0;34m(\u001b[0m\u001b[0;36m1\u001b[0m\u001b[0;34m)\u001b[0m\u001b[0;34m,\u001b[0m \u001b[0;36m2\u001b[0m\u001b[0;34m)\u001b[0m\u001b[0;34m)\u001b[0m\u001b[0;34m.\u001b[0m\u001b[0mcuda\u001b[0m\u001b[0;34m(\u001b[0m\u001b[0;34m)\u001b[0m\u001b[0;34m\u001b[0m\u001b[0;34m\u001b[0m\u001b[0m\n",
            "\u001b[0;31mAssertionError\u001b[0m: "
          ]
        },
        {
          "output_type": "display_data",
          "data": {
            "image/png": "[encoded data removed]",
            "text/plain": [
              "<Figure size 432x288 with 1 Axes>"
            ]
          },
          "metadata": {
            "tags": [],
            "needs_background": "light"
          }
        }
      ]
    },
    {
      "cell_type": "code",
      "metadata": {
        "id": "X-kgZ9Jg5myd"
      },
      "source": [
        ""
      ],
      "execution_count": null,
      "outputs": []
    }
  ]
}