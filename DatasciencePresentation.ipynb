{
  "nbformat": 4,
  "nbformat_minor": 0,
  "metadata": {
    "colab": {
      "name": "DatasciencePresentation.ipynb",
      "provenance": [],
      "authorship_tag": "ABX9TyOIimh2L9BHW6pg3V8wE3gg",
      "include_colab_link": true
    },
    "kernelspec": {
      "name": "python3",
      "display_name": "Python 3"
    },
    "language_info": {
      "name": "python"
    },
    "accelerator": "GPU"
  },
  "cells": [
    {
      "cell_type": "markdown",
      "metadata": {
        "id": "view-in-github",
        "colab_type": "text"
      },
      "source": [
        "<a href=\"https://colab.research.google.com/github/WilliamAshbee/splineexample/blob/main/DatasciencePresentation.ipynb\" target=\"_parent\"><img src=\"https://colab.research.google.com/assets/colab-badge.svg\" alt=\"Open In Colab\"/></a>"
      ]
    },
    {
      "cell_type": "code",
      "metadata": {
        "id": "V0uPnplX2m6V"
      },
      "source": [
        "epoch = 40"
      ],
      "execution_count": 1,
      "outputs": []
    },
    {
      "cell_type": "code",
      "metadata": {
        "colab": {
          "base_uri": "https://localhost:8080/",
          "height": 285
        },
        "id": "lriVEWYxBqQJ",
        "outputId": "6e72b511-a4fb-4584-a0df-182d35506f45"
      },
      "source": [
        "import torch\n",
        "import numpy as np\n",
        "import pylab as plt\n",
        "from skimage import filters\n",
        "import math\n",
        "\n",
        "global numpoints\n",
        "numpoints = 1000\n",
        "side = 32\n",
        "\n",
        "rows = torch.zeros(32,32)\n",
        "columns = torch.zeros(32,32)\n",
        "\n",
        "\n",
        "for i in range(32):\n",
        "    columns[:,i] = i\n",
        "    rows[i,:] = i\n",
        "\n",
        "\n",
        "def donut_matrix(length = 10):\n",
        "    radiusMax = side /3\n",
        "    w = 1\n",
        "    sigmas = [None, 1]\n",
        "    \n",
        "    canvas = torch.zeros((length,side, side))\n",
        "    r0 = torch.tensor(np.random.uniform(side/4, side/3, length))\n",
        "\n",
        "    radii = torch.zeros((length,numpoints))\n",
        "    radii[:, :] = r0.unsqueeze(1)\n",
        "    \n",
        "    ind = [x for x in range(numpoints)]\n",
        "\n",
        "    theta = torch.FloatTensor(ind)\n",
        "    theta *= math.pi*2.0/(float)(numpoints)\n",
        "    \n",
        "    for i in range(1,length):\n",
        "        a = np.random.uniform(1.0,3.0)*torch.sin(np.random.uniform(20.0)*theta+np.random.uniform(1000.0))\n",
        "        radii[i,:] += a\n",
        "    \n",
        "    assert torch.min(radii)>0\n",
        "    rmaxs = radii.max(axis = 1)[0]\n",
        "    pmins = rmaxs+1.0\n",
        "    pmaxs = side-rmaxs-1.0\n",
        "    x0 = np.random.uniform(pmins,pmaxs)\n",
        "    y0 = np.random.uniform(pmins,pmaxs)\n",
        "    x0[:]=side/2\n",
        "    y0[:]=side/2\n",
        "    x0 = torch.tensor(x0)\n",
        "    y0 = torch.tensor(y0)\n",
        "    \n",
        "    x0 = x0.unsqueeze(1)\n",
        "    y0 = y0.unsqueeze(1)\n",
        "    xrfactors = torch.cos(theta).unsqueeze(0)\n",
        "    yrfactors = torch.sin(theta).unsqueeze(0)\n",
        "    \n",
        "    print('x0_y0_r_xrf_yrf',x0.shape,y0.shape,radii.shape,xrfactors.shape,yrfactors.shape)\n",
        "\n",
        "    x = (x0+(xrfactors*radii))\n",
        "    y = (y0+(yrfactors*radii))\n",
        "    assert x.shape == (length,numpoints)\n",
        "    assert y.shape == (length,numpoints)\n",
        "    assert torch.sum(x[x>(side-1)])==0 \n",
        "    assert torch.sum(x[x<0])==0 \n",
        "    assert torch.sum(y[y>(side-1)])==0 \n",
        "    assert torch.sum(y[y<0])==0 \n",
        "    \n",
        "    points = torch.zeros(length,numpoints,2)\n",
        "    for l in range(length):\n",
        "        canvas[l,y[l,:].type(torch.LongTensor),x[l,:].type(torch.LongTensor)]=1.0\n",
        "        points[l,:,0] = x[l,:]#modified for lstm discriminator\n",
        "        points[l,:,1] = y[l,:]#modified for lstm discriminator \n",
        "    \n",
        "    \n",
        "    return {\n",
        "        'canvas': canvas, \n",
        "        'points':points.type(torch.FloatTensor)}\n",
        "\n",
        "\n",
        "def plot_all( sample = None, model = None, labels = None):\n",
        "    img = sample[:,:].squeeze().cpu().numpy()\n",
        "    plt.imshow(img, cmap=plt.cm.gray_r)\n",
        "    if model != None:\n",
        "        with torch.no_grad():\n",
        "            global numpoints\n",
        "\n",
        "            #sample = torch.stack([sample for i in range(64)],dim = 0).cuda()\n",
        "            pred = model(sample.cuda())#come back to this\n",
        "            predres = numpoints\n",
        "            X = pred[0,:,0]\n",
        "            Y = pred[0,:,1]\n",
        "            assert X.shape[0] == 1000\n",
        "            assert Y.shape[0] == 1000\n",
        "            s = [.001 for x in range(predres)]\n",
        "            \n",
        "            assert len(s) == predres\n",
        "            c = ['red' for x in range(predres)]\n",
        "            assert len(c) == predres\n",
        "            Y = Y.cuda()\n",
        "            X = X.cuda()\n",
        "            plt.plot(X.cpu(),Y.cpu(),',-',c='red', ms=.1, lw=0.1) \n",
        "\n",
        "    else:\n",
        "        X = labels[:,0]\n",
        "        Y = labels[:,1]\n",
        "        s = [.0001 for x in range(numpoints)]\n",
        "        c = ['red' for x in range(numpoints)]\n",
        "        plt.plot(X.cpu(),Y.cpu(),',-',c='red',  ms=.1, lw=0.1) \n",
        "\n",
        "\n",
        "class DonutDataset(torch.utils.data.Dataset):\n",
        "    def __init__(self, length = 10):\n",
        "        self.length = length\n",
        "        self.values = donut_matrix(length)\n",
        "        assert self.values['canvas'].shape[0] == self.length\n",
        "        assert self.values['points'].shape[0] == self.length\n",
        "        \n",
        "        count = 0\n",
        "        for i in range(self.length):\n",
        "          a = self[i]\n",
        "          c = a[0]\n",
        "          for el in a[1]:\n",
        "            y,x = (int)(el[1]),(int)(el[0])\n",
        "            if x < side-2 and x > 2 and y < side-2 and y > 2: \n",
        "              if c[y,x] != 1 and \\\n",
        "                c[y+1,x] != 1 and c[y+1,-1+x] != 1 and c[y+1,1+x] != 1 and \\\n",
        "                c[y-1,x] != 1 and c[y,-1+x] != 1 and c[y,1+x] != 1:\n",
        "                count+=1\n",
        "        assert count ==0\n",
        "\n",
        "\n",
        "    def __len__(self):\n",
        "        return self.length\n",
        "\n",
        "\n",
        "    def __getitem__(self, idx):\n",
        "        canvas = self.values[\"canvas\"]\n",
        "        canvas = canvas[idx,:,:]\n",
        "        assert canvas.shape == (side,side)\n",
        "        points = self.values[\"points\"]\n",
        "        points = points[idx,:]\n",
        "        #z = torch.zeros(numpoints,1)\n",
        "        #points = torch.cat([points,z], dim = 1)\n",
        "        \n",
        "        return canvas, points\n",
        "    \n",
        "    @staticmethod\n",
        "    def displayCanvas(title,dataset, model):\n",
        "        for i in range(100):\n",
        "            sample, labels = dataset[i]\n",
        "            plt.subplot(10,10,i+1)\n",
        "            plot_all(sample = sample,model=model, labels = labels)\n",
        "            plt.axis('off')\n",
        "        plt.savefig(title,dpi=600)\n",
        "        \n",
        "test_dataset = DonutDataset(length = 100)\n",
        "\n",
        "DonutDataset.displayCanvas('donut.png',test_dataset, model = None)\n"
      ],
      "execution_count": 2,
      "outputs": [
        {
          "output_type": "stream",
          "text": [
            "x0_y0_r_xrf_yrf torch.Size([100, 1]) torch.Size([100, 1]) torch.Size([100, 1000]) torch.Size([1, 1000]) torch.Size([1, 1000])\n"
          ],
          "name": "stdout"
        },
        {
          "output_type": "display_data",
          "data": {
            "image/png": "[encoded data removed]",
            "text/plain": [
              "<Figure size 432x288 with 100 Axes>"
            ]
          },
          "metadata": {
            "tags": [],
            "needs_background": "light"
          }
        }
      ]
    },
    {
      "cell_type": "code",
      "metadata": {
        "id": "4S8PURbSRrPD",
        "colab": {
          "base_uri": "https://localhost:8080/"
        },
        "outputId": "24fe9bb3-a019-4dc6-a8ea-44abcb7e25e9"
      },
      "source": [
        "from torch.utils import data\n",
        "from torch.utils.data import DataLoader, TensorDataset, RandomSampler\n",
        "\n",
        "mini_batch = 64\n",
        "#test_dataset = DonutDataset(length=100)\n",
        "loader_test = data.DataLoader(\n",
        "    test_dataset, \n",
        "    batch_size=mini_batch,\n",
        "    sampler=RandomSampler(data_source=test_dataset),\n",
        "    num_workers=4)\n"
      ],
      "execution_count": 3,
      "outputs": [
        {
          "output_type": "stream",
          "text": [
            "/usr/local/lib/python3.7/dist-packages/torch/utils/data/dataloader.py:477: UserWarning: This DataLoader will create 4 worker processes in total. Our suggested max number of worker in current system is 2, which is smaller than what this DataLoader is going to create. Please be aware that excessive worker creation might get DataLoader running slow or even freeze, lower the worker number to avoid potential slowness/freeze if necessary.\n",
            "  cpuset_checked))\n"
          ],
          "name": "stderr"
        }
      ]
    },
    {
      "cell_type": "code",
      "metadata": {
        "colab": {
          "base_uri": "https://localhost:8080/"
        },
        "id": "4PfBoCUFuTkh",
        "outputId": "16eee2d3-0c2b-4327-ced8-47487ad321f5"
      },
      "source": [
        "from torch.utils import data\n",
        "from torch.utils.data import DataLoader, TensorDataset, RandomSampler\n",
        "\n",
        "mini_batch = 64\n",
        "dataset = DonutDataset(length=64*20)\n",
        "loader_train = data.DataLoader(\n",
        "    dataset, \n",
        "    batch_size=mini_batch,\n",
        "    sampler=RandomSampler(data_source=dataset),\n",
        "    num_workers=4)\n"
      ],
      "execution_count": 4,
      "outputs": [
        {
          "output_type": "stream",
          "text": [
            "x0_y0_r_xrf_yrf torch.Size([1280, 1]) torch.Size([1280, 1]) torch.Size([1280, 1000]) torch.Size([1, 1000]) torch.Size([1, 1000])\n"
          ],
          "name": "stdout"
        },
        {
          "output_type": "stream",
          "text": [
            "/usr/local/lib/python3.7/dist-packages/torch/utils/data/dataloader.py:477: UserWarning: This DataLoader will create 4 worker processes in total. Our suggested max number of worker in current system is 2, which is smaller than what this DataLoader is going to create. Please be aware that excessive worker creation might get DataLoader running slow or even freeze, lower the worker number to avoid potential slowness/freeze if necessary.\n",
            "  cpuset_checked))\n"
          ],
          "name": "stderr"
        }
      ]
    },
    {
      "cell_type": "code",
      "metadata": {
        "id": "p7eBMvDeM-7_"
      },
      "source": [
        "import torch\n",
        "import torch.nn as nn\n",
        "from torch.hub import load_state_dict_from_url\n",
        "\n",
        "class MLP(nn.Module):\n",
        "    def __init__(self):\n",
        "        super(MLP, self).__init__()\n",
        "        self.input_dim = 1*32*32\n",
        "        self.output_dim = 2000\n",
        "        self.net = nn.Sequential(\n",
        "            nn.Linear(self.input_dim, self.input_dim),\n",
        "            nn.ReLU(True),\n",
        "            nn.Dropout(),\n",
        "            nn.Linear(self.input_dim, self.input_dim),\n",
        "            nn.ReLU(True),\n",
        "            nn.Dropout(),\n",
        "            nn.Linear(self.input_dim, self.output_dim),\n",
        "            nn.Sigmoid()\n",
        "        )\n",
        "        \n",
        "        \n",
        "\n",
        "    def forward(self, x):\n",
        "        #x = x.squeeze()\n",
        "        if x.shape[0]!= mini_batch:\n",
        "          assert x.shape[0] == 32 and x.shape[1] == 32\n",
        "          x = x.unsqueeze(0)\n",
        "        x = torch.flatten(x,start_dim=1)\n",
        "        \n",
        "        #assert x.shape == (mini_batch,self.hidden_dim)\n",
        "        out = self.net(x)\n",
        "        out = out.reshape(x.shape[0],1000,2)\n",
        "        return 32.0*out\n"
      ],
      "execution_count": 5,
      "outputs": []
    },
    {
      "cell_type": "code",
      "metadata": {
        "id": "lYKNN1XTuMO1"
      },
      "source": [
        "model = MLP().cuda()"
      ],
      "execution_count": 6,
      "outputs": []
    },
    {
      "cell_type": "code",
      "metadata": {
        "id": "_QreZ-k6dtTx"
      },
      "source": [
        "optimizer = torch.optim.Adam(model.parameters(),lr = 0.0001, betas = (.9,.999))"
      ],
      "execution_count": 7,
      "outputs": []
    },
    {
      "cell_type": "code",
      "metadata": {
        "colab": {
          "base_uri": "https://localhost:8080/"
        },
        "id": "KJz942ZhumMq",
        "outputId": "f9c9ac32-b141-4ef1-fca6-56fb042d5619"
      },
      "source": [
        "loss = None\n",
        "model = model.train()\n",
        "for e in range(epoch):\n",
        "  for xin,yin in loader_train:\n",
        "    optimizer.zero_grad()\n",
        "\n",
        "    if xin.shape[0] != mini_batch:\n",
        "      print(xin.shape)\n",
        "      continue\n",
        "    xin = xin.cuda()\n",
        "    yin = yin.cuda()\n",
        "    out = model(xin)\n",
        "    assert out.shape == yin.shape\n",
        "    \n",
        "    loss = torch.mean((out-yin)**2)\n",
        "    loss.backward()\n",
        "    optimizer.step()\n",
        "    \n",
        "  print('epoch',e,'\\tTraining loss', loss.item())\n"
      ],
      "execution_count": 8,
      "outputs": [
        {
          "output_type": "stream",
          "text": [
            "/usr/local/lib/python3.7/dist-packages/torch/utils/data/dataloader.py:477: UserWarning: This DataLoader will create 4 worker processes in total. Our suggested max number of worker in current system is 2, which is smaller than what this DataLoader is going to create. Please be aware that excessive worker creation might get DataLoader running slow or even freeze, lower the worker number to avoid potential slowness/freeze if necessary.\n",
            "  cpuset_checked))\n"
          ],
          "name": "stderr"
        },
        {
          "output_type": "stream",
          "text": [
            "epoch 0 \tTraining loss 16.97130584716797\n",
            "epoch 1 \tTraining loss 6.187532424926758\n",
            "epoch 2 \tTraining loss 4.350442409515381\n",
            "epoch 3 \tTraining loss 3.952571153640747\n",
            "epoch 4 \tTraining loss 2.8805267810821533\n",
            "epoch 5 \tTraining loss 2.4231271743774414\n",
            "epoch 6 \tTraining loss 2.176990270614624\n",
            "epoch 7 \tTraining loss 2.008396625518799\n",
            "epoch 8 \tTraining loss 2.0223591327667236\n",
            "epoch 9 \tTraining loss 1.9413211345672607\n",
            "epoch 10 \tTraining loss 1.9778622388839722\n",
            "epoch 11 \tTraining loss 1.8264240026474\n",
            "epoch 12 \tTraining loss 1.9429177045822144\n",
            "epoch 13 \tTraining loss 1.7538079023361206\n",
            "epoch 14 \tTraining loss 1.7364652156829834\n",
            "epoch 15 \tTraining loss 1.7567752599716187\n",
            "epoch 16 \tTraining loss 1.6326889991760254\n",
            "epoch 17 \tTraining loss 1.7044727802276611\n",
            "epoch 18 \tTraining loss 1.6023210287094116\n",
            "epoch 19 \tTraining loss 1.4354366064071655\n",
            "epoch 20 \tTraining loss 1.609421730041504\n",
            "epoch 21 \tTraining loss 1.5105129480361938\n",
            "epoch 22 \tTraining loss 1.6205134391784668\n",
            "epoch 23 \tTraining loss 1.635974645614624\n",
            "epoch 24 \tTraining loss 1.5925137996673584\n",
            "epoch 25 \tTraining loss 1.366004467010498\n",
            "epoch 26 \tTraining loss 1.5373409986495972\n",
            "epoch 27 \tTraining loss 1.4232643842697144\n",
            "epoch 28 \tTraining loss 1.5609610080718994\n",
            "epoch 29 \tTraining loss 1.426279902458191\n",
            "epoch 30 \tTraining loss 1.447800874710083\n",
            "epoch 31 \tTraining loss 1.527753233909607\n",
            "epoch 32 \tTraining loss 1.454789161682129\n",
            "epoch 33 \tTraining loss 1.36195969581604\n",
            "epoch 34 \tTraining loss 1.491396427154541\n",
            "epoch 35 \tTraining loss 1.4222835302352905\n",
            "epoch 36 \tTraining loss 1.2128679752349854\n",
            "epoch 37 \tTraining loss 1.2629436254501343\n",
            "epoch 38 \tTraining loss 1.3002619743347168\n",
            "epoch 39 \tTraining loss 1.401984691619873\n"
          ],
          "name": "stdout"
        }
      ]
    },
    {
      "cell_type": "code",
      "metadata": {
        "id": "ePhvJJnuLYTb"
      },
      "source": [
        "optimizer = torch.optim.Adam(model.parameters(),lr = 0.00001, betas = (.9,.999))"
      ],
      "execution_count": 9,
      "outputs": []
    },
    {
      "cell_type": "code",
      "metadata": {
        "colab": {
          "base_uri": "https://localhost:8080/"
        },
        "id": "QnZbcmCfLWfD",
        "outputId": "dc7e78b5-1252-4f79-f878-a4ed2e428552"
      },
      "source": [
        "loss = None\n",
        "model = model.train()\n",
        "for e in range(epoch):\n",
        "  for xin,yin in loader_train:\n",
        "    optimizer.zero_grad()\n",
        "\n",
        "    if xin.shape[0] != mini_batch:\n",
        "      print(xin.shape)\n",
        "      continue\n",
        "    xin = xin.cuda()\n",
        "    yin = yin.cuda()\n",
        "    out = model(xin)\n",
        "    assert out.shape == yin.shape\n",
        "    \n",
        "    loss = torch.mean((out-yin)**2)\n",
        "    loss.backward()\n",
        "    optimizer.step()\n",
        "    \n",
        "  print('epoch',e,'\\tTraining loss', loss.item())\n"
      ],
      "execution_count": 10,
      "outputs": [
        {
          "output_type": "stream",
          "text": [
            "/usr/local/lib/python3.7/dist-packages/torch/utils/data/dataloader.py:477: UserWarning: This DataLoader will create 4 worker processes in total. Our suggested max number of worker in current system is 2, which is smaller than what this DataLoader is going to create. Please be aware that excessive worker creation might get DataLoader running slow or even freeze, lower the worker number to avoid potential slowness/freeze if necessary.\n",
            "  cpuset_checked))\n"
          ],
          "name": "stderr"
        },
        {
          "output_type": "stream",
          "text": [
            "epoch 0 \tTraining loss 1.311394214630127\n",
            "epoch 1 \tTraining loss 1.387424349784851\n",
            "epoch 2 \tTraining loss 1.3556562662124634\n",
            "epoch 3 \tTraining loss 1.2279539108276367\n",
            "epoch 4 \tTraining loss 1.4462673664093018\n",
            "epoch 5 \tTraining loss 1.4090107679367065\n",
            "epoch 6 \tTraining loss 1.398068904876709\n",
            "epoch 7 \tTraining loss 1.2652732133865356\n",
            "epoch 8 \tTraining loss 1.3874660730361938\n",
            "epoch 9 \tTraining loss 1.3665767908096313\n",
            "epoch 10 \tTraining loss 1.3089014291763306\n",
            "epoch 11 \tTraining loss 1.3238825798034668\n",
            "epoch 12 \tTraining loss 1.2575629949569702\n",
            "epoch 13 \tTraining loss 1.3991276025772095\n",
            "epoch 14 \tTraining loss 1.241169810295105\n",
            "epoch 15 \tTraining loss 1.3137880563735962\n",
            "epoch 16 \tTraining loss 1.2109479904174805\n",
            "epoch 17 \tTraining loss 1.2838084697723389\n",
            "epoch 18 \tTraining loss 1.3562308549880981\n",
            "epoch 19 \tTraining loss 1.2706540822982788\n",
            "epoch 20 \tTraining loss 1.3645156621932983\n",
            "epoch 21 \tTraining loss 1.2159974575042725\n",
            "epoch 22 \tTraining loss 1.2148473262786865\n",
            "epoch 23 \tTraining loss 1.2741661071777344\n",
            "epoch 24 \tTraining loss 1.2529265880584717\n",
            "epoch 25 \tTraining loss 1.132676124572754\n",
            "epoch 26 \tTraining loss 1.2572129964828491\n",
            "epoch 27 \tTraining loss 1.292020320892334\n",
            "epoch 28 \tTraining loss 1.3207980394363403\n",
            "epoch 29 \tTraining loss 1.2999768257141113\n",
            "epoch 30 \tTraining loss 1.4053210020065308\n",
            "epoch 31 \tTraining loss 1.3739596605300903\n",
            "epoch 32 \tTraining loss 1.2036006450653076\n",
            "epoch 33 \tTraining loss 1.259324550628662\n",
            "epoch 34 \tTraining loss 1.3510640859603882\n",
            "epoch 35 \tTraining loss 1.2641512155532837\n",
            "epoch 36 \tTraining loss 1.1735024452209473\n",
            "epoch 37 \tTraining loss 1.278591275215149\n",
            "epoch 38 \tTraining loss 1.3607454299926758\n",
            "epoch 39 \tTraining loss 1.2247318029403687\n"
          ],
          "name": "stdout"
        }
      ]
    },
    {
      "cell_type": "code",
      "metadata": {
        "colab": {
          "base_uri": "https://localhost:8080/",
          "height": 248
        },
        "id": "8S6Fc33HF7Qi",
        "outputId": "8b70471d-57e7-4928-829f-dfa707dba2f1"
      },
      "source": [
        "model = model.eval()\n",
        "DonutDataset.displayCanvas('test3layerConstantWidth.png',test_dataset, model = model)\n"
      ],
      "execution_count": 11,
      "outputs": [
        {
          "output_type": "display_data",
          "data": {
            "image/png": "[encoded data removed]",
            "text/plain": [
              "<Figure size 432x288 with 100 Axes>"
            ]
          },
          "metadata": {
            "tags": [],
            "needs_background": "light"
          }
        }
      ]
    },
    {
      "cell_type": "code",
      "metadata": {
        "id": "L1wbIAhiGDYC"
      },
      "source": [
        "import torch\n",
        "import torch.nn as nn\n",
        "from torch.hub import load_state_dict_from_url\n",
        "\n",
        "class MLP(nn.Module):\n",
        "    def __init__(self):\n",
        "        super(MLP, self).__init__()\n",
        "        self.input_dim = 1*32*32\n",
        "        self.output_dim = 2000\n",
        "        self.net = nn.Sequential(\n",
        "            nn.Linear(self.input_dim, self.input_dim),\n",
        "            nn.ReLU(True),\n",
        "            nn.Dropout(),\n",
        "            nn.Linear(self.input_dim, self.input_dim),\n",
        "            nn.ReLU(True),\n",
        "            nn.Dropout(),\n",
        "            nn.Linear(self.input_dim, self.input_dim),\n",
        "            nn.ReLU(True),\n",
        "            nn.Dropout(),\n",
        "            nn.Linear(self.input_dim, self.input_dim),\n",
        "            nn.ReLU(True),\n",
        "            nn.Dropout(),\n",
        "            nn.Linear(self.input_dim, self.output_dim),\n",
        "            nn.Sigmoid()\n",
        "        )\n",
        "        \n",
        "        \n",
        "\n",
        "    def forward(self, x):\n",
        "        #x = x.squeeze()\n",
        "        if x.shape[0]!= mini_batch:\n",
        "          assert x.shape[0] == 32 and x.shape[1] == 32\n",
        "          x = x.unsqueeze(0)\n",
        "        x = torch.flatten(x,start_dim=1)\n",
        "        \n",
        "        #assert x.shape == (mini_batch,self.hidden_dim)\n",
        "        out = self.net(x)\n",
        "        out = out.reshape(x.shape[0],1000,2)\n",
        "        return 32.0*out\n"
      ],
      "execution_count": 12,
      "outputs": []
    },
    {
      "cell_type": "code",
      "metadata": {
        "id": "H2rZY2Z9M_lj"
      },
      "source": [
        "model = MLP().cuda()\n",
        "optimizer = torch.optim.Adam(model.parameters(),lr = 0.0001, betas = (.9,.999))\n"
      ],
      "execution_count": 13,
      "outputs": []
    },
    {
      "cell_type": "code",
      "metadata": {
        "colab": {
          "base_uri": "https://localhost:8080/"
        },
        "id": "k_JMjFztNI0v",
        "outputId": "ec923a03-9f8f-4e0c-e3e2-f604831ebe6b"
      },
      "source": [
        "loss = None\n",
        "model = model.train()\n",
        "for e in range(epoch):\n",
        "  for xin,yin in loader_train:\n",
        "    optimizer.zero_grad()\n",
        "\n",
        "    if xin.shape[0] != mini_batch:\n",
        "      print(xin.shape)\n",
        "      continue\n",
        "    xin = xin.cuda()\n",
        "    yin = yin.cuda()\n",
        "    out = model(xin)\n",
        "    assert out.shape == yin.shape\n",
        "    \n",
        "    loss = torch.mean((out-yin)**2)\n",
        "    loss.backward()\n",
        "    optimizer.step()\n",
        "    \n",
        "  print('epoch',e,'\\tTraining loss', loss.item())\n"
      ],
      "execution_count": 14,
      "outputs": [
        {
          "output_type": "stream",
          "text": [
            "/usr/local/lib/python3.7/dist-packages/torch/utils/data/dataloader.py:477: UserWarning: This DataLoader will create 4 worker processes in total. Our suggested max number of worker in current system is 2, which is smaller than what this DataLoader is going to create. Please be aware that excessive worker creation might get DataLoader running slow or even freeze, lower the worker number to avoid potential slowness/freeze if necessary.\n",
            "  cpuset_checked))\n"
          ],
          "name": "stderr"
        },
        {
          "output_type": "stream",
          "text": [
            "epoch 0 \tTraining loss 15.23814582824707\n",
            "epoch 1 \tTraining loss 5.763535499572754\n",
            "epoch 2 \tTraining loss 4.3202362060546875\n",
            "epoch 3 \tTraining loss 2.6375815868377686\n",
            "epoch 4 \tTraining loss 2.4650607109069824\n",
            "epoch 5 \tTraining loss 2.259899139404297\n",
            "epoch 6 \tTraining loss 2.239328622817993\n",
            "epoch 7 \tTraining loss 2.0221800804138184\n",
            "epoch 8 \tTraining loss 1.9108633995056152\n",
            "epoch 9 \tTraining loss 1.9943360090255737\n",
            "epoch 10 \tTraining loss 1.7713032960891724\n",
            "epoch 11 \tTraining loss 1.8656038045883179\n",
            "epoch 12 \tTraining loss 1.713749647140503\n",
            "epoch 13 \tTraining loss 1.6306524276733398\n",
            "epoch 14 \tTraining loss 1.6117380857467651\n",
            "epoch 15 \tTraining loss 1.622527003288269\n",
            "epoch 16 \tTraining loss 1.5947626829147339\n",
            "epoch 17 \tTraining loss 1.7273261547088623\n",
            "epoch 18 \tTraining loss 1.5569459199905396\n",
            "epoch 19 \tTraining loss 1.5962177515029907\n",
            "epoch 20 \tTraining loss 1.528193712234497\n",
            "epoch 21 \tTraining loss 1.345949649810791\n",
            "epoch 22 \tTraining loss 1.5318500995635986\n",
            "epoch 23 \tTraining loss 1.5441292524337769\n",
            "epoch 24 \tTraining loss 1.4356096982955933\n",
            "epoch 25 \tTraining loss 1.3447092771530151\n",
            "epoch 26 \tTraining loss 1.4176287651062012\n",
            "epoch 27 \tTraining loss 1.4463433027267456\n",
            "epoch 28 \tTraining loss 1.3516621589660645\n",
            "epoch 29 \tTraining loss 1.5483758449554443\n",
            "epoch 30 \tTraining loss 1.3720753192901611\n",
            "epoch 31 \tTraining loss 1.326481580734253\n",
            "epoch 32 \tTraining loss 1.3727959394454956\n",
            "epoch 33 \tTraining loss 1.3926692008972168\n",
            "epoch 34 \tTraining loss 1.3216326236724854\n",
            "epoch 35 \tTraining loss 1.3589837551116943\n",
            "epoch 36 \tTraining loss 1.3028455972671509\n",
            "epoch 37 \tTraining loss 1.2415122985839844\n",
            "epoch 38 \tTraining loss 1.3748708963394165\n",
            "epoch 39 \tTraining loss 1.2874435186386108\n"
          ],
          "name": "stdout"
        }
      ]
    },
    {
      "cell_type": "code",
      "metadata": {
        "id": "VeN6J2kxNAwH"
      },
      "source": [
        "optimizer = torch.optim.Adam(model.parameters(),lr = 0.00001, betas = (.9,.999))"
      ],
      "execution_count": 15,
      "outputs": []
    },
    {
      "cell_type": "code",
      "metadata": {
        "colab": {
          "base_uri": "https://localhost:8080/"
        },
        "id": "ecct1mtgNNZm",
        "outputId": "dbdcbe40-99bb-46fc-bf9c-ed8ac5272433"
      },
      "source": [
        "loss = None\n",
        "model = model.train()\n",
        "for e in range(epoch):\n",
        "  for xin,yin in loader_train:\n",
        "    optimizer.zero_grad()\n",
        "    if xin.shape[0] != mini_batch:\n",
        "      print(xin.shape)\n",
        "      continue\n",
        "    xin = xin.cuda()\n",
        "    yin = yin.cuda()\n",
        "    out = model(xin)\n",
        "    assert out.shape == yin.shape\n",
        "    \n",
        "    loss = torch.mean((out-yin)**2)\n",
        "    loss.backward()\n",
        "    optimizer.step()\n",
        "    \n",
        "  print('epoch',e,'\\tTraining loss', loss.item())\n"
      ],
      "execution_count": 16,
      "outputs": [
        {
          "output_type": "stream",
          "text": [
            "/usr/local/lib/python3.7/dist-packages/torch/utils/data/dataloader.py:477: UserWarning: This DataLoader will create 4 worker processes in total. Our suggested max number of worker in current system is 2, which is smaller than what this DataLoader is going to create. Please be aware that excessive worker creation might get DataLoader running slow or even freeze, lower the worker number to avoid potential slowness/freeze if necessary.\n",
            "  cpuset_checked))\n"
          ],
          "name": "stderr"
        },
        {
          "output_type": "stream",
          "text": [
            "epoch 0 \tTraining loss 1.3297274112701416\n",
            "epoch 1 \tTraining loss 1.3424443006515503\n",
            "epoch 2 \tTraining loss 1.3275456428527832\n",
            "epoch 3 \tTraining loss 1.3027856349945068\n",
            "epoch 4 \tTraining loss 1.4547903537750244\n",
            "epoch 5 \tTraining loss 1.4090934991836548\n",
            "epoch 6 \tTraining loss 1.3456639051437378\n",
            "epoch 7 \tTraining loss 1.338087558746338\n",
            "epoch 8 \tTraining loss 1.3188612461090088\n",
            "epoch 9 \tTraining loss 1.2876043319702148\n",
            "epoch 10 \tTraining loss 1.2731136083602905\n",
            "epoch 11 \tTraining loss 1.2571146488189697\n",
            "epoch 12 \tTraining loss 1.4190771579742432\n",
            "epoch 13 \tTraining loss 1.2878843545913696\n",
            "epoch 14 \tTraining loss 1.382753610610962\n",
            "epoch 15 \tTraining loss 1.2230085134506226\n",
            "epoch 16 \tTraining loss 1.313958764076233\n",
            "epoch 17 \tTraining loss 1.2690231800079346\n",
            "epoch 18 \tTraining loss 1.3289130926132202\n",
            "epoch 19 \tTraining loss 1.2810471057891846\n",
            "epoch 20 \tTraining loss 1.356937050819397\n",
            "epoch 21 \tTraining loss 1.3029885292053223\n",
            "epoch 22 \tTraining loss 1.2983605861663818\n",
            "epoch 23 \tTraining loss 1.3153964281082153\n",
            "epoch 24 \tTraining loss 1.258713960647583\n",
            "epoch 25 \tTraining loss 1.3138962984085083\n",
            "epoch 26 \tTraining loss 1.2917920351028442\n",
            "epoch 27 \tTraining loss 1.1766688823699951\n",
            "epoch 28 \tTraining loss 1.3018556833267212\n",
            "epoch 29 \tTraining loss 1.3176383972167969\n",
            "epoch 30 \tTraining loss 1.2637540102005005\n",
            "epoch 31 \tTraining loss 1.3395581245422363\n",
            "epoch 32 \tTraining loss 1.4300501346588135\n",
            "epoch 33 \tTraining loss 1.116485834121704\n",
            "epoch 34 \tTraining loss 1.2033913135528564\n",
            "epoch 35 \tTraining loss 1.2180997133255005\n",
            "epoch 36 \tTraining loss 1.3814400434494019\n",
            "epoch 37 \tTraining loss 1.2709120512008667\n",
            "epoch 38 \tTraining loss 1.279347538948059\n",
            "epoch 39 \tTraining loss 1.149545669555664\n"
          ],
          "name": "stdout"
        }
      ]
    },
    {
      "cell_type": "code",
      "metadata": {
        "colab": {
          "base_uri": "https://localhost:8080/",
          "height": 248
        },
        "id": "ja18UhjLNgkd",
        "outputId": "7af21095-9db8-436a-f8dc-15ce939420ee"
      },
      "source": [
        "model = model.eval()\n",
        "DonutDataset.displayCanvas('test6layerConstantWidth.png',test_dataset, model = model)\n"
      ],
      "execution_count": 17,
      "outputs": [
        {
          "output_type": "display_data",
          "data": {
            "image/png": "[encoded data removed]",
            "text/plain": [
              "<Figure size 432x288 with 100 Axes>"
            ]
          },
          "metadata": {
            "tags": [],
            "needs_background": "light"
          }
        }
      ]
    },
    {
      "cell_type": "code",
      "metadata": {
        "colab": {
          "base_uri": "https://localhost:8080/"
        },
        "id": "lXT4PBhqx08k",
        "outputId": "ff611f4c-85f5-4699-e061-8a616fe364b7"
      },
      "source": [
        "loss = None\n",
        "model = model.eval()\n",
        "total = 0.0\n",
        "count = 0.0\n",
        "for xin,yin in loader_test:\n",
        "  if xin.shape[0] != mini_batch:\n",
        "    print(xin.shape)\n",
        "    continue\n",
        "  xin = xin.cuda()\n",
        "  yin = yin.cuda()\n",
        "  out = model(xin)\n",
        "  assert out.shape == yin.shape\n",
        "  \n",
        "  loss = torch.mean((out-yin)**2)\n",
        "  count+=1.0\n",
        "  total+=loss.item()\n",
        "print('validation loss','\\t', (float)(total/count))\n"
      ],
      "execution_count": 18,
      "outputs": [
        {
          "output_type": "stream",
          "text": [
            "/usr/local/lib/python3.7/dist-packages/torch/utils/data/dataloader.py:477: UserWarning: This DataLoader will create 4 worker processes in total. Our suggested max number of worker in current system is 2, which is smaller than what this DataLoader is going to create. Please be aware that excessive worker creation might get DataLoader running slow or even freeze, lower the worker number to avoid potential slowness/freeze if necessary.\n",
            "  cpuset_checked))\n"
          ],
          "name": "stderr"
        },
        {
          "output_type": "stream",
          "text": [
            "torch.Size([36, 32, 32])\n",
            "validation loss \t 1.7876880168914795\n"
          ],
          "name": "stdout"
        }
      ]
    },
    {
      "cell_type": "code",
      "metadata": {
        "id": "q54mN4BANlH1"
      },
      "source": [
        "import torch\n",
        "import torch.nn as nn\n",
        "from torch.hub import load_state_dict_from_url\n",
        "\n",
        "class MLP(nn.Module):\n",
        "    def __init__(self):\n",
        "        super(MLP, self).__init__()\n",
        "        self.input_dim = 1*32*32\n",
        "        self.output_dim = 2000\n",
        "        self.net = nn.Sequential(\n",
        "            nn.Linear(self.input_dim, 10*self.input_dim),\n",
        "            nn.ReLU(True),\n",
        "            nn.Dropout(),\n",
        "            nn.Linear(10*self.input_dim, 10*self.input_dim),\n",
        "            nn.ReLU(True),\n",
        "            nn.Dropout(),\n",
        "            nn.Linear(10*self.input_dim, 10*self.input_dim),\n",
        "            nn.ReLU(True),\n",
        "            nn.Dropout(),\n",
        "            nn.Linear(10*self.input_dim, 10*self.input_dim),\n",
        "            nn.ReLU(True),\n",
        "            nn.Dropout(),\n",
        "            nn.Linear(10*self.input_dim, self.output_dim),\n",
        "            nn.Sigmoid()\n",
        "        )\n",
        "        \n",
        "        \n",
        "\n",
        "    def forward(self, x):\n",
        "        #x = x.squeeze()\n",
        "        if x.shape[0]!= mini_batch:\n",
        "          assert x.shape[0] == 32 and x.shape[1] == 32\n",
        "          x = x.unsqueeze(0)\n",
        "        x = torch.flatten(x,start_dim=1)\n",
        "        \n",
        "        #assert x.shape == (mini_batch,self.hidden_dim)\n",
        "        out = self.net(x)\n",
        "        out = out.reshape(x.shape[0],1000,2)\n",
        "        return 32.0*out\n"
      ],
      "execution_count": 19,
      "outputs": []
    },
    {
      "cell_type": "code",
      "metadata": {
        "id": "TsSzv2QpON0N"
      },
      "source": [
        "model = MLP().cuda()\n",
        "optimizer = torch.optim.Adam(model.parameters(),lr = 0.0001, betas = (.9,.999))\n"
      ],
      "execution_count": 20,
      "outputs": []
    },
    {
      "cell_type": "code",
      "metadata": {
        "colab": {
          "base_uri": "https://localhost:8080/"
        },
        "id": "M_neHQR4OOhd",
        "outputId": "24e10f38-8b3a-4b5b-a17c-d5444e391030"
      },
      "source": [
        "loss = None\n",
        "model = model.train()\n",
        "for e in range(epoch):\n",
        "  for xin,yin in loader_train:\n",
        "    optimizer.zero_grad()\n",
        "    if xin.shape[0] != mini_batch:\n",
        "      print(xin.shape)\n",
        "      continue\n",
        "    xin = xin.cuda()\n",
        "    yin = yin.cuda()\n",
        "    out = model(xin)\n",
        "    assert out.shape == yin.shape\n",
        "    \n",
        "    loss = torch.mean((out-yin)**2)\n",
        "    loss.backward()\n",
        "    optimizer.step()\n",
        "    \n",
        "  print('epoch',e,'\\tTraining loss', loss.item())\n"
      ],
      "execution_count": 21,
      "outputs": [
        {
          "output_type": "stream",
          "text": [
            "/usr/local/lib/python3.7/dist-packages/torch/utils/data/dataloader.py:477: UserWarning: This DataLoader will create 4 worker processes in total. Our suggested max number of worker in current system is 2, which is smaller than what this DataLoader is going to create. Please be aware that excessive worker creation might get DataLoader running slow or even freeze, lower the worker number to avoid potential slowness/freeze if necessary.\n",
            "  cpuset_checked))\n"
          ],
          "name": "stderr"
        },
        {
          "output_type": "stream",
          "text": [
            "epoch 0 \tTraining loss 2.3177413940429688\n",
            "epoch 1 \tTraining loss 1.5775927305221558\n",
            "epoch 2 \tTraining loss 1.3338333368301392\n",
            "epoch 3 \tTraining loss 1.511012077331543\n",
            "epoch 4 \tTraining loss 1.53157377243042\n",
            "epoch 5 \tTraining loss 1.450045108795166\n",
            "epoch 6 \tTraining loss 1.3786555528640747\n",
            "epoch 7 \tTraining loss 1.260758876800537\n",
            "epoch 8 \tTraining loss 1.3959776163101196\n",
            "epoch 9 \tTraining loss 1.2642297744750977\n",
            "epoch 10 \tTraining loss 1.1747251749038696\n",
            "epoch 11 \tTraining loss 1.2703965902328491\n",
            "epoch 12 \tTraining loss 1.570987343788147\n",
            "epoch 13 \tTraining loss 1.4236687421798706\n",
            "epoch 14 \tTraining loss 1.2034046649932861\n",
            "epoch 15 \tTraining loss 1.1049553155899048\n",
            "epoch 16 \tTraining loss 1.3315296173095703\n",
            "epoch 17 \tTraining loss 1.2425484657287598\n",
            "epoch 18 \tTraining loss 1.218231201171875\n",
            "epoch 19 \tTraining loss 1.3368571996688843\n",
            "epoch 20 \tTraining loss 1.3435230255126953\n",
            "epoch 21 \tTraining loss 1.2920215129852295\n",
            "epoch 22 \tTraining loss 1.1974995136260986\n",
            "epoch 23 \tTraining loss 1.475247859954834\n",
            "epoch 24 \tTraining loss 1.3403738737106323\n",
            "epoch 25 \tTraining loss 1.272786021232605\n",
            "epoch 26 \tTraining loss 1.3010940551757812\n",
            "epoch 27 \tTraining loss 1.182029366493225\n",
            "epoch 28 \tTraining loss 1.2143826484680176\n",
            "epoch 29 \tTraining loss 1.3713210821151733\n",
            "epoch 30 \tTraining loss 1.072389006614685\n",
            "epoch 31 \tTraining loss 1.3072762489318848\n",
            "epoch 32 \tTraining loss 1.2186146974563599\n",
            "epoch 33 \tTraining loss 1.2031220197677612\n",
            "epoch 34 \tTraining loss 1.2489537000656128\n",
            "epoch 35 \tTraining loss 1.178787350654602\n",
            "epoch 36 \tTraining loss 1.2041096687316895\n",
            "epoch 37 \tTraining loss 1.2072468996047974\n",
            "epoch 38 \tTraining loss 1.2171045541763306\n",
            "epoch 39 \tTraining loss 1.2310725450515747\n"
          ],
          "name": "stdout"
        }
      ]
    },
    {
      "cell_type": "code",
      "metadata": {
        "id": "joZbJOCwOTB2"
      },
      "source": [
        "optimizer = torch.optim.Adam(model.parameters(),lr = 0.00001, betas = (.9,.999))\n"
      ],
      "execution_count": 22,
      "outputs": []
    },
    {
      "cell_type": "code",
      "metadata": {
        "colab": {
          "base_uri": "https://localhost:8080/"
        },
        "id": "sTlmEnkWOWIK",
        "outputId": "ad717b5a-7118-45ac-fe88-0cea4ee8087f"
      },
      "source": [
        "loss = None\n",
        "model = model.train()\n",
        "for e in range(epoch):\n",
        "  for xin,yin in loader_train:\n",
        "    optimizer.zero_grad()\n",
        "    if xin.shape[0] != mini_batch:\n",
        "      print(xin.shape)\n",
        "      continue\n",
        "    xin = xin.cuda()\n",
        "    yin = yin.cuda()\n",
        "    out = model(xin)\n",
        "    assert out.shape == yin.shape\n",
        "    \n",
        "    loss = torch.mean((out-yin)**2)\n",
        "    loss.backward()\n",
        "    optimizer.step()\n",
        "    \n",
        "  print('epoch',e,'\\tTraining loss', loss.item())\n"
      ],
      "execution_count": 23,
      "outputs": [
        {
          "output_type": "stream",
          "text": [
            "/usr/local/lib/python3.7/dist-packages/torch/utils/data/dataloader.py:477: UserWarning: This DataLoader will create 4 worker processes in total. Our suggested max number of worker in current system is 2, which is smaller than what this DataLoader is going to create. Please be aware that excessive worker creation might get DataLoader running slow or even freeze, lower the worker number to avoid potential slowness/freeze if necessary.\n",
            "  cpuset_checked))\n"
          ],
          "name": "stderr"
        },
        {
          "output_type": "stream",
          "text": [
            "epoch 0 \tTraining loss 1.1259169578552246\n",
            "epoch 1 \tTraining loss 1.0993572473526\n",
            "epoch 2 \tTraining loss 1.0842058658599854\n",
            "epoch 3 \tTraining loss 1.0910632610321045\n",
            "epoch 4 \tTraining loss 1.0810108184814453\n",
            "epoch 5 \tTraining loss 1.16643488407135\n",
            "epoch 6 \tTraining loss 1.1618891954421997\n",
            "epoch 7 \tTraining loss 1.0748658180236816\n",
            "epoch 8 \tTraining loss 1.3029553890228271\n",
            "epoch 9 \tTraining loss 1.147594690322876\n",
            "epoch 10 \tTraining loss 1.0809673070907593\n",
            "epoch 11 \tTraining loss 1.2617820501327515\n",
            "epoch 12 \tTraining loss 1.112382411956787\n",
            "epoch 13 \tTraining loss 1.2091010808944702\n",
            "epoch 14 \tTraining loss 1.1079111099243164\n",
            "epoch 15 \tTraining loss 1.0343972444534302\n",
            "epoch 16 \tTraining loss 1.2146145105361938\n",
            "epoch 17 \tTraining loss 1.1393790245056152\n",
            "epoch 18 \tTraining loss 1.1505448818206787\n",
            "epoch 19 \tTraining loss 1.0647443532943726\n",
            "epoch 20 \tTraining loss 1.3410340547561646\n",
            "epoch 21 \tTraining loss 1.2554594278335571\n",
            "epoch 22 \tTraining loss 1.102341890335083\n",
            "epoch 23 \tTraining loss 1.038230538368225\n",
            "epoch 24 \tTraining loss 1.1161572933197021\n",
            "epoch 25 \tTraining loss 1.1619758605957031\n",
            "epoch 26 \tTraining loss 1.0931752920150757\n",
            "epoch 27 \tTraining loss 1.090516209602356\n",
            "epoch 28 \tTraining loss 1.1406335830688477\n",
            "epoch 29 \tTraining loss 1.1448713541030884\n",
            "epoch 30 \tTraining loss 1.1517447233200073\n",
            "epoch 31 \tTraining loss 1.179352879524231\n",
            "epoch 32 \tTraining loss 1.0625176429748535\n",
            "epoch 33 \tTraining loss 1.1541699171066284\n",
            "epoch 34 \tTraining loss 1.1207391023635864\n",
            "epoch 35 \tTraining loss 1.1710599660873413\n",
            "epoch 36 \tTraining loss 1.116005301475525\n",
            "epoch 37 \tTraining loss 0.9981862902641296\n",
            "epoch 38 \tTraining loss 1.145102620124817\n",
            "epoch 39 \tTraining loss 1.150052547454834\n"
          ],
          "name": "stdout"
        }
      ]
    },
    {
      "cell_type": "code",
      "metadata": {
        "colab": {
          "base_uri": "https://localhost:8080/",
          "height": 248
        },
        "id": "moHubBGYOc2Z",
        "outputId": "ded2ed06-5132-4cd0-81fe-557d500680b2"
      },
      "source": [
        "model = model.eval()\n",
        "DonutDataset.displayCanvas('test6layer10xConstantWidth.png',test_dataset, model = model)\n"
      ],
      "execution_count": 24,
      "outputs": [
        {
          "output_type": "display_data",
          "data": {
            "image/png": "[encoded data removed]",
            "text/plain": [
              "<Figure size 432x288 with 100 Axes>"
            ]
          },
          "metadata": {
            "tags": [],
            "needs_background": "light"
          }
        }
      ]
    },
    {
      "cell_type": "code",
      "metadata": {
        "colab": {
          "base_uri": "https://localhost:8080/"
        },
        "id": "Z-eckeMYxMKV",
        "outputId": "7b42399c-490e-4013-d063-b0946c7050f3"
      },
      "source": [
        "loss = None\n",
        "model = model.eval()\n",
        "total = 0.0\n",
        "count = 0.0\n",
        "for xin,yin in loader_test:\n",
        "  if xin.shape[0] != mini_batch:\n",
        "    print(xin.shape)\n",
        "    continue\n",
        "  xin = xin.cuda()\n",
        "  yin = yin.cuda()\n",
        "  out = model(xin)\n",
        "  assert out.shape == yin.shape\n",
        "  \n",
        "  loss = torch.mean((out-yin)**2)\n",
        "  count+=1.0\n",
        "  total+=loss.item()\n",
        "print('validation loss','\\t', (float)(total/count))\n"
      ],
      "execution_count": 25,
      "outputs": [
        {
          "output_type": "stream",
          "text": [
            "/usr/local/lib/python3.7/dist-packages/torch/utils/data/dataloader.py:477: UserWarning: This DataLoader will create 4 worker processes in total. Our suggested max number of worker in current system is 2, which is smaller than what this DataLoader is going to create. Please be aware that excessive worker creation might get DataLoader running slow or even freeze, lower the worker number to avoid potential slowness/freeze if necessary.\n",
            "  cpuset_checked))\n"
          ],
          "name": "stderr"
        },
        {
          "output_type": "stream",
          "text": [
            "torch.Size([36, 32, 32])\n",
            "validation loss \t 2.0726425647735596\n"
          ],
          "name": "stdout"
        }
      ]
    },
    {
      "cell_type": "markdown",
      "metadata": {
        "id": "IllF5VVyOkBi"
      },
      "source": [
        "The 6 layer gets slow with 10x units. accuracy also gets worse.  \n"
      ]
    },
    {
      "cell_type": "code",
      "metadata": {
        "id": "kWO-jll3OjH1"
      },
      "source": [
        "import torch\n",
        "import torch.nn as nn\n",
        "from torch.hub import load_state_dict_from_url\n",
        "\n",
        "class MLP(nn.Module):\n",
        "    def __init__(self):\n",
        "        super(MLP, self).__init__()\n",
        "        self.input_dim = 1*32*32\n",
        "        self.output_dim = 2000\n",
        "        self.net = nn.Sequential(\n",
        "            nn.Linear(self.input_dim, 10*self.input_dim),\n",
        "            nn.ReLU(True),\n",
        "            nn.Dropout(),\n",
        "            nn.Linear(10*self.input_dim, 10*self.input_dim),\n",
        "            nn.ReLU(True),\n",
        "            nn.Dropout(),\n",
        "            nn.Linear(10*self.input_dim, self.output_dim),\n",
        "            nn.Sigmoid()\n",
        "        )\n",
        "        \n",
        "        \n",
        "\n",
        "    def forward(self, x):\n",
        "        #x = x.squeeze()\n",
        "        if x.shape[0]!= mini_batch:\n",
        "          assert x.shape[0] == 32 and x.shape[1] == 32\n",
        "          x = x.unsqueeze(0)\n",
        "        x = torch.flatten(x,start_dim=1)\n",
        "        \n",
        "        #assert x.shape == (mini_batch,self.hidden_dim)\n",
        "        out = self.net(x)\n",
        "        out = out.reshape(x.shape[0],1000,2)\n",
        "        return 32.0*out\n"
      ],
      "execution_count": 26,
      "outputs": []
    },
    {
      "cell_type": "code",
      "metadata": {
        "id": "zuW4jRLdOo86"
      },
      "source": [
        "model = MLP().cuda()\n",
        "optimizer = torch.optim.Adam(model.parameters(),lr = 0.0001, betas = (.9,.999))\n"
      ],
      "execution_count": 27,
      "outputs": []
    },
    {
      "cell_type": "code",
      "metadata": {
        "colab": {
          "base_uri": "https://localhost:8080/"
        },
        "id": "mnRaTtlSPhOh",
        "outputId": "ce8df67c-b8e9-4a4a-b5fc-a5a26fb33ee3"
      },
      "source": [
        "loss = None\n",
        "model = model.train()\n",
        "for e in range(epoch):\n",
        "  for xin,yin in loader_train:\n",
        "    optimizer.zero_grad()\n",
        "    if xin.shape[0] != mini_batch:\n",
        "      print(xin.shape)\n",
        "      continue\n",
        "    xin = xin.cuda()\n",
        "    yin = yin.cuda()\n",
        "    out = model(xin)\n",
        "    assert out.shape == yin.shape\n",
        "    \n",
        "    loss = torch.mean((out-yin)**2)\n",
        "    loss.backward()\n",
        "    optimizer.step()\n",
        "    \n",
        "  print('epoch',e,'\\tTraining loss', loss.item())\n"
      ],
      "execution_count": 28,
      "outputs": [
        {
          "output_type": "stream",
          "text": [
            "/usr/local/lib/python3.7/dist-packages/torch/utils/data/dataloader.py:477: UserWarning: This DataLoader will create 4 worker processes in total. Our suggested max number of worker in current system is 2, which is smaller than what this DataLoader is going to create. Please be aware that excessive worker creation might get DataLoader running slow or even freeze, lower the worker number to avoid potential slowness/freeze if necessary.\n",
            "  cpuset_checked))\n"
          ],
          "name": "stderr"
        },
        {
          "output_type": "stream",
          "text": [
            "epoch 0 \tTraining loss 2.50325608253479\n",
            "epoch 1 \tTraining loss 1.673175573348999\n",
            "epoch 2 \tTraining loss 1.5608630180358887\n",
            "epoch 3 \tTraining loss 1.3993093967437744\n",
            "epoch 4 \tTraining loss 1.4153497219085693\n",
            "epoch 5 \tTraining loss 1.4239414930343628\n",
            "epoch 6 \tTraining loss 1.227885127067566\n",
            "epoch 7 \tTraining loss 1.2054715156555176\n",
            "epoch 8 \tTraining loss 1.1426504850387573\n",
            "epoch 9 \tTraining loss 1.0898269414901733\n",
            "epoch 10 \tTraining loss 1.0263621807098389\n",
            "epoch 11 \tTraining loss 0.8841832876205444\n",
            "epoch 12 \tTraining loss 0.9273070693016052\n",
            "epoch 13 \tTraining loss 0.7405288219451904\n",
            "epoch 14 \tTraining loss 0.7676555514335632\n",
            "epoch 15 \tTraining loss 0.621181309223175\n",
            "epoch 16 \tTraining loss 0.6031638383865356\n",
            "epoch 17 \tTraining loss 0.5593088865280151\n",
            "epoch 18 \tTraining loss 0.5986932516098022\n",
            "epoch 19 \tTraining loss 0.5407276153564453\n",
            "epoch 20 \tTraining loss 0.5306751728057861\n",
            "epoch 21 \tTraining loss 0.5186699032783508\n",
            "epoch 22 \tTraining loss 0.4559897184371948\n",
            "epoch 23 \tTraining loss 0.43498799204826355\n",
            "epoch 24 \tTraining loss 0.41755715012550354\n",
            "epoch 25 \tTraining loss 0.4033215045928955\n",
            "epoch 26 \tTraining loss 0.43420472741127014\n",
            "epoch 27 \tTraining loss 0.39455702900886536\n",
            "epoch 28 \tTraining loss 0.3848418593406677\n",
            "epoch 29 \tTraining loss 0.3792654573917389\n",
            "epoch 30 \tTraining loss 0.3614048659801483\n",
            "epoch 31 \tTraining loss 0.37037965655326843\n",
            "epoch 32 \tTraining loss 0.3827321529388428\n",
            "epoch 33 \tTraining loss 0.3525087833404541\n",
            "epoch 34 \tTraining loss 0.3578614294528961\n",
            "epoch 35 \tTraining loss 0.3725234568119049\n",
            "epoch 36 \tTraining loss 0.3100702464580536\n",
            "epoch 37 \tTraining loss 0.3257922828197479\n",
            "epoch 38 \tTraining loss 0.3430972099304199\n",
            "epoch 39 \tTraining loss 0.33091163635253906\n"
          ],
          "name": "stdout"
        }
      ]
    },
    {
      "cell_type": "code",
      "metadata": {
        "id": "IPcsB8_xPkzx"
      },
      "source": [
        "optimizer = torch.optim.Adam(model.parameters(),lr = 0.00001, betas = (.9,.999))\n"
      ],
      "execution_count": 29,
      "outputs": []
    },
    {
      "cell_type": "code",
      "metadata": {
        "colab": {
          "base_uri": "https://localhost:8080/"
        },
        "id": "plYN-ZLoPmwg",
        "outputId": "7099dd17-ffd9-4374-c638-e448151c7419"
      },
      "source": [
        "loss = None\n",
        "model = model.train()\n",
        "for e in range(epoch):\n",
        "  for xin,yin in loader_train:\n",
        "    optimizer.zero_grad()\n",
        "    if xin.shape[0] != mini_batch:\n",
        "      print(xin.shape)\n",
        "      continue\n",
        "    xin = xin.cuda()\n",
        "    yin = yin.cuda()\n",
        "    out = model(xin)\n",
        "    assert out.shape == yin.shape\n",
        "    \n",
        "    loss = torch.mean((out-yin)**2)\n",
        "    loss.backward()\n",
        "    optimizer.step()\n",
        "    \n",
        "  print('epoch',e,'\\tTraining loss', loss.item())\n"
      ],
      "execution_count": 30,
      "outputs": [
        {
          "output_type": "stream",
          "text": [
            "/usr/local/lib/python3.7/dist-packages/torch/utils/data/dataloader.py:477: UserWarning: This DataLoader will create 4 worker processes in total. Our suggested max number of worker in current system is 2, which is smaller than what this DataLoader is going to create. Please be aware that excessive worker creation might get DataLoader running slow or even freeze, lower the worker number to avoid potential slowness/freeze if necessary.\n",
            "  cpuset_checked))\n"
          ],
          "name": "stderr"
        },
        {
          "output_type": "stream",
          "text": [
            "epoch 0 \tTraining loss 0.32043683528900146\n",
            "epoch 1 \tTraining loss 0.30327504873275757\n",
            "epoch 2 \tTraining loss 0.32149749994277954\n",
            "epoch 3 \tTraining loss 0.2485027313232422\n",
            "epoch 4 \tTraining loss 0.2775212526321411\n",
            "epoch 5 \tTraining loss 0.2898780107498169\n",
            "epoch 6 \tTraining loss 0.26000675559043884\n",
            "epoch 7 \tTraining loss 0.2761913537979126\n",
            "epoch 8 \tTraining loss 0.2787357568740845\n",
            "epoch 9 \tTraining loss 0.24772034585475922\n",
            "epoch 10 \tTraining loss 0.2531031370162964\n",
            "epoch 11 \tTraining loss 0.2500710189342499\n",
            "epoch 12 \tTraining loss 0.24679043889045715\n",
            "epoch 13 \tTraining loss 0.24613700807094574\n",
            "epoch 14 \tTraining loss 0.2538178563117981\n",
            "epoch 15 \tTraining loss 0.2381574809551239\n",
            "epoch 16 \tTraining loss 0.24124890565872192\n",
            "epoch 17 \tTraining loss 0.24357149004936218\n",
            "epoch 18 \tTraining loss 0.2557799816131592\n",
            "epoch 19 \tTraining loss 0.2582847774028778\n",
            "epoch 20 \tTraining loss 0.2414647340774536\n",
            "epoch 21 \tTraining loss 0.2326543927192688\n",
            "epoch 22 \tTraining loss 0.24382317066192627\n",
            "epoch 23 \tTraining loss 0.22181463241577148\n",
            "epoch 24 \tTraining loss 0.2317885458469391\n",
            "epoch 25 \tTraining loss 0.23413515090942383\n",
            "epoch 26 \tTraining loss 0.2234652191400528\n",
            "epoch 27 \tTraining loss 0.22291642427444458\n",
            "epoch 28 \tTraining loss 0.24986383318901062\n",
            "epoch 29 \tTraining loss 0.21101447939872742\n",
            "epoch 30 \tTraining loss 0.2159433364868164\n",
            "epoch 31 \tTraining loss 0.20548954606056213\n",
            "epoch 32 \tTraining loss 0.21231189370155334\n",
            "epoch 33 \tTraining loss 0.22144043445587158\n",
            "epoch 34 \tTraining loss 0.23464339971542358\n",
            "epoch 35 \tTraining loss 0.22274746000766754\n",
            "epoch 36 \tTraining loss 0.2421238273382187\n",
            "epoch 37 \tTraining loss 0.23212090134620667\n",
            "epoch 38 \tTraining loss 0.21358613669872284\n",
            "epoch 39 \tTraining loss 0.2320161610841751\n"
          ],
          "name": "stdout"
        }
      ]
    },
    {
      "cell_type": "code",
      "metadata": {
        "colab": {
          "base_uri": "https://localhost:8080/",
          "height": 248
        },
        "id": "mlNhJ9_LPsFt",
        "outputId": "dda3f628-5d7d-463f-fdf4-ad4d6c687bfc"
      },
      "source": [
        "model = model.eval()\n",
        "DonutDataset.displayCanvas('test3layer10xConstantWidth.png',test_dataset, model = model)\n"
      ],
      "execution_count": 31,
      "outputs": [
        {
          "output_type": "display_data",
          "data": {
            "image/png": "[encoded data removed]",
            "text/plain": [
              "<Figure size 432x288 with 100 Axes>"
            ]
          },
          "metadata": {
            "tags": [],
            "needs_background": "light"
          }
        }
      ]
    },
    {
      "cell_type": "code",
      "metadata": {
        "colab": {
          "base_uri": "https://localhost:8080/"
        },
        "id": "w0ovtWpAxg35",
        "outputId": "c9e56d02-72fe-46fc-e2ad-dd8ed2826625"
      },
      "source": [
        "loss = None\n",
        "model = model.eval()\n",
        "total = 0.0\n",
        "count = 0.0\n",
        "for xin,yin in loader_test:\n",
        "  if xin.shape[0] != mini_batch:\n",
        "    print(xin.shape)\n",
        "    continue\n",
        "  xin = xin.cuda()\n",
        "  yin = yin.cuda()\n",
        "  out = model(xin)\n",
        "  assert out.shape == yin.shape\n",
        "  \n",
        "  loss = torch.mean((out-yin)**2)\n",
        "  count+=1.0\n",
        "  total+=loss.item()\n",
        "print('validation loss','\\t', (float)(total/count))\n"
      ],
      "execution_count": 32,
      "outputs": [
        {
          "output_type": "stream",
          "text": [
            "/usr/local/lib/python3.7/dist-packages/torch/utils/data/dataloader.py:477: UserWarning: This DataLoader will create 4 worker processes in total. Our suggested max number of worker in current system is 2, which is smaller than what this DataLoader is going to create. Please be aware that excessive worker creation might get DataLoader running slow or even freeze, lower the worker number to avoid potential slowness/freeze if necessary.\n",
            "  cpuset_checked))\n"
          ],
          "name": "stderr"
        },
        {
          "output_type": "stream",
          "text": [
            "torch.Size([36, 32, 32])\n",
            "validation loss \t 0.39177417755126953\n"
          ],
          "name": "stdout"
        }
      ]
    },
    {
      "cell_type": "code",
      "metadata": {
        "id": "unFXRD3PPwsn"
      },
      "source": [
        "import torch\n",
        "import torch.nn as nn\n",
        "from torch.hub import load_state_dict_from_url\n",
        "\n",
        "class MLP(nn.Module):\n",
        "    def __init__(self):\n",
        "        super(MLP, self).__init__()\n",
        "        self.input_dim = 1*32*32\n",
        "        self.output_dim = 2000\n",
        "        self.net = nn.Sequential(\n",
        "            nn.Linear(self.input_dim, 100*self.input_dim),\n",
        "            nn.ReLU(),\n",
        "            nn.Dropout(),\n",
        "            nn.Linear(100*self.input_dim, self.output_dim),\n",
        "            nn.Sigmoid()\n",
        "        )\n",
        "        \n",
        "        \n",
        "\n",
        "    def forward(self, x):\n",
        "\n",
        "      #x = x.squeeze()\n",
        "      if x.shape[0]!= mini_batch:\n",
        "        assert x.shape[0] == 32 and x.shape[1] == 32\n",
        "        x = x.unsqueeze(0)\n",
        "      x = torch.flatten(x,start_dim=1)\n",
        "      \n",
        "      #assert x.shape == (mini_batch,self.hidden_dim)\n",
        "      out = self.net(x)\n",
        "      out = out.reshape(x.shape[0],1000,2)\n",
        "      return 32.0*out\n"
      ],
      "execution_count": 33,
      "outputs": []
    },
    {
      "cell_type": "code",
      "metadata": {
        "id": "CnkTLigGQEN8"
      },
      "source": [
        "model = MLP().cuda()\n",
        "optimizer = torch.optim.Adam(model.parameters(),lr = 0.0001, betas = (.9,.999))\n"
      ],
      "execution_count": 34,
      "outputs": []
    },
    {
      "cell_type": "code",
      "metadata": {
        "colab": {
          "base_uri": "https://localhost:8080/"
        },
        "id": "Sq98XybWQIx1",
        "outputId": "9c9880a2-21f9-48fa-deae-743023b2057a"
      },
      "source": [
        "loss = None\n",
        "#model = model.train()\n",
        "for e in range(epoch):\n",
        "  for xin,yin in loader_train:\n",
        "    optimizer.zero_grad()\n",
        "    if xin.shape[0] != mini_batch:\n",
        "      print(xin.shape)\n",
        "      continue\n",
        "    xin = xin.cuda()\n",
        "    yin = yin.cuda()\n",
        "    out = model(xin)\n",
        "    assert out.shape == yin.shape\n",
        "    \n",
        "    loss = torch.mean((out-yin)**2)\n",
        "    loss.backward()\n",
        "    optimizer.step()\n",
        "  \n",
        "\n",
        "  print('epoch',e,'\\tTraining loss', loss.item())\n"
      ],
      "execution_count": 35,
      "outputs": [
        {
          "output_type": "stream",
          "text": [
            "/usr/local/lib/python3.7/dist-packages/torch/utils/data/dataloader.py:477: UserWarning: This DataLoader will create 4 worker processes in total. Our suggested max number of worker in current system is 2, which is smaller than what this DataLoader is going to create. Please be aware that excessive worker creation might get DataLoader running slow or even freeze, lower the worker number to avoid potential slowness/freeze if necessary.\n",
            "  cpuset_checked))\n"
          ],
          "name": "stderr"
        },
        {
          "output_type": "stream",
          "text": [
            "epoch 0 \tTraining loss 2.395268440246582\n",
            "epoch 1 \tTraining loss 1.1960355043411255\n",
            "epoch 2 \tTraining loss 0.8456118106842041\n",
            "epoch 3 \tTraining loss 0.6670902967453003\n",
            "epoch 4 \tTraining loss 0.5683469772338867\n",
            "epoch 5 \tTraining loss 0.45566511154174805\n",
            "epoch 6 \tTraining loss 0.30485615134239197\n",
            "epoch 7 \tTraining loss 0.24628274142742157\n",
            "epoch 8 \tTraining loss 0.21373780071735382\n",
            "epoch 9 \tTraining loss 0.2010052353143692\n",
            "epoch 10 \tTraining loss 0.1787949949502945\n",
            "epoch 11 \tTraining loss 0.17304621636867523\n",
            "epoch 12 \tTraining loss 0.1560828536748886\n",
            "epoch 13 \tTraining loss 0.1523178219795227\n",
            "epoch 14 \tTraining loss 0.1451234221458435\n",
            "epoch 15 \tTraining loss 0.1395755410194397\n",
            "epoch 16 \tTraining loss 0.13354088366031647\n",
            "epoch 17 \tTraining loss 0.12188050150871277\n",
            "epoch 18 \tTraining loss 0.12336140871047974\n",
            "epoch 19 \tTraining loss 0.11418367177248001\n",
            "epoch 20 \tTraining loss 0.11022262275218964\n",
            "epoch 21 \tTraining loss 0.1063397154211998\n",
            "epoch 22 \tTraining loss 0.10658838599920273\n",
            "epoch 23 \tTraining loss 0.09678589552640915\n",
            "epoch 24 \tTraining loss 0.0958261489868164\n",
            "epoch 25 \tTraining loss 0.09344353526830673\n",
            "epoch 26 \tTraining loss 0.09423071146011353\n",
            "epoch 27 \tTraining loss 0.0910782516002655\n",
            "epoch 28 \tTraining loss 0.08991125971078873\n",
            "epoch 29 \tTraining loss 0.08630195260047913\n",
            "epoch 30 \tTraining loss 0.08497018367052078\n",
            "epoch 31 \tTraining loss 0.08269989490509033\n",
            "epoch 32 \tTraining loss 0.08147640526294708\n",
            "epoch 33 \tTraining loss 0.08012021332979202\n",
            "epoch 34 \tTraining loss 0.07899952679872513\n",
            "epoch 35 \tTraining loss 0.07755276560783386\n",
            "epoch 36 \tTraining loss 0.07641907781362534\n",
            "epoch 37 \tTraining loss 0.0713753029704094\n",
            "epoch 38 \tTraining loss 0.07081121951341629\n",
            "epoch 39 \tTraining loss 0.0719415694475174\n"
          ],
          "name": "stdout"
        }
      ]
    },
    {
      "cell_type": "code",
      "metadata": {
        "id": "ewrku1rNQQsV"
      },
      "source": [
        "optimizer = torch.optim.Adam(model.parameters(),lr = 0.00001, betas = (.9,.999))\n"
      ],
      "execution_count": 36,
      "outputs": []
    },
    {
      "cell_type": "code",
      "metadata": {
        "colab": {
          "base_uri": "https://localhost:8080/"
        },
        "id": "SORj9jSsQqq1",
        "outputId": "ceede5cf-8dd9-4d85-92c3-60e71cfdd4b9"
      },
      "source": [
        "loss = None\n",
        "#model = model.train()\n",
        "for e in range(epoch):\n",
        "  for xin,yin in loader_train:\n",
        "    optimizer.zero_grad()\n",
        "    if xin.shape[0] != mini_batch:\n",
        "      print(xin.shape)\n",
        "      continue\n",
        "    xin = xin.cuda()\n",
        "    yin = yin.cuda()\n",
        "    out = model(xin)\n",
        "    assert out.shape == yin.shape\n",
        "    \n",
        "    loss = torch.mean((out-yin)**2)\n",
        "    loss.backward()\n",
        "    optimizer.step()\n",
        "    \n",
        "  print('epoch',e,'\\tTraining loss', loss.item())\n"
      ],
      "execution_count": 37,
      "outputs": [
        {
          "output_type": "stream",
          "text": [
            "/usr/local/lib/python3.7/dist-packages/torch/utils/data/dataloader.py:477: UserWarning: This DataLoader will create 4 worker processes in total. Our suggested max number of worker in current system is 2, which is smaller than what this DataLoader is going to create. Please be aware that excessive worker creation might get DataLoader running slow or even freeze, lower the worker number to avoid potential slowness/freeze if necessary.\n",
            "  cpuset_checked))\n"
          ],
          "name": "stderr"
        },
        {
          "output_type": "stream",
          "text": [
            "epoch 0 \tTraining loss 0.06833382695913315\n",
            "epoch 1 \tTraining loss 0.0666835606098175\n",
            "epoch 2 \tTraining loss 0.06417176872491837\n",
            "epoch 3 \tTraining loss 0.0646880492568016\n",
            "epoch 4 \tTraining loss 0.06292058527469635\n",
            "epoch 5 \tTraining loss 0.06007786840200424\n",
            "epoch 6 \tTraining loss 0.06187107786536217\n",
            "epoch 7 \tTraining loss 0.06051251292228699\n",
            "epoch 8 \tTraining loss 0.05768056586384773\n",
            "epoch 9 \tTraining loss 0.05648474022746086\n",
            "epoch 10 \tTraining loss 0.061918772757053375\n",
            "epoch 11 \tTraining loss 0.05719894915819168\n",
            "epoch 12 \tTraining loss 0.05823637172579765\n",
            "epoch 13 \tTraining loss 0.05566369742155075\n",
            "epoch 14 \tTraining loss 0.056548718363046646\n",
            "epoch 15 \tTraining loss 0.05896162614226341\n",
            "epoch 16 \tTraining loss 0.05612592399120331\n",
            "epoch 17 \tTraining loss 0.053975909948349\n",
            "epoch 18 \tTraining loss 0.053978901356458664\n",
            "epoch 19 \tTraining loss 0.053366389125585556\n",
            "epoch 20 \tTraining loss 0.05180950462818146\n",
            "epoch 21 \tTraining loss 0.05253712832927704\n",
            "epoch 22 \tTraining loss 0.050914209336042404\n",
            "epoch 23 \tTraining loss 0.05084829777479172\n",
            "epoch 24 \tTraining loss 0.05423418805003166\n",
            "epoch 25 \tTraining loss 0.05116713419556618\n",
            "epoch 26 \tTraining loss 0.04846474900841713\n",
            "epoch 27 \tTraining loss 0.04939091205596924\n",
            "epoch 28 \tTraining loss 0.0507354661822319\n",
            "epoch 29 \tTraining loss 0.04952988401055336\n",
            "epoch 30 \tTraining loss 0.04946974292397499\n",
            "epoch 31 \tTraining loss 0.0483621247112751\n",
            "epoch 32 \tTraining loss 0.04858113452792168\n",
            "epoch 33 \tTraining loss 0.04883940517902374\n",
            "epoch 34 \tTraining loss 0.048286665230989456\n",
            "epoch 35 \tTraining loss 0.04679250717163086\n",
            "epoch 36 \tTraining loss 0.04570708051323891\n",
            "epoch 37 \tTraining loss 0.0462888665497303\n",
            "epoch 38 \tTraining loss 0.04400257393717766\n",
            "epoch 39 \tTraining loss 0.04595154896378517\n"
          ],
          "name": "stdout"
        }
      ]
    },
    {
      "cell_type": "code",
      "metadata": {
        "colab": {
          "base_uri": "https://localhost:8080/",
          "height": 248
        },
        "id": "lymEA6zgQtBG",
        "outputId": "772368c9-d1b8-4721-da64-538d715e4463"
      },
      "source": [
        "DonutDataset.displayCanvas('test2layer100x.png',test_dataset, model = model)\n"
      ],
      "execution_count": 38,
      "outputs": [
        {
          "output_type": "display_data",
          "data": {
            "image/png": "[encoded data removed]",
            "text/plain": [
              "<Figure size 432x288 with 100 Axes>"
            ]
          },
          "metadata": {
            "tags": [],
            "needs_background": "light"
          }
        }
      ]
    },
    {
      "cell_type": "code",
      "metadata": {
        "colab": {
          "base_uri": "https://localhost:8080/"
        },
        "id": "jxUCFkvgteLY",
        "outputId": "f309be5c-f221-44d7-cccf-aa478ba02449"
      },
      "source": [
        "loss = None\n",
        "model = model.eval()\n",
        "total = 0.0\n",
        "count = 0.0\n",
        "for xin,yin in loader_test:\n",
        "  if xin.shape[0] != mini_batch:\n",
        "    print(xin.shape)\n",
        "    continue\n",
        "  xin = xin.cuda()\n",
        "  yin = yin.cuda()\n",
        "  out = model(xin)\n",
        "  assert out.shape == yin.shape\n",
        "  \n",
        "  loss = torch.mean((out-yin)**2)\n",
        "  count+=1.0\n",
        "  total+=loss.item()\n",
        "print('validation loss','\\t', (float)(total/count))\n"
      ],
      "execution_count": 39,
      "outputs": [
        {
          "output_type": "stream",
          "text": [
            "/usr/local/lib/python3.7/dist-packages/torch/utils/data/dataloader.py:477: UserWarning: This DataLoader will create 4 worker processes in total. Our suggested max number of worker in current system is 2, which is smaller than what this DataLoader is going to create. Please be aware that excessive worker creation might get DataLoader running slow or even freeze, lower the worker number to avoid potential slowness/freeze if necessary.\n",
            "  cpuset_checked))\n"
          ],
          "name": "stderr"
        },
        {
          "output_type": "stream",
          "text": [
            "torch.Size([36, 32, 32])\n",
            "validation loss \t 0.21251022815704346\n"
          ],
          "name": "stdout"
        }
      ]
    },
    {
      "cell_type": "code",
      "metadata": {
        "id": "F0xcF2hOvgKx"
      },
      "source": [
        "import torch\n",
        "import torch.nn as nn\n",
        "from torch.hub import load_state_dict_from_url\n",
        "\n",
        "class MLP(nn.Module):\n",
        "    def __init__(self):\n",
        "        super(MLP, self).__init__()\n",
        "        self.input_dim = 1*32*32\n",
        "        self.output_dim = 2000\n",
        "        self.net = nn.Sequential(\n",
        "            nn.Linear(self.input_dim, self.output_dim),\n",
        "            nn.Sigmoid()\n",
        "        )\n",
        "        \n",
        "        \n",
        "\n",
        "    def forward(self, x):\n",
        "        #x = x.squeeze()\n",
        "        if x.shape[0]!= mini_batch:\n",
        "          assert x.shape[0] == 32 and x.shape[1] == 32\n",
        "          x = x.unsqueeze(0)\n",
        "        x = torch.flatten(x,start_dim=1)\n",
        "        \n",
        "        #assert x.shape == (mini_batch,self.hidden_dim)\n",
        "        out = self.net(x)\n",
        "        out = out.reshape(x.shape[0],1000,2)\n",
        "        return 32.0*out\n"
      ],
      "execution_count": 40,
      "outputs": []
    },
    {
      "cell_type": "code",
      "metadata": {
        "id": "d2aNxt9v0eMr"
      },
      "source": [
        "model = MLP().cuda()\n",
        "optimizer = torch.optim.Adam(model.parameters(),lr = 0.0001, betas = (.9,.999))\n"
      ],
      "execution_count": 41,
      "outputs": []
    },
    {
      "cell_type": "code",
      "metadata": {
        "colab": {
          "base_uri": "https://localhost:8080/"
        },
        "id": "Ng7N0Bpc0euE",
        "outputId": "05edf526-c28e-4c91-ef78-d6bcfb5175be"
      },
      "source": [
        "loss = None\n",
        "model = model.train()\n",
        "for e in range(epoch):\n",
        "  for xin,yin in loader_train:\n",
        "    optimizer.zero_grad()\n",
        "    if xin.shape[0] != mini_batch:\n",
        "      print(xin.shape)\n",
        "      continue\n",
        "    xin = xin.cuda()\n",
        "    yin = yin.cuda()\n",
        "    out = model(xin)\n",
        "    assert out.shape == yin.shape\n",
        "    \n",
        "    loss = torch.mean((out-yin)**2)\n",
        "    loss.backward()\n",
        "    optimizer.step()\n",
        "    \n",
        "  print('epoch',e,'\\tTraining loss', loss.item())\n"
      ],
      "execution_count": 42,
      "outputs": [
        {
          "output_type": "stream",
          "text": [
            "/usr/local/lib/python3.7/dist-packages/torch/utils/data/dataloader.py:477: UserWarning: This DataLoader will create 4 worker processes in total. Our suggested max number of worker in current system is 2, which is smaller than what this DataLoader is going to create. Please be aware that excessive worker creation might get DataLoader running slow or even freeze, lower the worker number to avoid potential slowness/freeze if necessary.\n",
            "  cpuset_checked))\n"
          ],
          "name": "stderr"
        },
        {
          "output_type": "stream",
          "text": [
            "epoch 0 \tTraining loss 28.81912612915039\n",
            "epoch 1 \tTraining loss 17.594804763793945\n",
            "epoch 2 \tTraining loss 11.470170021057129\n",
            "epoch 3 \tTraining loss 7.601457595825195\n",
            "epoch 4 \tTraining loss 7.033586502075195\n",
            "epoch 5 \tTraining loss 5.928812026977539\n",
            "epoch 6 \tTraining loss 5.157736301422119\n",
            "epoch 7 \tTraining loss 4.47379207611084\n",
            "epoch 8 \tTraining loss 4.712771892547607\n",
            "epoch 9 \tTraining loss 4.921469688415527\n",
            "epoch 10 \tTraining loss 4.4927568435668945\n",
            "epoch 11 \tTraining loss 5.164187431335449\n",
            "epoch 12 \tTraining loss 4.752413272857666\n",
            "epoch 13 \tTraining loss 4.999860763549805\n",
            "epoch 14 \tTraining loss 3.811434268951416\n",
            "epoch 15 \tTraining loss 4.1274261474609375\n",
            "epoch 16 \tTraining loss 4.712552070617676\n",
            "epoch 17 \tTraining loss 3.856779098510742\n",
            "epoch 18 \tTraining loss 4.016477108001709\n",
            "epoch 19 \tTraining loss 4.508003234863281\n",
            "epoch 20 \tTraining loss 4.249686241149902\n",
            "epoch 21 \tTraining loss 4.1381707191467285\n",
            "epoch 22 \tTraining loss 3.997901439666748\n",
            "epoch 23 \tTraining loss 4.0722503662109375\n",
            "epoch 24 \tTraining loss 3.637173891067505\n",
            "epoch 25 \tTraining loss 3.82694149017334\n",
            "epoch 26 \tTraining loss 3.4785382747650146\n",
            "epoch 27 \tTraining loss 3.48160457611084\n",
            "epoch 28 \tTraining loss 3.3026630878448486\n",
            "epoch 29 \tTraining loss 3.7595245838165283\n",
            "epoch 30 \tTraining loss 3.649301052093506\n",
            "epoch 31 \tTraining loss 3.9984917640686035\n",
            "epoch 32 \tTraining loss 3.8067643642425537\n",
            "epoch 33 \tTraining loss 3.5433943271636963\n",
            "epoch 34 \tTraining loss 4.142635345458984\n",
            "epoch 35 \tTraining loss 3.225050926208496\n",
            "epoch 36 \tTraining loss 3.236750602722168\n",
            "epoch 37 \tTraining loss 3.403269052505493\n",
            "epoch 38 \tTraining loss 2.9559850692749023\n",
            "epoch 39 \tTraining loss 3.215707302093506\n"
          ],
          "name": "stdout"
        }
      ]
    },
    {
      "cell_type": "code",
      "metadata": {
        "id": "gp0m_bdl0pP6"
      },
      "source": [
        "optimizer = torch.optim.Adam(model.parameters(),lr = 0.00001, betas = (.9,.999))\n"
      ],
      "execution_count": 43,
      "outputs": []
    },
    {
      "cell_type": "code",
      "metadata": {
        "colab": {
          "base_uri": "https://localhost:8080/"
        },
        "id": "VS5_Yz5Q0sKy",
        "outputId": "8b1d04d0-5965-4c70-da20-5f1437dd6743"
      },
      "source": [
        "loss = None\n",
        "model = model.train()\n",
        "for e in range(epoch):\n",
        "  for xin,yin in loader_train:\n",
        "    optimizer.zero_grad()\n",
        "    if xin.shape[0] != mini_batch:\n",
        "      print(xin.shape)\n",
        "      continue\n",
        "    xin = xin.cuda()\n",
        "    yin = yin.cuda()\n",
        "    out = model(xin)\n",
        "    assert out.shape == yin.shape\n",
        "    \n",
        "    loss = torch.mean((out-yin)**2)\n",
        "    loss.backward()\n",
        "    optimizer.step()\n",
        "    \n",
        "  print('epoch',e,'\\tTraining loss', loss.item())\n"
      ],
      "execution_count": 44,
      "outputs": [
        {
          "output_type": "stream",
          "text": [
            "/usr/local/lib/python3.7/dist-packages/torch/utils/data/dataloader.py:477: UserWarning: This DataLoader will create 4 worker processes in total. Our suggested max number of worker in current system is 2, which is smaller than what this DataLoader is going to create. Please be aware that excessive worker creation might get DataLoader running slow or even freeze, lower the worker number to avoid potential slowness/freeze if necessary.\n",
            "  cpuset_checked))\n"
          ],
          "name": "stderr"
        },
        {
          "output_type": "stream",
          "text": [
            "epoch 0 \tTraining loss 2.9082746505737305\n",
            "epoch 1 \tTraining loss 4.2840495109558105\n",
            "epoch 2 \tTraining loss 3.9400408267974854\n",
            "epoch 3 \tTraining loss 3.5686447620391846\n",
            "epoch 4 \tTraining loss 2.873793601989746\n",
            "epoch 5 \tTraining loss 3.644235610961914\n",
            "epoch 6 \tTraining loss 3.196549654006958\n",
            "epoch 7 \tTraining loss 3.237055778503418\n",
            "epoch 8 \tTraining loss 3.448845863342285\n",
            "epoch 9 \tTraining loss 3.4348161220550537\n",
            "epoch 10 \tTraining loss 3.2465505599975586\n",
            "epoch 11 \tTraining loss 3.041877508163452\n",
            "epoch 12 \tTraining loss 3.420417547225952\n",
            "epoch 13 \tTraining loss 3.16498064994812\n",
            "epoch 14 \tTraining loss 3.060641288757324\n",
            "epoch 15 \tTraining loss 3.7945282459259033\n",
            "epoch 16 \tTraining loss 3.3008742332458496\n",
            "epoch 17 \tTraining loss 3.5628445148468018\n",
            "epoch 18 \tTraining loss 3.049729824066162\n",
            "epoch 19 \tTraining loss 2.9394800662994385\n",
            "epoch 20 \tTraining loss 3.219986915588379\n",
            "epoch 21 \tTraining loss 3.2850019931793213\n",
            "epoch 22 \tTraining loss 3.3091750144958496\n",
            "epoch 23 \tTraining loss 3.1881117820739746\n",
            "epoch 24 \tTraining loss 3.243987560272217\n",
            "epoch 25 \tTraining loss 3.966925621032715\n",
            "epoch 26 \tTraining loss 3.170677900314331\n",
            "epoch 27 \tTraining loss 2.886827230453491\n",
            "epoch 28 \tTraining loss 2.726172924041748\n",
            "epoch 29 \tTraining loss 3.6503918170928955\n",
            "epoch 30 \tTraining loss 2.769399404525757\n",
            "epoch 31 \tTraining loss 2.6554858684539795\n",
            "epoch 32 \tTraining loss 3.1088967323303223\n",
            "epoch 33 \tTraining loss 3.3491833209991455\n",
            "epoch 34 \tTraining loss 3.4232945442199707\n",
            "epoch 35 \tTraining loss 3.1853127479553223\n",
            "epoch 36 \tTraining loss 3.1578450202941895\n",
            "epoch 37 \tTraining loss 2.96545672416687\n",
            "epoch 38 \tTraining loss 3.168731212615967\n",
            "epoch 39 \tTraining loss 3.216907262802124\n"
          ],
          "name": "stdout"
        }
      ]
    },
    {
      "cell_type": "code",
      "metadata": {
        "colab": {
          "base_uri": "https://localhost:8080/",
          "height": 248
        },
        "id": "TD1CvtCm0vHb",
        "outputId": "6e54236d-0c37-4653-d191-0188137c935a"
      },
      "source": [
        "model = model.eval()\n",
        "DonutDataset.displayCanvas('test1layer.png',test_dataset, model = model)\n"
      ],
      "execution_count": 45,
      "outputs": [
        {
          "output_type": "display_data",
          "data": {
            "image/png": "[encoded data removed]",
            "text/plain": [
              "<Figure size 432x288 with 100 Axes>"
            ]
          },
          "metadata": {
            "tags": [],
            "needs_background": "light"
          }
        }
      ]
    },
    {
      "cell_type": "code",
      "metadata": {
        "colab": {
          "base_uri": "https://localhost:8080/"
        },
        "id": "6ynTC-Ie060-",
        "outputId": "00a306e4-5c82-44fc-9e72-f078dd1ab4fb"
      },
      "source": [
        "loss = None\n",
        "model = model.eval()\n",
        "total = 0.0\n",
        "count = 0.0\n",
        "for xin,yin in loader_test:\n",
        "  if xin.shape[0] != mini_batch:\n",
        "    print(xin.shape)\n",
        "    continue\n",
        "  xin = xin.cuda()\n",
        "  yin = yin.cuda()\n",
        "  out = model(xin)\n",
        "  assert out.shape == yin.shape\n",
        "  \n",
        "  loss = torch.mean((out-yin)**2)\n",
        "  count+=1.0\n",
        "  total+=loss.item()\n",
        "print('validation loss','\\t', (float)(total/count))\n"
      ],
      "execution_count": 46,
      "outputs": [
        {
          "output_type": "stream",
          "text": [
            "/usr/local/lib/python3.7/dist-packages/torch/utils/data/dataloader.py:477: UserWarning: This DataLoader will create 4 worker processes in total. Our suggested max number of worker in current system is 2, which is smaller than what this DataLoader is going to create. Please be aware that excessive worker creation might get DataLoader running slow or even freeze, lower the worker number to avoid potential slowness/freeze if necessary.\n",
            "  cpuset_checked))\n"
          ],
          "name": "stderr"
        },
        {
          "output_type": "stream",
          "text": [
            "torch.Size([36, 32, 32])\n",
            "validation loss \t 3.5052969455718994\n"
          ],
          "name": "stdout"
        }
      ]
    },
    {
      "cell_type": "code",
      "metadata": {
        "colab": {
          "base_uri": "https://localhost:8080/",
          "height": 282
        },
        "id": "53PvZwHk1Cfg",
        "outputId": "dba3bdde-4d39-4732-e9c5-216c240ac81a"
      },
      "source": [
        "#add donut here\n",
        "import torch\n",
        "import numpy as np\n",
        "import pylab as plt\n",
        "from skimage import filters\n",
        "import math\n",
        "\n",
        "global numpoints\n",
        "numpoints = 1000\n",
        "side = 32\n",
        "\n",
        "rows = torch.zeros(32,32)\n",
        "columns = torch.zeros(32,32)\n",
        "\n",
        "\n",
        "for i in range(32):\n",
        "    columns[:,i] = i\n",
        "    rows[i,:] = i\n",
        "\n",
        "\n",
        "def f8_matrix(length = 10):\n",
        "    \n",
        "    canvas = torch.zeros((length,side, side))\n",
        "    x = torch.zeros((length,numpoints))\n",
        "    y = torch.zeros((length,numpoints))\n",
        "        \n",
        "    ###\n",
        "\n",
        "    for i in range(length):\n",
        "      t = torch.linspace(0,2*3.14159,numpoints)\n",
        "      x[i,:] = t.cos()\n",
        "      y[i,:] = t.sin()*t.cos()\n",
        "\n",
        "      WIDTH = 14\n",
        "      randMultx = np.random.uniform(8.0,WIDTH-.1)\n",
        "      randMulty = np.random.uniform(8.0,WIDTH-.1)\n",
        "\n",
        "      maxaddx = WIDTH-randMultx\n",
        "      maxaddy = 3.0+WIDTH-randMulty\n",
        "      \n",
        "      assert maxaddx >0\n",
        "      assert maxaddy >0\n",
        "\n",
        "      randAddx = np.random.uniform(-maxaddx,maxaddx)\n",
        "      randAddy = np.random.uniform(-maxaddy,maxaddy)\n",
        "\n",
        "      randMultSinx = np.random.uniform(.25,.5)\n",
        "      randMultSiny = np.random.uniform(.25,.5)\n",
        "      randMultFreqSinx = np.random.uniform(10.0,20.0)\n",
        "      randMultFreqSiny = np.random.uniform(10.0,20.0)\n",
        "      #randAddSinx = np.random.uniform(0.0,1.0)\n",
        "      #randAddSiny = np.random.uniform(0.0,1.0)\n",
        "      xsin = randMultSiny*((t*randMultFreqSinx).sin())#+randAddSinx\n",
        "      ysin = randMultSiny*((t*randMultFreqSiny).sin())#+randAddSiny\n",
        "      #print('maxxsin',torch.max(xsin))\n",
        "      x[i,:] = (x[i,:]*randMultx)+16+randAddx+xsin\n",
        "      y[i,:] = (y[i,:]*randMulty)+16+randAddy+ysin\n",
        "  \n",
        "    assert torch.max(x).item() < 32\n",
        "    assert torch.min(x).item() > 0\n",
        "    assert torch.max(y).item() < 32\n",
        "    assert torch.min(y).item() > 0\n",
        "    \n",
        "    print(\"max min x\",torch.max(x),torch.min(x))\n",
        "    print(\"max min y\",torch.max(y),torch.min(y))\n",
        "    ###\n",
        "    \n",
        "    assert x.shape == (length,numpoints)\n",
        "    assert y.shape == (length,numpoints)\n",
        "    assert torch.sum(x[x>(side-1)])==0 \n",
        "    assert torch.sum(x[x<0])==0 \n",
        "    assert torch.sum(y[y>(side-1)])==0 \n",
        "    assert torch.sum(y[y<0])==0 \n",
        "    \n",
        "    points = torch.zeros(length,numpoints,2)\n",
        "    for l in range(length):\n",
        "        canvas[l,y[l,:].type(torch.LongTensor),x[l,:].type(torch.LongTensor)]=1.0\n",
        "        points[l,:,0] = x[l,:]#modified for lstm discriminator\n",
        "        points[l,:,1] = y[l,:]#modified for lstm discriminator \n",
        "    \n",
        "    \n",
        "    return {\n",
        "        'canvas': canvas, \n",
        "        'points':points.type(torch.FloatTensor)}\n",
        "\n",
        "\n",
        "def plot_all_f8( sample = None, model = None, labels = None):\n",
        "    img = sample[:,:].squeeze().cpu().numpy()\n",
        "    plt.imshow(img, cmap=plt.cm.gray_r)\n",
        "    if model != None:\n",
        "        with torch.no_grad():\n",
        "            global numpoints\n",
        "\n",
        "            pred = model(sample)\n",
        "            predres = numpoints\n",
        "            X = pred[0,:,0]\n",
        "            Y = pred[0,:,1]\n",
        "            \n",
        "            s = [.01 for x in range(predres)]\n",
        "            \n",
        "            assert len(s) == predres\n",
        "            c = ['red' for x in range(predres)]\n",
        "            assert len(c) == predres\n",
        "            Y = Y.cuda()\n",
        "            X = X.cuda()\n",
        "            plt.plot(X.cpu(),Y.cpu(),',-',c='red', ms=.1, lw=0.1) \n",
        "\n",
        "    else:\n",
        "        X = labels[:,0]\n",
        "        Y = labels[:,1]\n",
        "        s = [.0001 for x in range(numpoints)]\n",
        "        c = ['red' for x in range(numpoints)]\n",
        "        plt.plot(X.cpu(),Y.cpu(),',-',c='red',  ms=.1, lw=0.1) \n",
        "\n",
        "\n",
        "class Figure8Dataset(torch.utils.data.Dataset):\n",
        "    def __init__(self, length = 10):\n",
        "        self.length = length\n",
        "        self.values = f8_matrix(length)\n",
        "        assert self.values['canvas'].shape[0] == self.length\n",
        "        assert self.values['points'].shape[0] == self.length\n",
        "        \n",
        "        count = 0\n",
        "        for i in range(self.length):\n",
        "          a = self[i]\n",
        "          c = a[0]\n",
        "          for el in a[1]:\n",
        "            y,x = (int)(el[1]),(int)(el[0])\n",
        "            if x < side-2 and x > 2 and y < side-2 and y > 2: \n",
        "              if c[y,x] != 1 and \\\n",
        "                c[y+1,x] != 1 and c[y+1,-1+x] != 1 and c[y+1,1+x] != 1 and \\\n",
        "                c[y-1,x] != 1 and c[y,-1+x] != 1 and c[y,1+x] != 1:\n",
        "                count+=1\n",
        "        assert count ==0\n",
        "\n",
        "\n",
        "    def __len__(self):\n",
        "        return self.length\n",
        "\n",
        "\n",
        "    def __getitem__(self, idx):\n",
        "        canvas = self.values[\"canvas\"]\n",
        "        canvas = canvas[idx,:,:]\n",
        "        assert canvas.shape == (side,side)\n",
        "        points = self.values[\"points\"]\n",
        "        points = points[idx,:]\n",
        "        \n",
        "        return canvas, points\n",
        "    \n",
        "    @staticmethod\n",
        "    def displayCanvas(title,dataset, model):\n",
        "        for i in range(100):\n",
        "            sample, labels = dataset[i]\n",
        "            plt.subplot(10,10,i+1)\n",
        "            plot_all_f8(sample = sample,model=model, labels = labels)\n",
        "            plt.axis('off')\n",
        "        plt.savefig(title,dpi=600)\n",
        "        \n",
        "dataset = Figure8Dataset(length = 100)\n",
        "\n",
        "Figure8Dataset.displayCanvas('donut.png',dataset, model = None)"
      ],
      "execution_count": 49,
      "outputs": [
        {
          "output_type": "stream",
          "text": [
            "max min x tensor(30.3238) tensor(1.6751)\n",
            "max min y tensor(28.6029) tensor(3.1037)\n"
          ],
          "name": "stdout"
        },
        {
          "output_type": "display_data",
          "data": {
            "image/png": "[encoded data removed]",
            "text/plain": [
              "<Figure size 432x288 with 100 Axes>"
            ]
          },
          "metadata": {
            "tags": [],
            "needs_background": "light"
          }
        }
      ]
    },
    {
      "cell_type": "code",
      "metadata": {
        "colab": {
          "base_uri": "https://localhost:8080/"
        },
        "id": "Q0Ts2ifxHsTu",
        "outputId": "4b756209-9ff5-4c8c-e3ab-c45d70d91223"
      },
      "source": [
        "from torch.utils import data\n",
        "from torch.utils.data import DataLoader, TensorDataset, RandomSampler\n",
        "\n",
        "mini_batch = 64\n",
        "test_dataset = Figure8Dataset(length=64)\n",
        "loader_test = data.DataLoader(\n",
        "    test_dataset, \n",
        "    batch_size=mini_batch,\n",
        "    sampler=RandomSampler(data_source=test_dataset),\n",
        "    num_workers=4)\n"
      ],
      "execution_count": 64,
      "outputs": [
        {
          "output_type": "stream",
          "text": [
            "max min x tensor(30.3091) tensor(1.7672)\n",
            "max min y tensor(28.1932) tensor(3.5385)\n"
          ],
          "name": "stdout"
        },
        {
          "output_type": "stream",
          "text": [
            "/usr/local/lib/python3.7/dist-packages/torch/utils/data/dataloader.py:477: UserWarning: This DataLoader will create 4 worker processes in total. Our suggested max number of worker in current system is 2, which is smaller than what this DataLoader is going to create. Please be aware that excessive worker creation might get DataLoader running slow or even freeze, lower the worker number to avoid potential slowness/freeze if necessary.\n",
            "  cpuset_checked))\n"
          ],
          "name": "stderr"
        }
      ]
    },
    {
      "cell_type": "code",
      "metadata": {
        "colab": {
          "base_uri": "https://localhost:8080/"
        },
        "id": "ufgz6dqRH83W",
        "outputId": "17c737d7-ef61-4366-91a5-17b0e5f7c94a"
      },
      "source": [
        "from torch.utils import data\n",
        "from torch.utils.data import DataLoader, TensorDataset, RandomSampler\n",
        "dataset = None\n",
        "mini_batch = 64\n",
        "train_dataset = Figure8Dataset(length=64*20)\n",
        "loader_train = data.DataLoader(\n",
        "    train_dataset, \n",
        "    batch_size=mini_batch,\n",
        "    sampler=RandomSampler(data_source=train_dataset),\n",
        "    num_workers=4)\n"
      ],
      "execution_count": 54,
      "outputs": [
        {
          "output_type": "stream",
          "text": [
            "max min x tensor(30.4383) tensor(1.5275)\n",
            "max min y tensor(29.3496) tensor(2.9127)\n"
          ],
          "name": "stdout"
        },
        {
          "output_type": "stream",
          "text": [
            "/usr/local/lib/python3.7/dist-packages/torch/utils/data/dataloader.py:477: UserWarning: This DataLoader will create 4 worker processes in total. Our suggested max number of worker in current system is 2, which is smaller than what this DataLoader is going to create. Please be aware that excessive worker creation might get DataLoader running slow or even freeze, lower the worker number to avoid potential slowness/freeze if necessary.\n",
            "  cpuset_checked))\n"
          ],
          "name": "stderr"
        }
      ]
    },
    {
      "cell_type": "code",
      "metadata": {
        "id": "ztuUwUplGaOo"
      },
      "source": [
        "import torch\n",
        "import torch.nn as nn\n",
        "from torch.hub import load_state_dict_from_url\n",
        "\n",
        "class MLP(nn.Module):\n",
        "    def __init__(self):\n",
        "        super(MLP, self).__init__()\n",
        "        self.input_dim = 1*32*32\n",
        "        self.output_dim = 2000\n",
        "        self.net = nn.Sequential(\n",
        "            nn.Linear(self.input_dim, 100*self.input_dim),\n",
        "            nn.ReLU(),\n",
        "            nn.Dropout(),\n",
        "            nn.Linear(100*self.input_dim, self.output_dim),\n",
        "            nn.Sigmoid()\n",
        "        )\n",
        "        \n",
        "        \n",
        "\n",
        "    def forward(self, x):\n",
        "\n",
        "      #x = x.squeeze()\n",
        "      if x.shape[0]!= mini_batch:\n",
        "        assert x.shape[0] == 32 and x.shape[1] == 32\n",
        "        x = x.unsqueeze(0)\n",
        "      x = torch.flatten(x,start_dim=1)\n",
        "      \n",
        "      #assert x.shape == (mini_batch,self.hidden_dim)\n",
        "      out = self.net(x)\n",
        "      out = out.reshape(x.shape[0],1000,2)\n",
        "      return 32.0*out\n"
      ],
      "execution_count": 55,
      "outputs": []
    },
    {
      "cell_type": "code",
      "metadata": {
        "id": "z4yfhQsXHV5o"
      },
      "source": [
        "model = MLP().cuda()\n"
      ],
      "execution_count": 56,
      "outputs": []
    },
    {
      "cell_type": "code",
      "metadata": {
        "id": "TcVfxjpfHYNI"
      },
      "source": [
        "optimizer = torch.optim.Adam(model.parameters(),lr = .0001, betas = (0.9,0.999))"
      ],
      "execution_count": 57,
      "outputs": []
    },
    {
      "cell_type": "code",
      "metadata": {
        "colab": {
          "base_uri": "https://localhost:8080/"
        },
        "id": "28I-cWqSHhUY",
        "outputId": "fb3fac70-d27d-4c57-e199-1572d135e743"
      },
      "source": [
        "loss = None\n",
        "model = model.train()\n",
        "for e in range(epoch):\n",
        "  for xin,yin in loader_train:\n",
        "    optimizer.zero_grad()\n",
        "    if xin.shape[0] != mini_batch:\n",
        "      print(xin.shape)\n",
        "      continue\n",
        "    xin = xin.cuda()\n",
        "    yin = yin.cuda()\n",
        "    out = model(xin)\n",
        "    assert out.shape == yin.shape\n",
        "    \n",
        "    loss = torch.mean((out-yin)**2)\n",
        "    loss.backward()\n",
        "    optimizer.step()\n",
        "    \n",
        "  print('epoch',e,'\\tTraining loss', loss.item())\n"
      ],
      "execution_count": 58,
      "outputs": [
        {
          "output_type": "stream",
          "text": [
            "/usr/local/lib/python3.7/dist-packages/torch/utils/data/dataloader.py:477: UserWarning: This DataLoader will create 4 worker processes in total. Our suggested max number of worker in current system is 2, which is smaller than what this DataLoader is going to create. Please be aware that excessive worker creation might get DataLoader running slow or even freeze, lower the worker number to avoid potential slowness/freeze if necessary.\n",
            "  cpuset_checked))\n"
          ],
          "name": "stderr"
        },
        {
          "output_type": "stream",
          "text": [
            "epoch 0 \tTraining loss 2.628714084625244\n",
            "epoch 1 \tTraining loss 1.038686990737915\n",
            "epoch 2 \tTraining loss 0.4739589989185333\n",
            "epoch 3 \tTraining loss 0.31989142298698425\n",
            "epoch 4 \tTraining loss 0.2502354383468628\n",
            "epoch 5 \tTraining loss 0.22466032207012177\n",
            "epoch 6 \tTraining loss 0.1879282295703888\n",
            "epoch 7 \tTraining loss 0.1829470992088318\n",
            "epoch 8 \tTraining loss 0.16248932480812073\n",
            "epoch 9 \tTraining loss 0.16052891314029694\n",
            "epoch 10 \tTraining loss 0.14086607098579407\n",
            "epoch 11 \tTraining loss 0.13754144310951233\n",
            "epoch 12 \tTraining loss 0.13528114557266235\n",
            "epoch 13 \tTraining loss 0.12501050531864166\n",
            "epoch 14 \tTraining loss 0.12135732173919678\n",
            "epoch 15 \tTraining loss 0.12232127040624619\n",
            "epoch 16 \tTraining loss 0.11329488456249237\n",
            "epoch 17 \tTraining loss 0.11072513461112976\n",
            "epoch 18 \tTraining loss 0.10963425040245056\n",
            "epoch 19 \tTraining loss 0.1044316440820694\n",
            "epoch 20 \tTraining loss 0.10304673761129379\n",
            "epoch 21 \tTraining loss 0.09434691071510315\n",
            "epoch 22 \tTraining loss 0.09391949325799942\n",
            "epoch 23 \tTraining loss 0.090667724609375\n",
            "epoch 24 \tTraining loss 0.09095565974712372\n",
            "epoch 25 \tTraining loss 0.08759114146232605\n",
            "epoch 26 \tTraining loss 0.08529949933290482\n",
            "epoch 27 \tTraining loss 0.08150440454483032\n",
            "epoch 28 \tTraining loss 0.0829416811466217\n",
            "epoch 29 \tTraining loss 0.08284682035446167\n",
            "epoch 30 \tTraining loss 0.0816238522529602\n",
            "epoch 31 \tTraining loss 0.0841047465801239\n",
            "epoch 32 \tTraining loss 0.07760047167539597\n",
            "epoch 33 \tTraining loss 0.07668375968933105\n",
            "epoch 34 \tTraining loss 0.0724947527050972\n",
            "epoch 35 \tTraining loss 0.07164470106363297\n",
            "epoch 36 \tTraining loss 0.07241421937942505\n",
            "epoch 37 \tTraining loss 0.07005270570516586\n",
            "epoch 38 \tTraining loss 0.06953460723161697\n",
            "epoch 39 \tTraining loss 0.06862908601760864\n"
          ],
          "name": "stdout"
        }
      ]
    },
    {
      "cell_type": "code",
      "metadata": {
        "id": "frlPpvoUIxYd"
      },
      "source": [
        "optimizer = torch.optim.Adam(model.parameters(),lr = .00001, betas = (0.9,0.999))"
      ],
      "execution_count": 59,
      "outputs": []
    },
    {
      "cell_type": "code",
      "metadata": {
        "colab": {
          "base_uri": "https://localhost:8080/"
        },
        "id": "Jx0lQSjKI0u2",
        "outputId": "22cf071c-2dae-49d4-a5b7-fe872d933032"
      },
      "source": [
        "loss = None\n",
        "model = model.train()\n",
        "for e in range(epoch):\n",
        "  for xin,yin in loader_train:\n",
        "    optimizer.zero_grad()\n",
        "    if xin.shape[0] != mini_batch:\n",
        "      print(xin.shape)\n",
        "      continue\n",
        "    xin = xin.cuda()\n",
        "    yin = yin.cuda()\n",
        "    out = model(xin)\n",
        "    assert out.shape == yin.shape\n",
        "    \n",
        "    loss = torch.mean((out-yin)**2)\n",
        "    loss.backward()\n",
        "    optimizer.step()\n",
        "    \n",
        "  print('epoch',e,'\\tTraining loss', loss.item())\n"
      ],
      "execution_count": 60,
      "outputs": [
        {
          "output_type": "stream",
          "text": [
            "/usr/local/lib/python3.7/dist-packages/torch/utils/data/dataloader.py:477: UserWarning: This DataLoader will create 4 worker processes in total. Our suggested max number of worker in current system is 2, which is smaller than what this DataLoader is going to create. Please be aware that excessive worker creation might get DataLoader running slow or even freeze, lower the worker number to avoid potential slowness/freeze if necessary.\n",
            "  cpuset_checked))\n"
          ],
          "name": "stderr"
        },
        {
          "output_type": "stream",
          "text": [
            "epoch 0 \tTraining loss 0.06702347099781036\n",
            "epoch 1 \tTraining loss 0.05887053906917572\n",
            "epoch 2 \tTraining loss 0.05762111768126488\n",
            "epoch 3 \tTraining loss 0.0569140762090683\n",
            "epoch 4 \tTraining loss 0.05824863910675049\n",
            "epoch 5 \tTraining loss 0.05413198471069336\n",
            "epoch 6 \tTraining loss 0.054606981575489044\n",
            "epoch 7 \tTraining loss 0.05298895761370659\n",
            "epoch 8 \tTraining loss 0.051734454929828644\n",
            "epoch 9 \tTraining loss 0.051280274987220764\n",
            "epoch 10 \tTraining loss 0.05129499360918999\n",
            "epoch 11 \tTraining loss 0.051823798567056656\n",
            "epoch 12 \tTraining loss 0.050840120762586594\n",
            "epoch 13 \tTraining loss 0.04869033023715019\n",
            "epoch 14 \tTraining loss 0.04933761805295944\n",
            "epoch 15 \tTraining loss 0.049864090979099274\n",
            "epoch 16 \tTraining loss 0.04915556311607361\n",
            "epoch 17 \tTraining loss 0.046262308955192566\n",
            "epoch 18 \tTraining loss 0.04717012122273445\n",
            "epoch 19 \tTraining loss 0.046353790909051895\n",
            "epoch 20 \tTraining loss 0.046393983066082\n",
            "epoch 21 \tTraining loss 0.04541775956749916\n",
            "epoch 22 \tTraining loss 0.04515691474080086\n",
            "epoch 23 \tTraining loss 0.04647965356707573\n",
            "epoch 24 \tTraining loss 0.04520462080836296\n",
            "epoch 25 \tTraining loss 0.04455704987049103\n",
            "epoch 26 \tTraining loss 0.0468074306845665\n",
            "epoch 27 \tTraining loss 0.04419193044304848\n",
            "epoch 28 \tTraining loss 0.044734712690114975\n",
            "epoch 29 \tTraining loss 0.04287078604102135\n",
            "epoch 30 \tTraining loss 0.04379500076174736\n",
            "epoch 31 \tTraining loss 0.042431361973285675\n",
            "epoch 32 \tTraining loss 0.04039367660880089\n",
            "epoch 33 \tTraining loss 0.04073787108063698\n",
            "epoch 34 \tTraining loss 0.04074617847800255\n",
            "epoch 35 \tTraining loss 0.04001898318529129\n",
            "epoch 36 \tTraining loss 0.04125020280480385\n",
            "epoch 37 \tTraining loss 0.040948640555143356\n",
            "epoch 38 \tTraining loss 0.03906059265136719\n",
            "epoch 39 \tTraining loss 0.041593875735998154\n"
          ],
          "name": "stdout"
        }
      ]
    },
    {
      "cell_type": "code",
      "metadata": {
        "colab": {
          "base_uri": "https://localhost:8080/",
          "height": 336
        },
        "id": "MaJ5XQcmI30k",
        "outputId": "66fcc038-140a-47f5-b9f0-1bf45bcf57a2"
      },
      "source": [
        "from scipy.interpolate import splprep, splev\n",
        "from numpy import arange, cos, linspace, pi, sin, random\n",
        "\n",
        "#display fits on validation set\n",
        "xgt = None\n",
        "ygt = None\n",
        "\n",
        "out = None\n",
        "\n",
        "\n",
        "for xin,yin in loader_test:\n",
        "  out = model(xin.cuda())\n",
        "  out = out.reshape(yin[:,:,:2].shape)\n",
        "  xgt = yin[:,:,0]\n",
        "  ygt = yin[:,:,1]\n",
        "out = out[2,:,:]\n",
        "xpred = out[:,0].detach()\n",
        "ypred = out[:,1].detach()\n",
        "print(out.shape)\n",
        "xgt=xgt[2,:]\n",
        "ygt=ygt[2,:]\n",
        "\n",
        "t=np.linspace(0,1,1000)\n",
        "z = t\n",
        "\n",
        "# spline parameters\n",
        "s=75 # smoothness parameter\n",
        "k=3 # spline order\n",
        "nest=-1 # estimate of number of knots needed (-1 = maximal)\n",
        "\n",
        "# find the knot points\n",
        "tck,u = splprep([xpred.cpu().numpy(),ypred.cpu().numpy(),z],s=s,k=k,nest=-1)\n",
        "\n",
        "# evaluate spline, including interpolated points\n",
        "xnew,ynew,znew = splev(linspace(0,1,4000),tck)\n",
        "\n",
        "ascatter = plt.scatter(xnew,ynew,s=10,c='red')\n",
        "ascatter = plt.scatter(xgt.cpu().numpy(),ygt.cpu().numpy(),s=10,c='black')\n",
        "ascatter = plt.scatter(tck[1][0],tck[1][1],s=1)\n",
        "plt.gca().add_artist(ascatter)\n",
        "plt.savefig('figure8fit.png', dpi=600)"
      ],
      "execution_count": 66,
      "outputs": [
        {
          "output_type": "stream",
          "text": [
            "/usr/local/lib/python3.7/dist-packages/torch/utils/data/dataloader.py:477: UserWarning: This DataLoader will create 4 worker processes in total. Our suggested max number of worker in current system is 2, which is smaller than what this DataLoader is going to create. Please be aware that excessive worker creation might get DataLoader running slow or even freeze, lower the worker number to avoid potential slowness/freeze if necessary.\n",
            "  cpuset_checked))\n"
          ],
          "name": "stderr"
        },
        {
          "output_type": "stream",
          "text": [
            "torch.Size([1000, 2])\n"
          ],
          "name": "stdout"
        },
        {
          "output_type": "display_data",
          "data": {
            "image/png": "[encoded data removed]",
            "text/plain": [
              "<Figure size 432x288 with 1 Axes>"
            ]
          },
          "metadata": {
            "tags": [],
            "needs_background": "light"
          }
        }
      ]
    },
    {
      "cell_type": "code",
      "metadata": {
        "colab": {
          "base_uri": "https://localhost:8080/"
        },
        "id": "LqLuWn-GJXOj",
        "outputId": "f6be53a3-a71f-4f2f-fc0b-31aa407cfc5e"
      },
      "source": [
        "loss = None\n",
        "model = model.eval()\n",
        "total = 0.0\n",
        "count = 0.0\n",
        "for xin,yin in loader_test:\n",
        "  if xin.shape[0] != mini_batch:\n",
        "    print(xin.shape)\n",
        "    continue\n",
        "  xin = xin.cuda()\n",
        "  yin = yin.cuda()\n",
        "  out = model(xin)\n",
        "  assert out.shape == yin.shape\n",
        "  \n",
        "  loss = torch.mean((out-yin)**2)\n",
        "  count+=1.0\n",
        "  total+=loss.item()\n",
        "print('validation loss','\\t', (float)(total/count))\n"
      ],
      "execution_count": 67,
      "outputs": [
        {
          "output_type": "stream",
          "text": [
            "/usr/local/lib/python3.7/dist-packages/torch/utils/data/dataloader.py:477: UserWarning: This DataLoader will create 4 worker processes in total. Our suggested max number of worker in current system is 2, which is smaller than what this DataLoader is going to create. Please be aware that excessive worker creation might get DataLoader running slow or even freeze, lower the worker number to avoid potential slowness/freeze if necessary.\n",
            "  cpuset_checked))\n"
          ],
          "name": "stderr"
        },
        {
          "output_type": "stream",
          "text": [
            "validation loss \t 0.3192458152770996\n"
          ],
          "name": "stdout"
        }
      ]
    },
    {
      "cell_type": "code",
      "metadata": {
        "id": "_V9Wd6AOMAZ7"
      },
      "source": [
        ""
      ],
      "execution_count": null,
      "outputs": []
    }
  ]
}