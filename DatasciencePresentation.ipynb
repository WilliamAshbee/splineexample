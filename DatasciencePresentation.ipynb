{
  "nbformat": 4,
  "nbformat_minor": 0,
  "metadata": {
    "colab": {
      "name": "DatasciencePresentation.ipynb",
      "provenance": [],
      "authorship_tag": "ABX9TyNQBZypzkwz3SnTdvnWKFpe",
      "include_colab_link": true
    },
    "kernelspec": {
      "name": "python3",
      "display_name": "Python 3"
    },
    "language_info": {
      "name": "python"
    },
    "accelerator": "GPU"
  },
  "cells": [
    {
      "cell_type": "markdown",
      "metadata": {
        "id": "view-in-github",
        "colab_type": "text"
      },
      "source": [
        "<a href=\"https://colab.research.google.com/github/WilliamAshbee/splineexample/blob/main/DatasciencePresentation.ipynb\" target=\"_parent\"><img src=\"https://colab.research.google.com/assets/colab-badge.svg\" alt=\"Open In Colab\"/></a>"
      ]
    },
    {
      "cell_type": "code",
      "metadata": {
        "id": "V0uPnplX2m6V"
      },
      "source": [
        "epoch = 40"
      ],
      "execution_count": 1,
      "outputs": []
    },
    {
      "cell_type": "code",
      "metadata": {
        "colab": {
          "base_uri": "https://localhost:8080/",
          "height": 285
        },
        "id": "lriVEWYxBqQJ",
        "outputId": "9bac8732-ba0e-4100-a636-3909d756aafa"
      },
      "source": [
        "import torch\n",
        "import numpy as np\n",
        "import pylab as plt\n",
        "from skimage import filters\n",
        "import math\n",
        "\n",
        "global numpoints\n",
        "numpoints = 1000\n",
        "side = 32\n",
        "\n",
        "rows = torch.zeros(32,32)\n",
        "columns = torch.zeros(32,32)\n",
        "\n",
        "\n",
        "for i in range(32):\n",
        "    columns[:,i] = i\n",
        "    rows[i,:] = i\n",
        "\n",
        "\n",
        "def donut_matrix(length = 10):\n",
        "    radiusMax = side /3\n",
        "    w = 1\n",
        "    sigmas = [None, 1]\n",
        "    \n",
        "    canvas = torch.zeros((length,side, side))\n",
        "    r0 = torch.tensor(np.random.uniform(side/4, side/3, length))\n",
        "\n",
        "    radii = torch.zeros((length,numpoints))\n",
        "    radii[:, :] = r0.unsqueeze(1)\n",
        "    \n",
        "    ind = [x for x in range(numpoints)]\n",
        "\n",
        "    theta = torch.FloatTensor(ind)\n",
        "    theta *= math.pi*2.0/(float)(numpoints)\n",
        "    \n",
        "    for i in range(1,length):\n",
        "        a = np.random.uniform(1.0,3.0)*torch.sin(np.random.uniform(20.0)*theta+np.random.uniform(1000.0))\n",
        "        radii[i,:] += a\n",
        "    \n",
        "    assert torch.min(radii)>0\n",
        "    rmaxs = radii.max(axis = 1)[0]\n",
        "    pmins = rmaxs+1.0\n",
        "    pmaxs = side-rmaxs-1.0\n",
        "    x0 = np.random.uniform(pmins,pmaxs)\n",
        "    y0 = np.random.uniform(pmins,pmaxs)\n",
        "    x0[:]=side/2\n",
        "    y0[:]=side/2\n",
        "    x0 = torch.tensor(x0)\n",
        "    y0 = torch.tensor(y0)\n",
        "    \n",
        "    x0 = x0.unsqueeze(1)\n",
        "    y0 = y0.unsqueeze(1)\n",
        "    xrfactors = torch.cos(theta).unsqueeze(0)\n",
        "    yrfactors = torch.sin(theta).unsqueeze(0)\n",
        "    \n",
        "    print('x0_y0_r_xrf_yrf',x0.shape,y0.shape,radii.shape,xrfactors.shape,yrfactors.shape)\n",
        "\n",
        "    x = (x0+(xrfactors*radii))\n",
        "    y = (y0+(yrfactors*radii))\n",
        "    assert x.shape == (length,numpoints)\n",
        "    assert y.shape == (length,numpoints)\n",
        "    assert torch.sum(x[x>(side-1)])==0 \n",
        "    assert torch.sum(x[x<0])==0 \n",
        "    assert torch.sum(y[y>(side-1)])==0 \n",
        "    assert torch.sum(y[y<0])==0 \n",
        "    \n",
        "    points = torch.zeros(length,numpoints,2)\n",
        "    for l in range(length):\n",
        "        canvas[l,y[l,:].type(torch.LongTensor),x[l,:].type(torch.LongTensor)]=1.0\n",
        "        points[l,:,0] = x[l,:]#modified for lstm discriminator\n",
        "        points[l,:,1] = y[l,:]#modified for lstm discriminator \n",
        "    \n",
        "    \n",
        "    return {\n",
        "        'canvas': canvas, \n",
        "        'points':points.type(torch.FloatTensor)}\n",
        "\n",
        "\n",
        "def plot_all( sample = None, model = None, labels = None):\n",
        "    img = sample[:,:].squeeze().cpu().numpy()\n",
        "    plt.imshow(img, cmap=plt.cm.gray_r)\n",
        "    if model != None:\n",
        "        with torch.no_grad():\n",
        "            global numpoints\n",
        "\n",
        "            #sample = torch.stack([sample for i in range(64)],dim = 0).cuda()\n",
        "            pred = model(sample.cuda())#come back to this\n",
        "            predres = numpoints\n",
        "            X = pred[0,:,0]\n",
        "            Y = pred[0,:,1]\n",
        "            assert X.shape[0] == 1000\n",
        "            assert Y.shape[0] == 1000\n",
        "            s = [.001 for x in range(predres)]\n",
        "            \n",
        "            assert len(s) == predres\n",
        "            c = ['red' for x in range(predres)]\n",
        "            assert len(c) == predres\n",
        "            Y = Y.cuda()\n",
        "            X = X.cuda()\n",
        "            plt.plot(X.cpu(),Y.cpu(),',-',c='red', ms=.1, lw=0.1) \n",
        "\n",
        "    else:\n",
        "        X = labels[:,0]\n",
        "        Y = labels[:,1]\n",
        "        s = [.0001 for x in range(numpoints)]\n",
        "        c = ['red' for x in range(numpoints)]\n",
        "        plt.plot(X.cpu(),Y.cpu(),',-',c='red',  ms=.1, lw=0.1) \n",
        "\n",
        "\n",
        "class DonutDataset(torch.utils.data.Dataset):\n",
        "    def __init__(self, length = 10):\n",
        "        self.length = length\n",
        "        self.values = donut_matrix(length)\n",
        "        assert self.values['canvas'].shape[0] == self.length\n",
        "        assert self.values['points'].shape[0] == self.length\n",
        "        \n",
        "        count = 0\n",
        "        for i in range(self.length):\n",
        "          a = self[i]\n",
        "          c = a[0]\n",
        "          for el in a[1]:\n",
        "            y,x = (int)(el[1]),(int)(el[0])\n",
        "            if x < side-2 and x > 2 and y < side-2 and y > 2: \n",
        "              if c[y,x] != 1 and \\\n",
        "                c[y+1,x] != 1 and c[y+1,-1+x] != 1 and c[y+1,1+x] != 1 and \\\n",
        "                c[y-1,x] != 1 and c[y,-1+x] != 1 and c[y,1+x] != 1:\n",
        "                count+=1\n",
        "        assert count ==0\n",
        "\n",
        "\n",
        "    def __len__(self):\n",
        "        return self.length\n",
        "\n",
        "\n",
        "    def __getitem__(self, idx):\n",
        "        canvas = self.values[\"canvas\"]\n",
        "        canvas = canvas[idx,:,:]\n",
        "        assert canvas.shape == (side,side)\n",
        "        points = self.values[\"points\"]\n",
        "        points = points[idx,:]\n",
        "        #z = torch.zeros(numpoints,1)\n",
        "        #points = torch.cat([points,z], dim = 1)\n",
        "        \n",
        "        return canvas, points\n",
        "    \n",
        "    @staticmethod\n",
        "    def displayCanvas(title,dataset, model):\n",
        "        for i in range(100):\n",
        "            sample, labels = dataset[i]\n",
        "            plt.subplot(10,10,i+1)\n",
        "            plot_all(sample = sample,model=model, labels = labels)\n",
        "            plt.axis('off')\n",
        "        plt.savefig(title,dpi=1200)\n",
        "        \n",
        "test_dataset = DonutDataset(length = 100)\n",
        "\n",
        "DonutDataset.displayCanvas('donut.png',test_dataset, model = None)\n"
      ],
      "execution_count": 2,
      "outputs": [
        {
          "output_type": "stream",
          "text": [
            "x0_y0_r_xrf_yrf torch.Size([100, 1]) torch.Size([100, 1]) torch.Size([100, 1000]) torch.Size([1, 1000]) torch.Size([1, 1000])\n"
          ],
          "name": "stdout"
        },
        {
          "output_type": "display_data",
          "data": {
            "image/png": "[encoded data removed]",
            "text/plain": [
              "<Figure size 432x288 with 100 Axes>"
            ]
          },
          "metadata": {
            "tags": [],
            "needs_background": "light"
          }
        }
      ]
    },
    {
      "cell_type": "code",
      "metadata": {
        "id": "4S8PURbSRrPD",
        "colab": {
          "base_uri": "https://localhost:8080/"
        },
        "outputId": "42e1e93c-937e-4090-ab42-da7dd6c12a39"
      },
      "source": [
        "from torch.utils import data\n",
        "from torch.utils.data import DataLoader, TensorDataset, RandomSampler\n",
        "\n",
        "mini_batch = 64\n",
        "#test_dataset = DonutDataset(length=100)\n",
        "loader_test = data.DataLoader(\n",
        "    test_dataset, \n",
        "    batch_size=mini_batch,\n",
        "    sampler=RandomSampler(data_source=test_dataset),\n",
        "    num_workers=4)\n"
      ],
      "execution_count": 3,
      "outputs": [
        {
          "output_type": "stream",
          "text": [
            "/usr/local/lib/python3.7/dist-packages/torch/utils/data/dataloader.py:477: UserWarning: This DataLoader will create 4 worker processes in total. Our suggested max number of worker in current system is 2, which is smaller than what this DataLoader is going to create. Please be aware that excessive worker creation might get DataLoader running slow or even freeze, lower the worker number to avoid potential slowness/freeze if necessary.\n",
            "  cpuset_checked))\n"
          ],
          "name": "stderr"
        }
      ]
    },
    {
      "cell_type": "code",
      "metadata": {
        "colab": {
          "base_uri": "https://localhost:8080/"
        },
        "id": "4PfBoCUFuTkh",
        "outputId": "6e86096e-7457-48a1-b88c-7fa3f980e821"
      },
      "source": [
        "from torch.utils import data\n",
        "from torch.utils.data import DataLoader, TensorDataset, RandomSampler\n",
        "\n",
        "mini_batch = 64\n",
        "dataset = DonutDataset(length=64*20)\n",
        "loader_train = data.DataLoader(\n",
        "    dataset, \n",
        "    batch_size=mini_batch,\n",
        "    sampler=RandomSampler(data_source=dataset),\n",
        "    num_workers=4)\n"
      ],
      "execution_count": 4,
      "outputs": [
        {
          "output_type": "stream",
          "text": [
            "x0_y0_r_xrf_yrf torch.Size([1280, 1]) torch.Size([1280, 1]) torch.Size([1280, 1000]) torch.Size([1, 1000]) torch.Size([1, 1000])\n"
          ],
          "name": "stdout"
        },
        {
          "output_type": "stream",
          "text": [
            "/usr/local/lib/python3.7/dist-packages/torch/utils/data/dataloader.py:477: UserWarning: This DataLoader will create 4 worker processes in total. Our suggested max number of worker in current system is 2, which is smaller than what this DataLoader is going to create. Please be aware that excessive worker creation might get DataLoader running slow or even freeze, lower the worker number to avoid potential slowness/freeze if necessary.\n",
            "  cpuset_checked))\n"
          ],
          "name": "stderr"
        }
      ]
    },
    {
      "cell_type": "code",
      "metadata": {
        "id": "p7eBMvDeM-7_"
      },
      "source": [
        "import torch\n",
        "import torch.nn as nn\n",
        "from torch.hub import load_state_dict_from_url\n",
        "\n",
        "class MLP(nn.Module):\n",
        "    def __init__(self):\n",
        "        super(MLP, self).__init__()\n",
        "        self.input_dim = 1*32*32\n",
        "        self.output_dim = 2000\n",
        "        self.net = nn.Sequential(\n",
        "            nn.Linear(self.input_dim, self.input_dim),\n",
        "            nn.ReLU(True),\n",
        "            nn.Dropout(),\n",
        "            nn.Linear(self.input_dim, self.input_dim),\n",
        "            nn.ReLU(True),\n",
        "            nn.Dropout(),\n",
        "            nn.Linear(self.input_dim, self.output_dim),\n",
        "            nn.Sigmoid()\n",
        "        )\n",
        "        \n",
        "        \n",
        "\n",
        "    def forward(self, x):\n",
        "        #x = x.squeeze()\n",
        "        if x.shape[0]!= mini_batch:\n",
        "          assert x.shape[0] == 32 and x.shape[1] == 32\n",
        "          x = x.unsqueeze(0)\n",
        "        x = torch.flatten(x,start_dim=1)\n",
        "        \n",
        "        #assert x.shape == (mini_batch,self.hidden_dim)\n",
        "        out = self.net(x)\n",
        "        out = out.reshape(x.shape[0],1000,2)\n",
        "        return 32.0*out\n"
      ],
      "execution_count": 5,
      "outputs": []
    },
    {
      "cell_type": "code",
      "metadata": {
        "id": "lYKNN1XTuMO1"
      },
      "source": [
        "model = MLP().cuda()"
      ],
      "execution_count": 6,
      "outputs": []
    },
    {
      "cell_type": "code",
      "metadata": {
        "id": "_QreZ-k6dtTx"
      },
      "source": [
        "optimizer = torch.optim.Adam(model.parameters(),lr = 0.0001, betas = (.9,.999))"
      ],
      "execution_count": 7,
      "outputs": []
    },
    {
      "cell_type": "code",
      "metadata": {
        "colab": {
          "base_uri": "https://localhost:8080/"
        },
        "id": "KJz942ZhumMq",
        "outputId": "83ac3f43-1234-47bd-c29c-2eff64302481"
      },
      "source": [
        "loss = None\n",
        "model = model.train()\n",
        "for e in range(epoch):\n",
        "  for xin,yin in loader_train:\n",
        "    optimizer.zero_grad()\n",
        "\n",
        "    if xin.shape[0] != mini_batch:\n",
        "      print(xin.shape)\n",
        "      continue\n",
        "    xin = xin.cuda()\n",
        "    yin = yin.cuda()\n",
        "    out = model(xin)\n",
        "    assert out.shape == yin.shape\n",
        "    \n",
        "    loss = torch.mean((out-yin)**2)\n",
        "    loss.backward()\n",
        "    optimizer.step()\n",
        "    \n",
        "  print('epoch',e,'\\tTraining loss', loss.item())\n"
      ],
      "execution_count": 8,
      "outputs": [
        {
          "output_type": "stream",
          "text": [
            "/usr/local/lib/python3.7/dist-packages/torch/utils/data/dataloader.py:477: UserWarning: This DataLoader will create 4 worker processes in total. Our suggested max number of worker in current system is 2, which is smaller than what this DataLoader is going to create. Please be aware that excessive worker creation might get DataLoader running slow or even freeze, lower the worker number to avoid potential slowness/freeze if necessary.\n",
            "  cpuset_checked))\n"
          ],
          "name": "stderr"
        },
        {
          "output_type": "stream",
          "text": [
            "epoch 0 \tTraining loss 17.494722366333008\n",
            "epoch 1 \tTraining loss 6.001781940460205\n",
            "epoch 2 \tTraining loss 4.4072585105896\n",
            "epoch 3 \tTraining loss 3.6169304847717285\n",
            "epoch 4 \tTraining loss 2.833273410797119\n",
            "epoch 5 \tTraining loss 2.3441808223724365\n",
            "epoch 6 \tTraining loss 2.213764190673828\n",
            "epoch 7 \tTraining loss 2.1060678958892822\n",
            "epoch 8 \tTraining loss 1.9955955743789673\n",
            "epoch 9 \tTraining loss 1.8521820306777954\n",
            "epoch 10 \tTraining loss 1.8713995218276978\n",
            "epoch 11 \tTraining loss 1.7568904161453247\n",
            "epoch 12 \tTraining loss 1.8494397401809692\n",
            "epoch 13 \tTraining loss 1.6955677270889282\n",
            "epoch 14 \tTraining loss 1.779271125793457\n",
            "epoch 15 \tTraining loss 1.669396162033081\n",
            "epoch 16 \tTraining loss 1.6349855661392212\n",
            "epoch 17 \tTraining loss 1.5802327394485474\n",
            "epoch 18 \tTraining loss 1.8123878240585327\n",
            "epoch 19 \tTraining loss 1.639211893081665\n",
            "epoch 20 \tTraining loss 1.5143464803695679\n",
            "epoch 21 \tTraining loss 1.522404432296753\n",
            "epoch 22 \tTraining loss 1.6449909210205078\n",
            "epoch 23 \tTraining loss 1.4811519384384155\n",
            "epoch 24 \tTraining loss 1.5318284034729004\n",
            "epoch 25 \tTraining loss 1.5193767547607422\n",
            "epoch 26 \tTraining loss 1.6329149007797241\n",
            "epoch 27 \tTraining loss 1.424232006072998\n",
            "epoch 28 \tTraining loss 1.3531607389450073\n",
            "epoch 29 \tTraining loss 1.3677659034729004\n",
            "epoch 30 \tTraining loss 1.439765453338623\n",
            "epoch 31 \tTraining loss 1.3956257104873657\n",
            "epoch 32 \tTraining loss 1.4938076734542847\n",
            "epoch 33 \tTraining loss 1.5038131475448608\n",
            "epoch 34 \tTraining loss 1.3842412233352661\n",
            "epoch 35 \tTraining loss 1.3510305881500244\n",
            "epoch 36 \tTraining loss 1.401903748512268\n",
            "epoch 37 \tTraining loss 1.4673668146133423\n",
            "epoch 38 \tTraining loss 1.4014908075332642\n",
            "epoch 39 \tTraining loss 1.2721126079559326\n"
          ],
          "name": "stdout"
        }
      ]
    },
    {
      "cell_type": "code",
      "metadata": {
        "id": "ePhvJJnuLYTb"
      },
      "source": [
        "optimizer = torch.optim.Adam(model.parameters(),lr = 0.00001, betas = (.9,.999))"
      ],
      "execution_count": 9,
      "outputs": []
    },
    {
      "cell_type": "code",
      "metadata": {
        "colab": {
          "base_uri": "https://localhost:8080/"
        },
        "id": "QnZbcmCfLWfD",
        "outputId": "de09ebbf-4847-451f-9cd1-e5e5df62f814"
      },
      "source": [
        "loss = None\n",
        "model = model.train()\n",
        "for e in range(epoch):\n",
        "  for xin,yin in loader_train:\n",
        "    optimizer.zero_grad()\n",
        "\n",
        "    if xin.shape[0] != mini_batch:\n",
        "      print(xin.shape)\n",
        "      continue\n",
        "    xin = xin.cuda()\n",
        "    yin = yin.cuda()\n",
        "    out = model(xin)\n",
        "    assert out.shape == yin.shape\n",
        "    \n",
        "    loss = torch.mean((out-yin)**2)\n",
        "    loss.backward()\n",
        "    optimizer.step()\n",
        "    \n",
        "  print('epoch',e,'\\tTraining loss', loss.item())\n"
      ],
      "execution_count": 10,
      "outputs": [
        {
          "output_type": "stream",
          "text": [
            "/usr/local/lib/python3.7/dist-packages/torch/utils/data/dataloader.py:477: UserWarning: This DataLoader will create 4 worker processes in total. Our suggested max number of worker in current system is 2, which is smaller than what this DataLoader is going to create. Please be aware that excessive worker creation might get DataLoader running slow or even freeze, lower the worker number to avoid potential slowness/freeze if necessary.\n",
            "  cpuset_checked))\n"
          ],
          "name": "stderr"
        },
        {
          "output_type": "stream",
          "text": [
            "epoch 0 \tTraining loss 1.3528499603271484\n",
            "epoch 1 \tTraining loss 1.4502989053726196\n",
            "epoch 2 \tTraining loss 1.3756873607635498\n",
            "epoch 3 \tTraining loss 1.3536968231201172\n",
            "epoch 4 \tTraining loss 1.1441611051559448\n",
            "epoch 5 \tTraining loss 1.2954798936843872\n",
            "epoch 6 \tTraining loss 1.300732135772705\n",
            "epoch 7 \tTraining loss 1.3248867988586426\n",
            "epoch 8 \tTraining loss 1.278266429901123\n",
            "epoch 9 \tTraining loss 1.3353489637374878\n",
            "epoch 10 \tTraining loss 1.230659008026123\n",
            "epoch 11 \tTraining loss 1.273059368133545\n",
            "epoch 12 \tTraining loss 1.3882532119750977\n",
            "epoch 13 \tTraining loss 1.2351469993591309\n",
            "epoch 14 \tTraining loss 1.3048237562179565\n",
            "epoch 15 \tTraining loss 1.2799360752105713\n",
            "epoch 16 \tTraining loss 1.3787224292755127\n",
            "epoch 17 \tTraining loss 1.2673027515411377\n",
            "epoch 18 \tTraining loss 1.1646003723144531\n",
            "epoch 19 \tTraining loss 1.2323883771896362\n",
            "epoch 20 \tTraining loss 1.1522809267044067\n",
            "epoch 21 \tTraining loss 1.263425350189209\n",
            "epoch 22 \tTraining loss 1.2761738300323486\n",
            "epoch 23 \tTraining loss 1.2318785190582275\n",
            "epoch 24 \tTraining loss 1.306753396987915\n",
            "epoch 25 \tTraining loss 1.3688278198242188\n",
            "epoch 26 \tTraining loss 1.316598892211914\n",
            "epoch 27 \tTraining loss 1.3224319219589233\n",
            "epoch 28 \tTraining loss 1.2319493293762207\n",
            "epoch 29 \tTraining loss 1.1546447277069092\n",
            "epoch 30 \tTraining loss 1.1689343452453613\n",
            "epoch 31 \tTraining loss 1.3303662538528442\n",
            "epoch 32 \tTraining loss 1.355298399925232\n",
            "epoch 33 \tTraining loss 1.2628792524337769\n",
            "epoch 34 \tTraining loss 1.3443760871887207\n",
            "epoch 35 \tTraining loss 1.2993743419647217\n",
            "epoch 36 \tTraining loss 1.210400938987732\n",
            "epoch 37 \tTraining loss 1.2749388217926025\n",
            "epoch 38 \tTraining loss 1.4012134075164795\n",
            "epoch 39 \tTraining loss 1.1980559825897217\n"
          ],
          "name": "stdout"
        }
      ]
    },
    {
      "cell_type": "code",
      "metadata": {
        "colab": {
          "base_uri": "https://localhost:8080/",
          "height": 248
        },
        "id": "8S6Fc33HF7Qi",
        "outputId": "e70b60fd-b1a3-4ec6-c28b-2f9f458b3713"
      },
      "source": [
        "model = model.eval()\n",
        "DonutDataset.displayCanvas('test3layerConstantWidth.png',test_dataset, model = model)\n"
      ],
      "execution_count": 11,
      "outputs": [
        {
          "output_type": "display_data",
          "data": {
            "image/png": "[encoded data removed]",
            "text/plain": [
              "<Figure size 432x288 with 100 Axes>"
            ]
          },
          "metadata": {
            "tags": [],
            "needs_background": "light"
          }
        }
      ]
    },
    {
      "cell_type": "code",
      "metadata": {
        "id": "L1wbIAhiGDYC"
      },
      "source": [
        "import torch\n",
        "import torch.nn as nn\n",
        "from torch.hub import load_state_dict_from_url\n",
        "\n",
        "class MLP(nn.Module):\n",
        "    def __init__(self):\n",
        "        super(MLP, self).__init__()\n",
        "        self.input_dim = 1*32*32\n",
        "        self.output_dim = 2000\n",
        "        self.net = nn.Sequential(\n",
        "            nn.Linear(self.input_dim, self.input_dim),\n",
        "            nn.ReLU(True),\n",
        "            nn.Dropout(),\n",
        "            nn.Linear(self.input_dim, self.input_dim),\n",
        "            nn.ReLU(True),\n",
        "            nn.Dropout(),\n",
        "            nn.Linear(self.input_dim, self.input_dim),\n",
        "            nn.ReLU(True),\n",
        "            nn.Dropout(),\n",
        "            nn.Linear(self.input_dim, self.input_dim),\n",
        "            nn.ReLU(True),\n",
        "            nn.Dropout(),\n",
        "            nn.Linear(self.input_dim, self.output_dim),\n",
        "            nn.Sigmoid()\n",
        "        )\n",
        "        \n",
        "        \n",
        "\n",
        "    def forward(self, x):\n",
        "        #x = x.squeeze()\n",
        "        if x.shape[0]!= mini_batch:\n",
        "          assert x.shape[0] == 32 and x.shape[1] == 32\n",
        "          x = x.unsqueeze(0)\n",
        "        x = torch.flatten(x,start_dim=1)\n",
        "        \n",
        "        #assert x.shape == (mini_batch,self.hidden_dim)\n",
        "        out = self.net(x)\n",
        "        out = out.reshape(x.shape[0],1000,2)\n",
        "        return 32.0*out\n"
      ],
      "execution_count": 12,
      "outputs": []
    },
    {
      "cell_type": "code",
      "metadata": {
        "id": "H2rZY2Z9M_lj"
      },
      "source": [
        "model = MLP().cuda()\n",
        "optimizer = torch.optim.Adam(model.parameters(),lr = 0.0001, betas = (.9,.999))\n"
      ],
      "execution_count": 13,
      "outputs": []
    },
    {
      "cell_type": "code",
      "metadata": {
        "colab": {
          "base_uri": "https://localhost:8080/"
        },
        "id": "k_JMjFztNI0v",
        "outputId": "48b9f54c-6024-42cf-e64d-d9daca71f4fb"
      },
      "source": [
        "loss = None\n",
        "model = model.train()\n",
        "for e in range(epoch):\n",
        "  for xin,yin in loader_train:\n",
        "    optimizer.zero_grad()\n",
        "\n",
        "    if xin.shape[0] != mini_batch:\n",
        "      print(xin.shape)\n",
        "      continue\n",
        "    xin = xin.cuda()\n",
        "    yin = yin.cuda()\n",
        "    out = model(xin)\n",
        "    assert out.shape == yin.shape\n",
        "    \n",
        "    loss = torch.mean((out-yin)**2)\n",
        "    loss.backward()\n",
        "    optimizer.step()\n",
        "    \n",
        "  print('epoch',e,'\\tTraining loss', loss.item())\n"
      ],
      "execution_count": 14,
      "outputs": [
        {
          "output_type": "stream",
          "text": [
            "/usr/local/lib/python3.7/dist-packages/torch/utils/data/dataloader.py:477: UserWarning: This DataLoader will create 4 worker processes in total. Our suggested max number of worker in current system is 2, which is smaller than what this DataLoader is going to create. Please be aware that excessive worker creation might get DataLoader running slow or even freeze, lower the worker number to avoid potential slowness/freeze if necessary.\n",
            "  cpuset_checked))\n"
          ],
          "name": "stderr"
        },
        {
          "output_type": "stream",
          "text": [
            "epoch 0 \tTraining loss 14.927238464355469\n",
            "epoch 1 \tTraining loss 5.47760009765625\n",
            "epoch 2 \tTraining loss 3.6701467037200928\n",
            "epoch 3 \tTraining loss 2.946200370788574\n",
            "epoch 4 \tTraining loss 2.460895538330078\n",
            "epoch 5 \tTraining loss 2.2689714431762695\n",
            "epoch 6 \tTraining loss 2.156655788421631\n",
            "epoch 7 \tTraining loss 2.052567481994629\n",
            "epoch 8 \tTraining loss 1.8888776302337646\n",
            "epoch 9 \tTraining loss 1.9255608320236206\n",
            "epoch 10 \tTraining loss 1.8236209154129028\n",
            "epoch 11 \tTraining loss 1.716876745223999\n",
            "epoch 12 \tTraining loss 1.792588472366333\n",
            "epoch 13 \tTraining loss 1.669321894645691\n",
            "epoch 14 \tTraining loss 1.7616727352142334\n",
            "epoch 15 \tTraining loss 1.6640918254852295\n",
            "epoch 16 \tTraining loss 1.6098881959915161\n",
            "epoch 17 \tTraining loss 1.6262887716293335\n",
            "epoch 18 \tTraining loss 1.5736680030822754\n",
            "epoch 19 \tTraining loss 1.5132687091827393\n",
            "epoch 20 \tTraining loss 1.601184368133545\n",
            "epoch 21 \tTraining loss 1.4770286083221436\n",
            "epoch 22 \tTraining loss 1.4988150596618652\n",
            "epoch 23 \tTraining loss 1.4177343845367432\n",
            "epoch 24 \tTraining loss 1.5169527530670166\n",
            "epoch 25 \tTraining loss 1.3676241636276245\n",
            "epoch 26 \tTraining loss 1.3879271745681763\n",
            "epoch 27 \tTraining loss 1.5600554943084717\n",
            "epoch 28 \tTraining loss 1.4576141834259033\n",
            "epoch 29 \tTraining loss 1.3869460821151733\n",
            "epoch 30 \tTraining loss 1.5349334478378296\n",
            "epoch 31 \tTraining loss 1.2822502851486206\n",
            "epoch 32 \tTraining loss 1.2481027841567993\n",
            "epoch 33 \tTraining loss 1.3994168043136597\n",
            "epoch 34 \tTraining loss 1.4815324544906616\n",
            "epoch 35 \tTraining loss 1.307727575302124\n",
            "epoch 36 \tTraining loss 1.2948700189590454\n",
            "epoch 37 \tTraining loss 1.2874175310134888\n",
            "epoch 38 \tTraining loss 1.4084720611572266\n",
            "epoch 39 \tTraining loss 1.3416868448257446\n"
          ],
          "name": "stdout"
        }
      ]
    },
    {
      "cell_type": "code",
      "metadata": {
        "id": "VeN6J2kxNAwH"
      },
      "source": [
        "optimizer = torch.optim.Adam(model.parameters(),lr = 0.00001, betas = (.9,.999))"
      ],
      "execution_count": 15,
      "outputs": []
    },
    {
      "cell_type": "code",
      "metadata": {
        "colab": {
          "base_uri": "https://localhost:8080/"
        },
        "id": "ecct1mtgNNZm",
        "outputId": "1dd00aa7-2baf-4b0e-8092-2ec109b7e245"
      },
      "source": [
        "loss = None\n",
        "model = model.train()\n",
        "for e in range(epoch):\n",
        "  for xin,yin in loader_train:\n",
        "    optimizer.zero_grad()\n",
        "    if xin.shape[0] != mini_batch:\n",
        "      print(xin.shape)\n",
        "      continue\n",
        "    xin = xin.cuda()\n",
        "    yin = yin.cuda()\n",
        "    out = model(xin)\n",
        "    assert out.shape == yin.shape\n",
        "    \n",
        "    loss = torch.mean((out-yin)**2)\n",
        "    loss.backward()\n",
        "    optimizer.step()\n",
        "    \n",
        "  print('epoch',e,'\\tTraining loss', loss.item())\n"
      ],
      "execution_count": 16,
      "outputs": [
        {
          "output_type": "stream",
          "text": [
            "/usr/local/lib/python3.7/dist-packages/torch/utils/data/dataloader.py:477: UserWarning: This DataLoader will create 4 worker processes in total. Our suggested max number of worker in current system is 2, which is smaller than what this DataLoader is going to create. Please be aware that excessive worker creation might get DataLoader running slow or even freeze, lower the worker number to avoid potential slowness/freeze if necessary.\n",
            "  cpuset_checked))\n"
          ],
          "name": "stderr"
        },
        {
          "output_type": "stream",
          "text": [
            "epoch 0 \tTraining loss 1.3509429693222046\n",
            "epoch 1 \tTraining loss 1.4404631853103638\n",
            "epoch 2 \tTraining loss 1.4119741916656494\n",
            "epoch 3 \tTraining loss 1.2388871908187866\n",
            "epoch 4 \tTraining loss 1.3215652704238892\n",
            "epoch 5 \tTraining loss 1.2186497449874878\n",
            "epoch 6 \tTraining loss 1.2888635396957397\n",
            "epoch 7 \tTraining loss 1.2152924537658691\n",
            "epoch 8 \tTraining loss 1.421673059463501\n",
            "epoch 9 \tTraining loss 1.2776566743850708\n",
            "epoch 10 \tTraining loss 1.1950803995132446\n",
            "epoch 11 \tTraining loss 1.4089293479919434\n",
            "epoch 12 \tTraining loss 1.178876280784607\n",
            "epoch 13 \tTraining loss 1.3251157999038696\n",
            "epoch 14 \tTraining loss 1.39482581615448\n",
            "epoch 15 \tTraining loss 1.3169991970062256\n",
            "epoch 16 \tTraining loss 1.23634672164917\n",
            "epoch 17 \tTraining loss 1.1693333387374878\n",
            "epoch 18 \tTraining loss 1.344119906425476\n",
            "epoch 19 \tTraining loss 1.2785422801971436\n",
            "epoch 20 \tTraining loss 1.3931998014450073\n",
            "epoch 21 \tTraining loss 1.1973084211349487\n",
            "epoch 22 \tTraining loss 1.1876511573791504\n",
            "epoch 23 \tTraining loss 1.3755844831466675\n",
            "epoch 24 \tTraining loss 1.30986487865448\n",
            "epoch 25 \tTraining loss 1.352003812789917\n",
            "epoch 26 \tTraining loss 1.3264782428741455\n",
            "epoch 27 \tTraining loss 1.3149094581604004\n",
            "epoch 28 \tTraining loss 1.3790866136550903\n",
            "epoch 29 \tTraining loss 1.2648192644119263\n",
            "epoch 30 \tTraining loss 1.2475918531417847\n",
            "epoch 31 \tTraining loss 1.2514209747314453\n",
            "epoch 32 \tTraining loss 1.2473591566085815\n",
            "epoch 33 \tTraining loss 1.240619421005249\n",
            "epoch 34 \tTraining loss 1.2999507188796997\n",
            "epoch 35 \tTraining loss 1.4071859121322632\n",
            "epoch 36 \tTraining loss 1.409611701965332\n",
            "epoch 37 \tTraining loss 1.3280020952224731\n",
            "epoch 38 \tTraining loss 1.4271328449249268\n",
            "epoch 39 \tTraining loss 1.2825806140899658\n"
          ],
          "name": "stdout"
        }
      ]
    },
    {
      "cell_type": "code",
      "metadata": {
        "colab": {
          "base_uri": "https://localhost:8080/",
          "height": 248
        },
        "id": "ja18UhjLNgkd",
        "outputId": "9fdc3f4e-4c1d-4d86-c56b-0c50f77fd151"
      },
      "source": [
        "model = model.eval()\n",
        "DonutDataset.displayCanvas('test6layerConstantWidth.png',test_dataset, model = model)\n"
      ],
      "execution_count": 17,
      "outputs": [
        {
          "output_type": "display_data",
          "data": {
            "image/png": "[encoded data removed]",
            "text/plain": [
              "<Figure size 432x288 with 100 Axes>"
            ]
          },
          "metadata": {
            "tags": [],
            "needs_background": "light"
          }
        }
      ]
    },
    {
      "cell_type": "code",
      "metadata": {
        "id": "lXT4PBhqx08k",
        "outputId": "982ae5b2-2500-4ee3-e403-a9db55cc3231",
        "colab": {
          "base_uri": "https://localhost:8080/"
        }
      },
      "source": [
        "loss = None\n",
        "model = model.eval()\n",
        "total = 0.0\n",
        "count = 0.0\n",
        "for xin,yin in loader_test:\n",
        "  if xin.shape[0] != mini_batch:\n",
        "    print(xin.shape)\n",
        "    continue\n",
        "  xin = xin.cuda()\n",
        "  yin = yin.cuda()\n",
        "  out = model(xin)\n",
        "  assert out.shape == yin.shape\n",
        "  \n",
        "  loss = torch.mean((out-yin)**2)\n",
        "  count+=1.0\n",
        "  total+=loss.item()\n",
        "print('validation loss','\\t', (float)(total/count))\n"
      ],
      "execution_count": 18,
      "outputs": [
        {
          "output_type": "stream",
          "text": [
            "/usr/local/lib/python3.7/dist-packages/torch/utils/data/dataloader.py:477: UserWarning: This DataLoader will create 4 worker processes in total. Our suggested max number of worker in current system is 2, which is smaller than what this DataLoader is going to create. Please be aware that excessive worker creation might get DataLoader running slow or even freeze, lower the worker number to avoid potential slowness/freeze if necessary.\n",
            "  cpuset_checked))\n"
          ],
          "name": "stderr"
        },
        {
          "output_type": "stream",
          "text": [
            "torch.Size([36, 32, 32])\n",
            "validation loss \t 1.883791208267212\n"
          ],
          "name": "stdout"
        }
      ]
    },
    {
      "cell_type": "code",
      "metadata": {
        "id": "q54mN4BANlH1"
      },
      "source": [
        "import torch\n",
        "import torch.nn as nn\n",
        "from torch.hub import load_state_dict_from_url\n",
        "\n",
        "class MLP(nn.Module):\n",
        "    def __init__(self):\n",
        "        super(MLP, self).__init__()\n",
        "        self.input_dim = 1*32*32\n",
        "        self.output_dim = 2000\n",
        "        self.net = nn.Sequential(\n",
        "            nn.Linear(self.input_dim, 10*self.input_dim),\n",
        "            nn.ReLU(True),\n",
        "            nn.Dropout(),\n",
        "            nn.Linear(10*self.input_dim, 10*self.input_dim),\n",
        "            nn.ReLU(True),\n",
        "            nn.Dropout(),\n",
        "            nn.Linear(10*self.input_dim, 10*self.input_dim),\n",
        "            nn.ReLU(True),\n",
        "            nn.Dropout(),\n",
        "            nn.Linear(10*self.input_dim, 10*self.input_dim),\n",
        "            nn.ReLU(True),\n",
        "            nn.Dropout(),\n",
        "            nn.Linear(10*self.input_dim, self.output_dim),\n",
        "            nn.Sigmoid()\n",
        "        )\n",
        "        \n",
        "        \n",
        "\n",
        "    def forward(self, x):\n",
        "        #x = x.squeeze()\n",
        "        if x.shape[0]!= mini_batch:\n",
        "          assert x.shape[0] == 32 and x.shape[1] == 32\n",
        "          x = x.unsqueeze(0)\n",
        "        x = torch.flatten(x,start_dim=1)\n",
        "        \n",
        "        #assert x.shape == (mini_batch,self.hidden_dim)\n",
        "        out = self.net(x)\n",
        "        out = out.reshape(x.shape[0],1000,2)\n",
        "        return 32.0*out\n"
      ],
      "execution_count": 19,
      "outputs": []
    },
    {
      "cell_type": "code",
      "metadata": {
        "id": "TsSzv2QpON0N"
      },
      "source": [
        "model = MLP().cuda()\n",
        "optimizer = torch.optim.Adam(model.parameters(),lr = 0.0001, betas = (.9,.999))\n"
      ],
      "execution_count": 20,
      "outputs": []
    },
    {
      "cell_type": "code",
      "metadata": {
        "colab": {
          "base_uri": "https://localhost:8080/"
        },
        "id": "M_neHQR4OOhd",
        "outputId": "29fb42ac-1008-43f3-bac5-07a306273e8e"
      },
      "source": [
        "loss = None\n",
        "model = model.train()\n",
        "for e in range(epoch):\n",
        "  for xin,yin in loader_train:\n",
        "    optimizer.zero_grad()\n",
        "    if xin.shape[0] != mini_batch:\n",
        "      print(xin.shape)\n",
        "      continue\n",
        "    xin = xin.cuda()\n",
        "    yin = yin.cuda()\n",
        "    out = model(xin)\n",
        "    assert out.shape == yin.shape\n",
        "    \n",
        "    loss = torch.mean((out-yin)**2)\n",
        "    loss.backward()\n",
        "    optimizer.step()\n",
        "    \n",
        "  print('epoch',e,'\\tTraining loss', loss.item())\n"
      ],
      "execution_count": 21,
      "outputs": [
        {
          "output_type": "stream",
          "text": [
            "/usr/local/lib/python3.7/dist-packages/torch/utils/data/dataloader.py:477: UserWarning: This DataLoader will create 4 worker processes in total. Our suggested max number of worker in current system is 2, which is smaller than what this DataLoader is going to create. Please be aware that excessive worker creation might get DataLoader running slow or even freeze, lower the worker number to avoid potential slowness/freeze if necessary.\n",
            "  cpuset_checked))\n"
          ],
          "name": "stderr"
        },
        {
          "output_type": "stream",
          "text": [
            "epoch 0 \tTraining loss 2.1823554039001465\n",
            "epoch 1 \tTraining loss 1.8493082523345947\n",
            "epoch 2 \tTraining loss 1.440995454788208\n",
            "epoch 3 \tTraining loss 1.4443899393081665\n",
            "epoch 4 \tTraining loss 1.3969368934631348\n",
            "epoch 5 \tTraining loss 1.2881444692611694\n",
            "epoch 6 \tTraining loss 1.3057034015655518\n",
            "epoch 7 \tTraining loss 1.6732829809188843\n",
            "epoch 8 \tTraining loss 1.2641626596450806\n",
            "epoch 9 \tTraining loss 1.4546973705291748\n",
            "epoch 10 \tTraining loss 1.451242208480835\n",
            "epoch 11 \tTraining loss 1.6132327318191528\n",
            "epoch 12 \tTraining loss 1.283246636390686\n",
            "epoch 13 \tTraining loss 1.3009997606277466\n",
            "epoch 14 \tTraining loss 1.2333753108978271\n",
            "epoch 15 \tTraining loss 1.285152554512024\n",
            "epoch 16 \tTraining loss 1.528831124305725\n",
            "epoch 17 \tTraining loss 1.1534305810928345\n",
            "epoch 18 \tTraining loss 1.329099178314209\n",
            "epoch 19 \tTraining loss 1.3401174545288086\n",
            "epoch 20 \tTraining loss 1.123481035232544\n",
            "epoch 21 \tTraining loss 1.3298766613006592\n",
            "epoch 22 \tTraining loss 1.2413476705551147\n",
            "epoch 23 \tTraining loss 1.3088001012802124\n",
            "epoch 24 \tTraining loss 1.2319623231887817\n",
            "epoch 25 \tTraining loss 1.191084384918213\n",
            "epoch 26 \tTraining loss 1.4539018869400024\n",
            "epoch 27 \tTraining loss 1.2181587219238281\n",
            "epoch 28 \tTraining loss 1.194400668144226\n",
            "epoch 29 \tTraining loss 1.1862578392028809\n",
            "epoch 30 \tTraining loss 1.1429539918899536\n",
            "epoch 31 \tTraining loss 1.1812081336975098\n",
            "epoch 32 \tTraining loss 1.1094965934753418\n",
            "epoch 33 \tTraining loss 1.2189357280731201\n",
            "epoch 34 \tTraining loss 1.3054561614990234\n",
            "epoch 35 \tTraining loss 1.3143960237503052\n",
            "epoch 36 \tTraining loss 1.1256506443023682\n",
            "epoch 37 \tTraining loss 1.3312921524047852\n",
            "epoch 38 \tTraining loss 1.348175048828125\n",
            "epoch 39 \tTraining loss 1.2362115383148193\n"
          ],
          "name": "stdout"
        }
      ]
    },
    {
      "cell_type": "code",
      "metadata": {
        "id": "joZbJOCwOTB2"
      },
      "source": [
        "optimizer = torch.optim.Adam(model.parameters(),lr = 0.00001, betas = (.9,.999))\n"
      ],
      "execution_count": 22,
      "outputs": []
    },
    {
      "cell_type": "code",
      "metadata": {
        "colab": {
          "base_uri": "https://localhost:8080/"
        },
        "id": "sTlmEnkWOWIK",
        "outputId": "385509db-459d-453e-87a5-b419464f7606"
      },
      "source": [
        "loss = None\n",
        "model = model.train()\n",
        "for e in range(epoch):\n",
        "  for xin,yin in loader_train:\n",
        "    optimizer.zero_grad()\n",
        "    if xin.shape[0] != mini_batch:\n",
        "      print(xin.shape)\n",
        "      continue\n",
        "    xin = xin.cuda()\n",
        "    yin = yin.cuda()\n",
        "    out = model(xin)\n",
        "    assert out.shape == yin.shape\n",
        "    \n",
        "    loss = torch.mean((out-yin)**2)\n",
        "    loss.backward()\n",
        "    optimizer.step()\n",
        "    \n",
        "  print('epoch',e,'\\tTraining loss', loss.item())\n"
      ],
      "execution_count": 23,
      "outputs": [
        {
          "output_type": "stream",
          "text": [
            "/usr/local/lib/python3.7/dist-packages/torch/utils/data/dataloader.py:477: UserWarning: This DataLoader will create 4 worker processes in total. Our suggested max number of worker in current system is 2, which is smaller than what this DataLoader is going to create. Please be aware that excessive worker creation might get DataLoader running slow or even freeze, lower the worker number to avoid potential slowness/freeze if necessary.\n",
            "  cpuset_checked))\n"
          ],
          "name": "stderr"
        },
        {
          "output_type": "stream",
          "text": [
            "epoch 0 \tTraining loss 1.2581125497817993\n",
            "epoch 1 \tTraining loss 1.2733030319213867\n",
            "epoch 2 \tTraining loss 1.2430520057678223\n",
            "epoch 3 \tTraining loss 1.0510190725326538\n",
            "epoch 4 \tTraining loss 1.085792064666748\n",
            "epoch 5 \tTraining loss 1.1876583099365234\n",
            "epoch 6 \tTraining loss 1.1495791673660278\n",
            "epoch 7 \tTraining loss 1.1736048460006714\n",
            "epoch 8 \tTraining loss 1.1349557638168335\n",
            "epoch 9 \tTraining loss 1.2379636764526367\n",
            "epoch 10 \tTraining loss 1.1041117906570435\n",
            "epoch 11 \tTraining loss 1.2111387252807617\n",
            "epoch 12 \tTraining loss 1.075893759727478\n",
            "epoch 13 \tTraining loss 1.2537422180175781\n",
            "epoch 14 \tTraining loss 1.1597177982330322\n",
            "epoch 15 \tTraining loss 1.265540361404419\n",
            "epoch 16 \tTraining loss 1.0928179025650024\n",
            "epoch 17 \tTraining loss 1.07379949092865\n",
            "epoch 18 \tTraining loss 1.1930485963821411\n",
            "epoch 19 \tTraining loss 1.258466124534607\n",
            "epoch 20 \tTraining loss 1.1730570793151855\n",
            "epoch 21 \tTraining loss 1.0909053087234497\n",
            "epoch 22 \tTraining loss 1.1033066511154175\n",
            "epoch 23 \tTraining loss 1.147291898727417\n",
            "epoch 24 \tTraining loss 1.0575568675994873\n",
            "epoch 25 \tTraining loss 1.1969119310379028\n",
            "epoch 26 \tTraining loss 1.0897268056869507\n",
            "epoch 27 \tTraining loss 1.0967645645141602\n",
            "epoch 28 \tTraining loss 1.0812915563583374\n",
            "epoch 29 \tTraining loss 1.1193592548370361\n",
            "epoch 30 \tTraining loss 1.095467448234558\n",
            "epoch 31 \tTraining loss 1.089005708694458\n",
            "epoch 32 \tTraining loss 1.2742323875427246\n",
            "epoch 33 \tTraining loss 1.1318002939224243\n",
            "epoch 34 \tTraining loss 1.0727440118789673\n",
            "epoch 35 \tTraining loss 1.0944490432739258\n",
            "epoch 36 \tTraining loss 1.1274917125701904\n",
            "epoch 37 \tTraining loss 1.1326316595077515\n",
            "epoch 38 \tTraining loss 1.1366157531738281\n",
            "epoch 39 \tTraining loss 0.9431924223899841\n"
          ],
          "name": "stdout"
        }
      ]
    },
    {
      "cell_type": "code",
      "metadata": {
        "colab": {
          "base_uri": "https://localhost:8080/",
          "height": 248
        },
        "id": "moHubBGYOc2Z",
        "outputId": "43702e32-7b5e-4c67-c7be-f577c32dbc8b"
      },
      "source": [
        "model = model.eval()\n",
        "DonutDataset.displayCanvas('test6layer10xConstantWidth.png',test_dataset, model = model)\n"
      ],
      "execution_count": 24,
      "outputs": [
        {
          "output_type": "display_data",
          "data": {
            "image/png": "[encoded data removed]",
            "text/plain": [
              "<Figure size 432x288 with 100 Axes>"
            ]
          },
          "metadata": {
            "tags": [],
            "needs_background": "light"
          }
        }
      ]
    },
    {
      "cell_type": "code",
      "metadata": {
        "id": "Z-eckeMYxMKV",
        "outputId": "46923b8c-55c1-4ce7-8654-77af002fae92",
        "colab": {
          "base_uri": "https://localhost:8080/"
        }
      },
      "source": [
        "loss = None\n",
        "model = model.eval()\n",
        "total = 0.0\n",
        "count = 0.0\n",
        "for xin,yin in loader_test:\n",
        "  if xin.shape[0] != mini_batch:\n",
        "    print(xin.shape)\n",
        "    continue\n",
        "  xin = xin.cuda()\n",
        "  yin = yin.cuda()\n",
        "  out = model(xin)\n",
        "  assert out.shape == yin.shape\n",
        "  \n",
        "  loss = torch.mean((out-yin)**2)\n",
        "  count+=1.0\n",
        "  total+=loss.item()\n",
        "print('validation loss','\\t', (float)(total/count))\n"
      ],
      "execution_count": 25,
      "outputs": [
        {
          "output_type": "stream",
          "text": [
            "/usr/local/lib/python3.7/dist-packages/torch/utils/data/dataloader.py:477: UserWarning: This DataLoader will create 4 worker processes in total. Our suggested max number of worker in current system is 2, which is smaller than what this DataLoader is going to create. Please be aware that excessive worker creation might get DataLoader running slow or even freeze, lower the worker number to avoid potential slowness/freeze if necessary.\n",
            "  cpuset_checked))\n"
          ],
          "name": "stderr"
        },
        {
          "output_type": "stream",
          "text": [
            "torch.Size([36, 32, 32])\n",
            "validation loss \t 2.1127171516418457\n"
          ],
          "name": "stdout"
        }
      ]
    },
    {
      "cell_type": "markdown",
      "metadata": {
        "id": "IllF5VVyOkBi"
      },
      "source": [
        "The 6 layer gets slow with 10x units. accuracy also gets worse.  \n"
      ]
    },
    {
      "cell_type": "code",
      "metadata": {
        "id": "kWO-jll3OjH1"
      },
      "source": [
        "import torch\n",
        "import torch.nn as nn\n",
        "from torch.hub import load_state_dict_from_url\n",
        "\n",
        "class MLP(nn.Module):\n",
        "    def __init__(self):\n",
        "        super(MLP, self).__init__()\n",
        "        self.input_dim = 1*32*32\n",
        "        self.output_dim = 2000\n",
        "        self.net = nn.Sequential(\n",
        "            nn.Linear(self.input_dim, 10*self.input_dim),\n",
        "            nn.ReLU(True),\n",
        "            nn.Dropout(),\n",
        "            nn.Linear(10*self.input_dim, 10*self.input_dim),\n",
        "            nn.ReLU(True),\n",
        "            nn.Dropout(),\n",
        "            nn.Linear(10*self.input_dim, self.output_dim),\n",
        "            nn.Sigmoid()\n",
        "        )\n",
        "        \n",
        "        \n",
        "\n",
        "    def forward(self, x):\n",
        "        #x = x.squeeze()\n",
        "        if x.shape[0]!= mini_batch:\n",
        "          assert x.shape[0] == 32 and x.shape[1] == 32\n",
        "          x = x.unsqueeze(0)\n",
        "        x = torch.flatten(x,start_dim=1)\n",
        "        \n",
        "        #assert x.shape == (mini_batch,self.hidden_dim)\n",
        "        out = self.net(x)\n",
        "        out = out.reshape(x.shape[0],1000,2)\n",
        "        return 32.0*out\n"
      ],
      "execution_count": 26,
      "outputs": []
    },
    {
      "cell_type": "code",
      "metadata": {
        "id": "zuW4jRLdOo86"
      },
      "source": [
        "model = MLP().cuda()\n",
        "optimizer = torch.optim.Adam(model.parameters(),lr = 0.0001, betas = (.9,.999))\n"
      ],
      "execution_count": 27,
      "outputs": []
    },
    {
      "cell_type": "code",
      "metadata": {
        "colab": {
          "base_uri": "https://localhost:8080/"
        },
        "id": "mnRaTtlSPhOh",
        "outputId": "e5500946-c52e-4e5f-90ee-0df65f465556"
      },
      "source": [
        "loss = None\n",
        "model = model.train()\n",
        "for e in range(epoch):\n",
        "  for xin,yin in loader_train:\n",
        "    optimizer.zero_grad()\n",
        "    if xin.shape[0] != mini_batch:\n",
        "      print(xin.shape)\n",
        "      continue\n",
        "    xin = xin.cuda()\n",
        "    yin = yin.cuda()\n",
        "    out = model(xin)\n",
        "    assert out.shape == yin.shape\n",
        "    \n",
        "    loss = torch.mean((out-yin)**2)\n",
        "    loss.backward()\n",
        "    optimizer.step()\n",
        "    \n",
        "  print('epoch',e,'\\tTraining loss', loss.item())\n"
      ],
      "execution_count": 28,
      "outputs": [
        {
          "output_type": "stream",
          "text": [
            "/usr/local/lib/python3.7/dist-packages/torch/utils/data/dataloader.py:477: UserWarning: This DataLoader will create 4 worker processes in total. Our suggested max number of worker in current system is 2, which is smaller than what this DataLoader is going to create. Please be aware that excessive worker creation might get DataLoader running slow or even freeze, lower the worker number to avoid potential slowness/freeze if necessary.\n",
            "  cpuset_checked))\n"
          ],
          "name": "stderr"
        },
        {
          "output_type": "stream",
          "text": [
            "epoch 0 \tTraining loss 2.5344064235687256\n",
            "epoch 1 \tTraining loss 1.7464566230773926\n",
            "epoch 2 \tTraining loss 1.6583313941955566\n",
            "epoch 3 \tTraining loss 1.4032869338989258\n",
            "epoch 4 \tTraining loss 1.4135515689849854\n",
            "epoch 5 \tTraining loss 1.3473091125488281\n",
            "epoch 6 \tTraining loss 1.2870804071426392\n",
            "epoch 7 \tTraining loss 1.1912442445755005\n",
            "epoch 8 \tTraining loss 1.158599615097046\n",
            "epoch 9 \tTraining loss 1.071050763130188\n",
            "epoch 10 \tTraining loss 1.0548179149627686\n",
            "epoch 11 \tTraining loss 0.9149413108825684\n",
            "epoch 12 \tTraining loss 0.9714774489402771\n",
            "epoch 13 \tTraining loss 0.6973667144775391\n",
            "epoch 14 \tTraining loss 0.6784777045249939\n",
            "epoch 15 \tTraining loss 0.6004498600959778\n",
            "epoch 16 \tTraining loss 0.5705833435058594\n",
            "epoch 17 \tTraining loss 0.582973062992096\n",
            "epoch 18 \tTraining loss 0.5656788349151611\n",
            "epoch 19 \tTraining loss 0.5782579779624939\n",
            "epoch 20 \tTraining loss 0.49636027216911316\n",
            "epoch 21 \tTraining loss 0.5049497485160828\n",
            "epoch 22 \tTraining loss 0.467873215675354\n",
            "epoch 23 \tTraining loss 0.4875068664550781\n",
            "epoch 24 \tTraining loss 0.4106421172618866\n",
            "epoch 25 \tTraining loss 0.45941653847694397\n",
            "epoch 26 \tTraining loss 0.4314318895339966\n",
            "epoch 27 \tTraining loss 0.4037463068962097\n",
            "epoch 28 \tTraining loss 0.3633219301700592\n",
            "epoch 29 \tTraining loss 0.3652428388595581\n",
            "epoch 30 \tTraining loss 0.3441237211227417\n",
            "epoch 31 \tTraining loss 0.37257203459739685\n",
            "epoch 32 \tTraining loss 0.4097946882247925\n",
            "epoch 33 \tTraining loss 0.3222990930080414\n",
            "epoch 34 \tTraining loss 0.3652569651603699\n",
            "epoch 35 \tTraining loss 0.3523222804069519\n",
            "epoch 36 \tTraining loss 0.3360731899738312\n",
            "epoch 37 \tTraining loss 0.32790541648864746\n",
            "epoch 38 \tTraining loss 0.32268989086151123\n",
            "epoch 39 \tTraining loss 0.29758167266845703\n"
          ],
          "name": "stdout"
        }
      ]
    },
    {
      "cell_type": "code",
      "metadata": {
        "id": "IPcsB8_xPkzx"
      },
      "source": [
        "optimizer = torch.optim.Adam(model.parameters(),lr = 0.00001, betas = (.9,.999))\n"
      ],
      "execution_count": 29,
      "outputs": []
    },
    {
      "cell_type": "code",
      "metadata": {
        "colab": {
          "base_uri": "https://localhost:8080/"
        },
        "id": "plYN-ZLoPmwg",
        "outputId": "769a514d-c544-49dd-f8e7-fd7e167cf8ad"
      },
      "source": [
        "loss = None\n",
        "model = model.train()\n",
        "for e in range(epoch):\n",
        "  for xin,yin in loader_train:\n",
        "    optimizer.zero_grad()\n",
        "    if xin.shape[0] != mini_batch:\n",
        "      print(xin.shape)\n",
        "      continue\n",
        "    xin = xin.cuda()\n",
        "    yin = yin.cuda()\n",
        "    out = model(xin)\n",
        "    assert out.shape == yin.shape\n",
        "    \n",
        "    loss = torch.mean((out-yin)**2)\n",
        "    loss.backward()\n",
        "    optimizer.step()\n",
        "    \n",
        "  print('epoch',e,'\\tTraining loss', loss.item())\n"
      ],
      "execution_count": 30,
      "outputs": [
        {
          "output_type": "stream",
          "text": [
            "/usr/local/lib/python3.7/dist-packages/torch/utils/data/dataloader.py:477: UserWarning: This DataLoader will create 4 worker processes in total. Our suggested max number of worker in current system is 2, which is smaller than what this DataLoader is going to create. Please be aware that excessive worker creation might get DataLoader running slow or even freeze, lower the worker number to avoid potential slowness/freeze if necessary.\n",
            "  cpuset_checked))\n"
          ],
          "name": "stderr"
        },
        {
          "output_type": "stream",
          "text": [
            "epoch 0 \tTraining loss 0.3123745322227478\n",
            "epoch 1 \tTraining loss 0.28763943910598755\n",
            "epoch 2 \tTraining loss 0.2833578288555145\n",
            "epoch 3 \tTraining loss 0.282309889793396\n",
            "epoch 4 \tTraining loss 0.2852751612663269\n",
            "epoch 5 \tTraining loss 0.2799469530582428\n",
            "epoch 6 \tTraining loss 0.2600049376487732\n",
            "epoch 7 \tTraining loss 0.2858962416648865\n",
            "epoch 8 \tTraining loss 0.2648222744464874\n",
            "epoch 9 \tTraining loss 0.2711678147315979\n",
            "epoch 10 \tTraining loss 0.2650390863418579\n",
            "epoch 11 \tTraining loss 0.27811938524246216\n",
            "epoch 12 \tTraining loss 0.26434847712516785\n",
            "epoch 13 \tTraining loss 0.26023387908935547\n",
            "epoch 14 \tTraining loss 0.24770526587963104\n",
            "epoch 15 \tTraining loss 0.23495368659496307\n",
            "epoch 16 \tTraining loss 0.2607541084289551\n",
            "epoch 17 \tTraining loss 0.24026760458946228\n",
            "epoch 18 \tTraining loss 0.2449270337820053\n",
            "epoch 19 \tTraining loss 0.23686347901821136\n",
            "epoch 20 \tTraining loss 0.22735384106636047\n",
            "epoch 21 \tTraining loss 0.2184714823961258\n",
            "epoch 22 \tTraining loss 0.23533160984516144\n",
            "epoch 23 \tTraining loss 0.21782127022743225\n",
            "epoch 24 \tTraining loss 0.2391582727432251\n",
            "epoch 25 \tTraining loss 0.23529541492462158\n",
            "epoch 26 \tTraining loss 0.21950270235538483\n",
            "epoch 27 \tTraining loss 0.2502359449863434\n",
            "epoch 28 \tTraining loss 0.24066001176834106\n",
            "epoch 29 \tTraining loss 0.24334397912025452\n",
            "epoch 30 \tTraining loss 0.21888227760791779\n",
            "epoch 31 \tTraining loss 0.20520608127117157\n",
            "epoch 32 \tTraining loss 0.2210095375776291\n",
            "epoch 33 \tTraining loss 0.2237941026687622\n",
            "epoch 34 \tTraining loss 0.22304250299930573\n",
            "epoch 35 \tTraining loss 0.23373763263225555\n",
            "epoch 36 \tTraining loss 0.20394378900527954\n",
            "epoch 37 \tTraining loss 0.21343478560447693\n",
            "epoch 38 \tTraining loss 0.21358908712863922\n",
            "epoch 39 \tTraining loss 0.21795175969600677\n"
          ],
          "name": "stdout"
        }
      ]
    },
    {
      "cell_type": "code",
      "metadata": {
        "colab": {
          "base_uri": "https://localhost:8080/",
          "height": 248
        },
        "id": "mlNhJ9_LPsFt",
        "outputId": "e49ca182-f9de-4b11-f682-9073e27e77a5"
      },
      "source": [
        "model = model.eval()\n",
        "DonutDataset.displayCanvas('test3layer10xConstantWidth.png',test_dataset, model = model)\n"
      ],
      "execution_count": 31,
      "outputs": [
        {
          "output_type": "display_data",
          "data": {
            "image/png": "[encoded data removed]",
            "text/plain": [
              "<Figure size 432x288 with 100 Axes>"
            ]
          },
          "metadata": {
            "tags": [],
            "needs_background": "light"
          }
        }
      ]
    },
    {
      "cell_type": "code",
      "metadata": {
        "id": "w0ovtWpAxg35",
        "outputId": "af2481aa-0f0e-44aa-e407-4fcd337a3fe4",
        "colab": {
          "base_uri": "https://localhost:8080/"
        }
      },
      "source": [
        "loss = None\n",
        "model = model.eval()\n",
        "total = 0.0\n",
        "count = 0.0\n",
        "for xin,yin in loader_test:\n",
        "  if xin.shape[0] != mini_batch:\n",
        "    print(xin.shape)\n",
        "    continue\n",
        "  xin = xin.cuda()\n",
        "  yin = yin.cuda()\n",
        "  out = model(xin)\n",
        "  assert out.shape == yin.shape\n",
        "  \n",
        "  loss = torch.mean((out-yin)**2)\n",
        "  count+=1.0\n",
        "  total+=loss.item()\n",
        "print('validation loss','\\t', (float)(total/count))\n"
      ],
      "execution_count": 32,
      "outputs": [
        {
          "output_type": "stream",
          "text": [
            "/usr/local/lib/python3.7/dist-packages/torch/utils/data/dataloader.py:477: UserWarning: This DataLoader will create 4 worker processes in total. Our suggested max number of worker in current system is 2, which is smaller than what this DataLoader is going to create. Please be aware that excessive worker creation might get DataLoader running slow or even freeze, lower the worker number to avoid potential slowness/freeze if necessary.\n",
            "  cpuset_checked))\n"
          ],
          "name": "stderr"
        },
        {
          "output_type": "stream",
          "text": [
            "torch.Size([36, 32, 32])\n",
            "validation loss \t 0.4470389187335968\n"
          ],
          "name": "stdout"
        }
      ]
    },
    {
      "cell_type": "code",
      "metadata": {
        "id": "unFXRD3PPwsn"
      },
      "source": [
        "import torch\n",
        "import torch.nn as nn\n",
        "from torch.hub import load_state_dict_from_url\n",
        "\n",
        "class MLP(nn.Module):\n",
        "    def __init__(self):\n",
        "        super(MLP, self).__init__()\n",
        "        self.input_dim = 1*32*32\n",
        "        self.output_dim = 2000\n",
        "        self.net = nn.Sequential(\n",
        "            nn.Linear(self.input_dim, 100*self.input_dim),\n",
        "            nn.ReLU(),\n",
        "            nn.Dropout(),\n",
        "            nn.Linear(100*self.input_dim, self.output_dim),\n",
        "            nn.Sigmoid()\n",
        "        )\n",
        "        \n",
        "        \n",
        "\n",
        "    def forward(self, x):\n",
        "\n",
        "      #x = x.squeeze()\n",
        "      if x.shape[0]!= mini_batch:\n",
        "        assert x.shape[0] == 32 and x.shape[1] == 32\n",
        "        x = x.unsqueeze(0)\n",
        "      x = torch.flatten(x,start_dim=1)\n",
        "      \n",
        "      #assert x.shape == (mini_batch,self.hidden_dim)\n",
        "      out = self.net(x)\n",
        "      out = out.reshape(x.shape[0],1000,2)\n",
        "      return 32.0*out\n"
      ],
      "execution_count": 33,
      "outputs": []
    },
    {
      "cell_type": "code",
      "metadata": {
        "id": "CnkTLigGQEN8"
      },
      "source": [
        "model = MLP().cuda()\n",
        "optimizer = torch.optim.Adam(model.parameters(),lr = 0.0001, betas = (.9,.999))\n"
      ],
      "execution_count": 34,
      "outputs": []
    },
    {
      "cell_type": "code",
      "metadata": {
        "colab": {
          "base_uri": "https://localhost:8080/"
        },
        "id": "Sq98XybWQIx1",
        "outputId": "525d6664-d9e7-400c-d9bd-c31fb01687b7"
      },
      "source": [
        "loss = None\n",
        "#model = model.train()\n",
        "for e in range(epoch):\n",
        "  for xin,yin in loader_train:\n",
        "    optimizer.zero_grad()\n",
        "    if xin.shape[0] != mini_batch:\n",
        "      print(xin.shape)\n",
        "      continue\n",
        "    xin = xin.cuda()\n",
        "    yin = yin.cuda()\n",
        "    out = model(xin)\n",
        "    assert out.shape == yin.shape\n",
        "    \n",
        "    loss = torch.mean((out-yin)**2)\n",
        "    loss.backward()\n",
        "    optimizer.step()\n",
        "  \n",
        "\n",
        "  print('epoch',e,'\\tTraining loss', loss.item())\n"
      ],
      "execution_count": 35,
      "outputs": [
        {
          "output_type": "stream",
          "text": [
            "/usr/local/lib/python3.7/dist-packages/torch/utils/data/dataloader.py:477: UserWarning: This DataLoader will create 4 worker processes in total. Our suggested max number of worker in current system is 2, which is smaller than what this DataLoader is going to create. Please be aware that excessive worker creation might get DataLoader running slow or even freeze, lower the worker number to avoid potential slowness/freeze if necessary.\n",
            "  cpuset_checked))\n"
          ],
          "name": "stderr"
        },
        {
          "output_type": "stream",
          "text": [
            "epoch 0 \tTraining loss 2.3172197341918945\n",
            "epoch 1 \tTraining loss 1.1609402894973755\n",
            "epoch 2 \tTraining loss 0.9308860898017883\n",
            "epoch 3 \tTraining loss 0.6234790086746216\n",
            "epoch 4 \tTraining loss 0.5441758036613464\n",
            "epoch 5 \tTraining loss 0.41322529315948486\n",
            "epoch 6 \tTraining loss 0.3052016794681549\n",
            "epoch 7 \tTraining loss 0.2697821259498596\n",
            "epoch 8 \tTraining loss 0.2294970452785492\n",
            "epoch 9 \tTraining loss 0.20167627930641174\n",
            "epoch 10 \tTraining loss 0.1797637790441513\n",
            "epoch 11 \tTraining loss 0.17636564373970032\n",
            "epoch 12 \tTraining loss 0.1646060347557068\n",
            "epoch 13 \tTraining loss 0.1465693712234497\n",
            "epoch 14 \tTraining loss 0.1371590942144394\n",
            "epoch 15 \tTraining loss 0.13729719817638397\n",
            "epoch 16 \tTraining loss 0.12485995888710022\n",
            "epoch 17 \tTraining loss 0.12212539464235306\n",
            "epoch 18 \tTraining loss 0.11866344511508942\n",
            "epoch 19 \tTraining loss 0.1118619292974472\n",
            "epoch 20 \tTraining loss 0.11017545312643051\n",
            "epoch 21 \tTraining loss 0.11205371469259262\n",
            "epoch 22 \tTraining loss 0.10592790693044662\n",
            "epoch 23 \tTraining loss 0.09827897697687149\n",
            "epoch 24 \tTraining loss 0.09715208411216736\n",
            "epoch 25 \tTraining loss 0.09347120672464371\n",
            "epoch 26 \tTraining loss 0.0930054634809494\n",
            "epoch 27 \tTraining loss 0.09427082538604736\n",
            "epoch 28 \tTraining loss 0.0861300379037857\n",
            "epoch 29 \tTraining loss 0.08468057215213776\n",
            "epoch 30 \tTraining loss 0.09137173742055893\n",
            "epoch 31 \tTraining loss 0.08073879778385162\n",
            "epoch 32 \tTraining loss 0.08116862922906876\n",
            "epoch 33 \tTraining loss 0.07747465372085571\n",
            "epoch 34 \tTraining loss 0.08142032474279404\n",
            "epoch 35 \tTraining loss 0.07844670116901398\n",
            "epoch 36 \tTraining loss 0.0718357264995575\n",
            "epoch 37 \tTraining loss 0.07775526493787766\n",
            "epoch 38 \tTraining loss 0.07384315878152847\n",
            "epoch 39 \tTraining loss 0.07573913037776947\n"
          ],
          "name": "stdout"
        }
      ]
    },
    {
      "cell_type": "code",
      "metadata": {
        "id": "ewrku1rNQQsV"
      },
      "source": [
        "optimizer = torch.optim.Adam(model.parameters(),lr = 0.00001, betas = (.9,.999))\n"
      ],
      "execution_count": 36,
      "outputs": []
    },
    {
      "cell_type": "code",
      "metadata": {
        "colab": {
          "base_uri": "https://localhost:8080/"
        },
        "id": "SORj9jSsQqq1",
        "outputId": "9385b31f-1328-4caf-8073-bc5962fcb37f"
      },
      "source": [
        "loss = None\n",
        "#model = model.train()\n",
        "for e in range(epoch):\n",
        "  for xin,yin in loader_train:\n",
        "    optimizer.zero_grad()\n",
        "    if xin.shape[0] != mini_batch:\n",
        "      print(xin.shape)\n",
        "      continue\n",
        "    xin = xin.cuda()\n",
        "    yin = yin.cuda()\n",
        "    out = model(xin)\n",
        "    assert out.shape == yin.shape\n",
        "    \n",
        "    loss = torch.mean((out-yin)**2)\n",
        "    loss.backward()\n",
        "    optimizer.step()\n",
        "    \n",
        "  print('epoch',e,'\\tTraining loss', loss.item())\n"
      ],
      "execution_count": 37,
      "outputs": [
        {
          "output_type": "stream",
          "text": [
            "/usr/local/lib/python3.7/dist-packages/torch/utils/data/dataloader.py:477: UserWarning: This DataLoader will create 4 worker processes in total. Our suggested max number of worker in current system is 2, which is smaller than what this DataLoader is going to create. Please be aware that excessive worker creation might get DataLoader running slow or even freeze, lower the worker number to avoid potential slowness/freeze if necessary.\n",
            "  cpuset_checked))\n"
          ],
          "name": "stderr"
        },
        {
          "output_type": "stream",
          "text": [
            "epoch 0 \tTraining loss 0.06930600106716156\n",
            "epoch 1 \tTraining loss 0.06784682720899582\n",
            "epoch 2 \tTraining loss 0.06349044293165207\n",
            "epoch 3 \tTraining loss 0.06493262201547623\n",
            "epoch 4 \tTraining loss 0.06240205094218254\n",
            "epoch 5 \tTraining loss 0.06196127459406853\n",
            "epoch 6 \tTraining loss 0.06072419136762619\n",
            "epoch 7 \tTraining loss 0.05913081765174866\n",
            "epoch 8 \tTraining loss 0.05906645581126213\n",
            "epoch 9 \tTraining loss 0.05634034797549248\n",
            "epoch 10 \tTraining loss 0.05953329801559448\n",
            "epoch 11 \tTraining loss 0.05729756876826286\n",
            "epoch 12 \tTraining loss 0.06007470190525055\n",
            "epoch 13 \tTraining loss 0.05690377950668335\n",
            "epoch 14 \tTraining loss 0.054190754890441895\n",
            "epoch 15 \tTraining loss 0.05501546338200569\n",
            "epoch 16 \tTraining loss 0.053142424672842026\n",
            "epoch 17 \tTraining loss 0.05666597560048103\n",
            "epoch 18 \tTraining loss 0.052786532789468765\n",
            "epoch 19 \tTraining loss 0.05207475274801254\n",
            "epoch 20 \tTraining loss 0.05265412852168083\n",
            "epoch 21 \tTraining loss 0.051058635115623474\n",
            "epoch 22 \tTraining loss 0.051480647176504135\n",
            "epoch 23 \tTraining loss 0.05353173986077309\n",
            "epoch 24 \tTraining loss 0.053267691284418106\n",
            "epoch 25 \tTraining loss 0.05206308141350746\n",
            "epoch 26 \tTraining loss 0.05040255934000015\n",
            "epoch 27 \tTraining loss 0.051315322518348694\n",
            "epoch 28 \tTraining loss 0.052427105605602264\n",
            "epoch 29 \tTraining loss 0.05386652052402496\n",
            "epoch 30 \tTraining loss 0.04908076673746109\n",
            "epoch 31 \tTraining loss 0.04835310950875282\n",
            "epoch 32 \tTraining loss 0.049524255096912384\n",
            "epoch 33 \tTraining loss 0.04732245206832886\n",
            "epoch 34 \tTraining loss 0.047961123287677765\n",
            "epoch 35 \tTraining loss 0.04637283459305763\n",
            "epoch 36 \tTraining loss 0.04841679707169533\n",
            "epoch 37 \tTraining loss 0.04817954823374748\n",
            "epoch 38 \tTraining loss 0.04474756121635437\n",
            "epoch 39 \tTraining loss 0.04721833020448685\n"
          ],
          "name": "stdout"
        }
      ]
    },
    {
      "cell_type": "code",
      "metadata": {
        "colab": {
          "base_uri": "https://localhost:8080/",
          "height": 248
        },
        "id": "lymEA6zgQtBG",
        "outputId": "039e2453-ba00-4aad-b38b-0ed672de7c40"
      },
      "source": [
        "DonutDataset.displayCanvas('test2layer100x.png',test_dataset, model = model)\n"
      ],
      "execution_count": 38,
      "outputs": [
        {
          "output_type": "display_data",
          "data": {
            "image/png": "[encoded data removed]",
            "text/plain": [
              "<Figure size 432x288 with 100 Axes>"
            ]
          },
          "metadata": {
            "tags": [],
            "needs_background": "light"
          }
        }
      ]
    },
    {
      "cell_type": "code",
      "metadata": {
        "id": "jxUCFkvgteLY",
        "outputId": "5020ff55-4ecc-4f90-8c44-3f006cc422a6",
        "colab": {
          "base_uri": "https://localhost:8080/"
        }
      },
      "source": [
        "loss = None\n",
        "model = model.eval()\n",
        "total = 0.0\n",
        "count = 0.0\n",
        "for xin,yin in loader_test:\n",
        "  if xin.shape[0] != mini_batch:\n",
        "    print(xin.shape)\n",
        "    continue\n",
        "  xin = xin.cuda()\n",
        "  yin = yin.cuda()\n",
        "  out = model(xin)\n",
        "  assert out.shape == yin.shape\n",
        "  \n",
        "  loss = torch.mean((out-yin)**2)\n",
        "  count+=1.0\n",
        "  total+=loss.item()\n",
        "print('validation loss','\\t', (float)(total/count))\n"
      ],
      "execution_count": 39,
      "outputs": [
        {
          "output_type": "stream",
          "text": [
            "/usr/local/lib/python3.7/dist-packages/torch/utils/data/dataloader.py:477: UserWarning: This DataLoader will create 4 worker processes in total. Our suggested max number of worker in current system is 2, which is smaller than what this DataLoader is going to create. Please be aware that excessive worker creation might get DataLoader running slow or even freeze, lower the worker number to avoid potential slowness/freeze if necessary.\n",
            "  cpuset_checked))\n"
          ],
          "name": "stderr"
        },
        {
          "output_type": "stream",
          "text": [
            "torch.Size([36, 32, 32])\n",
            "validation loss \t 0.2346706986427307\n"
          ],
          "name": "stdout"
        }
      ]
    },
    {
      "cell_type": "code",
      "metadata": {
        "id": "F0xcF2hOvgKx"
      },
      "source": [
        "import torch\n",
        "import torch.nn as nn\n",
        "from torch.hub import load_state_dict_from_url\n",
        "\n",
        "class MLP(nn.Module):\n",
        "    def __init__(self):\n",
        "        super(MLP, self).__init__()\n",
        "        self.input_dim = 1*32*32\n",
        "        self.output_dim = 2000\n",
        "        self.net = nn.Sequential(\n",
        "            nn.Linear(self.input_dim, self.output_dim),\n",
        "            nn.Sigmoid()\n",
        "        )\n",
        "        \n",
        "        \n",
        "\n",
        "    def forward(self, x):\n",
        "        #x = x.squeeze()\n",
        "        if x.shape[0]!= mini_batch:\n",
        "          assert x.shape[0] == 32 and x.shape[1] == 32\n",
        "          x = x.unsqueeze(0)\n",
        "        x = torch.flatten(x,start_dim=1)\n",
        "        \n",
        "        #assert x.shape == (mini_batch,self.hidden_dim)\n",
        "        out = self.net(x)\n",
        "        out = out.reshape(x.shape[0],1000,2)\n",
        "        return 32.0*out\n"
      ],
      "execution_count": 40,
      "outputs": []
    },
    {
      "cell_type": "code",
      "metadata": {
        "id": "d2aNxt9v0eMr"
      },
      "source": [
        "model = MLP().cuda()\n",
        "optimizer = torch.optim.Adam(model.parameters(),lr = 0.0001, betas = (.9,.999))\n"
      ],
      "execution_count": 41,
      "outputs": []
    },
    {
      "cell_type": "code",
      "metadata": {
        "id": "Ng7N0Bpc0euE",
        "outputId": "a2c8eb47-5f2a-4b9f-c7d1-196c558ceb6d",
        "colab": {
          "base_uri": "https://localhost:8080/"
        }
      },
      "source": [
        "loss = None\n",
        "model = model.train()\n",
        "for e in range(epoch):\n",
        "  for xin,yin in loader_train:\n",
        "    optimizer.zero_grad()\n",
        "    if xin.shape[0] != mini_batch:\n",
        "      print(xin.shape)\n",
        "      continue\n",
        "    xin = xin.cuda()\n",
        "    yin = yin.cuda()\n",
        "    out = model(xin)\n",
        "    assert out.shape == yin.shape\n",
        "    \n",
        "    loss = torch.mean((out-yin)**2)\n",
        "    loss.backward()\n",
        "    optimizer.step()\n",
        "    \n",
        "  print('epoch',e,'\\tTraining loss', loss.item())\n"
      ],
      "execution_count": 42,
      "outputs": [
        {
          "output_type": "stream",
          "text": [
            "/usr/local/lib/python3.7/dist-packages/torch/utils/data/dataloader.py:477: UserWarning: This DataLoader will create 4 worker processes in total. Our suggested max number of worker in current system is 2, which is smaller than what this DataLoader is going to create. Please be aware that excessive worker creation might get DataLoader running slow or even freeze, lower the worker number to avoid potential slowness/freeze if necessary.\n",
            "  cpuset_checked))\n"
          ],
          "name": "stderr"
        },
        {
          "output_type": "stream",
          "text": [
            "epoch 0 \tTraining loss 28.699047088623047\n",
            "epoch 1 \tTraining loss 16.587995529174805\n",
            "epoch 2 \tTraining loss 11.262181282043457\n",
            "epoch 3 \tTraining loss 8.044723510742188\n",
            "epoch 4 \tTraining loss 7.0740742683410645\n",
            "epoch 5 \tTraining loss 5.490173816680908\n",
            "epoch 6 \tTraining loss 5.036618232727051\n",
            "epoch 7 \tTraining loss 5.127458095550537\n",
            "epoch 8 \tTraining loss 5.649625301361084\n",
            "epoch 9 \tTraining loss 4.79372501373291\n",
            "epoch 10 \tTraining loss 4.397269248962402\n",
            "epoch 11 \tTraining loss 4.598071575164795\n",
            "epoch 12 \tTraining loss 4.812934398651123\n",
            "epoch 13 \tTraining loss 4.775607585906982\n",
            "epoch 14 \tTraining loss 3.5956764221191406\n",
            "epoch 15 \tTraining loss 4.696722030639648\n",
            "epoch 16 \tTraining loss 4.057436943054199\n",
            "epoch 17 \tTraining loss 3.8033854961395264\n",
            "epoch 18 \tTraining loss 4.076400279998779\n",
            "epoch 19 \tTraining loss 3.679959535598755\n",
            "epoch 20 \tTraining loss 4.043046951293945\n",
            "epoch 21 \tTraining loss 4.100944519042969\n",
            "epoch 22 \tTraining loss 3.882178783416748\n",
            "epoch 23 \tTraining loss 3.6867880821228027\n",
            "epoch 24 \tTraining loss 3.8013174533843994\n",
            "epoch 25 \tTraining loss 3.4229276180267334\n",
            "epoch 26 \tTraining loss 3.4698755741119385\n",
            "epoch 27 \tTraining loss 3.4174845218658447\n",
            "epoch 28 \tTraining loss 3.782032012939453\n",
            "epoch 29 \tTraining loss 3.834639310836792\n",
            "epoch 30 \tTraining loss 3.4108998775482178\n",
            "epoch 31 \tTraining loss 3.6229288578033447\n",
            "epoch 32 \tTraining loss 4.120786190032959\n",
            "epoch 33 \tTraining loss 3.1735620498657227\n",
            "epoch 34 \tTraining loss 3.2693605422973633\n",
            "epoch 35 \tTraining loss 3.018247127532959\n",
            "epoch 36 \tTraining loss 3.516571521759033\n",
            "epoch 37 \tTraining loss 3.7957570552825928\n",
            "epoch 38 \tTraining loss 3.412262439727783\n",
            "epoch 39 \tTraining loss 3.9108328819274902\n"
          ],
          "name": "stdout"
        }
      ]
    },
    {
      "cell_type": "code",
      "metadata": {
        "id": "gp0m_bdl0pP6"
      },
      "source": [
        "optimizer = torch.optim.Adam(model.parameters(),lr = 0.00001, betas = (.9,.999))\n"
      ],
      "execution_count": 43,
      "outputs": []
    },
    {
      "cell_type": "code",
      "metadata": {
        "id": "VS5_Yz5Q0sKy",
        "outputId": "7f535107-af6e-4a92-9856-f4951f9611cd",
        "colab": {
          "base_uri": "https://localhost:8080/"
        }
      },
      "source": [
        "loss = None\n",
        "model = model.train()\n",
        "for e in range(epoch):\n",
        "  for xin,yin in loader_train:\n",
        "    optimizer.zero_grad()\n",
        "    if xin.shape[0] != mini_batch:\n",
        "      print(xin.shape)\n",
        "      continue\n",
        "    xin = xin.cuda()\n",
        "    yin = yin.cuda()\n",
        "    out = model(xin)\n",
        "    assert out.shape == yin.shape\n",
        "    \n",
        "    loss = torch.mean((out-yin)**2)\n",
        "    loss.backward()\n",
        "    optimizer.step()\n",
        "    \n",
        "  print('epoch',e,'\\tTraining loss', loss.item())\n"
      ],
      "execution_count": 44,
      "outputs": [
        {
          "output_type": "stream",
          "text": [
            "/usr/local/lib/python3.7/dist-packages/torch/utils/data/dataloader.py:477: UserWarning: This DataLoader will create 4 worker processes in total. Our suggested max number of worker in current system is 2, which is smaller than what this DataLoader is going to create. Please be aware that excessive worker creation might get DataLoader running slow or even freeze, lower the worker number to avoid potential slowness/freeze if necessary.\n",
            "  cpuset_checked))\n"
          ],
          "name": "stderr"
        },
        {
          "output_type": "stream",
          "text": [
            "epoch 0 \tTraining loss 3.4815948009490967\n",
            "epoch 1 \tTraining loss 3.268822431564331\n",
            "epoch 2 \tTraining loss 3.0888936519622803\n",
            "epoch 3 \tTraining loss 3.151909351348877\n",
            "epoch 4 \tTraining loss 3.142803192138672\n",
            "epoch 5 \tTraining loss 3.022376537322998\n",
            "epoch 6 \tTraining loss 3.33420729637146\n",
            "epoch 7 \tTraining loss 3.1246697902679443\n",
            "epoch 8 \tTraining loss 3.0956013202667236\n",
            "epoch 9 \tTraining loss 3.0247247219085693\n",
            "epoch 10 \tTraining loss 3.607912302017212\n",
            "epoch 11 \tTraining loss 3.239666223526001\n",
            "epoch 12 \tTraining loss 3.324228048324585\n",
            "epoch 13 \tTraining loss 3.319628953933716\n",
            "epoch 14 \tTraining loss 3.2604269981384277\n",
            "epoch 15 \tTraining loss 3.0012381076812744\n",
            "epoch 16 \tTraining loss 2.9552013874053955\n",
            "epoch 17 \tTraining loss 3.0993239879608154\n",
            "epoch 18 \tTraining loss 3.2845420837402344\n",
            "epoch 19 \tTraining loss 2.9256231784820557\n",
            "epoch 20 \tTraining loss 3.376995086669922\n",
            "epoch 21 \tTraining loss 3.1355741024017334\n",
            "epoch 22 \tTraining loss 2.835202217102051\n",
            "epoch 23 \tTraining loss 3.573554754257202\n",
            "epoch 24 \tTraining loss 3.465052843093872\n",
            "epoch 25 \tTraining loss 2.965317487716675\n",
            "epoch 26 \tTraining loss 3.470161199569702\n",
            "epoch 27 \tTraining loss 2.9065639972686768\n",
            "epoch 28 \tTraining loss 2.9294166564941406\n",
            "epoch 29 \tTraining loss 2.782414197921753\n",
            "epoch 30 \tTraining loss 2.700788736343384\n",
            "epoch 31 \tTraining loss 3.050041913986206\n",
            "epoch 32 \tTraining loss 2.9189352989196777\n",
            "epoch 33 \tTraining loss 2.9435362815856934\n",
            "epoch 34 \tTraining loss 2.8135807514190674\n",
            "epoch 35 \tTraining loss 3.1121182441711426\n",
            "epoch 36 \tTraining loss 2.869091510772705\n",
            "epoch 37 \tTraining loss 2.674811840057373\n",
            "epoch 38 \tTraining loss 3.298382520675659\n",
            "epoch 39 \tTraining loss 3.4082956314086914\n"
          ],
          "name": "stdout"
        }
      ]
    },
    {
      "cell_type": "code",
      "metadata": {
        "id": "TD1CvtCm0vHb",
        "outputId": "a511f668-5572-4076-e3c2-9b7595bcea74",
        "colab": {
          "base_uri": "https://localhost:8080/",
          "height": 248
        }
      },
      "source": [
        "model = model.eval()\n",
        "DonutDataset.displayCanvas('test1layer.png',test_dataset, model = model)\n"
      ],
      "execution_count": 45,
      "outputs": [
        {
          "output_type": "display_data",
          "data": {
            "image/png": "[encoded data removed]",
            "text/plain": [
              "<Figure size 432x288 with 100 Axes>"
            ]
          },
          "metadata": {
            "tags": [],
            "needs_background": "light"
          }
        }
      ]
    },
    {
      "cell_type": "code",
      "metadata": {
        "id": "6ynTC-Ie060-",
        "outputId": "d2758732-2791-4eb3-dacf-0526a707585a",
        "colab": {
          "base_uri": "https://localhost:8080/"
        }
      },
      "source": [
        "loss = None\n",
        "model = model.eval()\n",
        "total = 0.0\n",
        "count = 0.0\n",
        "for xin,yin in loader_test:\n",
        "  if xin.shape[0] != mini_batch:\n",
        "    print(xin.shape)\n",
        "    continue\n",
        "  xin = xin.cuda()\n",
        "  yin = yin.cuda()\n",
        "  out = model(xin)\n",
        "  assert out.shape == yin.shape\n",
        "  \n",
        "  loss = torch.mean((out-yin)**2)\n",
        "  count+=1.0\n",
        "  total+=loss.item()\n",
        "print('validation loss','\\t', (float)(total/count))\n"
      ],
      "execution_count": 46,
      "outputs": [
        {
          "output_type": "stream",
          "text": [
            "/usr/local/lib/python3.7/dist-packages/torch/utils/data/dataloader.py:477: UserWarning: This DataLoader will create 4 worker processes in total. Our suggested max number of worker in current system is 2, which is smaller than what this DataLoader is going to create. Please be aware that excessive worker creation might get DataLoader running slow or even freeze, lower the worker number to avoid potential slowness/freeze if necessary.\n",
            "  cpuset_checked))\n"
          ],
          "name": "stderr"
        },
        {
          "output_type": "stream",
          "text": [
            "torch.Size([36, 32, 32])\n",
            "validation loss \t 4.490365505218506\n"
          ],
          "name": "stdout"
        }
      ]
    },
    {
      "cell_type": "code",
      "metadata": {
        "id": "53PvZwHk1Cfg"
      },
      "source": [
        ""
      ],
      "execution_count": 46,
      "outputs": []
    }
  ]
}