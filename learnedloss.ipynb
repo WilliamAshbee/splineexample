{
  "nbformat": 4,
  "nbformat_minor": 0,
  "metadata": {
    "colab": {
      "name": "learnedloss.ipynb",
      "provenance": [],
      "authorship_tag": "ABX9TyN9KmnDiRJg6eYIBsX0XeXE",
      "include_colab_link": true
    },
    "kernelspec": {
      "name": "python3",
      "display_name": "Python 3"
    },
    "accelerator": "GPU"
  },
  "cells": [
    {
      "cell_type": "markdown",
      "metadata": {
        "id": "view-in-github",
        "colab_type": "text"
      },
      "source": [
        "<a href=\"https://colab.research.google.com/github/WilliamAshbee/splineexample/blob/main/learnedloss.ipynb\" target=\"_parent\"><img src=\"https://colab.research.google.com/assets/colab-badge.svg\" alt=\"Open In Colab\"/></a>"
      ]
    },
    {
      "cell_type": "code",
      "metadata": {
        "colab": {
          "base_uri": "https://localhost:8080/",
          "height": 285
        },
        "id": "9lzjsuRdIMMw",
        "outputId": "88f95b61-a130-43e5-89ed-862b326855b3"
      },
      "source": [
        "#i need ameba data\r\n",
        "#i need a generator that generates ameba predictions\r\n",
        "#i need a discriminator that takes in the picture and prediction and returns a loss\r\n",
        "#i need to train the generator first on mses then train the discriminator on the loss mse\r\n",
        "#i need to train a generator for single instance perfectly using the discriminator \r\n",
        "\r\n",
        "import torch\r\n",
        "import numpy as np\r\n",
        "import pylab as plt\r\n",
        "from skimage import filters\r\n",
        "import math\r\n",
        "\r\n",
        "global numpoints\r\n",
        "numpoints = 1000\r\n",
        "side = 32\r\n",
        "\r\n",
        "rows = torch.zeros(32,32)\r\n",
        "columns = torch.zeros(32,32)\r\n",
        "\r\n",
        "\r\n",
        "for i in range(32):\r\n",
        "    columns[:,i] = i\r\n",
        "    rows[i,:] = i\r\n",
        "\r\n",
        "\r\n",
        "def donut_matrix(length = 10):\r\n",
        "    radiusMax = side /3\r\n",
        "    w = 1\r\n",
        "    sigmas = [None, 1]\r\n",
        "    \r\n",
        "    canvas = torch.zeros((length,side, side))\r\n",
        "    r0 = torch.tensor(np.random.uniform(side/4, side/3, length))\r\n",
        "\r\n",
        "    radii = torch.zeros((length,numpoints))\r\n",
        "    radii[:, :] = r0.unsqueeze(1)\r\n",
        "    \r\n",
        "    ind = [x for x in range(numpoints)]\r\n",
        "\r\n",
        "    theta = torch.FloatTensor(ind)\r\n",
        "    theta *= math.pi*2.0/(float)(numpoints)\r\n",
        "    \r\n",
        "    for i in range(1,length):\r\n",
        "        a = np.random.uniform(1.0,3.0)*torch.sin(np.random.uniform(20.0)*theta+np.random.uniform(1000.0))\r\n",
        "        #a = 4.0*torch.sin(10.0*theta)\r\n",
        "        #print(a.shape,torch.max(a))\r\n",
        "        radii[i,:] += a\r\n",
        "        #print(radii.shape, torch.max(radii))\r\n",
        "    \r\n",
        "    assert torch.min(radii)>0\r\n",
        "    #print(radii.max(axis = 0)[0].shape)\r\n",
        "    rmaxs = radii.max(axis = 1)[0]\r\n",
        "    pmins = rmaxs+1.0\r\n",
        "    pmaxs = side-rmaxs-1.0\r\n",
        "    x0 = np.random.uniform(pmins,pmaxs)\r\n",
        "    y0 = np.random.uniform(pmins,pmaxs)\r\n",
        "    x0[:]=side/2\r\n",
        "    y0[:]=side/2\r\n",
        "    x0 = torch.tensor(x0)\r\n",
        "    y0 = torch.tensor(y0)\r\n",
        "    \r\n",
        "    x0 = x0.unsqueeze(1)\r\n",
        "    y0 = y0.unsqueeze(1)\r\n",
        "    #radii = torch.from_numpy(radii)\r\n",
        "    xrfactors = torch.cos(theta).unsqueeze(0)\r\n",
        "    yrfactors = torch.sin(theta).unsqueeze(0)\r\n",
        "    \r\n",
        "    print(x0.shape,y0.shape,radii.shape,xrfactors.shape,yrfactors.shape)\r\n",
        "\r\n",
        "    x = (x0+(xrfactors*radii))\r\n",
        "    y = (y0+(yrfactors*radii))\r\n",
        "    assert x.shape == (length,numpoints)\r\n",
        "    assert y.shape == (length,numpoints)\r\n",
        "    assert torch.sum(x[x>(side-1)])==0 \r\n",
        "    assert torch.sum(x[x<0])==0 \r\n",
        "    assert torch.sum(y[y>(side-1)])==0 \r\n",
        "    assert torch.sum(y[y<0])==0 \r\n",
        "    \r\n",
        "    points = torch.zeros(length,numpoints,2)\r\n",
        "    for l in range(length):\r\n",
        "        canvas[l,x[l,:].type(torch.LongTensor),y[l,:].type(torch.LongTensor)]=1.0\r\n",
        "        #points[l,:,0] = x[l,:]\r\n",
        "        #points[l,:,1] = y[l,:]\r\n",
        "        points[l,:,0] = x[l,:]#modified for lstm discriminator\r\n",
        "        points[l,:,1] = y[l,:]#modified for lstm discriminator \r\n",
        "    \r\n",
        "    \r\n",
        "    return {\r\n",
        "        'canvas': canvas, \r\n",
        "        'points':points.type(torch.FloatTensor)}\r\n",
        "\r\n",
        "\r\n",
        "def plot_all( sample = None, model = None, labels = None):\r\n",
        "    img = sample[0,:,:].squeeze().cpu().numpy()\r\n",
        "    plt.imshow(img, cmap=plt.cm.gray_r)\r\n",
        "    if model != None:\r\n",
        "        with torch.no_grad():\r\n",
        "            global numpoints\r\n",
        "\r\n",
        "            print(\"sample\", sample.shape)\r\n",
        "            pred = model(sample).view(1000,3)\r\n",
        "            print('pred', pred.shape)\r\n",
        "            predres = numpoints\r\n",
        "            X = pred[:,0]\r\n",
        "            Y = pred[:,1]\r\n",
        "            \r\n",
        "            s = [.001 for x in range(predres)]\r\n",
        "            \r\n",
        "            assert len(s) == predres\r\n",
        "            c = ['red' for x in range(predres)]\r\n",
        "            assert len(c) == predres\r\n",
        "            Y = Y.cuda()\r\n",
        "            X = X.cuda()\r\n",
        "            print(\"type\",type(X))\r\n",
        "            ascatter = plt.scatter(Y.cpu().numpy(),X.cpu().numpy(),s = s,c = c)\r\n",
        "            plt.gca().add_artist(ascatter)\r\n",
        "    else:\r\n",
        "        #print(labels.shape)\r\n",
        "\r\n",
        "        X = labels[:,0]\r\n",
        "        Y = labels[:,1]\r\n",
        "        #print(X.shape)\r\n",
        "        #print(Y.shape)\r\n",
        "            \r\n",
        "        s = [.001 for x in range(numpoints)]\r\n",
        "        #print(len(s))\r\n",
        "        c = ['red' for x in range(numpoints)]\r\n",
        "        #print(len(c))\r\n",
        "        ascatter = plt.scatter(Y.cpu().numpy(),X.cpu().numpy(),s = s,c = c)\r\n",
        "        plt.gca().add_artist(ascatter)\r\n",
        "\r\n",
        "class DonutDataset(torch.utils.data.Dataset):\r\n",
        "    \"\"\"Donut dataset.\"\"\"\r\n",
        "    def __init__(self, length = 10):\r\n",
        "        \"\"\"\r\n",
        "        Args:\r\n",
        "            csv_file (string): Path to the csv file with annotations.\r\n",
        "            root_dir (string): Directory with all the images.\r\n",
        "            transform (callable, optional): Optional transform to be applied\r\n",
        "                on a sample.\r\n",
        "        \"\"\"\r\n",
        "        self.length = length\r\n",
        "        self.values = donut_matrix(length)\r\n",
        "        assert self.values['canvas'].shape[0] == self.length\r\n",
        "        assert self.values['points'].shape[0] == self.length\r\n",
        "\r\n",
        "    def __len__(self):\r\n",
        "        return self.length\r\n",
        "\r\n",
        "\r\n",
        "    def __getitem__(self, idx):\r\n",
        "        canvas = self.values[\"canvas\"]\r\n",
        "        \r\n",
        "        canvas = canvas[idx,:,:]\r\n",
        "        assert canvas.shape == (side,side)\r\n",
        "        canvas = torch.reshape(canvas,(1,side,side))\r\n",
        "        assert canvas.shape == (1,side,side)\r\n",
        "        \r\n",
        "        \r\n",
        "        assert canvas.shape == (1,side,side)\r\n",
        "        points = self.values[\"points\"]\r\n",
        "        points = points[idx,:]\r\n",
        "        #points = points.unsqueeze(1)\r\n",
        "        z = torch.zeros(numpoints,1)\r\n",
        "        #print(z.shape)\r\n",
        "        points = torch.cat([points,z], dim = 1)\r\n",
        "        \r\n",
        "        #print('points', points.shape)\r\n",
        "        return canvas, points\r\n",
        "    \r\n",
        "    @staticmethod\r\n",
        "    def displayCanvas(title,dataset, model):\r\n",
        "        #model.setBatchSize(batch_size = 1)\r\n",
        "        for i in range(100):\r\n",
        "            sample, labels = dataset[i]\r\n",
        "            plt.subplot(10,10,i+1)\r\n",
        "            plot_all(sample = sample,model=model, labels = labels)\r\n",
        "            plt.axis('off')\r\n",
        "        plt.savefig(title,dpi=600)\r\n",
        "\r\n",
        "    @staticmethod\r\n",
        "    def displayCanvas2(title,x = None, pred = None):\r\n",
        "      img = x\r\n",
        "      #plt.imshow(img, cmap=plt.cm.gray_r)\r\n",
        "      X = pred[0,:,0]\r\n",
        "      Y = pred[0,:,1]\r\n",
        "            \r\n",
        "      s = [.1 for x in range(pred.shape[1])]\r\n",
        "      c = ['red' for x in range(pred.shape[1])]\r\n",
        "      ascatter = plt.scatter(Y.detach().cpu().numpy(),X.detach().cpu().numpy(),s = s,c = c)\r\n",
        "      plt.gca().add_artist(ascatter)\r\n",
        "      plt.savefig(title,dpi=600)\r\n",
        "\r\n",
        "dataset = DonutDataset(length = 100)\r\n",
        "DonutDataset.displayCanvas('donut.png',dataset, model = None)\r\n",
        "\r\n"
      ],
      "execution_count": 1,
      "outputs": [
        {
          "output_type": "stream",
          "text": [
            "torch.Size([100, 1]) torch.Size([100, 1]) torch.Size([100, 1000]) torch.Size([1, 1000]) torch.Size([1, 1000])\n"
          ],
          "name": "stdout"
        },
        {
          "output_type": "display_data",
          "data": {
            "image/png": "[encoded data removed]",
            "text/plain": [
              "<Figure size 432x288 with 100 Axes>"
            ]
          },
          "metadata": {
            "tags": [],
            "needs_background": "light"
          }
        }
      ]
    },
    {
      "cell_type": "code",
      "metadata": {
        "id": "PGzoB7pLPD5W"
      },
      "source": [
        "import torch\r\n",
        "import torch.nn as nn\r\n",
        "from torch.hub import load_state_dict_from_url\r\n",
        "\r\n",
        "class MLPGEN(nn.Module):\r\n",
        "\r\n",
        "    def __init__(self):\r\n",
        "        super(MLPGEN, self).__init__()\r\n",
        "        self.hidden_dim = 1*32*32\r\n",
        "        self.featurevector = None\r\n",
        "        self.mlp = nn.Sequential(\r\n",
        "            nn.Linear(self.hidden_dim, self.hidden_dim),\r\n",
        "            nn.ReLU(True),\r\n",
        "            nn.Dropout(),\r\n",
        "            nn.Linear(self.hidden_dim, self.hidden_dim),\r\n",
        "            nn.ReLU(True),\r\n",
        "            nn.Dropout(),\r\n",
        "            nn.Linear(self.hidden_dim, self.hidden_dim),\r\n",
        "            nn.ReLU(True),\r\n",
        "            nn.Dropout(),\r\n",
        "            nn.Linear(self.hidden_dim, 3000),\r\n",
        "            nn.Sigmoid()\r\n",
        "        \r\n",
        "        )\r\n",
        "    \r\n",
        "\r\n",
        "    def forward(self, x):\r\n",
        "        #print(self.featurevector.shape)\r\n",
        "        first = x.shape[0]\r\n",
        "        x = x.reshape(first,-1)\r\n",
        "        if x.shape != (first,self.hidden_dim):\r\n",
        "            print('bad shape', x.shape)\r\n",
        "\r\n",
        "        assert x.shape == (first,self.hidden_dim)\r\n",
        "        return 32.0*self.mlp(x)\r\n"
      ],
      "execution_count": 2,
      "outputs": []
    },
    {
      "cell_type": "code",
      "metadata": {
        "colab": {
          "base_uri": "https://localhost:8080/"
        },
        "id": "ufRtY_nuPzqB",
        "outputId": "e64d8b41-334c-4840-8914-ec2c346cb26c"
      },
      "source": [
        "from torch.utils import data\r\n",
        "from torch.utils.data import DataLoader, TensorDataset, RandomSampler\r\n",
        "\r\n",
        "dataset_train = DonutDataset(128*10)\r\n",
        "dataset_val = DonutDataset(128*1)\r\n",
        "\r\n",
        "mini_batch = 64\r\n",
        "loader_train = data.DataLoader(\r\n",
        "    dataset_train, batch_size=mini_batch,\r\n",
        "    sampler=RandomSampler(data_source=dataset_train),\r\n",
        "    num_workers=4)\r\n",
        "\r\n",
        "loader_val = data.DataLoader(\r\n",
        "    dataset_val, batch_size=mini_batch,\r\n",
        "    sampler=RandomSampler(data_source=dataset_val),\r\n",
        "    num_workers=4)\r\n",
        "\r\n",
        "model = MLPGEN()\r\n"
      ],
      "execution_count": 43,
      "outputs": [
        {
          "output_type": "stream",
          "text": [
            "torch.Size([1280, 1]) torch.Size([1280, 1]) torch.Size([1280, 1000]) torch.Size([1, 1000]) torch.Size([1, 1000])\n",
            "torch.Size([128, 1]) torch.Size([128, 1]) torch.Size([128, 1000]) torch.Size([1, 1000]) torch.Size([1, 1000])\n"
          ],
          "name": "stdout"
        }
      ]
    },
    {
      "cell_type": "code",
      "metadata": {
        "colab": {
          "base_uri": "https://localhost:8080/"
        },
        "id": "IXAC-uPOP345",
        "outputId": "c923251d-2269-4d8b-cbe5-dab73ea60ba3"
      },
      "source": [
        "from torch.utils import data\r\n",
        "from torch.utils.data import DataLoader, TensorDataset, RandomSampler\r\n",
        "\r\n",
        "dataset_train = DonutDataset(128*2)\r\n",
        "dataset_val = DonutDataset(128*1)\r\n",
        "\r\n",
        "mini_batch = 128\r\n",
        "loader_train = data.DataLoader(\r\n",
        "    dataset_train, batch_size=mini_batch,\r\n",
        "    sampler=RandomSampler(data_source=dataset_train),\r\n",
        "    num_workers=4)\r\n",
        "\r\n",
        "loader_val = data.DataLoader(\r\n",
        "    dataset_val, batch_size=mini_batch,\r\n",
        "    sampler=RandomSampler(data_source=dataset_val),\r\n",
        "    num_workers=4)\r\n",
        "\r\n"
      ],
      "execution_count": 44,
      "outputs": [
        {
          "output_type": "stream",
          "text": [
            "torch.Size([256, 1]) torch.Size([256, 1]) torch.Size([256, 1000]) torch.Size([1, 1000]) torch.Size([1, 1000])\n",
            "torch.Size([128, 1]) torch.Size([128, 1]) torch.Size([128, 1000]) torch.Size([1, 1000]) torch.Size([1, 1000])\n"
          ],
          "name": "stdout"
        }
      ]
    },
    {
      "cell_type": "code",
      "metadata": {
        "id": "XqlKqHXfT-Mv"
      },
      "source": [
        "import torch\r\n",
        "import torch.nn as nn\r\n",
        "from torch.hub import load_state_dict_from_url\r\n",
        "\r\n",
        "class MLP(nn.Module):\r\n",
        "\r\n",
        "    def __init__(self):\r\n",
        "        super(MLP, self).__init__()\r\n",
        "        self.hidden_dim = 1*32*32+3000\r\n",
        "        self.featurevector = None\r\n",
        "        self.mlp = nn.Sequential(\r\n",
        "            nn.Linear(self.hidden_dim, self.hidden_dim),\r\n",
        "            nn.ReLU(True),\r\n",
        "            nn.Dropout(),\r\n",
        "            nn.Linear(self.hidden_dim, self.hidden_dim),\r\n",
        "            nn.ReLU(True),\r\n",
        "            nn.Dropout(),\r\n",
        "            nn.Linear(self.hidden_dim, 1),\r\n",
        "            nn.ReLU(True)\r\n",
        "        )\r\n",
        "\r\n",
        "\r\n",
        "    def init_hidden(self,hidden):\r\n",
        "        first = hidden.shape[0]\r\n",
        "        #print('hidden',hidden.shape)\r\n",
        "        self.featurevector = hidden.reshape(first,-1)\r\n",
        "\r\n",
        "        return (None, None)\r\n",
        "\r\n",
        "\r\n",
        "    def forward(self, x, predPoints):\r\n",
        "        first = x.shape[0]\r\n",
        "        \r\n",
        "        #x = torch.cat([x,self.featurevector],1)\r\n",
        "        x = torch.cat([torch.flatten(x,start_dim = 1), torch.flatten(predPoints,start_dim = 1)], 1)\r\n",
        "        assert x.shape == (first,self.hidden_dim)\r\n",
        "        return self.mlp(x)"
      ],
      "execution_count": 45,
      "outputs": []
    },
    {
      "cell_type": "code",
      "metadata": {
        "id": "P21NfvMfeI_v"
      },
      "source": [
        "#print(torch.flatten(x,start_dim = 1).shape)\r\n",
        "#print(torch.flatten(predPoints,start_dim = 1).shape)\r\n",
        "\r\n",
        "#print(torch.cat([torch.flatten(x,start_dim = 1), torch.flatten(predPoints,start_dim = 1)], 1).shape)"
      ],
      "execution_count": 46,
      "outputs": []
    },
    {
      "cell_type": "code",
      "metadata": {
        "colab": {
          "base_uri": "https://localhost:8080/"
        },
        "id": "lj6Dv4obQgSM",
        "outputId": "d429e8c4-3de2-4ee8-92cd-8c4048595d95"
      },
      "source": [
        "disc = MLP()\r\n",
        "disc_opt =  torch.optim.Adam(disc.parameters(), lr=0.00001, betas=(0.5, 0.999), weight_decay=0.05)\r\n",
        "\r\n",
        "for epoch in range(30):\r\n",
        "\r\n",
        "  for x,y in loader_train:\r\n",
        "    dl,l = 10 , 10\r\n",
        "    model = MLPGEN()\r\n",
        "    optimizer = torch.optim.Adam(model.parameters(), lr=0.001, betas=(0.5, 0.999))\r\n",
        "    while dl > 2.0 and l > 2.0:\r\n",
        "      if dl>2.0:\r\n",
        "        disc_opt.zero_grad()\r\n",
        "        predPoints = model(x)\r\n",
        "        predPoints = predPoints.view(-1,1000,3)\r\n",
        "        #print(predPoints.shape)\r\n",
        "        y = y.reshape(predPoints.shape)\r\n",
        "        assert predPoints.shape == (mini_batch,1000,3)\r\n",
        "        assert y.shape == (mini_batch,1000,3)\r\n",
        "        loss = torch.mean(torch.abs(predPoints-y))\r\n",
        "        out = disc(x,predPoints)\r\n",
        "        loss_disc = torch.mean(torch.abs(out-loss.item()))\r\n",
        "        loss_disc.backward()\r\n",
        "        disc_opt.step()\r\n",
        "        dl = loss_disc.item()\r\n",
        "        print(dl)\r\n",
        "      else:\r\n",
        "        optimizer.zero_grad()\r\n",
        "        predPoints = model(x)\r\n",
        "        predPoints = predPoints.view(-1,1000,3)\r\n",
        "        #print(predPoints.shape)\r\n",
        "        y = y.reshape(predPoints.shape)\r\n",
        "        loss = torch.mean(torch.abs(predPoints-y))\r\n",
        "        loss.backward()\r\n",
        "        optimizer.step()\r\n",
        "        l = loss.item()\r\n",
        "        print('loss', loss.item())\r\n",
        "      print('loss disc', loss_disc.item())\r\n",
        "      #print(loss_chamfer)\r\n",
        "      \r\n"
      ],
      "execution_count": 56,
      "outputs": [
        {
          "output_type": "stream",
          "text": [
            "8.029345512390137\n",
            "loss disc 8.029345512390137\n",
            "4.041349411010742\n",
            "loss disc 4.041349411010742\n",
            "1.7339569330215454\n",
            "loss disc 1.7339569330215454\n",
            "2.4675374031066895\n",
            "loss disc 2.4675374031066895\n",
            "1.6192896366119385\n",
            "loss disc 1.6192896366119385\n",
            "2.0656025409698486\n",
            "loss disc 2.0656025409698486\n",
            "1.5718659162521362\n",
            "loss disc 1.5718659162521362\n",
            "1.9304231405258179\n",
            "loss disc 1.9304231405258179\n",
            "1.9020497798919678\n",
            "loss disc 1.9020497798919678\n",
            "1.5178693532943726\n",
            "loss disc 1.5178693532943726\n",
            "1.5161927938461304\n",
            "loss disc 1.5161927938461304\n",
            "1.7343333959579468\n",
            "loss disc 1.7343333959579468\n",
            "1.5238970518112183\n",
            "loss disc 1.5238970518112183\n",
            "1.7563538551330566\n",
            "loss disc 1.7563538551330566\n",
            "1.429947018623352\n",
            "loss disc 1.429947018623352\n",
            "1.553627848625183\n",
            "loss disc 1.553627848625183\n",
            "1.676297903060913\n",
            "loss disc 1.676297903060913\n",
            "1.5493093729019165\n",
            "loss disc 1.5493093729019165\n",
            "1.5663423538208008\n",
            "loss disc 1.5663423538208008\n",
            "1.6298259496688843\n",
            "loss disc 1.6298259496688843\n",
            "1.6751179695129395\n",
            "loss disc 1.6751179695129395\n",
            "1.5848121643066406\n",
            "loss disc 1.5848121643066406\n",
            "1.5216938257217407\n",
            "loss disc 1.5216938257217407\n",
            "1.4506012201309204\n",
            "loss disc 1.4506012201309204\n",
            "1.3859370946884155\n",
            "loss disc 1.3859370946884155\n",
            "1.6721930503845215\n",
            "loss disc 1.6721930503845215\n",
            "1.5700799226760864\n",
            "loss disc 1.5700799226760864\n",
            "1.40110445022583\n",
            "loss disc 1.40110445022583\n",
            "1.3126627206802368\n",
            "loss disc 1.3126627206802368\n",
            "1.5430351495742798\n",
            "loss disc 1.5430351495742798\n",
            "1.4623154401779175\n",
            "loss disc 1.4623154401779175\n",
            "1.331693172454834\n",
            "loss disc 1.331693172454834\n",
            "1.3576430082321167\n",
            "loss disc 1.3576430082321167\n",
            "1.4104794263839722\n",
            "loss disc 1.4104794263839722\n",
            "1.3259996175765991\n",
            "loss disc 1.3259996175765991\n",
            "1.430997610092163\n",
            "loss disc 1.430997610092163\n",
            "1.1565086841583252\n",
            "loss disc 1.1565086841583252\n",
            "1.3860377073287964\n",
            "loss disc 1.3860377073287964\n",
            "1.254983901977539\n",
            "loss disc 1.254983901977539\n",
            "1.5621442794799805\n",
            "loss disc 1.5621442794799805\n",
            "1.2614164352416992\n",
            "loss disc 1.2614164352416992\n",
            "1.3236017227172852\n",
            "loss disc 1.3236017227172852\n",
            "1.440126895904541\n",
            "loss disc 1.440126895904541\n",
            "1.314882516860962\n",
            "loss disc 1.314882516860962\n",
            "1.398661732673645\n",
            "loss disc 1.398661732673645\n",
            "1.2577524185180664\n",
            "loss disc 1.2577524185180664\n",
            "1.2295575141906738\n",
            "loss disc 1.2295575141906738\n",
            "1.2675070762634277\n",
            "loss disc 1.2675070762634277\n",
            "1.0719819068908691\n",
            "loss disc 1.0719819068908691\n",
            "1.277366042137146\n",
            "loss disc 1.277366042137146\n",
            "1.0380079746246338\n",
            "loss disc 1.0380079746246338\n",
            "1.1919732093811035\n",
            "loss disc 1.1919732093811035\n",
            "1.3018890619277954\n",
            "loss disc 1.3018890619277954\n",
            "1.1099542379379272\n",
            "loss disc 1.1099542379379272\n",
            "1.1754817962646484\n",
            "loss disc 1.1754817962646484\n",
            "1.184647560119629\n",
            "loss disc 1.184647560119629\n",
            "1.3023765087127686\n",
            "loss disc 1.3023765087127686\n",
            "1.2217464447021484\n",
            "loss disc 1.2217464447021484\n",
            "1.154878854751587\n",
            "loss disc 1.154878854751587\n",
            "1.3544291257858276\n",
            "loss disc 1.3544291257858276\n",
            "1.1084884405136108\n",
            "loss disc 1.1084884405136108\n",
            "1.0637879371643066\n",
            "loss disc 1.0637879371643066\n",
            "1.036397933959961\n",
            "loss disc 1.036397933959961\n",
            "1.0796788930892944\n",
            "loss disc 1.0796788930892944\n"
          ],
          "name": "stdout"
        }
      ]
    },
    {
      "cell_type": "code",
      "metadata": {
        "colab": {
          "base_uri": "https://localhost:8080/"
        },
        "id": "g_wXc2_Y1wKq",
        "outputId": "01484b7b-1783-46b0-d4d9-452332dad054"
      },
      "source": [
        "torch.rand(1)"
      ],
      "execution_count": 25,
      "outputs": [
        {
          "output_type": "execute_result",
          "data": {
            "text/plain": [
              "tensor([0.0330])"
            ]
          },
          "metadata": {
            "tags": []
          },
          "execution_count": 25
        }
      ]
    },
    {
      "cell_type": "code",
      "metadata": {
        "id": "KKlJ6Up_-QYT"
      },
      "source": [
        "disc = MLP()\r\n",
        "disc_opt =  torch.optim.Adam(disc.parameters(), lr=0.00001, betas=(0.5, 0.999), weight_decay=0.05)\r\n",
        "\r\n",
        "for epoch in range(30):\r\n",
        "\r\n",
        "  for x,y in loader_train:\r\n",
        "    dl,l = 10 , 10\r\n",
        "    model = MLPGEN()\r\n",
        "    optimizer = torch.optim.Adam(model.parameters(), lr=0.00001, betas=(0.5, 0.999))\r\n",
        "    while dl > 2.0 and l > 2.0:\r\n",
        "    \r\n",
        "      disc_opt.zero_grad()\r\n",
        "      optimizer.zero_grad()\r\n",
        "      predPoints = model(x)\r\n",
        "      predPoints = predPoints.view(-1,1000,3)\r\n",
        "      #print(predPoints.shape)\r\n",
        "      y = y.reshape(predPoints.shape)\r\n",
        "      loss = torch.mean(torch.abs(predPoints-y))\r\n",
        "      loss.backward()\r\n",
        "      optimizer.step()\r\n",
        "      l = loss.item()\r\n",
        "      print('loss', loss.item())\r\n",
        "      print('loss disc', loss_disc.item())\r\n",
        "      #print(loss_chamfer)\r\n",
        "      \r\n"
      ],
      "execution_count": null,
      "outputs": []
    },
    {
      "cell_type": "code",
      "metadata": {
        "id": "LWCY3MzOST7r"
      },
      "source": [
        "DonutDataset.displayCanvas('donut.png',dataset_val, model = model)\r\n"
      ],
      "execution_count": null,
      "outputs": []
    },
    {
      "cell_type": "code",
      "metadata": {
        "id": "QbplvWgVdxU5"
      },
      "source": [
        "model = MLPGEN()\r\n",
        "optimizer = torch.optim.Adam(model.parameters(), lr=0.001, betas=(0.5, 0.999), weight_decay=0.05)\r\n",
        "#predPoints = model(x)\r\n",
        "#predPoints = predPoints.view(-1,1000,3)\r\n",
        "    \r\n",
        "\r\n",
        "\r\n",
        "l = 10 \r\n",
        "x,y = dataset_train[0]\r\n",
        "while True:\r\n",
        "  \r\n",
        "  optimizer.zero_grad()\r\n",
        "  predPoints = model(x)\r\n",
        "  predPoints = predPoints.view(-1,1000,3)\r\n",
        "  y = y.reshape(predPoints.shape)\r\n",
        "  assert predPoints.shape == (1,1000,3)\r\n",
        "  assert y.shape == (1,1000,3)\r\n",
        "  out = disc(x,predPoints)\r\n",
        "  print('out', out)\r\n",
        "\r\n",
        "  out.backward()\r\n",
        "  optimizer.step()\r\n",
        "  loss = torch.mean(torch.abs(predPoints-y))\r\n",
        "  l = out.item()\r\n",
        "  print(loss)\r\n"
      ],
      "execution_count": null,
      "outputs": []
    },
    {
      "cell_type": "code",
      "metadata": {
        "colab": {
          "base_uri": "https://localhost:8080/",
          "height": 265
        },
        "id": "c0EQoLmSoXsn",
        "outputId": "89099e3c-d937-4afc-ebe9-9e551c634d47"
      },
      "source": [
        "DonutDataset.displayCanvas2('x,prediction.png',x.reshape(32,32), predPoints)\r\n"
      ],
      "execution_count": 30,
      "outputs": [
        {
          "output_type": "display_data",
          "data": {
            "image/png": "[encoded data removed]",
            "text/plain": [
              "<Figure size 432x288 with 1 Axes>"
            ]
          },
          "metadata": {
            "tags": [],
            "needs_background": "light"
          }
        }
      ]
    },
    {
      "cell_type": "code",
      "metadata": {
        "colab": {
          "base_uri": "https://localhost:8080/"
        },
        "id": "nhU6iEQoq2Az",
        "outputId": "bcf9e021-ef83-4de2-cf14-59961246ec0a"
      },
      "source": [
        "print(predPoints.shape)"
      ],
      "execution_count": 11,
      "outputs": [
        {
          "output_type": "stream",
          "text": [
            "torch.Size([1, 1000, 3])\n"
          ],
          "name": "stdout"
        }
      ]
    },
    {
      "cell_type": "code",
      "metadata": {
        "id": "9LOgxom6wI-O"
      },
      "source": [
        ""
      ],
      "execution_count": 11,
      "outputs": []
    }
  ]
}